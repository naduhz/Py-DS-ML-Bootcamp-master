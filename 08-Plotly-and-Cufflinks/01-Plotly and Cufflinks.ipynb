{
 "cells": [
  {
   "cell_type": "markdown",
   "metadata": {},
   "source": [
    "___\n",
    "\n",
    "<a href='http://www.pieriandata.com'> <img src='../Pierian_Data_Logo.png' /></a>\n",
    "___\n",
    "# Plotly and Cufflinks"
   ]
  },
  {
   "cell_type": "markdown",
   "metadata": {},
   "source": [
    "Plotly is a library that allows you to create interactive plots that you can use in dashboards or websites (you can save them as html files or static images).\n",
    "\n",
    "## Installation\n",
    "\n",
    "In order for this all to work, you'll need to install plotly and cufflinks to call plots directly off of a pandas dataframe. These libraries are not currently available through **conda** but are available through **pip**. Install the libraries at your command line/terminal using:\n",
    "\n",
    "    pip install plotly\n",
    "    pip install cufflinks\n",
    "\n",
    "** NOTE: Make sure you only have one installation of Python on your computer when you do this, otherwise the installation may not work. **\n",
    "\n",
    "## Imports and Set-up"
   ]
  },
  {
   "cell_type": "code",
   "execution_count": 1,
   "metadata": {
    "collapsed": true
   },
   "outputs": [],
   "source": [
    "import pandas as pd\n",
    "import numpy as np\n",
    "%matplotlib inline"
   ]
  },
  {
   "cell_type": "code",
   "execution_count": 2,
   "metadata": {
    "collapsed": false
   },
   "outputs": [
    {
     "output_type": "stream",
     "name": "stdout",
     "text": [
      "4.14.3\n"
     ]
    }
   ],
   "source": [
    "from plotly import __version__\n",
    "from plotly.offline import download_plotlyjs, init_notebook_mode, plot, iplot\n",
    "\n",
    "print(__version__) # requires version >= 1.9.0"
   ]
  },
  {
   "cell_type": "code",
   "execution_count": 3,
   "metadata": {
    "collapsed": true
   },
   "outputs": [],
   "source": [
    "import cufflinks as cf"
   ]
  },
  {
   "cell_type": "code",
   "execution_count": 4,
   "metadata": {
    "collapsed": false
   },
   "outputs": [
    {
     "output_type": "display_data",
     "data": {
      "text/html": "        <script type=\"text/javascript\">\n        window.PlotlyConfig = {MathJaxConfig: 'local'};\n        if (window.MathJax) {MathJax.Hub.Config({SVG: {font: \"STIX-Web\"}});}\n        if (typeof require !== 'undefined') {\n        require.undef(\"plotly\");\n        requirejs.config({\n            paths: {\n                'plotly': ['https://cdn.plot.ly/plotly-latest.min']\n            }\n        });\n        require(['plotly'], function(Plotly) {\n            window._Plotly = Plotly;\n        });\n        }\n        </script>\n        "
     },
     "metadata": {}
    }
   ],
   "source": [
    "# For Notebooks\n",
    "init_notebook_mode(connected=True)"
   ]
  },
  {
   "cell_type": "code",
   "execution_count": 5,
   "metadata": {
    "collapsed": false
   },
   "outputs": [
    {
     "output_type": "display_data",
     "data": {
      "text/html": "        <script type=\"text/javascript\">\n        window.PlotlyConfig = {MathJaxConfig: 'local'};\n        if (window.MathJax) {MathJax.Hub.Config({SVG: {font: \"STIX-Web\"}});}\n        if (typeof require !== 'undefined') {\n        require.undef(\"plotly\");\n        requirejs.config({\n            paths: {\n                'plotly': ['https://cdn.plot.ly/plotly-latest.min']\n            }\n        });\n        require(['plotly'], function(Plotly) {\n            window._Plotly = Plotly;\n        });\n        }\n        </script>\n        "
     },
     "metadata": {}
    }
   ],
   "source": [
    "# For offline use\n",
    "cf.go_offline()"
   ]
  },
  {
   "cell_type": "markdown",
   "metadata": {},
   "source": [
    "### Fake Data"
   ]
  },
  {
   "cell_type": "code",
   "execution_count": 6,
   "metadata": {
    "collapsed": false
   },
   "outputs": [],
   "source": [
    "df = pd.DataFrame(np.random.randn(100,4),columns='A B C D'.split())"
   ]
  },
  {
   "cell_type": "code",
   "execution_count": 7,
   "metadata": {
    "collapsed": false
   },
   "outputs": [
    {
     "output_type": "execute_result",
     "data": {
      "text/plain": [
       "          A         B         C         D\n",
       "0  0.341958 -1.246968 -0.808929 -0.458166\n",
       "1  2.361780  2.989151  1.465625 -0.118835\n",
       "2  0.911953  0.101731 -1.687149 -0.409402\n",
       "3  0.784315  0.025481 -0.169111 -1.291484\n",
       "4  0.197883  1.919392 -0.389798  0.961275"
      ],
      "text/html": "<div>\n<style scoped>\n    .dataframe tbody tr th:only-of-type {\n        vertical-align: middle;\n    }\n\n    .dataframe tbody tr th {\n        vertical-align: top;\n    }\n\n    .dataframe thead th {\n        text-align: right;\n    }\n</style>\n<table border=\"1\" class=\"dataframe\">\n  <thead>\n    <tr style=\"text-align: right;\">\n      <th></th>\n      <th>A</th>\n      <th>B</th>\n      <th>C</th>\n      <th>D</th>\n    </tr>\n  </thead>\n  <tbody>\n    <tr>\n      <th>0</th>\n      <td>0.341958</td>\n      <td>-1.246968</td>\n      <td>-0.808929</td>\n      <td>-0.458166</td>\n    </tr>\n    <tr>\n      <th>1</th>\n      <td>2.361780</td>\n      <td>2.989151</td>\n      <td>1.465625</td>\n      <td>-0.118835</td>\n    </tr>\n    <tr>\n      <th>2</th>\n      <td>0.911953</td>\n      <td>0.101731</td>\n      <td>-1.687149</td>\n      <td>-0.409402</td>\n    </tr>\n    <tr>\n      <th>3</th>\n      <td>0.784315</td>\n      <td>0.025481</td>\n      <td>-0.169111</td>\n      <td>-1.291484</td>\n    </tr>\n    <tr>\n      <th>4</th>\n      <td>0.197883</td>\n      <td>1.919392</td>\n      <td>-0.389798</td>\n      <td>0.961275</td>\n    </tr>\n  </tbody>\n</table>\n</div>"
     },
     "metadata": {},
     "execution_count": 7
    }
   ],
   "source": [
    "df.head()"
   ]
  },
  {
   "cell_type": "code",
   "execution_count": 8,
   "metadata": {
    "collapsed": true
   },
   "outputs": [],
   "source": [
    "df2 = pd.DataFrame({'Category':['A','B','C'],'Values':[32,43,50]})"
   ]
  },
  {
   "cell_type": "code",
   "execution_count": 9,
   "metadata": {
    "collapsed": false
   },
   "outputs": [
    {
     "output_type": "execute_result",
     "data": {
      "text/plain": [
       "  Category  Values\n",
       "0        A      32\n",
       "1        B      43\n",
       "2        C      50"
      ],
      "text/html": "<div>\n<style scoped>\n    .dataframe tbody tr th:only-of-type {\n        vertical-align: middle;\n    }\n\n    .dataframe tbody tr th {\n        vertical-align: top;\n    }\n\n    .dataframe thead th {\n        text-align: right;\n    }\n</style>\n<table border=\"1\" class=\"dataframe\">\n  <thead>\n    <tr style=\"text-align: right;\">\n      <th></th>\n      <th>Category</th>\n      <th>Values</th>\n    </tr>\n  </thead>\n  <tbody>\n    <tr>\n      <th>0</th>\n      <td>A</td>\n      <td>32</td>\n    </tr>\n    <tr>\n      <th>1</th>\n      <td>B</td>\n      <td>43</td>\n    </tr>\n    <tr>\n      <th>2</th>\n      <td>C</td>\n      <td>50</td>\n    </tr>\n  </tbody>\n</table>\n</div>"
     },
     "metadata": {},
     "execution_count": 9
    }
   ],
   "source": [
    "df2.head()"
   ]
  },
  {
   "cell_type": "markdown",
   "metadata": {},
   "source": [
    "## Using Cufflinks and iplot()\n",
    "\n",
    "* scatter\n",
    "* bar\n",
    "* box\n",
    "* spread\n",
    "* ratio\n",
    "* heatmap\n",
    "* surface\n",
    "* histogram\n",
    "* bubble"
   ]
  },
  {
   "cell_type": "markdown",
   "metadata": {},
   "source": [
    "## Scatter"
   ]
  },
  {
   "cell_type": "code",
   "execution_count": 10,
   "metadata": {
    "collapsed": false
   },
   "outputs": [
    {
     "output_type": "display_data",
     "data": {
      "application/vnd.plotly.v1+json": {
       "config": {
        "linkText": "Export to plot.ly",
        "plotlyServerURL": "https://plot.ly",
        "showLink": true
       },
       "data": [
        {
         "line": {
          "color": "rgba(255, 153, 51, 1.0)",
          "dash": "solid",
          "shape": "linear",
          "width": 1.3
         },
         "marker": {
          "size": 10,
          "symbol": "circle"
         },
         "mode": "markers",
         "name": "B",
         "text": "",
         "type": "scatter",
         "x": [
          0.3419584291255313,
          2.361780384778356,
          0.9119528973909766,
          0.7843148177858439,
          0.19788293810360227,
          0.14792586818241837,
          -0.9642251958129214,
          -0.9982883475458826,
          -1.1325513846419084,
          -0.34775573601765764,
          0.05614453083062882,
          -1.8350439315471765,
          0.5511018764251773,
          0.17988137422617523,
          -1.065227814836348,
          0.3586145152614117,
          2.411605482613125,
          0.3560938040312589,
          0.36786610050285107,
          -2.6002826096447857,
          -0.7981799468689968,
          -0.9645031821395916,
          0.023965620965615043,
          -0.7365368491710338,
          -0.004858042010386315,
          -1.3623500370271893,
          -0.4525814500361433,
          0.7058262779117401,
          0.3440578447346543,
          -0.6854853356129478,
          -1.175912357533231,
          -0.06250042438078895,
          0.3714797107838847,
          1.3432775395609564,
          0.7180364148121844,
          2.7251283264314794,
          -1.7927981428516335,
          0.30526270927024285,
          0.07066587428438767,
          0.9829832457917175,
          0.2481333939762536,
          1.2611119707431302,
          0.39120023817415484,
          1.4126639401837995,
          -0.2543019620938231,
          -1.0808580728245565,
          0.21293978874229247,
          -1.817542673207612,
          0.5705140433534914,
          0.07031969294279024,
          -1.7310193046540587,
          -0.009968310223363802,
          -1.0487616328861715,
          0.23392266236390605,
          -1.1403254897435495,
          -0.009551520847821338,
          0.0587528290155611,
          0.27327642074331,
          0.5952762262270923,
          0.34922564728692723,
          0.3506158007930843,
          -0.7194723669016722,
          -0.969386453754765,
          0.07607441829377784,
          0.8224531813525415,
          -0.4267717900771313,
          -0.40179473694537243,
          0.8730785586025657,
          0.8772569764458129,
          1.7525966859134534,
          -0.38937715784865456,
          -0.07128387192799915,
          0.4374266412162082,
          1.0066948777907512,
          -0.8108547122537352,
          -0.12424666495990376,
          0.2694509128538412,
          -0.5798316475284768,
          0.3201902642191978,
          -1.1253119761184023,
          0.8853008752799159,
          0.9710304851537905,
          -0.054131980511390745,
          -0.17879880928332045,
          0.5731252894387706,
          2.1638795628246785,
          1.3828172329633255,
          2.1851828911286226,
          0.5855947229103255,
          -1.314182568919194,
          -0.7986574709761567,
          -0.6434624893139342,
          -0.9091145307420864,
          -0.8156862985068415,
          -0.8784194413581975,
          0.28373706115674197,
          -0.6956611445601208,
          1.4316076867251473,
          0.8162399203140172,
          -0.7460467107715341
         ],
         "y": [
          -1.2469675844086194,
          2.9891513099497544,
          0.1017309838125147,
          0.02548119832841038,
          1.9193919674365298,
          -0.20182906842565754,
          0.34360603457165223,
          -0.2249471960281491,
          -0.9850353052474844,
          -0.4559661499288387,
          -0.3878301319310226,
          1.1082652594076037,
          0.8744392746857205,
          1.0093918400229367,
          -0.5394935232766637,
          -0.803745333849395,
          -0.6518641752351033,
          -0.43622292742754704,
          1.433979164394179,
          -0.20860370790793073,
          0.15344776935200735,
          -0.24292160640219418,
          1.1989580674290223,
          -1.1443449709961133,
          -0.09993272796215072,
          0.10083254924068984,
          -0.35213515431348485,
          -1.2061255943422544,
          1.0970022135175945,
          -0.6800842183802278,
          -0.07119109631676689,
          0.26860378089458553,
          -1.3759056290183418,
          0.2669198011313815,
          0.4534602278898926,
          0.01047672724603757,
          -1.2522099425982471,
          -0.10554046833546744,
          1.548445310306408,
          -0.06588810735895306,
          0.6760987700300749,
          -0.0420202255577279,
          1.8378273002595218,
          -0.6078283434805584,
          1.5282024981691928,
          -0.2754917649929963,
          -0.5399326467480746,
          0.6224826249171681,
          0.47795041715071557,
          0.6278077101583388,
          -1.3409423856968694,
          -0.7706624003108283,
          0.015473729679894384,
          0.26319508876425185,
          1.0028321641640017,
          -0.807548524223669,
          0.9869502776032817,
          -1.28221797054689,
          -1.1449359698029302,
          -0.6395403941539245,
          2.4047917183665826,
          0.27108517431821616,
          -1.2451142203486658,
          -0.9178682146002846,
          -0.14570048592133691,
          -0.6272356706833567,
          -0.8514150741598167,
          1.3091254912388204,
          0.05193399027756955,
          -0.002553724868215908,
          -1.1324415602896714,
          1.438180944671712,
          0.6043815252099933,
          0.3150816994390484,
          -0.09226594346437388,
          -1.6197115478527,
          -1.075865500583438,
          0.7486483332115086,
          0.19586000178350335,
          -0.12224064694673781,
          -0.5599448183549804,
          0.3622861605064426,
          -1.4558631826967452,
          1.7992281941455563,
          -0.5220566801522477,
          -0.9653810326273534,
          -0.7122912093233262,
          2.2326519358646375,
          -0.2406418434421078,
          0.804193973114719,
          1.0070051946632714,
          0.5420153009884275,
          -0.7734745290640057,
          -0.48601676911296376,
          1.6060186504018106,
          -0.5062587167544614,
          -0.09464116750951326,
          -1.3098800820079146,
          1.0224650955995838,
          1.0548935522161016
         ]
        }
       ],
       "layout": {
        "legend": {
         "bgcolor": "#F5F6F9",
         "font": {
          "color": "#4D5663"
         }
        },
        "paper_bgcolor": "#F5F6F9",
        "plot_bgcolor": "#F5F6F9",
        "template": {
         "data": {
          "bar": [
           {
            "error_x": {
             "color": "#2a3f5f"
            },
            "error_y": {
             "color": "#2a3f5f"
            },
            "marker": {
             "line": {
              "color": "#E5ECF6",
              "width": 0.5
             }
            },
            "type": "bar"
           }
          ],
          "barpolar": [
           {
            "marker": {
             "line": {
              "color": "#E5ECF6",
              "width": 0.5
             }
            },
            "type": "barpolar"
           }
          ],
          "carpet": [
           {
            "aaxis": {
             "endlinecolor": "#2a3f5f",
             "gridcolor": "white",
             "linecolor": "white",
             "minorgridcolor": "white",
             "startlinecolor": "#2a3f5f"
            },
            "baxis": {
             "endlinecolor": "#2a3f5f",
             "gridcolor": "white",
             "linecolor": "white",
             "minorgridcolor": "white",
             "startlinecolor": "#2a3f5f"
            },
            "type": "carpet"
           }
          ],
          "choropleth": [
           {
            "colorbar": {
             "outlinewidth": 0,
             "ticks": ""
            },
            "type": "choropleth"
           }
          ],
          "contour": [
           {
            "colorbar": {
             "outlinewidth": 0,
             "ticks": ""
            },
            "colorscale": [
             [
              0,
              "#0d0887"
             ],
             [
              0.1111111111111111,
              "#46039f"
             ],
             [
              0.2222222222222222,
              "#7201a8"
             ],
             [
              0.3333333333333333,
              "#9c179e"
             ],
             [
              0.4444444444444444,
              "#bd3786"
             ],
             [
              0.5555555555555556,
              "#d8576b"
             ],
             [
              0.6666666666666666,
              "#ed7953"
             ],
             [
              0.7777777777777778,
              "#fb9f3a"
             ],
             [
              0.8888888888888888,
              "#fdca26"
             ],
             [
              1,
              "#f0f921"
             ]
            ],
            "type": "contour"
           }
          ],
          "contourcarpet": [
           {
            "colorbar": {
             "outlinewidth": 0,
             "ticks": ""
            },
            "type": "contourcarpet"
           }
          ],
          "heatmap": [
           {
            "colorbar": {
             "outlinewidth": 0,
             "ticks": ""
            },
            "colorscale": [
             [
              0,
              "#0d0887"
             ],
             [
              0.1111111111111111,
              "#46039f"
             ],
             [
              0.2222222222222222,
              "#7201a8"
             ],
             [
              0.3333333333333333,
              "#9c179e"
             ],
             [
              0.4444444444444444,
              "#bd3786"
             ],
             [
              0.5555555555555556,
              "#d8576b"
             ],
             [
              0.6666666666666666,
              "#ed7953"
             ],
             [
              0.7777777777777778,
              "#fb9f3a"
             ],
             [
              0.8888888888888888,
              "#fdca26"
             ],
             [
              1,
              "#f0f921"
             ]
            ],
            "type": "heatmap"
           }
          ],
          "heatmapgl": [
           {
            "colorbar": {
             "outlinewidth": 0,
             "ticks": ""
            },
            "colorscale": [
             [
              0,
              "#0d0887"
             ],
             [
              0.1111111111111111,
              "#46039f"
             ],
             [
              0.2222222222222222,
              "#7201a8"
             ],
             [
              0.3333333333333333,
              "#9c179e"
             ],
             [
              0.4444444444444444,
              "#bd3786"
             ],
             [
              0.5555555555555556,
              "#d8576b"
             ],
             [
              0.6666666666666666,
              "#ed7953"
             ],
             [
              0.7777777777777778,
              "#fb9f3a"
             ],
             [
              0.8888888888888888,
              "#fdca26"
             ],
             [
              1,
              "#f0f921"
             ]
            ],
            "type": "heatmapgl"
           }
          ],
          "histogram": [
           {
            "marker": {
             "colorbar": {
              "outlinewidth": 0,
              "ticks": ""
             }
            },
            "type": "histogram"
           }
          ],
          "histogram2d": [
           {
            "colorbar": {
             "outlinewidth": 0,
             "ticks": ""
            },
            "colorscale": [
             [
              0,
              "#0d0887"
             ],
             [
              0.1111111111111111,
              "#46039f"
             ],
             [
              0.2222222222222222,
              "#7201a8"
             ],
             [
              0.3333333333333333,
              "#9c179e"
             ],
             [
              0.4444444444444444,
              "#bd3786"
             ],
             [
              0.5555555555555556,
              "#d8576b"
             ],
             [
              0.6666666666666666,
              "#ed7953"
             ],
             [
              0.7777777777777778,
              "#fb9f3a"
             ],
             [
              0.8888888888888888,
              "#fdca26"
             ],
             [
              1,
              "#f0f921"
             ]
            ],
            "type": "histogram2d"
           }
          ],
          "histogram2dcontour": [
           {
            "colorbar": {
             "outlinewidth": 0,
             "ticks": ""
            },
            "colorscale": [
             [
              0,
              "#0d0887"
             ],
             [
              0.1111111111111111,
              "#46039f"
             ],
             [
              0.2222222222222222,
              "#7201a8"
             ],
             [
              0.3333333333333333,
              "#9c179e"
             ],
             [
              0.4444444444444444,
              "#bd3786"
             ],
             [
              0.5555555555555556,
              "#d8576b"
             ],
             [
              0.6666666666666666,
              "#ed7953"
             ],
             [
              0.7777777777777778,
              "#fb9f3a"
             ],
             [
              0.8888888888888888,
              "#fdca26"
             ],
             [
              1,
              "#f0f921"
             ]
            ],
            "type": "histogram2dcontour"
           }
          ],
          "mesh3d": [
           {
            "colorbar": {
             "outlinewidth": 0,
             "ticks": ""
            },
            "type": "mesh3d"
           }
          ],
          "parcoords": [
           {
            "line": {
             "colorbar": {
              "outlinewidth": 0,
              "ticks": ""
             }
            },
            "type": "parcoords"
           }
          ],
          "pie": [
           {
            "automargin": true,
            "type": "pie"
           }
          ],
          "scatter": [
           {
            "marker": {
             "colorbar": {
              "outlinewidth": 0,
              "ticks": ""
             }
            },
            "type": "scatter"
           }
          ],
          "scatter3d": [
           {
            "line": {
             "colorbar": {
              "outlinewidth": 0,
              "ticks": ""
             }
            },
            "marker": {
             "colorbar": {
              "outlinewidth": 0,
              "ticks": ""
             }
            },
            "type": "scatter3d"
           }
          ],
          "scattercarpet": [
           {
            "marker": {
             "colorbar": {
              "outlinewidth": 0,
              "ticks": ""
             }
            },
            "type": "scattercarpet"
           }
          ],
          "scattergeo": [
           {
            "marker": {
             "colorbar": {
              "outlinewidth": 0,
              "ticks": ""
             }
            },
            "type": "scattergeo"
           }
          ],
          "scattergl": [
           {
            "marker": {
             "colorbar": {
              "outlinewidth": 0,
              "ticks": ""
             }
            },
            "type": "scattergl"
           }
          ],
          "scattermapbox": [
           {
            "marker": {
             "colorbar": {
              "outlinewidth": 0,
              "ticks": ""
             }
            },
            "type": "scattermapbox"
           }
          ],
          "scatterpolar": [
           {
            "marker": {
             "colorbar": {
              "outlinewidth": 0,
              "ticks": ""
             }
            },
            "type": "scatterpolar"
           }
          ],
          "scatterpolargl": [
           {
            "marker": {
             "colorbar": {
              "outlinewidth": 0,
              "ticks": ""
             }
            },
            "type": "scatterpolargl"
           }
          ],
          "scatterternary": [
           {
            "marker": {
             "colorbar": {
              "outlinewidth": 0,
              "ticks": ""
             }
            },
            "type": "scatterternary"
           }
          ],
          "surface": [
           {
            "colorbar": {
             "outlinewidth": 0,
             "ticks": ""
            },
            "colorscale": [
             [
              0,
              "#0d0887"
             ],
             [
              0.1111111111111111,
              "#46039f"
             ],
             [
              0.2222222222222222,
              "#7201a8"
             ],
             [
              0.3333333333333333,
              "#9c179e"
             ],
             [
              0.4444444444444444,
              "#bd3786"
             ],
             [
              0.5555555555555556,
              "#d8576b"
             ],
             [
              0.6666666666666666,
              "#ed7953"
             ],
             [
              0.7777777777777778,
              "#fb9f3a"
             ],
             [
              0.8888888888888888,
              "#fdca26"
             ],
             [
              1,
              "#f0f921"
             ]
            ],
            "type": "surface"
           }
          ],
          "table": [
           {
            "cells": {
             "fill": {
              "color": "#EBF0F8"
             },
             "line": {
              "color": "white"
             }
            },
            "header": {
             "fill": {
              "color": "#C8D4E3"
             },
             "line": {
              "color": "white"
             }
            },
            "type": "table"
           }
          ]
         },
         "layout": {
          "annotationdefaults": {
           "arrowcolor": "#2a3f5f",
           "arrowhead": 0,
           "arrowwidth": 1
          },
          "autotypenumbers": "strict",
          "coloraxis": {
           "colorbar": {
            "outlinewidth": 0,
            "ticks": ""
           }
          },
          "colorscale": {
           "diverging": [
            [
             0,
             "#8e0152"
            ],
            [
             0.1,
             "#c51b7d"
            ],
            [
             0.2,
             "#de77ae"
            ],
            [
             0.3,
             "#f1b6da"
            ],
            [
             0.4,
             "#fde0ef"
            ],
            [
             0.5,
             "#f7f7f7"
            ],
            [
             0.6,
             "#e6f5d0"
            ],
            [
             0.7,
             "#b8e186"
            ],
            [
             0.8,
             "#7fbc41"
            ],
            [
             0.9,
             "#4d9221"
            ],
            [
             1,
             "#276419"
            ]
           ],
           "sequential": [
            [
             0,
             "#0d0887"
            ],
            [
             0.1111111111111111,
             "#46039f"
            ],
            [
             0.2222222222222222,
             "#7201a8"
            ],
            [
             0.3333333333333333,
             "#9c179e"
            ],
            [
             0.4444444444444444,
             "#bd3786"
            ],
            [
             0.5555555555555556,
             "#d8576b"
            ],
            [
             0.6666666666666666,
             "#ed7953"
            ],
            [
             0.7777777777777778,
             "#fb9f3a"
            ],
            [
             0.8888888888888888,
             "#fdca26"
            ],
            [
             1,
             "#f0f921"
            ]
           ],
           "sequentialminus": [
            [
             0,
             "#0d0887"
            ],
            [
             0.1111111111111111,
             "#46039f"
            ],
            [
             0.2222222222222222,
             "#7201a8"
            ],
            [
             0.3333333333333333,
             "#9c179e"
            ],
            [
             0.4444444444444444,
             "#bd3786"
            ],
            [
             0.5555555555555556,
             "#d8576b"
            ],
            [
             0.6666666666666666,
             "#ed7953"
            ],
            [
             0.7777777777777778,
             "#fb9f3a"
            ],
            [
             0.8888888888888888,
             "#fdca26"
            ],
            [
             1,
             "#f0f921"
            ]
           ]
          },
          "colorway": [
           "#636efa",
           "#EF553B",
           "#00cc96",
           "#ab63fa",
           "#FFA15A",
           "#19d3f3",
           "#FF6692",
           "#B6E880",
           "#FF97FF",
           "#FECB52"
          ],
          "font": {
           "color": "#2a3f5f"
          },
          "geo": {
           "bgcolor": "white",
           "lakecolor": "white",
           "landcolor": "#E5ECF6",
           "showlakes": true,
           "showland": true,
           "subunitcolor": "white"
          },
          "hoverlabel": {
           "align": "left"
          },
          "hovermode": "closest",
          "mapbox": {
           "style": "light"
          },
          "paper_bgcolor": "white",
          "plot_bgcolor": "#E5ECF6",
          "polar": {
           "angularaxis": {
            "gridcolor": "white",
            "linecolor": "white",
            "ticks": ""
           },
           "bgcolor": "#E5ECF6",
           "radialaxis": {
            "gridcolor": "white",
            "linecolor": "white",
            "ticks": ""
           }
          },
          "scene": {
           "xaxis": {
            "backgroundcolor": "#E5ECF6",
            "gridcolor": "white",
            "gridwidth": 2,
            "linecolor": "white",
            "showbackground": true,
            "ticks": "",
            "zerolinecolor": "white"
           },
           "yaxis": {
            "backgroundcolor": "#E5ECF6",
            "gridcolor": "white",
            "gridwidth": 2,
            "linecolor": "white",
            "showbackground": true,
            "ticks": "",
            "zerolinecolor": "white"
           },
           "zaxis": {
            "backgroundcolor": "#E5ECF6",
            "gridcolor": "white",
            "gridwidth": 2,
            "linecolor": "white",
            "showbackground": true,
            "ticks": "",
            "zerolinecolor": "white"
           }
          },
          "shapedefaults": {
           "line": {
            "color": "#2a3f5f"
           }
          },
          "ternary": {
           "aaxis": {
            "gridcolor": "white",
            "linecolor": "white",
            "ticks": ""
           },
           "baxis": {
            "gridcolor": "white",
            "linecolor": "white",
            "ticks": ""
           },
           "bgcolor": "#E5ECF6",
           "caxis": {
            "gridcolor": "white",
            "linecolor": "white",
            "ticks": ""
           }
          },
          "title": {
           "x": 0.05
          },
          "xaxis": {
           "automargin": true,
           "gridcolor": "white",
           "linecolor": "white",
           "ticks": "",
           "title": {
            "standoff": 15
           },
           "zerolinecolor": "white",
           "zerolinewidth": 2
          },
          "yaxis": {
           "automargin": true,
           "gridcolor": "white",
           "linecolor": "white",
           "ticks": "",
           "title": {
            "standoff": 15
           },
           "zerolinecolor": "white",
           "zerolinewidth": 2
          }
         }
        },
        "title": {
         "font": {
          "color": "#4D5663"
         }
        },
        "xaxis": {
         "gridcolor": "#E1E5ED",
         "showgrid": true,
         "tickfont": {
          "color": "#4D5663"
         },
         "title": {
          "font": {
           "color": "#4D5663"
          },
          "text": ""
         },
         "zerolinecolor": "#E1E5ED"
        },
        "yaxis": {
         "gridcolor": "#E1E5ED",
         "showgrid": true,
         "tickfont": {
          "color": "#4D5663"
         },
         "title": {
          "font": {
           "color": "#4D5663"
          },
          "text": ""
         },
         "zerolinecolor": "#E1E5ED"
        }
       }
      },
      "text/html": "<div>                            <div id=\"4ecd1c7b-9fb3-4c59-a0e4-21c1ccc3df67\" class=\"plotly-graph-div\" style=\"height:525px; width:100%;\"></div>            <script type=\"text/javascript\">                require([\"plotly\"], function(Plotly) {                    window.PLOTLYENV=window.PLOTLYENV || {};\n                    window.PLOTLYENV.BASE_URL='https://plot.ly';                                    if (document.getElementById(\"4ecd1c7b-9fb3-4c59-a0e4-21c1ccc3df67\")) {                    Plotly.newPlot(                        \"4ecd1c7b-9fb3-4c59-a0e4-21c1ccc3df67\",                        [{\"line\": {\"color\": \"rgba(255, 153, 51, 1.0)\", \"dash\": \"solid\", \"shape\": \"linear\", \"width\": 1.3}, \"marker\": {\"size\": 10, \"symbol\": \"circle\"}, \"mode\": \"markers\", \"name\": \"B\", \"text\": \"\", \"type\": \"scatter\", \"x\": [0.3419584291255313, 2.361780384778356, 0.9119528973909766, 0.7843148177858439, 0.19788293810360227, 0.14792586818241837, -0.9642251958129214, -0.9982883475458826, -1.1325513846419084, -0.34775573601765764, 0.05614453083062882, -1.8350439315471765, 0.5511018764251773, 0.17988137422617523, -1.065227814836348, 0.3586145152614117, 2.411605482613125, 0.3560938040312589, 0.36786610050285107, -2.6002826096447857, -0.7981799468689968, -0.9645031821395916, 0.023965620965615043, -0.7365368491710338, -0.004858042010386315, -1.3623500370271893, -0.4525814500361433, 0.7058262779117401, 0.3440578447346543, -0.6854853356129478, -1.175912357533231, -0.06250042438078895, 0.3714797107838847, 1.3432775395609564, 0.7180364148121844, 2.7251283264314794, -1.7927981428516335, 0.30526270927024285, 0.07066587428438767, 0.9829832457917175, 0.2481333939762536, 1.2611119707431302, 0.39120023817415484, 1.4126639401837995, -0.2543019620938231, -1.0808580728245565, 0.21293978874229247, -1.817542673207612, 0.5705140433534914, 0.07031969294279024, -1.7310193046540587, -0.009968310223363802, -1.0487616328861715, 0.23392266236390605, -1.1403254897435495, -0.009551520847821338, 0.0587528290155611, 0.27327642074331, 0.5952762262270923, 0.34922564728692723, 0.3506158007930843, -0.7194723669016722, -0.969386453754765, 0.07607441829377784, 0.8224531813525415, -0.4267717900771313, -0.40179473694537243, 0.8730785586025657, 0.8772569764458129, 1.7525966859134534, -0.38937715784865456, -0.07128387192799915, 0.4374266412162082, 1.0066948777907512, -0.8108547122537352, -0.12424666495990376, 0.2694509128538412, -0.5798316475284768, 0.3201902642191978, -1.1253119761184023, 0.8853008752799159, 0.9710304851537905, -0.054131980511390745, -0.17879880928332045, 0.5731252894387706, 2.1638795628246785, 1.3828172329633255, 2.1851828911286226, 0.5855947229103255, -1.314182568919194, -0.7986574709761567, -0.6434624893139342, -0.9091145307420864, -0.8156862985068415, -0.8784194413581975, 0.28373706115674197, -0.6956611445601208, 1.4316076867251473, 0.8162399203140172, -0.7460467107715341], \"y\": [-1.2469675844086194, 2.9891513099497544, 0.1017309838125147, 0.02548119832841038, 1.9193919674365298, -0.20182906842565754, 0.34360603457165223, -0.2249471960281491, -0.9850353052474844, -0.4559661499288387, -0.3878301319310226, 1.1082652594076037, 0.8744392746857205, 1.0093918400229367, -0.5394935232766637, -0.803745333849395, -0.6518641752351033, -0.43622292742754704, 1.433979164394179, -0.20860370790793073, 0.15344776935200735, -0.24292160640219418, 1.1989580674290223, -1.1443449709961133, -0.09993272796215072, 0.10083254924068984, -0.35213515431348485, -1.2061255943422544, 1.0970022135175945, -0.6800842183802278, -0.07119109631676689, 0.26860378089458553, -1.3759056290183418, 0.2669198011313815, 0.4534602278898926, 0.01047672724603757, -1.2522099425982471, -0.10554046833546744, 1.548445310306408, -0.06588810735895306, 0.6760987700300749, -0.0420202255577279, 1.8378273002595218, -0.6078283434805584, 1.5282024981691928, -0.2754917649929963, -0.5399326467480746, 0.6224826249171681, 0.47795041715071557, 0.6278077101583388, -1.3409423856968694, -0.7706624003108283, 0.015473729679894384, 0.26319508876425185, 1.0028321641640017, -0.807548524223669, 0.9869502776032817, -1.28221797054689, -1.1449359698029302, -0.6395403941539245, 2.4047917183665826, 0.27108517431821616, -1.2451142203486658, -0.9178682146002846, -0.14570048592133691, -0.6272356706833567, -0.8514150741598167, 1.3091254912388204, 0.05193399027756955, -0.002553724868215908, -1.1324415602896714, 1.438180944671712, 0.6043815252099933, 0.3150816994390484, -0.09226594346437388, -1.6197115478527, -1.075865500583438, 0.7486483332115086, 0.19586000178350335, -0.12224064694673781, -0.5599448183549804, 0.3622861605064426, -1.4558631826967452, 1.7992281941455563, -0.5220566801522477, -0.9653810326273534, -0.7122912093233262, 2.2326519358646375, -0.2406418434421078, 0.804193973114719, 1.0070051946632714, 0.5420153009884275, -0.7734745290640057, -0.48601676911296376, 1.6060186504018106, -0.5062587167544614, -0.09464116750951326, -1.3098800820079146, 1.0224650955995838, 1.0548935522161016]}],                        {\"legend\": {\"bgcolor\": \"#F5F6F9\", \"font\": {\"color\": \"#4D5663\"}}, \"paper_bgcolor\": \"#F5F6F9\", \"plot_bgcolor\": \"#F5F6F9\", \"template\": {\"data\": {\"bar\": [{\"error_x\": {\"color\": \"#2a3f5f\"}, \"error_y\": {\"color\": \"#2a3f5f\"}, \"marker\": {\"line\": {\"color\": \"#E5ECF6\", \"width\": 0.5}}, \"type\": \"bar\"}], \"barpolar\": [{\"marker\": {\"line\": {\"color\": \"#E5ECF6\", \"width\": 0.5}}, \"type\": \"barpolar\"}], \"carpet\": [{\"aaxis\": {\"endlinecolor\": \"#2a3f5f\", \"gridcolor\": \"white\", \"linecolor\": \"white\", \"minorgridcolor\": \"white\", \"startlinecolor\": \"#2a3f5f\"}, \"baxis\": {\"endlinecolor\": \"#2a3f5f\", \"gridcolor\": \"white\", \"linecolor\": \"white\", \"minorgridcolor\": \"white\", \"startlinecolor\": \"#2a3f5f\"}, \"type\": \"carpet\"}], \"choropleth\": [{\"colorbar\": {\"outlinewidth\": 0, \"ticks\": \"\"}, \"type\": \"choropleth\"}], \"contour\": [{\"colorbar\": {\"outlinewidth\": 0, \"ticks\": \"\"}, \"colorscale\": [[0.0, \"#0d0887\"], [0.1111111111111111, \"#46039f\"], [0.2222222222222222, \"#7201a8\"], [0.3333333333333333, \"#9c179e\"], [0.4444444444444444, \"#bd3786\"], [0.5555555555555556, \"#d8576b\"], [0.6666666666666666, \"#ed7953\"], [0.7777777777777778, \"#fb9f3a\"], [0.8888888888888888, \"#fdca26\"], [1.0, \"#f0f921\"]], \"type\": \"contour\"}], \"contourcarpet\": [{\"colorbar\": {\"outlinewidth\": 0, \"ticks\": \"\"}, \"type\": \"contourcarpet\"}], \"heatmap\": [{\"colorbar\": {\"outlinewidth\": 0, \"ticks\": \"\"}, \"colorscale\": [[0.0, \"#0d0887\"], [0.1111111111111111, \"#46039f\"], [0.2222222222222222, \"#7201a8\"], [0.3333333333333333, \"#9c179e\"], [0.4444444444444444, \"#bd3786\"], [0.5555555555555556, \"#d8576b\"], [0.6666666666666666, \"#ed7953\"], [0.7777777777777778, \"#fb9f3a\"], [0.8888888888888888, \"#fdca26\"], [1.0, \"#f0f921\"]], \"type\": \"heatmap\"}], \"heatmapgl\": [{\"colorbar\": {\"outlinewidth\": 0, \"ticks\": \"\"}, \"colorscale\": [[0.0, \"#0d0887\"], [0.1111111111111111, \"#46039f\"], [0.2222222222222222, \"#7201a8\"], [0.3333333333333333, \"#9c179e\"], [0.4444444444444444, \"#bd3786\"], [0.5555555555555556, \"#d8576b\"], [0.6666666666666666, \"#ed7953\"], [0.7777777777777778, \"#fb9f3a\"], [0.8888888888888888, \"#fdca26\"], [1.0, \"#f0f921\"]], \"type\": \"heatmapgl\"}], \"histogram\": [{\"marker\": {\"colorbar\": {\"outlinewidth\": 0, \"ticks\": \"\"}}, \"type\": \"histogram\"}], \"histogram2d\": [{\"colorbar\": {\"outlinewidth\": 0, \"ticks\": \"\"}, \"colorscale\": [[0.0, \"#0d0887\"], [0.1111111111111111, \"#46039f\"], [0.2222222222222222, \"#7201a8\"], [0.3333333333333333, \"#9c179e\"], [0.4444444444444444, \"#bd3786\"], [0.5555555555555556, \"#d8576b\"], [0.6666666666666666, \"#ed7953\"], [0.7777777777777778, \"#fb9f3a\"], [0.8888888888888888, \"#fdca26\"], [1.0, \"#f0f921\"]], \"type\": \"histogram2d\"}], \"histogram2dcontour\": [{\"colorbar\": {\"outlinewidth\": 0, \"ticks\": \"\"}, \"colorscale\": [[0.0, \"#0d0887\"], [0.1111111111111111, \"#46039f\"], [0.2222222222222222, \"#7201a8\"], [0.3333333333333333, \"#9c179e\"], [0.4444444444444444, \"#bd3786\"], [0.5555555555555556, \"#d8576b\"], [0.6666666666666666, \"#ed7953\"], [0.7777777777777778, \"#fb9f3a\"], [0.8888888888888888, \"#fdca26\"], [1.0, \"#f0f921\"]], \"type\": \"histogram2dcontour\"}], \"mesh3d\": [{\"colorbar\": {\"outlinewidth\": 0, \"ticks\": \"\"}, \"type\": \"mesh3d\"}], \"parcoords\": [{\"line\": {\"colorbar\": {\"outlinewidth\": 0, \"ticks\": \"\"}}, \"type\": \"parcoords\"}], \"pie\": [{\"automargin\": true, \"type\": \"pie\"}], \"scatter\": [{\"marker\": {\"colorbar\": {\"outlinewidth\": 0, \"ticks\": \"\"}}, \"type\": \"scatter\"}], \"scatter3d\": [{\"line\": {\"colorbar\": {\"outlinewidth\": 0, \"ticks\": \"\"}}, \"marker\": {\"colorbar\": {\"outlinewidth\": 0, \"ticks\": \"\"}}, \"type\": \"scatter3d\"}], \"scattercarpet\": [{\"marker\": {\"colorbar\": {\"outlinewidth\": 0, \"ticks\": \"\"}}, \"type\": \"scattercarpet\"}], \"scattergeo\": [{\"marker\": {\"colorbar\": {\"outlinewidth\": 0, \"ticks\": \"\"}}, \"type\": \"scattergeo\"}], \"scattergl\": [{\"marker\": {\"colorbar\": {\"outlinewidth\": 0, \"ticks\": \"\"}}, \"type\": \"scattergl\"}], \"scattermapbox\": [{\"marker\": {\"colorbar\": {\"outlinewidth\": 0, \"ticks\": \"\"}}, \"type\": \"scattermapbox\"}], \"scatterpolar\": [{\"marker\": {\"colorbar\": {\"outlinewidth\": 0, \"ticks\": \"\"}}, \"type\": \"scatterpolar\"}], \"scatterpolargl\": [{\"marker\": {\"colorbar\": {\"outlinewidth\": 0, \"ticks\": \"\"}}, \"type\": \"scatterpolargl\"}], \"scatterternary\": [{\"marker\": {\"colorbar\": {\"outlinewidth\": 0, \"ticks\": \"\"}}, \"type\": \"scatterternary\"}], \"surface\": [{\"colorbar\": {\"outlinewidth\": 0, \"ticks\": \"\"}, \"colorscale\": [[0.0, \"#0d0887\"], [0.1111111111111111, \"#46039f\"], [0.2222222222222222, \"#7201a8\"], [0.3333333333333333, \"#9c179e\"], [0.4444444444444444, \"#bd3786\"], [0.5555555555555556, \"#d8576b\"], [0.6666666666666666, \"#ed7953\"], [0.7777777777777778, \"#fb9f3a\"], [0.8888888888888888, \"#fdca26\"], [1.0, \"#f0f921\"]], \"type\": \"surface\"}], \"table\": [{\"cells\": {\"fill\": {\"color\": \"#EBF0F8\"}, \"line\": {\"color\": \"white\"}}, \"header\": {\"fill\": {\"color\": \"#C8D4E3\"}, \"line\": {\"color\": \"white\"}}, \"type\": \"table\"}]}, \"layout\": {\"annotationdefaults\": {\"arrowcolor\": \"#2a3f5f\", \"arrowhead\": 0, \"arrowwidth\": 1}, \"autotypenumbers\": \"strict\", \"coloraxis\": {\"colorbar\": {\"outlinewidth\": 0, \"ticks\": \"\"}}, \"colorscale\": {\"diverging\": [[0, \"#8e0152\"], [0.1, \"#c51b7d\"], [0.2, \"#de77ae\"], [0.3, \"#f1b6da\"], [0.4, \"#fde0ef\"], [0.5, \"#f7f7f7\"], [0.6, \"#e6f5d0\"], [0.7, \"#b8e186\"], [0.8, \"#7fbc41\"], [0.9, \"#4d9221\"], [1, \"#276419\"]], \"sequential\": [[0.0, \"#0d0887\"], [0.1111111111111111, \"#46039f\"], [0.2222222222222222, \"#7201a8\"], [0.3333333333333333, \"#9c179e\"], [0.4444444444444444, \"#bd3786\"], [0.5555555555555556, \"#d8576b\"], [0.6666666666666666, \"#ed7953\"], [0.7777777777777778, \"#fb9f3a\"], [0.8888888888888888, \"#fdca26\"], [1.0, \"#f0f921\"]], \"sequentialminus\": [[0.0, \"#0d0887\"], [0.1111111111111111, \"#46039f\"], [0.2222222222222222, \"#7201a8\"], [0.3333333333333333, \"#9c179e\"], [0.4444444444444444, \"#bd3786\"], [0.5555555555555556, \"#d8576b\"], [0.6666666666666666, \"#ed7953\"], [0.7777777777777778, \"#fb9f3a\"], [0.8888888888888888, \"#fdca26\"], [1.0, \"#f0f921\"]]}, \"colorway\": [\"#636efa\", \"#EF553B\", \"#00cc96\", \"#ab63fa\", \"#FFA15A\", \"#19d3f3\", \"#FF6692\", \"#B6E880\", \"#FF97FF\", \"#FECB52\"], \"font\": {\"color\": \"#2a3f5f\"}, \"geo\": {\"bgcolor\": \"white\", \"lakecolor\": \"white\", \"landcolor\": \"#E5ECF6\", \"showlakes\": true, \"showland\": true, \"subunitcolor\": \"white\"}, \"hoverlabel\": {\"align\": \"left\"}, \"hovermode\": \"closest\", \"mapbox\": {\"style\": \"light\"}, \"paper_bgcolor\": \"white\", \"plot_bgcolor\": \"#E5ECF6\", \"polar\": {\"angularaxis\": {\"gridcolor\": \"white\", \"linecolor\": \"white\", \"ticks\": \"\"}, \"bgcolor\": \"#E5ECF6\", \"radialaxis\": {\"gridcolor\": \"white\", \"linecolor\": \"white\", \"ticks\": \"\"}}, \"scene\": {\"xaxis\": {\"backgroundcolor\": \"#E5ECF6\", \"gridcolor\": \"white\", \"gridwidth\": 2, \"linecolor\": \"white\", \"showbackground\": true, \"ticks\": \"\", \"zerolinecolor\": \"white\"}, \"yaxis\": {\"backgroundcolor\": \"#E5ECF6\", \"gridcolor\": \"white\", \"gridwidth\": 2, \"linecolor\": \"white\", \"showbackground\": true, \"ticks\": \"\", \"zerolinecolor\": \"white\"}, \"zaxis\": {\"backgroundcolor\": \"#E5ECF6\", \"gridcolor\": \"white\", \"gridwidth\": 2, \"linecolor\": \"white\", \"showbackground\": true, \"ticks\": \"\", \"zerolinecolor\": \"white\"}}, \"shapedefaults\": {\"line\": {\"color\": \"#2a3f5f\"}}, \"ternary\": {\"aaxis\": {\"gridcolor\": \"white\", \"linecolor\": \"white\", \"ticks\": \"\"}, \"baxis\": {\"gridcolor\": \"white\", \"linecolor\": \"white\", \"ticks\": \"\"}, \"bgcolor\": \"#E5ECF6\", \"caxis\": {\"gridcolor\": \"white\", \"linecolor\": \"white\", \"ticks\": \"\"}}, \"title\": {\"x\": 0.05}, \"xaxis\": {\"automargin\": true, \"gridcolor\": \"white\", \"linecolor\": \"white\", \"ticks\": \"\", \"title\": {\"standoff\": 15}, \"zerolinecolor\": \"white\", \"zerolinewidth\": 2}, \"yaxis\": {\"automargin\": true, \"gridcolor\": \"white\", \"linecolor\": \"white\", \"ticks\": \"\", \"title\": {\"standoff\": 15}, \"zerolinecolor\": \"white\", \"zerolinewidth\": 2}}}, \"title\": {\"font\": {\"color\": \"#4D5663\"}}, \"xaxis\": {\"gridcolor\": \"#E1E5ED\", \"showgrid\": true, \"tickfont\": {\"color\": \"#4D5663\"}, \"title\": {\"font\": {\"color\": \"#4D5663\"}, \"text\": \"\"}, \"zerolinecolor\": \"#E1E5ED\"}, \"yaxis\": {\"gridcolor\": \"#E1E5ED\", \"showgrid\": true, \"tickfont\": {\"color\": \"#4D5663\"}, \"title\": {\"font\": {\"color\": \"#4D5663\"}, \"text\": \"\"}, \"zerolinecolor\": \"#E1E5ED\"}},                        {\"showLink\": true, \"linkText\": \"Export to plot.ly\", \"plotlyServerURL\": \"https://plot.ly\", \"responsive\": true}                    ).then(function(){\n                            \nvar gd = document.getElementById('4ecd1c7b-9fb3-4c59-a0e4-21c1ccc3df67');\nvar x = new MutationObserver(function (mutations, observer) {{\n        var display = window.getComputedStyle(gd).display;\n        if (!display || display === 'none') {{\n            console.log([gd, 'removed!']);\n            Plotly.purge(gd);\n            observer.disconnect();\n        }}\n}});\n\n// Listen for the removal of the full notebook cells\nvar notebookContainer = gd.closest('#notebook-container');\nif (notebookContainer) {{\n    x.observe(notebookContainer, {childList: true});\n}}\n\n// Listen for the clearing of the current output cell\nvar outputEl = gd.closest('.output');\nif (outputEl) {{\n    x.observe(outputEl, {childList: true});\n}}\n\n                        })                };                });            </script>        </div>"
     },
     "metadata": {}
    }
   ],
   "source": [
    "df.iplot(kind='scatter',x='A',y='B',mode='markers',size=10)"
   ]
  },
  {
   "cell_type": "markdown",
   "metadata": {},
   "source": [
    "## Bar Plots"
   ]
  },
  {
   "cell_type": "code",
   "execution_count": 11,
   "metadata": {
    "collapsed": false
   },
   "outputs": [
    {
     "output_type": "display_data",
     "data": {
      "application/vnd.plotly.v1+json": {
       "config": {
        "linkText": "Export to plot.ly",
        "plotlyServerURL": "https://plot.ly",
        "showLink": true
       },
       "data": [
        {
         "marker": {
          "color": "rgba(255, 153, 51, 0.6)",
          "line": {
           "color": "rgba(255, 153, 51, 1.0)",
           "width": 1
          }
         },
         "name": "Values",
         "orientation": "v",
         "text": "",
         "type": "bar",
         "x": [
          "A",
          "B",
          "C"
         ],
         "y": [
          32,
          43,
          50
         ]
        }
       ],
       "layout": {
        "legend": {
         "bgcolor": "#F5F6F9",
         "font": {
          "color": "#4D5663"
         }
        },
        "paper_bgcolor": "#F5F6F9",
        "plot_bgcolor": "#F5F6F9",
        "template": {
         "data": {
          "bar": [
           {
            "error_x": {
             "color": "#2a3f5f"
            },
            "error_y": {
             "color": "#2a3f5f"
            },
            "marker": {
             "line": {
              "color": "#E5ECF6",
              "width": 0.5
             }
            },
            "type": "bar"
           }
          ],
          "barpolar": [
           {
            "marker": {
             "line": {
              "color": "#E5ECF6",
              "width": 0.5
             }
            },
            "type": "barpolar"
           }
          ],
          "carpet": [
           {
            "aaxis": {
             "endlinecolor": "#2a3f5f",
             "gridcolor": "white",
             "linecolor": "white",
             "minorgridcolor": "white",
             "startlinecolor": "#2a3f5f"
            },
            "baxis": {
             "endlinecolor": "#2a3f5f",
             "gridcolor": "white",
             "linecolor": "white",
             "minorgridcolor": "white",
             "startlinecolor": "#2a3f5f"
            },
            "type": "carpet"
           }
          ],
          "choropleth": [
           {
            "colorbar": {
             "outlinewidth": 0,
             "ticks": ""
            },
            "type": "choropleth"
           }
          ],
          "contour": [
           {
            "colorbar": {
             "outlinewidth": 0,
             "ticks": ""
            },
            "colorscale": [
             [
              0,
              "#0d0887"
             ],
             [
              0.1111111111111111,
              "#46039f"
             ],
             [
              0.2222222222222222,
              "#7201a8"
             ],
             [
              0.3333333333333333,
              "#9c179e"
             ],
             [
              0.4444444444444444,
              "#bd3786"
             ],
             [
              0.5555555555555556,
              "#d8576b"
             ],
             [
              0.6666666666666666,
              "#ed7953"
             ],
             [
              0.7777777777777778,
              "#fb9f3a"
             ],
             [
              0.8888888888888888,
              "#fdca26"
             ],
             [
              1,
              "#f0f921"
             ]
            ],
            "type": "contour"
           }
          ],
          "contourcarpet": [
           {
            "colorbar": {
             "outlinewidth": 0,
             "ticks": ""
            },
            "type": "contourcarpet"
           }
          ],
          "heatmap": [
           {
            "colorbar": {
             "outlinewidth": 0,
             "ticks": ""
            },
            "colorscale": [
             [
              0,
              "#0d0887"
             ],
             [
              0.1111111111111111,
              "#46039f"
             ],
             [
              0.2222222222222222,
              "#7201a8"
             ],
             [
              0.3333333333333333,
              "#9c179e"
             ],
             [
              0.4444444444444444,
              "#bd3786"
             ],
             [
              0.5555555555555556,
              "#d8576b"
             ],
             [
              0.6666666666666666,
              "#ed7953"
             ],
             [
              0.7777777777777778,
              "#fb9f3a"
             ],
             [
              0.8888888888888888,
              "#fdca26"
             ],
             [
              1,
              "#f0f921"
             ]
            ],
            "type": "heatmap"
           }
          ],
          "heatmapgl": [
           {
            "colorbar": {
             "outlinewidth": 0,
             "ticks": ""
            },
            "colorscale": [
             [
              0,
              "#0d0887"
             ],
             [
              0.1111111111111111,
              "#46039f"
             ],
             [
              0.2222222222222222,
              "#7201a8"
             ],
             [
              0.3333333333333333,
              "#9c179e"
             ],
             [
              0.4444444444444444,
              "#bd3786"
             ],
             [
              0.5555555555555556,
              "#d8576b"
             ],
             [
              0.6666666666666666,
              "#ed7953"
             ],
             [
              0.7777777777777778,
              "#fb9f3a"
             ],
             [
              0.8888888888888888,
              "#fdca26"
             ],
             [
              1,
              "#f0f921"
             ]
            ],
            "type": "heatmapgl"
           }
          ],
          "histogram": [
           {
            "marker": {
             "colorbar": {
              "outlinewidth": 0,
              "ticks": ""
             }
            },
            "type": "histogram"
           }
          ],
          "histogram2d": [
           {
            "colorbar": {
             "outlinewidth": 0,
             "ticks": ""
            },
            "colorscale": [
             [
              0,
              "#0d0887"
             ],
             [
              0.1111111111111111,
              "#46039f"
             ],
             [
              0.2222222222222222,
              "#7201a8"
             ],
             [
              0.3333333333333333,
              "#9c179e"
             ],
             [
              0.4444444444444444,
              "#bd3786"
             ],
             [
              0.5555555555555556,
              "#d8576b"
             ],
             [
              0.6666666666666666,
              "#ed7953"
             ],
             [
              0.7777777777777778,
              "#fb9f3a"
             ],
             [
              0.8888888888888888,
              "#fdca26"
             ],
             [
              1,
              "#f0f921"
             ]
            ],
            "type": "histogram2d"
           }
          ],
          "histogram2dcontour": [
           {
            "colorbar": {
             "outlinewidth": 0,
             "ticks": ""
            },
            "colorscale": [
             [
              0,
              "#0d0887"
             ],
             [
              0.1111111111111111,
              "#46039f"
             ],
             [
              0.2222222222222222,
              "#7201a8"
             ],
             [
              0.3333333333333333,
              "#9c179e"
             ],
             [
              0.4444444444444444,
              "#bd3786"
             ],
             [
              0.5555555555555556,
              "#d8576b"
             ],
             [
              0.6666666666666666,
              "#ed7953"
             ],
             [
              0.7777777777777778,
              "#fb9f3a"
             ],
             [
              0.8888888888888888,
              "#fdca26"
             ],
             [
              1,
              "#f0f921"
             ]
            ],
            "type": "histogram2dcontour"
           }
          ],
          "mesh3d": [
           {
            "colorbar": {
             "outlinewidth": 0,
             "ticks": ""
            },
            "type": "mesh3d"
           }
          ],
          "parcoords": [
           {
            "line": {
             "colorbar": {
              "outlinewidth": 0,
              "ticks": ""
             }
            },
            "type": "parcoords"
           }
          ],
          "pie": [
           {
            "automargin": true,
            "type": "pie"
           }
          ],
          "scatter": [
           {
            "marker": {
             "colorbar": {
              "outlinewidth": 0,
              "ticks": ""
             }
            },
            "type": "scatter"
           }
          ],
          "scatter3d": [
           {
            "line": {
             "colorbar": {
              "outlinewidth": 0,
              "ticks": ""
             }
            },
            "marker": {
             "colorbar": {
              "outlinewidth": 0,
              "ticks": ""
             }
            },
            "type": "scatter3d"
           }
          ],
          "scattercarpet": [
           {
            "marker": {
             "colorbar": {
              "outlinewidth": 0,
              "ticks": ""
             }
            },
            "type": "scattercarpet"
           }
          ],
          "scattergeo": [
           {
            "marker": {
             "colorbar": {
              "outlinewidth": 0,
              "ticks": ""
             }
            },
            "type": "scattergeo"
           }
          ],
          "scattergl": [
           {
            "marker": {
             "colorbar": {
              "outlinewidth": 0,
              "ticks": ""
             }
            },
            "type": "scattergl"
           }
          ],
          "scattermapbox": [
           {
            "marker": {
             "colorbar": {
              "outlinewidth": 0,
              "ticks": ""
             }
            },
            "type": "scattermapbox"
           }
          ],
          "scatterpolar": [
           {
            "marker": {
             "colorbar": {
              "outlinewidth": 0,
              "ticks": ""
             }
            },
            "type": "scatterpolar"
           }
          ],
          "scatterpolargl": [
           {
            "marker": {
             "colorbar": {
              "outlinewidth": 0,
              "ticks": ""
             }
            },
            "type": "scatterpolargl"
           }
          ],
          "scatterternary": [
           {
            "marker": {
             "colorbar": {
              "outlinewidth": 0,
              "ticks": ""
             }
            },
            "type": "scatterternary"
           }
          ],
          "surface": [
           {
            "colorbar": {
             "outlinewidth": 0,
             "ticks": ""
            },
            "colorscale": [
             [
              0,
              "#0d0887"
             ],
             [
              0.1111111111111111,
              "#46039f"
             ],
             [
              0.2222222222222222,
              "#7201a8"
             ],
             [
              0.3333333333333333,
              "#9c179e"
             ],
             [
              0.4444444444444444,
              "#bd3786"
             ],
             [
              0.5555555555555556,
              "#d8576b"
             ],
             [
              0.6666666666666666,
              "#ed7953"
             ],
             [
              0.7777777777777778,
              "#fb9f3a"
             ],
             [
              0.8888888888888888,
              "#fdca26"
             ],
             [
              1,
              "#f0f921"
             ]
            ],
            "type": "surface"
           }
          ],
          "table": [
           {
            "cells": {
             "fill": {
              "color": "#EBF0F8"
             },
             "line": {
              "color": "white"
             }
            },
            "header": {
             "fill": {
              "color": "#C8D4E3"
             },
             "line": {
              "color": "white"
             }
            },
            "type": "table"
           }
          ]
         },
         "layout": {
          "annotationdefaults": {
           "arrowcolor": "#2a3f5f",
           "arrowhead": 0,
           "arrowwidth": 1
          },
          "autotypenumbers": "strict",
          "coloraxis": {
           "colorbar": {
            "outlinewidth": 0,
            "ticks": ""
           }
          },
          "colorscale": {
           "diverging": [
            [
             0,
             "#8e0152"
            ],
            [
             0.1,
             "#c51b7d"
            ],
            [
             0.2,
             "#de77ae"
            ],
            [
             0.3,
             "#f1b6da"
            ],
            [
             0.4,
             "#fde0ef"
            ],
            [
             0.5,
             "#f7f7f7"
            ],
            [
             0.6,
             "#e6f5d0"
            ],
            [
             0.7,
             "#b8e186"
            ],
            [
             0.8,
             "#7fbc41"
            ],
            [
             0.9,
             "#4d9221"
            ],
            [
             1,
             "#276419"
            ]
           ],
           "sequential": [
            [
             0,
             "#0d0887"
            ],
            [
             0.1111111111111111,
             "#46039f"
            ],
            [
             0.2222222222222222,
             "#7201a8"
            ],
            [
             0.3333333333333333,
             "#9c179e"
            ],
            [
             0.4444444444444444,
             "#bd3786"
            ],
            [
             0.5555555555555556,
             "#d8576b"
            ],
            [
             0.6666666666666666,
             "#ed7953"
            ],
            [
             0.7777777777777778,
             "#fb9f3a"
            ],
            [
             0.8888888888888888,
             "#fdca26"
            ],
            [
             1,
             "#f0f921"
            ]
           ],
           "sequentialminus": [
            [
             0,
             "#0d0887"
            ],
            [
             0.1111111111111111,
             "#46039f"
            ],
            [
             0.2222222222222222,
             "#7201a8"
            ],
            [
             0.3333333333333333,
             "#9c179e"
            ],
            [
             0.4444444444444444,
             "#bd3786"
            ],
            [
             0.5555555555555556,
             "#d8576b"
            ],
            [
             0.6666666666666666,
             "#ed7953"
            ],
            [
             0.7777777777777778,
             "#fb9f3a"
            ],
            [
             0.8888888888888888,
             "#fdca26"
            ],
            [
             1,
             "#f0f921"
            ]
           ]
          },
          "colorway": [
           "#636efa",
           "#EF553B",
           "#00cc96",
           "#ab63fa",
           "#FFA15A",
           "#19d3f3",
           "#FF6692",
           "#B6E880",
           "#FF97FF",
           "#FECB52"
          ],
          "font": {
           "color": "#2a3f5f"
          },
          "geo": {
           "bgcolor": "white",
           "lakecolor": "white",
           "landcolor": "#E5ECF6",
           "showlakes": true,
           "showland": true,
           "subunitcolor": "white"
          },
          "hoverlabel": {
           "align": "left"
          },
          "hovermode": "closest",
          "mapbox": {
           "style": "light"
          },
          "paper_bgcolor": "white",
          "plot_bgcolor": "#E5ECF6",
          "polar": {
           "angularaxis": {
            "gridcolor": "white",
            "linecolor": "white",
            "ticks": ""
           },
           "bgcolor": "#E5ECF6",
           "radialaxis": {
            "gridcolor": "white",
            "linecolor": "white",
            "ticks": ""
           }
          },
          "scene": {
           "xaxis": {
            "backgroundcolor": "#E5ECF6",
            "gridcolor": "white",
            "gridwidth": 2,
            "linecolor": "white",
            "showbackground": true,
            "ticks": "",
            "zerolinecolor": "white"
           },
           "yaxis": {
            "backgroundcolor": "#E5ECF6",
            "gridcolor": "white",
            "gridwidth": 2,
            "linecolor": "white",
            "showbackground": true,
            "ticks": "",
            "zerolinecolor": "white"
           },
           "zaxis": {
            "backgroundcolor": "#E5ECF6",
            "gridcolor": "white",
            "gridwidth": 2,
            "linecolor": "white",
            "showbackground": true,
            "ticks": "",
            "zerolinecolor": "white"
           }
          },
          "shapedefaults": {
           "line": {
            "color": "#2a3f5f"
           }
          },
          "ternary": {
           "aaxis": {
            "gridcolor": "white",
            "linecolor": "white",
            "ticks": ""
           },
           "baxis": {
            "gridcolor": "white",
            "linecolor": "white",
            "ticks": ""
           },
           "bgcolor": "#E5ECF6",
           "caxis": {
            "gridcolor": "white",
            "linecolor": "white",
            "ticks": ""
           }
          },
          "title": {
           "x": 0.05
          },
          "xaxis": {
           "automargin": true,
           "gridcolor": "white",
           "linecolor": "white",
           "ticks": "",
           "title": {
            "standoff": 15
           },
           "zerolinecolor": "white",
           "zerolinewidth": 2
          },
          "yaxis": {
           "automargin": true,
           "gridcolor": "white",
           "linecolor": "white",
           "ticks": "",
           "title": {
            "standoff": 15
           },
           "zerolinecolor": "white",
           "zerolinewidth": 2
          }
         }
        },
        "title": {
         "font": {
          "color": "#4D5663"
         }
        },
        "xaxis": {
         "gridcolor": "#E1E5ED",
         "showgrid": true,
         "tickfont": {
          "color": "#4D5663"
         },
         "title": {
          "font": {
           "color": "#4D5663"
          },
          "text": ""
         },
         "zerolinecolor": "#E1E5ED"
        },
        "yaxis": {
         "gridcolor": "#E1E5ED",
         "showgrid": true,
         "tickfont": {
          "color": "#4D5663"
         },
         "title": {
          "font": {
           "color": "#4D5663"
          },
          "text": ""
         },
         "zerolinecolor": "#E1E5ED"
        }
       }
      },
      "text/html": "<div>                            <div id=\"63c22353-2a96-461b-b7df-f4cba08d0c57\" class=\"plotly-graph-div\" style=\"height:525px; width:100%;\"></div>            <script type=\"text/javascript\">                require([\"plotly\"], function(Plotly) {                    window.PLOTLYENV=window.PLOTLYENV || {};\n                    window.PLOTLYENV.BASE_URL='https://plot.ly';                                    if (document.getElementById(\"63c22353-2a96-461b-b7df-f4cba08d0c57\")) {                    Plotly.newPlot(                        \"63c22353-2a96-461b-b7df-f4cba08d0c57\",                        [{\"marker\": {\"color\": \"rgba(255, 153, 51, 0.6)\", \"line\": {\"color\": \"rgba(255, 153, 51, 1.0)\", \"width\": 1}}, \"name\": \"Values\", \"orientation\": \"v\", \"text\": \"\", \"type\": \"bar\", \"x\": [\"A\", \"B\", \"C\"], \"y\": [32, 43, 50]}],                        {\"legend\": {\"bgcolor\": \"#F5F6F9\", \"font\": {\"color\": \"#4D5663\"}}, \"paper_bgcolor\": \"#F5F6F9\", \"plot_bgcolor\": \"#F5F6F9\", \"template\": {\"data\": {\"bar\": [{\"error_x\": {\"color\": \"#2a3f5f\"}, \"error_y\": {\"color\": \"#2a3f5f\"}, \"marker\": {\"line\": {\"color\": \"#E5ECF6\", \"width\": 0.5}}, \"type\": \"bar\"}], \"barpolar\": [{\"marker\": {\"line\": {\"color\": \"#E5ECF6\", \"width\": 0.5}}, \"type\": \"barpolar\"}], \"carpet\": [{\"aaxis\": {\"endlinecolor\": \"#2a3f5f\", \"gridcolor\": \"white\", \"linecolor\": \"white\", \"minorgridcolor\": \"white\", \"startlinecolor\": \"#2a3f5f\"}, \"baxis\": {\"endlinecolor\": \"#2a3f5f\", \"gridcolor\": \"white\", \"linecolor\": \"white\", \"minorgridcolor\": \"white\", \"startlinecolor\": \"#2a3f5f\"}, \"type\": \"carpet\"}], \"choropleth\": [{\"colorbar\": {\"outlinewidth\": 0, \"ticks\": \"\"}, \"type\": \"choropleth\"}], \"contour\": [{\"colorbar\": {\"outlinewidth\": 0, \"ticks\": \"\"}, \"colorscale\": [[0.0, \"#0d0887\"], [0.1111111111111111, \"#46039f\"], [0.2222222222222222, \"#7201a8\"], [0.3333333333333333, \"#9c179e\"], [0.4444444444444444, \"#bd3786\"], [0.5555555555555556, \"#d8576b\"], [0.6666666666666666, \"#ed7953\"], [0.7777777777777778, \"#fb9f3a\"], [0.8888888888888888, \"#fdca26\"], [1.0, \"#f0f921\"]], \"type\": \"contour\"}], \"contourcarpet\": [{\"colorbar\": {\"outlinewidth\": 0, \"ticks\": \"\"}, \"type\": \"contourcarpet\"}], \"heatmap\": [{\"colorbar\": {\"outlinewidth\": 0, \"ticks\": \"\"}, \"colorscale\": [[0.0, \"#0d0887\"], [0.1111111111111111, \"#46039f\"], [0.2222222222222222, \"#7201a8\"], [0.3333333333333333, \"#9c179e\"], [0.4444444444444444, \"#bd3786\"], [0.5555555555555556, \"#d8576b\"], [0.6666666666666666, \"#ed7953\"], [0.7777777777777778, \"#fb9f3a\"], [0.8888888888888888, \"#fdca26\"], [1.0, \"#f0f921\"]], \"type\": \"heatmap\"}], \"heatmapgl\": [{\"colorbar\": {\"outlinewidth\": 0, \"ticks\": \"\"}, \"colorscale\": [[0.0, \"#0d0887\"], [0.1111111111111111, \"#46039f\"], [0.2222222222222222, \"#7201a8\"], [0.3333333333333333, \"#9c179e\"], [0.4444444444444444, \"#bd3786\"], [0.5555555555555556, \"#d8576b\"], [0.6666666666666666, \"#ed7953\"], [0.7777777777777778, \"#fb9f3a\"], [0.8888888888888888, \"#fdca26\"], [1.0, \"#f0f921\"]], \"type\": \"heatmapgl\"}], \"histogram\": [{\"marker\": {\"colorbar\": {\"outlinewidth\": 0, \"ticks\": \"\"}}, \"type\": \"histogram\"}], \"histogram2d\": [{\"colorbar\": {\"outlinewidth\": 0, \"ticks\": \"\"}, \"colorscale\": [[0.0, \"#0d0887\"], [0.1111111111111111, \"#46039f\"], [0.2222222222222222, \"#7201a8\"], [0.3333333333333333, \"#9c179e\"], [0.4444444444444444, \"#bd3786\"], [0.5555555555555556, \"#d8576b\"], [0.6666666666666666, \"#ed7953\"], [0.7777777777777778, \"#fb9f3a\"], [0.8888888888888888, \"#fdca26\"], [1.0, \"#f0f921\"]], \"type\": \"histogram2d\"}], \"histogram2dcontour\": [{\"colorbar\": {\"outlinewidth\": 0, \"ticks\": \"\"}, \"colorscale\": [[0.0, \"#0d0887\"], [0.1111111111111111, \"#46039f\"], [0.2222222222222222, \"#7201a8\"], [0.3333333333333333, \"#9c179e\"], [0.4444444444444444, \"#bd3786\"], [0.5555555555555556, \"#d8576b\"], [0.6666666666666666, \"#ed7953\"], [0.7777777777777778, \"#fb9f3a\"], [0.8888888888888888, \"#fdca26\"], [1.0, \"#f0f921\"]], \"type\": \"histogram2dcontour\"}], \"mesh3d\": [{\"colorbar\": {\"outlinewidth\": 0, \"ticks\": \"\"}, \"type\": \"mesh3d\"}], \"parcoords\": [{\"line\": {\"colorbar\": {\"outlinewidth\": 0, \"ticks\": \"\"}}, \"type\": \"parcoords\"}], \"pie\": [{\"automargin\": true, \"type\": \"pie\"}], \"scatter\": [{\"marker\": {\"colorbar\": {\"outlinewidth\": 0, \"ticks\": \"\"}}, \"type\": \"scatter\"}], \"scatter3d\": [{\"line\": {\"colorbar\": {\"outlinewidth\": 0, \"ticks\": \"\"}}, \"marker\": {\"colorbar\": {\"outlinewidth\": 0, \"ticks\": \"\"}}, \"type\": \"scatter3d\"}], \"scattercarpet\": [{\"marker\": {\"colorbar\": {\"outlinewidth\": 0, \"ticks\": \"\"}}, \"type\": \"scattercarpet\"}], \"scattergeo\": [{\"marker\": {\"colorbar\": {\"outlinewidth\": 0, \"ticks\": \"\"}}, \"type\": \"scattergeo\"}], \"scattergl\": [{\"marker\": {\"colorbar\": {\"outlinewidth\": 0, \"ticks\": \"\"}}, \"type\": \"scattergl\"}], \"scattermapbox\": [{\"marker\": {\"colorbar\": {\"outlinewidth\": 0, \"ticks\": \"\"}}, \"type\": \"scattermapbox\"}], \"scatterpolar\": [{\"marker\": {\"colorbar\": {\"outlinewidth\": 0, \"ticks\": \"\"}}, \"type\": \"scatterpolar\"}], \"scatterpolargl\": [{\"marker\": {\"colorbar\": {\"outlinewidth\": 0, \"ticks\": \"\"}}, \"type\": \"scatterpolargl\"}], \"scatterternary\": [{\"marker\": {\"colorbar\": {\"outlinewidth\": 0, \"ticks\": \"\"}}, \"type\": \"scatterternary\"}], \"surface\": [{\"colorbar\": {\"outlinewidth\": 0, \"ticks\": \"\"}, \"colorscale\": [[0.0, \"#0d0887\"], [0.1111111111111111, \"#46039f\"], [0.2222222222222222, \"#7201a8\"], [0.3333333333333333, \"#9c179e\"], [0.4444444444444444, \"#bd3786\"], [0.5555555555555556, \"#d8576b\"], [0.6666666666666666, \"#ed7953\"], [0.7777777777777778, \"#fb9f3a\"], [0.8888888888888888, \"#fdca26\"], [1.0, \"#f0f921\"]], \"type\": \"surface\"}], \"table\": [{\"cells\": {\"fill\": {\"color\": \"#EBF0F8\"}, \"line\": {\"color\": \"white\"}}, \"header\": {\"fill\": {\"color\": \"#C8D4E3\"}, \"line\": {\"color\": \"white\"}}, \"type\": \"table\"}]}, \"layout\": {\"annotationdefaults\": {\"arrowcolor\": \"#2a3f5f\", \"arrowhead\": 0, \"arrowwidth\": 1}, \"autotypenumbers\": \"strict\", \"coloraxis\": {\"colorbar\": {\"outlinewidth\": 0, \"ticks\": \"\"}}, \"colorscale\": {\"diverging\": [[0, \"#8e0152\"], [0.1, \"#c51b7d\"], [0.2, \"#de77ae\"], [0.3, \"#f1b6da\"], [0.4, \"#fde0ef\"], [0.5, \"#f7f7f7\"], [0.6, \"#e6f5d0\"], [0.7, \"#b8e186\"], [0.8, \"#7fbc41\"], [0.9, \"#4d9221\"], [1, \"#276419\"]], \"sequential\": [[0.0, \"#0d0887\"], [0.1111111111111111, \"#46039f\"], [0.2222222222222222, \"#7201a8\"], [0.3333333333333333, \"#9c179e\"], [0.4444444444444444, \"#bd3786\"], [0.5555555555555556, \"#d8576b\"], [0.6666666666666666, \"#ed7953\"], [0.7777777777777778, \"#fb9f3a\"], [0.8888888888888888, \"#fdca26\"], [1.0, \"#f0f921\"]], \"sequentialminus\": [[0.0, \"#0d0887\"], [0.1111111111111111, \"#46039f\"], [0.2222222222222222, \"#7201a8\"], [0.3333333333333333, \"#9c179e\"], [0.4444444444444444, \"#bd3786\"], [0.5555555555555556, \"#d8576b\"], [0.6666666666666666, \"#ed7953\"], [0.7777777777777778, \"#fb9f3a\"], [0.8888888888888888, \"#fdca26\"], [1.0, \"#f0f921\"]]}, \"colorway\": [\"#636efa\", \"#EF553B\", \"#00cc96\", \"#ab63fa\", \"#FFA15A\", \"#19d3f3\", \"#FF6692\", \"#B6E880\", \"#FF97FF\", \"#FECB52\"], \"font\": {\"color\": \"#2a3f5f\"}, \"geo\": {\"bgcolor\": \"white\", \"lakecolor\": \"white\", \"landcolor\": \"#E5ECF6\", \"showlakes\": true, \"showland\": true, \"subunitcolor\": \"white\"}, \"hoverlabel\": {\"align\": \"left\"}, \"hovermode\": \"closest\", \"mapbox\": {\"style\": \"light\"}, \"paper_bgcolor\": \"white\", \"plot_bgcolor\": \"#E5ECF6\", \"polar\": {\"angularaxis\": {\"gridcolor\": \"white\", \"linecolor\": \"white\", \"ticks\": \"\"}, \"bgcolor\": \"#E5ECF6\", \"radialaxis\": {\"gridcolor\": \"white\", \"linecolor\": \"white\", \"ticks\": \"\"}}, \"scene\": {\"xaxis\": {\"backgroundcolor\": \"#E5ECF6\", \"gridcolor\": \"white\", \"gridwidth\": 2, \"linecolor\": \"white\", \"showbackground\": true, \"ticks\": \"\", \"zerolinecolor\": \"white\"}, \"yaxis\": {\"backgroundcolor\": \"#E5ECF6\", \"gridcolor\": \"white\", \"gridwidth\": 2, \"linecolor\": \"white\", \"showbackground\": true, \"ticks\": \"\", \"zerolinecolor\": \"white\"}, \"zaxis\": {\"backgroundcolor\": \"#E5ECF6\", \"gridcolor\": \"white\", \"gridwidth\": 2, \"linecolor\": \"white\", \"showbackground\": true, \"ticks\": \"\", \"zerolinecolor\": \"white\"}}, \"shapedefaults\": {\"line\": {\"color\": \"#2a3f5f\"}}, \"ternary\": {\"aaxis\": {\"gridcolor\": \"white\", \"linecolor\": \"white\", \"ticks\": \"\"}, \"baxis\": {\"gridcolor\": \"white\", \"linecolor\": \"white\", \"ticks\": \"\"}, \"bgcolor\": \"#E5ECF6\", \"caxis\": {\"gridcolor\": \"white\", \"linecolor\": \"white\", \"ticks\": \"\"}}, \"title\": {\"x\": 0.05}, \"xaxis\": {\"automargin\": true, \"gridcolor\": \"white\", \"linecolor\": \"white\", \"ticks\": \"\", \"title\": {\"standoff\": 15}, \"zerolinecolor\": \"white\", \"zerolinewidth\": 2}, \"yaxis\": {\"automargin\": true, \"gridcolor\": \"white\", \"linecolor\": \"white\", \"ticks\": \"\", \"title\": {\"standoff\": 15}, \"zerolinecolor\": \"white\", \"zerolinewidth\": 2}}}, \"title\": {\"font\": {\"color\": \"#4D5663\"}}, \"xaxis\": {\"gridcolor\": \"#E1E5ED\", \"showgrid\": true, \"tickfont\": {\"color\": \"#4D5663\"}, \"title\": {\"font\": {\"color\": \"#4D5663\"}, \"text\": \"\"}, \"zerolinecolor\": \"#E1E5ED\"}, \"yaxis\": {\"gridcolor\": \"#E1E5ED\", \"showgrid\": true, \"tickfont\": {\"color\": \"#4D5663\"}, \"title\": {\"font\": {\"color\": \"#4D5663\"}, \"text\": \"\"}, \"zerolinecolor\": \"#E1E5ED\"}},                        {\"showLink\": true, \"linkText\": \"Export to plot.ly\", \"plotlyServerURL\": \"https://plot.ly\", \"responsive\": true}                    ).then(function(){\n                            \nvar gd = document.getElementById('63c22353-2a96-461b-b7df-f4cba08d0c57');\nvar x = new MutationObserver(function (mutations, observer) {{\n        var display = window.getComputedStyle(gd).display;\n        if (!display || display === 'none') {{\n            console.log([gd, 'removed!']);\n            Plotly.purge(gd);\n            observer.disconnect();\n        }}\n}});\n\n// Listen for the removal of the full notebook cells\nvar notebookContainer = gd.closest('#notebook-container');\nif (notebookContainer) {{\n    x.observe(notebookContainer, {childList: true});\n}}\n\n// Listen for the clearing of the current output cell\nvar outputEl = gd.closest('.output');\nif (outputEl) {{\n    x.observe(outputEl, {childList: true});\n}}\n\n                        })                };                });            </script>        </div>"
     },
     "metadata": {}
    }
   ],
   "source": [
    "df2.iplot(kind='bar',x='Category',y='Values')"
   ]
  },
  {
   "cell_type": "code",
   "execution_count": 12,
   "metadata": {
    "collapsed": false
   },
   "outputs": [
    {
     "output_type": "display_data",
     "data": {
      "application/vnd.plotly.v1+json": {
       "config": {
        "linkText": "Export to plot.ly",
        "plotlyServerURL": "https://plot.ly",
        "showLink": true
       },
       "data": [
        {
         "marker": {
          "color": "rgba(255, 153, 51, 0.6)",
          "line": {
           "color": "rgba(255, 153, 51, 1.0)",
           "width": 1
          }
         },
         "name": "None",
         "orientation": "v",
         "text": "",
         "type": "bar",
         "x": [
          "A",
          "B",
          "C",
          "D"
         ],
         "y": [
          100,
          100,
          100,
          100
         ]
        }
       ],
       "layout": {
        "legend": {
         "bgcolor": "#F5F6F9",
         "font": {
          "color": "#4D5663"
         }
        },
        "paper_bgcolor": "#F5F6F9",
        "plot_bgcolor": "#F5F6F9",
        "template": {
         "data": {
          "bar": [
           {
            "error_x": {
             "color": "#2a3f5f"
            },
            "error_y": {
             "color": "#2a3f5f"
            },
            "marker": {
             "line": {
              "color": "#E5ECF6",
              "width": 0.5
             }
            },
            "type": "bar"
           }
          ],
          "barpolar": [
           {
            "marker": {
             "line": {
              "color": "#E5ECF6",
              "width": 0.5
             }
            },
            "type": "barpolar"
           }
          ],
          "carpet": [
           {
            "aaxis": {
             "endlinecolor": "#2a3f5f",
             "gridcolor": "white",
             "linecolor": "white",
             "minorgridcolor": "white",
             "startlinecolor": "#2a3f5f"
            },
            "baxis": {
             "endlinecolor": "#2a3f5f",
             "gridcolor": "white",
             "linecolor": "white",
             "minorgridcolor": "white",
             "startlinecolor": "#2a3f5f"
            },
            "type": "carpet"
           }
          ],
          "choropleth": [
           {
            "colorbar": {
             "outlinewidth": 0,
             "ticks": ""
            },
            "type": "choropleth"
           }
          ],
          "contour": [
           {
            "colorbar": {
             "outlinewidth": 0,
             "ticks": ""
            },
            "colorscale": [
             [
              0,
              "#0d0887"
             ],
             [
              0.1111111111111111,
              "#46039f"
             ],
             [
              0.2222222222222222,
              "#7201a8"
             ],
             [
              0.3333333333333333,
              "#9c179e"
             ],
             [
              0.4444444444444444,
              "#bd3786"
             ],
             [
              0.5555555555555556,
              "#d8576b"
             ],
             [
              0.6666666666666666,
              "#ed7953"
             ],
             [
              0.7777777777777778,
              "#fb9f3a"
             ],
             [
              0.8888888888888888,
              "#fdca26"
             ],
             [
              1,
              "#f0f921"
             ]
            ],
            "type": "contour"
           }
          ],
          "contourcarpet": [
           {
            "colorbar": {
             "outlinewidth": 0,
             "ticks": ""
            },
            "type": "contourcarpet"
           }
          ],
          "heatmap": [
           {
            "colorbar": {
             "outlinewidth": 0,
             "ticks": ""
            },
            "colorscale": [
             [
              0,
              "#0d0887"
             ],
             [
              0.1111111111111111,
              "#46039f"
             ],
             [
              0.2222222222222222,
              "#7201a8"
             ],
             [
              0.3333333333333333,
              "#9c179e"
             ],
             [
              0.4444444444444444,
              "#bd3786"
             ],
             [
              0.5555555555555556,
              "#d8576b"
             ],
             [
              0.6666666666666666,
              "#ed7953"
             ],
             [
              0.7777777777777778,
              "#fb9f3a"
             ],
             [
              0.8888888888888888,
              "#fdca26"
             ],
             [
              1,
              "#f0f921"
             ]
            ],
            "type": "heatmap"
           }
          ],
          "heatmapgl": [
           {
            "colorbar": {
             "outlinewidth": 0,
             "ticks": ""
            },
            "colorscale": [
             [
              0,
              "#0d0887"
             ],
             [
              0.1111111111111111,
              "#46039f"
             ],
             [
              0.2222222222222222,
              "#7201a8"
             ],
             [
              0.3333333333333333,
              "#9c179e"
             ],
             [
              0.4444444444444444,
              "#bd3786"
             ],
             [
              0.5555555555555556,
              "#d8576b"
             ],
             [
              0.6666666666666666,
              "#ed7953"
             ],
             [
              0.7777777777777778,
              "#fb9f3a"
             ],
             [
              0.8888888888888888,
              "#fdca26"
             ],
             [
              1,
              "#f0f921"
             ]
            ],
            "type": "heatmapgl"
           }
          ],
          "histogram": [
           {
            "marker": {
             "colorbar": {
              "outlinewidth": 0,
              "ticks": ""
             }
            },
            "type": "histogram"
           }
          ],
          "histogram2d": [
           {
            "colorbar": {
             "outlinewidth": 0,
             "ticks": ""
            },
            "colorscale": [
             [
              0,
              "#0d0887"
             ],
             [
              0.1111111111111111,
              "#46039f"
             ],
             [
              0.2222222222222222,
              "#7201a8"
             ],
             [
              0.3333333333333333,
              "#9c179e"
             ],
             [
              0.4444444444444444,
              "#bd3786"
             ],
             [
              0.5555555555555556,
              "#d8576b"
             ],
             [
              0.6666666666666666,
              "#ed7953"
             ],
             [
              0.7777777777777778,
              "#fb9f3a"
             ],
             [
              0.8888888888888888,
              "#fdca26"
             ],
             [
              1,
              "#f0f921"
             ]
            ],
            "type": "histogram2d"
           }
          ],
          "histogram2dcontour": [
           {
            "colorbar": {
             "outlinewidth": 0,
             "ticks": ""
            },
            "colorscale": [
             [
              0,
              "#0d0887"
             ],
             [
              0.1111111111111111,
              "#46039f"
             ],
             [
              0.2222222222222222,
              "#7201a8"
             ],
             [
              0.3333333333333333,
              "#9c179e"
             ],
             [
              0.4444444444444444,
              "#bd3786"
             ],
             [
              0.5555555555555556,
              "#d8576b"
             ],
             [
              0.6666666666666666,
              "#ed7953"
             ],
             [
              0.7777777777777778,
              "#fb9f3a"
             ],
             [
              0.8888888888888888,
              "#fdca26"
             ],
             [
              1,
              "#f0f921"
             ]
            ],
            "type": "histogram2dcontour"
           }
          ],
          "mesh3d": [
           {
            "colorbar": {
             "outlinewidth": 0,
             "ticks": ""
            },
            "type": "mesh3d"
           }
          ],
          "parcoords": [
           {
            "line": {
             "colorbar": {
              "outlinewidth": 0,
              "ticks": ""
             }
            },
            "type": "parcoords"
           }
          ],
          "pie": [
           {
            "automargin": true,
            "type": "pie"
           }
          ],
          "scatter": [
           {
            "marker": {
             "colorbar": {
              "outlinewidth": 0,
              "ticks": ""
             }
            },
            "type": "scatter"
           }
          ],
          "scatter3d": [
           {
            "line": {
             "colorbar": {
              "outlinewidth": 0,
              "ticks": ""
             }
            },
            "marker": {
             "colorbar": {
              "outlinewidth": 0,
              "ticks": ""
             }
            },
            "type": "scatter3d"
           }
          ],
          "scattercarpet": [
           {
            "marker": {
             "colorbar": {
              "outlinewidth": 0,
              "ticks": ""
             }
            },
            "type": "scattercarpet"
           }
          ],
          "scattergeo": [
           {
            "marker": {
             "colorbar": {
              "outlinewidth": 0,
              "ticks": ""
             }
            },
            "type": "scattergeo"
           }
          ],
          "scattergl": [
           {
            "marker": {
             "colorbar": {
              "outlinewidth": 0,
              "ticks": ""
             }
            },
            "type": "scattergl"
           }
          ],
          "scattermapbox": [
           {
            "marker": {
             "colorbar": {
              "outlinewidth": 0,
              "ticks": ""
             }
            },
            "type": "scattermapbox"
           }
          ],
          "scatterpolar": [
           {
            "marker": {
             "colorbar": {
              "outlinewidth": 0,
              "ticks": ""
             }
            },
            "type": "scatterpolar"
           }
          ],
          "scatterpolargl": [
           {
            "marker": {
             "colorbar": {
              "outlinewidth": 0,
              "ticks": ""
             }
            },
            "type": "scatterpolargl"
           }
          ],
          "scatterternary": [
           {
            "marker": {
             "colorbar": {
              "outlinewidth": 0,
              "ticks": ""
             }
            },
            "type": "scatterternary"
           }
          ],
          "surface": [
           {
            "colorbar": {
             "outlinewidth": 0,
             "ticks": ""
            },
            "colorscale": [
             [
              0,
              "#0d0887"
             ],
             [
              0.1111111111111111,
              "#46039f"
             ],
             [
              0.2222222222222222,
              "#7201a8"
             ],
             [
              0.3333333333333333,
              "#9c179e"
             ],
             [
              0.4444444444444444,
              "#bd3786"
             ],
             [
              0.5555555555555556,
              "#d8576b"
             ],
             [
              0.6666666666666666,
              "#ed7953"
             ],
             [
              0.7777777777777778,
              "#fb9f3a"
             ],
             [
              0.8888888888888888,
              "#fdca26"
             ],
             [
              1,
              "#f0f921"
             ]
            ],
            "type": "surface"
           }
          ],
          "table": [
           {
            "cells": {
             "fill": {
              "color": "#EBF0F8"
             },
             "line": {
              "color": "white"
             }
            },
            "header": {
             "fill": {
              "color": "#C8D4E3"
             },
             "line": {
              "color": "white"
             }
            },
            "type": "table"
           }
          ]
         },
         "layout": {
          "annotationdefaults": {
           "arrowcolor": "#2a3f5f",
           "arrowhead": 0,
           "arrowwidth": 1
          },
          "autotypenumbers": "strict",
          "coloraxis": {
           "colorbar": {
            "outlinewidth": 0,
            "ticks": ""
           }
          },
          "colorscale": {
           "diverging": [
            [
             0,
             "#8e0152"
            ],
            [
             0.1,
             "#c51b7d"
            ],
            [
             0.2,
             "#de77ae"
            ],
            [
             0.3,
             "#f1b6da"
            ],
            [
             0.4,
             "#fde0ef"
            ],
            [
             0.5,
             "#f7f7f7"
            ],
            [
             0.6,
             "#e6f5d0"
            ],
            [
             0.7,
             "#b8e186"
            ],
            [
             0.8,
             "#7fbc41"
            ],
            [
             0.9,
             "#4d9221"
            ],
            [
             1,
             "#276419"
            ]
           ],
           "sequential": [
            [
             0,
             "#0d0887"
            ],
            [
             0.1111111111111111,
             "#46039f"
            ],
            [
             0.2222222222222222,
             "#7201a8"
            ],
            [
             0.3333333333333333,
             "#9c179e"
            ],
            [
             0.4444444444444444,
             "#bd3786"
            ],
            [
             0.5555555555555556,
             "#d8576b"
            ],
            [
             0.6666666666666666,
             "#ed7953"
            ],
            [
             0.7777777777777778,
             "#fb9f3a"
            ],
            [
             0.8888888888888888,
             "#fdca26"
            ],
            [
             1,
             "#f0f921"
            ]
           ],
           "sequentialminus": [
            [
             0,
             "#0d0887"
            ],
            [
             0.1111111111111111,
             "#46039f"
            ],
            [
             0.2222222222222222,
             "#7201a8"
            ],
            [
             0.3333333333333333,
             "#9c179e"
            ],
            [
             0.4444444444444444,
             "#bd3786"
            ],
            [
             0.5555555555555556,
             "#d8576b"
            ],
            [
             0.6666666666666666,
             "#ed7953"
            ],
            [
             0.7777777777777778,
             "#fb9f3a"
            ],
            [
             0.8888888888888888,
             "#fdca26"
            ],
            [
             1,
             "#f0f921"
            ]
           ]
          },
          "colorway": [
           "#636efa",
           "#EF553B",
           "#00cc96",
           "#ab63fa",
           "#FFA15A",
           "#19d3f3",
           "#FF6692",
           "#B6E880",
           "#FF97FF",
           "#FECB52"
          ],
          "font": {
           "color": "#2a3f5f"
          },
          "geo": {
           "bgcolor": "white",
           "lakecolor": "white",
           "landcolor": "#E5ECF6",
           "showlakes": true,
           "showland": true,
           "subunitcolor": "white"
          },
          "hoverlabel": {
           "align": "left"
          },
          "hovermode": "closest",
          "mapbox": {
           "style": "light"
          },
          "paper_bgcolor": "white",
          "plot_bgcolor": "#E5ECF6",
          "polar": {
           "angularaxis": {
            "gridcolor": "white",
            "linecolor": "white",
            "ticks": ""
           },
           "bgcolor": "#E5ECF6",
           "radialaxis": {
            "gridcolor": "white",
            "linecolor": "white",
            "ticks": ""
           }
          },
          "scene": {
           "xaxis": {
            "backgroundcolor": "#E5ECF6",
            "gridcolor": "white",
            "gridwidth": 2,
            "linecolor": "white",
            "showbackground": true,
            "ticks": "",
            "zerolinecolor": "white"
           },
           "yaxis": {
            "backgroundcolor": "#E5ECF6",
            "gridcolor": "white",
            "gridwidth": 2,
            "linecolor": "white",
            "showbackground": true,
            "ticks": "",
            "zerolinecolor": "white"
           },
           "zaxis": {
            "backgroundcolor": "#E5ECF6",
            "gridcolor": "white",
            "gridwidth": 2,
            "linecolor": "white",
            "showbackground": true,
            "ticks": "",
            "zerolinecolor": "white"
           }
          },
          "shapedefaults": {
           "line": {
            "color": "#2a3f5f"
           }
          },
          "ternary": {
           "aaxis": {
            "gridcolor": "white",
            "linecolor": "white",
            "ticks": ""
           },
           "baxis": {
            "gridcolor": "white",
            "linecolor": "white",
            "ticks": ""
           },
           "bgcolor": "#E5ECF6",
           "caxis": {
            "gridcolor": "white",
            "linecolor": "white",
            "ticks": ""
           }
          },
          "title": {
           "x": 0.05
          },
          "xaxis": {
           "automargin": true,
           "gridcolor": "white",
           "linecolor": "white",
           "ticks": "",
           "title": {
            "standoff": 15
           },
           "zerolinecolor": "white",
           "zerolinewidth": 2
          },
          "yaxis": {
           "automargin": true,
           "gridcolor": "white",
           "linecolor": "white",
           "ticks": "",
           "title": {
            "standoff": 15
           },
           "zerolinecolor": "white",
           "zerolinewidth": 2
          }
         }
        },
        "title": {
         "font": {
          "color": "#4D5663"
         }
        },
        "xaxis": {
         "gridcolor": "#E1E5ED",
         "showgrid": true,
         "tickfont": {
          "color": "#4D5663"
         },
         "title": {
          "font": {
           "color": "#4D5663"
          },
          "text": ""
         },
         "zerolinecolor": "#E1E5ED"
        },
        "yaxis": {
         "gridcolor": "#E1E5ED",
         "showgrid": true,
         "tickfont": {
          "color": "#4D5663"
         },
         "title": {
          "font": {
           "color": "#4D5663"
          },
          "text": ""
         },
         "zerolinecolor": "#E1E5ED"
        }
       }
      },
      "text/html": "<div>                            <div id=\"16cf9195-7e2b-4c36-960b-7e3e36b627ce\" class=\"plotly-graph-div\" style=\"height:525px; width:100%;\"></div>            <script type=\"text/javascript\">                require([\"plotly\"], function(Plotly) {                    window.PLOTLYENV=window.PLOTLYENV || {};\n                    window.PLOTLYENV.BASE_URL='https://plot.ly';                                    if (document.getElementById(\"16cf9195-7e2b-4c36-960b-7e3e36b627ce\")) {                    Plotly.newPlot(                        \"16cf9195-7e2b-4c36-960b-7e3e36b627ce\",                        [{\"marker\": {\"color\": \"rgba(255, 153, 51, 0.6)\", \"line\": {\"color\": \"rgba(255, 153, 51, 1.0)\", \"width\": 1}}, \"name\": \"None\", \"orientation\": \"v\", \"text\": \"\", \"type\": \"bar\", \"x\": [\"A\", \"B\", \"C\", \"D\"], \"y\": [100, 100, 100, 100]}],                        {\"legend\": {\"bgcolor\": \"#F5F6F9\", \"font\": {\"color\": \"#4D5663\"}}, \"paper_bgcolor\": \"#F5F6F9\", \"plot_bgcolor\": \"#F5F6F9\", \"template\": {\"data\": {\"bar\": [{\"error_x\": {\"color\": \"#2a3f5f\"}, \"error_y\": {\"color\": \"#2a3f5f\"}, \"marker\": {\"line\": {\"color\": \"#E5ECF6\", \"width\": 0.5}}, \"type\": \"bar\"}], \"barpolar\": [{\"marker\": {\"line\": {\"color\": \"#E5ECF6\", \"width\": 0.5}}, \"type\": \"barpolar\"}], \"carpet\": [{\"aaxis\": {\"endlinecolor\": \"#2a3f5f\", \"gridcolor\": \"white\", \"linecolor\": \"white\", \"minorgridcolor\": \"white\", \"startlinecolor\": \"#2a3f5f\"}, \"baxis\": {\"endlinecolor\": \"#2a3f5f\", \"gridcolor\": \"white\", \"linecolor\": \"white\", \"minorgridcolor\": \"white\", \"startlinecolor\": \"#2a3f5f\"}, \"type\": \"carpet\"}], \"choropleth\": [{\"colorbar\": {\"outlinewidth\": 0, \"ticks\": \"\"}, \"type\": \"choropleth\"}], \"contour\": [{\"colorbar\": {\"outlinewidth\": 0, \"ticks\": \"\"}, \"colorscale\": [[0.0, \"#0d0887\"], [0.1111111111111111, \"#46039f\"], [0.2222222222222222, \"#7201a8\"], [0.3333333333333333, \"#9c179e\"], [0.4444444444444444, \"#bd3786\"], [0.5555555555555556, \"#d8576b\"], [0.6666666666666666, \"#ed7953\"], [0.7777777777777778, \"#fb9f3a\"], [0.8888888888888888, \"#fdca26\"], [1.0, \"#f0f921\"]], \"type\": \"contour\"}], \"contourcarpet\": [{\"colorbar\": {\"outlinewidth\": 0, \"ticks\": \"\"}, \"type\": \"contourcarpet\"}], \"heatmap\": [{\"colorbar\": {\"outlinewidth\": 0, \"ticks\": \"\"}, \"colorscale\": [[0.0, \"#0d0887\"], [0.1111111111111111, \"#46039f\"], [0.2222222222222222, \"#7201a8\"], [0.3333333333333333, \"#9c179e\"], [0.4444444444444444, \"#bd3786\"], [0.5555555555555556, \"#d8576b\"], [0.6666666666666666, \"#ed7953\"], [0.7777777777777778, \"#fb9f3a\"], [0.8888888888888888, \"#fdca26\"], [1.0, \"#f0f921\"]], \"type\": \"heatmap\"}], \"heatmapgl\": [{\"colorbar\": {\"outlinewidth\": 0, \"ticks\": \"\"}, \"colorscale\": [[0.0, \"#0d0887\"], [0.1111111111111111, \"#46039f\"], [0.2222222222222222, \"#7201a8\"], [0.3333333333333333, \"#9c179e\"], [0.4444444444444444, \"#bd3786\"], [0.5555555555555556, \"#d8576b\"], [0.6666666666666666, \"#ed7953\"], [0.7777777777777778, \"#fb9f3a\"], [0.8888888888888888, \"#fdca26\"], [1.0, \"#f0f921\"]], \"type\": \"heatmapgl\"}], \"histogram\": [{\"marker\": {\"colorbar\": {\"outlinewidth\": 0, \"ticks\": \"\"}}, \"type\": \"histogram\"}], \"histogram2d\": [{\"colorbar\": {\"outlinewidth\": 0, \"ticks\": \"\"}, \"colorscale\": [[0.0, \"#0d0887\"], [0.1111111111111111, \"#46039f\"], [0.2222222222222222, \"#7201a8\"], [0.3333333333333333, \"#9c179e\"], [0.4444444444444444, \"#bd3786\"], [0.5555555555555556, \"#d8576b\"], [0.6666666666666666, \"#ed7953\"], [0.7777777777777778, \"#fb9f3a\"], [0.8888888888888888, \"#fdca26\"], [1.0, \"#f0f921\"]], \"type\": \"histogram2d\"}], \"histogram2dcontour\": [{\"colorbar\": {\"outlinewidth\": 0, \"ticks\": \"\"}, \"colorscale\": [[0.0, \"#0d0887\"], [0.1111111111111111, \"#46039f\"], [0.2222222222222222, \"#7201a8\"], [0.3333333333333333, \"#9c179e\"], [0.4444444444444444, \"#bd3786\"], [0.5555555555555556, \"#d8576b\"], [0.6666666666666666, \"#ed7953\"], [0.7777777777777778, \"#fb9f3a\"], [0.8888888888888888, \"#fdca26\"], [1.0, \"#f0f921\"]], \"type\": \"histogram2dcontour\"}], \"mesh3d\": [{\"colorbar\": {\"outlinewidth\": 0, \"ticks\": \"\"}, \"type\": \"mesh3d\"}], \"parcoords\": [{\"line\": {\"colorbar\": {\"outlinewidth\": 0, \"ticks\": \"\"}}, \"type\": \"parcoords\"}], \"pie\": [{\"automargin\": true, \"type\": \"pie\"}], \"scatter\": [{\"marker\": {\"colorbar\": {\"outlinewidth\": 0, \"ticks\": \"\"}}, \"type\": \"scatter\"}], \"scatter3d\": [{\"line\": {\"colorbar\": {\"outlinewidth\": 0, \"ticks\": \"\"}}, \"marker\": {\"colorbar\": {\"outlinewidth\": 0, \"ticks\": \"\"}}, \"type\": \"scatter3d\"}], \"scattercarpet\": [{\"marker\": {\"colorbar\": {\"outlinewidth\": 0, \"ticks\": \"\"}}, \"type\": \"scattercarpet\"}], \"scattergeo\": [{\"marker\": {\"colorbar\": {\"outlinewidth\": 0, \"ticks\": \"\"}}, \"type\": \"scattergeo\"}], \"scattergl\": [{\"marker\": {\"colorbar\": {\"outlinewidth\": 0, \"ticks\": \"\"}}, \"type\": \"scattergl\"}], \"scattermapbox\": [{\"marker\": {\"colorbar\": {\"outlinewidth\": 0, \"ticks\": \"\"}}, \"type\": \"scattermapbox\"}], \"scatterpolar\": [{\"marker\": {\"colorbar\": {\"outlinewidth\": 0, \"ticks\": \"\"}}, \"type\": \"scatterpolar\"}], \"scatterpolargl\": [{\"marker\": {\"colorbar\": {\"outlinewidth\": 0, \"ticks\": \"\"}}, \"type\": \"scatterpolargl\"}], \"scatterternary\": [{\"marker\": {\"colorbar\": {\"outlinewidth\": 0, \"ticks\": \"\"}}, \"type\": \"scatterternary\"}], \"surface\": [{\"colorbar\": {\"outlinewidth\": 0, \"ticks\": \"\"}, \"colorscale\": [[0.0, \"#0d0887\"], [0.1111111111111111, \"#46039f\"], [0.2222222222222222, \"#7201a8\"], [0.3333333333333333, \"#9c179e\"], [0.4444444444444444, \"#bd3786\"], [0.5555555555555556, \"#d8576b\"], [0.6666666666666666, \"#ed7953\"], [0.7777777777777778, \"#fb9f3a\"], [0.8888888888888888, \"#fdca26\"], [1.0, \"#f0f921\"]], \"type\": \"surface\"}], \"table\": [{\"cells\": {\"fill\": {\"color\": \"#EBF0F8\"}, \"line\": {\"color\": \"white\"}}, \"header\": {\"fill\": {\"color\": \"#C8D4E3\"}, \"line\": {\"color\": \"white\"}}, \"type\": \"table\"}]}, \"layout\": {\"annotationdefaults\": {\"arrowcolor\": \"#2a3f5f\", \"arrowhead\": 0, \"arrowwidth\": 1}, \"autotypenumbers\": \"strict\", \"coloraxis\": {\"colorbar\": {\"outlinewidth\": 0, \"ticks\": \"\"}}, \"colorscale\": {\"diverging\": [[0, \"#8e0152\"], [0.1, \"#c51b7d\"], [0.2, \"#de77ae\"], [0.3, \"#f1b6da\"], [0.4, \"#fde0ef\"], [0.5, \"#f7f7f7\"], [0.6, \"#e6f5d0\"], [0.7, \"#b8e186\"], [0.8, \"#7fbc41\"], [0.9, \"#4d9221\"], [1, \"#276419\"]], \"sequential\": [[0.0, \"#0d0887\"], [0.1111111111111111, \"#46039f\"], [0.2222222222222222, \"#7201a8\"], [0.3333333333333333, \"#9c179e\"], [0.4444444444444444, \"#bd3786\"], [0.5555555555555556, \"#d8576b\"], [0.6666666666666666, \"#ed7953\"], [0.7777777777777778, \"#fb9f3a\"], [0.8888888888888888, \"#fdca26\"], [1.0, \"#f0f921\"]], \"sequentialminus\": [[0.0, \"#0d0887\"], [0.1111111111111111, \"#46039f\"], [0.2222222222222222, \"#7201a8\"], [0.3333333333333333, \"#9c179e\"], [0.4444444444444444, \"#bd3786\"], [0.5555555555555556, \"#d8576b\"], [0.6666666666666666, \"#ed7953\"], [0.7777777777777778, \"#fb9f3a\"], [0.8888888888888888, \"#fdca26\"], [1.0, \"#f0f921\"]]}, \"colorway\": [\"#636efa\", \"#EF553B\", \"#00cc96\", \"#ab63fa\", \"#FFA15A\", \"#19d3f3\", \"#FF6692\", \"#B6E880\", \"#FF97FF\", \"#FECB52\"], \"font\": {\"color\": \"#2a3f5f\"}, \"geo\": {\"bgcolor\": \"white\", \"lakecolor\": \"white\", \"landcolor\": \"#E5ECF6\", \"showlakes\": true, \"showland\": true, \"subunitcolor\": \"white\"}, \"hoverlabel\": {\"align\": \"left\"}, \"hovermode\": \"closest\", \"mapbox\": {\"style\": \"light\"}, \"paper_bgcolor\": \"white\", \"plot_bgcolor\": \"#E5ECF6\", \"polar\": {\"angularaxis\": {\"gridcolor\": \"white\", \"linecolor\": \"white\", \"ticks\": \"\"}, \"bgcolor\": \"#E5ECF6\", \"radialaxis\": {\"gridcolor\": \"white\", \"linecolor\": \"white\", \"ticks\": \"\"}}, \"scene\": {\"xaxis\": {\"backgroundcolor\": \"#E5ECF6\", \"gridcolor\": \"white\", \"gridwidth\": 2, \"linecolor\": \"white\", \"showbackground\": true, \"ticks\": \"\", \"zerolinecolor\": \"white\"}, \"yaxis\": {\"backgroundcolor\": \"#E5ECF6\", \"gridcolor\": \"white\", \"gridwidth\": 2, \"linecolor\": \"white\", \"showbackground\": true, \"ticks\": \"\", \"zerolinecolor\": \"white\"}, \"zaxis\": {\"backgroundcolor\": \"#E5ECF6\", \"gridcolor\": \"white\", \"gridwidth\": 2, \"linecolor\": \"white\", \"showbackground\": true, \"ticks\": \"\", \"zerolinecolor\": \"white\"}}, \"shapedefaults\": {\"line\": {\"color\": \"#2a3f5f\"}}, \"ternary\": {\"aaxis\": {\"gridcolor\": \"white\", \"linecolor\": \"white\", \"ticks\": \"\"}, \"baxis\": {\"gridcolor\": \"white\", \"linecolor\": \"white\", \"ticks\": \"\"}, \"bgcolor\": \"#E5ECF6\", \"caxis\": {\"gridcolor\": \"white\", \"linecolor\": \"white\", \"ticks\": \"\"}}, \"title\": {\"x\": 0.05}, \"xaxis\": {\"automargin\": true, \"gridcolor\": \"white\", \"linecolor\": \"white\", \"ticks\": \"\", \"title\": {\"standoff\": 15}, \"zerolinecolor\": \"white\", \"zerolinewidth\": 2}, \"yaxis\": {\"automargin\": true, \"gridcolor\": \"white\", \"linecolor\": \"white\", \"ticks\": \"\", \"title\": {\"standoff\": 15}, \"zerolinecolor\": \"white\", \"zerolinewidth\": 2}}}, \"title\": {\"font\": {\"color\": \"#4D5663\"}}, \"xaxis\": {\"gridcolor\": \"#E1E5ED\", \"showgrid\": true, \"tickfont\": {\"color\": \"#4D5663\"}, \"title\": {\"font\": {\"color\": \"#4D5663\"}, \"text\": \"\"}, \"zerolinecolor\": \"#E1E5ED\"}, \"yaxis\": {\"gridcolor\": \"#E1E5ED\", \"showgrid\": true, \"tickfont\": {\"color\": \"#4D5663\"}, \"title\": {\"font\": {\"color\": \"#4D5663\"}, \"text\": \"\"}, \"zerolinecolor\": \"#E1E5ED\"}},                        {\"showLink\": true, \"linkText\": \"Export to plot.ly\", \"plotlyServerURL\": \"https://plot.ly\", \"responsive\": true}                    ).then(function(){\n                            \nvar gd = document.getElementById('16cf9195-7e2b-4c36-960b-7e3e36b627ce');\nvar x = new MutationObserver(function (mutations, observer) {{\n        var display = window.getComputedStyle(gd).display;\n        if (!display || display === 'none') {{\n            console.log([gd, 'removed!']);\n            Plotly.purge(gd);\n            observer.disconnect();\n        }}\n}});\n\n// Listen for the removal of the full notebook cells\nvar notebookContainer = gd.closest('#notebook-container');\nif (notebookContainer) {{\n    x.observe(notebookContainer, {childList: true});\n}}\n\n// Listen for the clearing of the current output cell\nvar outputEl = gd.closest('.output');\nif (outputEl) {{\n    x.observe(outputEl, {childList: true});\n}}\n\n                        })                };                });            </script>        </div>"
     },
     "metadata": {}
    }
   ],
   "source": [
    "df.count().iplot(kind='bar')"
   ]
  },
  {
   "cell_type": "markdown",
   "metadata": {},
   "source": [
    "## Boxplots"
   ]
  },
  {
   "cell_type": "code",
   "execution_count": 13,
   "metadata": {
    "collapsed": false
   },
   "outputs": [
    {
     "output_type": "display_data",
     "data": {
      "application/vnd.plotly.v1+json": {
       "config": {
        "linkText": "Export to plot.ly",
        "plotlyServerURL": "https://plot.ly",
        "showLink": true
       },
       "data": [
        {
         "boxpoints": false,
         "line": {
          "width": 1.3
         },
         "marker": {
          "color": "rgba(255, 153, 51, 1.0)"
         },
         "name": "A",
         "orientation": "v",
         "type": "box",
         "y": [
          0.3419584291255313,
          2.361780384778356,
          0.9119528973909766,
          0.7843148177858439,
          0.19788293810360227,
          0.14792586818241837,
          -0.9642251958129214,
          -0.9982883475458826,
          -1.1325513846419084,
          -0.34775573601765764,
          0.05614453083062882,
          -1.8350439315471765,
          0.5511018764251773,
          0.17988137422617523,
          -1.065227814836348,
          0.3586145152614117,
          2.411605482613125,
          0.3560938040312589,
          0.36786610050285107,
          -2.6002826096447857,
          -0.7981799468689968,
          -0.9645031821395916,
          0.023965620965615043,
          -0.7365368491710338,
          -0.004858042010386315,
          -1.3623500370271893,
          -0.4525814500361433,
          0.7058262779117401,
          0.3440578447346543,
          -0.6854853356129478,
          -1.175912357533231,
          -0.06250042438078895,
          0.3714797107838847,
          1.3432775395609564,
          0.7180364148121844,
          2.7251283264314794,
          -1.7927981428516335,
          0.30526270927024285,
          0.07066587428438767,
          0.9829832457917175,
          0.2481333939762536,
          1.2611119707431302,
          0.39120023817415484,
          1.4126639401837995,
          -0.2543019620938231,
          -1.0808580728245565,
          0.21293978874229247,
          -1.817542673207612,
          0.5705140433534914,
          0.07031969294279024,
          -1.7310193046540587,
          -0.009968310223363802,
          -1.0487616328861715,
          0.23392266236390605,
          -1.1403254897435495,
          -0.009551520847821338,
          0.0587528290155611,
          0.27327642074331,
          0.5952762262270923,
          0.34922564728692723,
          0.3506158007930843,
          -0.7194723669016722,
          -0.969386453754765,
          0.07607441829377784,
          0.8224531813525415,
          -0.4267717900771313,
          -0.40179473694537243,
          0.8730785586025657,
          0.8772569764458129,
          1.7525966859134534,
          -0.38937715784865456,
          -0.07128387192799915,
          0.4374266412162082,
          1.0066948777907512,
          -0.8108547122537352,
          -0.12424666495990376,
          0.2694509128538412,
          -0.5798316475284768,
          0.3201902642191978,
          -1.1253119761184023,
          0.8853008752799159,
          0.9710304851537905,
          -0.054131980511390745,
          -0.17879880928332045,
          0.5731252894387706,
          2.1638795628246785,
          1.3828172329633255,
          2.1851828911286226,
          0.5855947229103255,
          -1.314182568919194,
          -0.7986574709761567,
          -0.6434624893139342,
          -0.9091145307420864,
          -0.8156862985068415,
          -0.8784194413581975,
          0.28373706115674197,
          -0.6956611445601208,
          1.4316076867251473,
          0.8162399203140172,
          -0.7460467107715341
         ]
        },
        {
         "boxpoints": false,
         "line": {
          "width": 1.3
         },
         "marker": {
          "color": "rgba(55, 128, 191, 1.0)"
         },
         "name": "B",
         "orientation": "v",
         "type": "box",
         "y": [
          -1.2469675844086194,
          2.9891513099497544,
          0.1017309838125147,
          0.02548119832841038,
          1.9193919674365298,
          -0.20182906842565754,
          0.34360603457165223,
          -0.2249471960281491,
          -0.9850353052474844,
          -0.4559661499288387,
          -0.3878301319310226,
          1.1082652594076037,
          0.8744392746857205,
          1.0093918400229367,
          -0.5394935232766637,
          -0.803745333849395,
          -0.6518641752351033,
          -0.43622292742754704,
          1.433979164394179,
          -0.20860370790793073,
          0.15344776935200735,
          -0.24292160640219418,
          1.1989580674290223,
          -1.1443449709961133,
          -0.09993272796215072,
          0.10083254924068984,
          -0.35213515431348485,
          -1.2061255943422544,
          1.0970022135175945,
          -0.6800842183802278,
          -0.07119109631676689,
          0.26860378089458553,
          -1.3759056290183418,
          0.2669198011313815,
          0.4534602278898926,
          0.01047672724603757,
          -1.2522099425982471,
          -0.10554046833546744,
          1.548445310306408,
          -0.06588810735895306,
          0.6760987700300749,
          -0.0420202255577279,
          1.8378273002595218,
          -0.6078283434805584,
          1.5282024981691928,
          -0.2754917649929963,
          -0.5399326467480746,
          0.6224826249171681,
          0.47795041715071557,
          0.6278077101583388,
          -1.3409423856968694,
          -0.7706624003108283,
          0.015473729679894384,
          0.26319508876425185,
          1.0028321641640017,
          -0.807548524223669,
          0.9869502776032817,
          -1.28221797054689,
          -1.1449359698029302,
          -0.6395403941539245,
          2.4047917183665826,
          0.27108517431821616,
          -1.2451142203486658,
          -0.9178682146002846,
          -0.14570048592133691,
          -0.6272356706833567,
          -0.8514150741598167,
          1.3091254912388204,
          0.05193399027756955,
          -0.002553724868215908,
          -1.1324415602896714,
          1.438180944671712,
          0.6043815252099933,
          0.3150816994390484,
          -0.09226594346437388,
          -1.6197115478527,
          -1.075865500583438,
          0.7486483332115086,
          0.19586000178350335,
          -0.12224064694673781,
          -0.5599448183549804,
          0.3622861605064426,
          -1.4558631826967452,
          1.7992281941455563,
          -0.5220566801522477,
          -0.9653810326273534,
          -0.7122912093233262,
          2.2326519358646375,
          -0.2406418434421078,
          0.804193973114719,
          1.0070051946632714,
          0.5420153009884275,
          -0.7734745290640057,
          -0.48601676911296376,
          1.6060186504018106,
          -0.5062587167544614,
          -0.09464116750951326,
          -1.3098800820079146,
          1.0224650955995838,
          1.0548935522161016
         ]
        },
        {
         "boxpoints": false,
         "line": {
          "width": 1.3
         },
         "marker": {
          "color": "rgba(50, 171, 96, 1.0)"
         },
         "name": "C",
         "orientation": "v",
         "type": "box",
         "y": [
          -0.8089288141229286,
          1.465625495185079,
          -1.6871488539427726,
          -0.16911132657974587,
          -0.3897976290030342,
          -0.8863405228175659,
          0.9933038955886511,
          -1.398853576678524,
          -0.0157329850118625,
          0.23536393631978372,
          -0.7531687946176233,
          0.3894346234619737,
          0.5094110804845734,
          1.2632159547476658,
          0.2271132454212522,
          -0.8953206806668295,
          -1.2068772383786814,
          2.1190160225500247,
          -0.03549621773010565,
          -0.952683310719695,
          0.08553780338648229,
          0.3953373493668272,
          -2.2670940447542396,
          0.04253291466940502,
          0.5119931380963819,
          -0.5259428136451291,
          0.3082554492326414,
          -1.6069737932921186,
          0.20636859567286595,
          1.5548193258373544,
          -0.9567089594079814,
          0.6728533111210662,
          -0.9997399942218823,
          -0.09836268084447383,
          1.7038591416615787,
          0.9611717084785155,
          -0.4951431652825938,
          -1.063680158143539,
          -0.9948721946688438,
          -0.017621018172893865,
          0.5174491565658988,
          -0.5023341354767339,
          -0.02414621402911911,
          0.12426822120337526,
          -0.3115496270231586,
          -1.7841290940276027,
          -0.13733470666161338,
          -0.02318853537118824,
          -0.1333064003505278,
          -0.9623536542119135,
          -2.8041763341735346,
          -0.5119872819721337,
          0.30013520666559257,
          1.6910139484110014,
          0.2456693011005962,
          0.22633368250740665,
          1.1793248059506944,
          -0.8301434267279466,
          0.2425819941879717,
          0.4883295416244339,
          -0.3389813899614871,
          0.8955468968992681,
          -0.384502634438256,
          -1.7040628213892801,
          -0.10814430946056518,
          0.794890079038299,
          0.028363038057607048,
          -1.5585199034833328,
          -0.8994240345396853,
          0.3154103928417971,
          -0.8386742063083595,
          0.5817731990193705,
          -0.6111994888444816,
          -1.3378652433103626,
          1.5123413860138917,
          1.2472323942584211,
          -0.8272328276494867,
          -2.2526709403200087,
          0.31489696733571637,
          1.0936677244595716,
          -1.4145990863380116,
          0.3804596019823487,
          -0.00537908434606341,
          0.3001120751126071,
          -0.022196432508811422,
          -0.817676741412886,
          1.142454128263068,
          0.4099378611088832,
          1.4467648063116247,
          -0.9086416758100836,
          -0.1235427476832825,
          -0.6491710343064113,
          0.1956716750126732,
          1.2130925114886821,
          -0.9775054147348364,
          -2.136610016537593,
          -1.146151232781277,
          -1.1754693482576994,
          0.2615274703338761,
          0.8530757510388908
         ]
        },
        {
         "boxpoints": false,
         "line": {
          "width": 1.3
         },
         "marker": {
          "color": "rgba(128, 0, 128, 1.0)"
         },
         "name": "D",
         "orientation": "v",
         "type": "box",
         "y": [
          -0.45816628383099955,
          -0.11883466025434251,
          -0.4094015829946311,
          -1.2914835561549904,
          0.9612754990723938,
          0.6013143215561251,
          0.8564923935017692,
          -1.5060242820790841,
          -0.9329120696189221,
          0.5063840010781364,
          0.19673850995509426,
          0.6968008590816267,
          -0.2682153528159321,
          -1.1966321881543034,
          -1.914986796762749,
          -1.5012721808636513,
          0.24797725105555277,
          0.8956152441841162,
          1.3563540894257557,
          0.8866127678583284,
          0.5446759778705538,
          -0.06239291541902479,
          1.9280441190196405,
          0.6166345796571179,
          -1.1676956065830673,
          2.1245751222705205,
          -1.2979540310128002,
          -1.30507718123677,
          -0.08188772766930365,
          -0.275984330830567,
          0.055651433310535715,
          0.3315132615174775,
          -0.6073458170743979,
          -0.45460058967665207,
          0.74131982341312,
          1.0672504125579774,
          0.7501262159060722,
          1.1200458081068019,
          -0.9053260445508353,
          -1.5043868218719552,
          1.6867649379872203,
          0.01968016348648188,
          1.0633539743711993,
          -0.653158196183623,
          -0.3777676154145722,
          1.2792921150219716,
          -0.8853086974144317,
          -0.014708258081066811,
          -0.8120917239685443,
          1.036743975431949,
          -1.396935034960128,
          -0.20948651650971176,
          -0.6781034470926233,
          0.35063491088267884,
          -0.231463425208386,
          0.2493170422893123,
          0.6467210677592791,
          -0.5019229277631404,
          1.2428177651306924,
          -1.7728723348714754,
          0.7413236797040839,
          1.3372389018303743,
          0.19819940830218838,
          0.43856707932029015,
          -0.2539172064642826,
          -0.11232087017211007,
          -0.1708233860370722,
          0.23028026703935586,
          -0.24100973880514245,
          0.7220692601567872,
          -1.1294243054334292,
          -0.3764175995907608,
          0.5139801776844591,
          0.9361789461093236,
          0.9014679938618109,
          -1.5550062592884444,
          0.3165226975801555,
          1.1964668573000992,
          -0.8015063727727901,
          1.0927057005616585,
          1.38631879990504,
          0.7310956778995843,
          -1.0576901462878046,
          -0.059923002252414634,
          -0.10875592293217297,
          -0.21129293570494387,
          -0.39967581594824675,
          -0.010035887195605423,
          0.5237332158414504,
          -0.643840440184256,
          0.19727126151322869,
          -2.33014797811234,
          0.37603575047736865,
          0.17974822302615057,
          -0.6015247299934993,
          -0.36552514462323477,
          -1.1966862830172331,
          0.39478812868742486,
          0.9220918500329655,
          0.37342520314964806
         ]
        }
       ],
       "layout": {
        "legend": {
         "bgcolor": "#F5F6F9",
         "font": {
          "color": "#4D5663"
         }
        },
        "paper_bgcolor": "#F5F6F9",
        "plot_bgcolor": "#F5F6F9",
        "template": {
         "data": {
          "bar": [
           {
            "error_x": {
             "color": "#2a3f5f"
            },
            "error_y": {
             "color": "#2a3f5f"
            },
            "marker": {
             "line": {
              "color": "#E5ECF6",
              "width": 0.5
             }
            },
            "type": "bar"
           }
          ],
          "barpolar": [
           {
            "marker": {
             "line": {
              "color": "#E5ECF6",
              "width": 0.5
             }
            },
            "type": "barpolar"
           }
          ],
          "carpet": [
           {
            "aaxis": {
             "endlinecolor": "#2a3f5f",
             "gridcolor": "white",
             "linecolor": "white",
             "minorgridcolor": "white",
             "startlinecolor": "#2a3f5f"
            },
            "baxis": {
             "endlinecolor": "#2a3f5f",
             "gridcolor": "white",
             "linecolor": "white",
             "minorgridcolor": "white",
             "startlinecolor": "#2a3f5f"
            },
            "type": "carpet"
           }
          ],
          "choropleth": [
           {
            "colorbar": {
             "outlinewidth": 0,
             "ticks": ""
            },
            "type": "choropleth"
           }
          ],
          "contour": [
           {
            "colorbar": {
             "outlinewidth": 0,
             "ticks": ""
            },
            "colorscale": [
             [
              0,
              "#0d0887"
             ],
             [
              0.1111111111111111,
              "#46039f"
             ],
             [
              0.2222222222222222,
              "#7201a8"
             ],
             [
              0.3333333333333333,
              "#9c179e"
             ],
             [
              0.4444444444444444,
              "#bd3786"
             ],
             [
              0.5555555555555556,
              "#d8576b"
             ],
             [
              0.6666666666666666,
              "#ed7953"
             ],
             [
              0.7777777777777778,
              "#fb9f3a"
             ],
             [
              0.8888888888888888,
              "#fdca26"
             ],
             [
              1,
              "#f0f921"
             ]
            ],
            "type": "contour"
           }
          ],
          "contourcarpet": [
           {
            "colorbar": {
             "outlinewidth": 0,
             "ticks": ""
            },
            "type": "contourcarpet"
           }
          ],
          "heatmap": [
           {
            "colorbar": {
             "outlinewidth": 0,
             "ticks": ""
            },
            "colorscale": [
             [
              0,
              "#0d0887"
             ],
             [
              0.1111111111111111,
              "#46039f"
             ],
             [
              0.2222222222222222,
              "#7201a8"
             ],
             [
              0.3333333333333333,
              "#9c179e"
             ],
             [
              0.4444444444444444,
              "#bd3786"
             ],
             [
              0.5555555555555556,
              "#d8576b"
             ],
             [
              0.6666666666666666,
              "#ed7953"
             ],
             [
              0.7777777777777778,
              "#fb9f3a"
             ],
             [
              0.8888888888888888,
              "#fdca26"
             ],
             [
              1,
              "#f0f921"
             ]
            ],
            "type": "heatmap"
           }
          ],
          "heatmapgl": [
           {
            "colorbar": {
             "outlinewidth": 0,
             "ticks": ""
            },
            "colorscale": [
             [
              0,
              "#0d0887"
             ],
             [
              0.1111111111111111,
              "#46039f"
             ],
             [
              0.2222222222222222,
              "#7201a8"
             ],
             [
              0.3333333333333333,
              "#9c179e"
             ],
             [
              0.4444444444444444,
              "#bd3786"
             ],
             [
              0.5555555555555556,
              "#d8576b"
             ],
             [
              0.6666666666666666,
              "#ed7953"
             ],
             [
              0.7777777777777778,
              "#fb9f3a"
             ],
             [
              0.8888888888888888,
              "#fdca26"
             ],
             [
              1,
              "#f0f921"
             ]
            ],
            "type": "heatmapgl"
           }
          ],
          "histogram": [
           {
            "marker": {
             "colorbar": {
              "outlinewidth": 0,
              "ticks": ""
             }
            },
            "type": "histogram"
           }
          ],
          "histogram2d": [
           {
            "colorbar": {
             "outlinewidth": 0,
             "ticks": ""
            },
            "colorscale": [
             [
              0,
              "#0d0887"
             ],
             [
              0.1111111111111111,
              "#46039f"
             ],
             [
              0.2222222222222222,
              "#7201a8"
             ],
             [
              0.3333333333333333,
              "#9c179e"
             ],
             [
              0.4444444444444444,
              "#bd3786"
             ],
             [
              0.5555555555555556,
              "#d8576b"
             ],
             [
              0.6666666666666666,
              "#ed7953"
             ],
             [
              0.7777777777777778,
              "#fb9f3a"
             ],
             [
              0.8888888888888888,
              "#fdca26"
             ],
             [
              1,
              "#f0f921"
             ]
            ],
            "type": "histogram2d"
           }
          ],
          "histogram2dcontour": [
           {
            "colorbar": {
             "outlinewidth": 0,
             "ticks": ""
            },
            "colorscale": [
             [
              0,
              "#0d0887"
             ],
             [
              0.1111111111111111,
              "#46039f"
             ],
             [
              0.2222222222222222,
              "#7201a8"
             ],
             [
              0.3333333333333333,
              "#9c179e"
             ],
             [
              0.4444444444444444,
              "#bd3786"
             ],
             [
              0.5555555555555556,
              "#d8576b"
             ],
             [
              0.6666666666666666,
              "#ed7953"
             ],
             [
              0.7777777777777778,
              "#fb9f3a"
             ],
             [
              0.8888888888888888,
              "#fdca26"
             ],
             [
              1,
              "#f0f921"
             ]
            ],
            "type": "histogram2dcontour"
           }
          ],
          "mesh3d": [
           {
            "colorbar": {
             "outlinewidth": 0,
             "ticks": ""
            },
            "type": "mesh3d"
           }
          ],
          "parcoords": [
           {
            "line": {
             "colorbar": {
              "outlinewidth": 0,
              "ticks": ""
             }
            },
            "type": "parcoords"
           }
          ],
          "pie": [
           {
            "automargin": true,
            "type": "pie"
           }
          ],
          "scatter": [
           {
            "marker": {
             "colorbar": {
              "outlinewidth": 0,
              "ticks": ""
             }
            },
            "type": "scatter"
           }
          ],
          "scatter3d": [
           {
            "line": {
             "colorbar": {
              "outlinewidth": 0,
              "ticks": ""
             }
            },
            "marker": {
             "colorbar": {
              "outlinewidth": 0,
              "ticks": ""
             }
            },
            "type": "scatter3d"
           }
          ],
          "scattercarpet": [
           {
            "marker": {
             "colorbar": {
              "outlinewidth": 0,
              "ticks": ""
             }
            },
            "type": "scattercarpet"
           }
          ],
          "scattergeo": [
           {
            "marker": {
             "colorbar": {
              "outlinewidth": 0,
              "ticks": ""
             }
            },
            "type": "scattergeo"
           }
          ],
          "scattergl": [
           {
            "marker": {
             "colorbar": {
              "outlinewidth": 0,
              "ticks": ""
             }
            },
            "type": "scattergl"
           }
          ],
          "scattermapbox": [
           {
            "marker": {
             "colorbar": {
              "outlinewidth": 0,
              "ticks": ""
             }
            },
            "type": "scattermapbox"
           }
          ],
          "scatterpolar": [
           {
            "marker": {
             "colorbar": {
              "outlinewidth": 0,
              "ticks": ""
             }
            },
            "type": "scatterpolar"
           }
          ],
          "scatterpolargl": [
           {
            "marker": {
             "colorbar": {
              "outlinewidth": 0,
              "ticks": ""
             }
            },
            "type": "scatterpolargl"
           }
          ],
          "scatterternary": [
           {
            "marker": {
             "colorbar": {
              "outlinewidth": 0,
              "ticks": ""
             }
            },
            "type": "scatterternary"
           }
          ],
          "surface": [
           {
            "colorbar": {
             "outlinewidth": 0,
             "ticks": ""
            },
            "colorscale": [
             [
              0,
              "#0d0887"
             ],
             [
              0.1111111111111111,
              "#46039f"
             ],
             [
              0.2222222222222222,
              "#7201a8"
             ],
             [
              0.3333333333333333,
              "#9c179e"
             ],
             [
              0.4444444444444444,
              "#bd3786"
             ],
             [
              0.5555555555555556,
              "#d8576b"
             ],
             [
              0.6666666666666666,
              "#ed7953"
             ],
             [
              0.7777777777777778,
              "#fb9f3a"
             ],
             [
              0.8888888888888888,
              "#fdca26"
             ],
             [
              1,
              "#f0f921"
             ]
            ],
            "type": "surface"
           }
          ],
          "table": [
           {
            "cells": {
             "fill": {
              "color": "#EBF0F8"
             },
             "line": {
              "color": "white"
             }
            },
            "header": {
             "fill": {
              "color": "#C8D4E3"
             },
             "line": {
              "color": "white"
             }
            },
            "type": "table"
           }
          ]
         },
         "layout": {
          "annotationdefaults": {
           "arrowcolor": "#2a3f5f",
           "arrowhead": 0,
           "arrowwidth": 1
          },
          "autotypenumbers": "strict",
          "coloraxis": {
           "colorbar": {
            "outlinewidth": 0,
            "ticks": ""
           }
          },
          "colorscale": {
           "diverging": [
            [
             0,
             "#8e0152"
            ],
            [
             0.1,
             "#c51b7d"
            ],
            [
             0.2,
             "#de77ae"
            ],
            [
             0.3,
             "#f1b6da"
            ],
            [
             0.4,
             "#fde0ef"
            ],
            [
             0.5,
             "#f7f7f7"
            ],
            [
             0.6,
             "#e6f5d0"
            ],
            [
             0.7,
             "#b8e186"
            ],
            [
             0.8,
             "#7fbc41"
            ],
            [
             0.9,
             "#4d9221"
            ],
            [
             1,
             "#276419"
            ]
           ],
           "sequential": [
            [
             0,
             "#0d0887"
            ],
            [
             0.1111111111111111,
             "#46039f"
            ],
            [
             0.2222222222222222,
             "#7201a8"
            ],
            [
             0.3333333333333333,
             "#9c179e"
            ],
            [
             0.4444444444444444,
             "#bd3786"
            ],
            [
             0.5555555555555556,
             "#d8576b"
            ],
            [
             0.6666666666666666,
             "#ed7953"
            ],
            [
             0.7777777777777778,
             "#fb9f3a"
            ],
            [
             0.8888888888888888,
             "#fdca26"
            ],
            [
             1,
             "#f0f921"
            ]
           ],
           "sequentialminus": [
            [
             0,
             "#0d0887"
            ],
            [
             0.1111111111111111,
             "#46039f"
            ],
            [
             0.2222222222222222,
             "#7201a8"
            ],
            [
             0.3333333333333333,
             "#9c179e"
            ],
            [
             0.4444444444444444,
             "#bd3786"
            ],
            [
             0.5555555555555556,
             "#d8576b"
            ],
            [
             0.6666666666666666,
             "#ed7953"
            ],
            [
             0.7777777777777778,
             "#fb9f3a"
            ],
            [
             0.8888888888888888,
             "#fdca26"
            ],
            [
             1,
             "#f0f921"
            ]
           ]
          },
          "colorway": [
           "#636efa",
           "#EF553B",
           "#00cc96",
           "#ab63fa",
           "#FFA15A",
           "#19d3f3",
           "#FF6692",
           "#B6E880",
           "#FF97FF",
           "#FECB52"
          ],
          "font": {
           "color": "#2a3f5f"
          },
          "geo": {
           "bgcolor": "white",
           "lakecolor": "white",
           "landcolor": "#E5ECF6",
           "showlakes": true,
           "showland": true,
           "subunitcolor": "white"
          },
          "hoverlabel": {
           "align": "left"
          },
          "hovermode": "closest",
          "mapbox": {
           "style": "light"
          },
          "paper_bgcolor": "white",
          "plot_bgcolor": "#E5ECF6",
          "polar": {
           "angularaxis": {
            "gridcolor": "white",
            "linecolor": "white",
            "ticks": ""
           },
           "bgcolor": "#E5ECF6",
           "radialaxis": {
            "gridcolor": "white",
            "linecolor": "white",
            "ticks": ""
           }
          },
          "scene": {
           "xaxis": {
            "backgroundcolor": "#E5ECF6",
            "gridcolor": "white",
            "gridwidth": 2,
            "linecolor": "white",
            "showbackground": true,
            "ticks": "",
            "zerolinecolor": "white"
           },
           "yaxis": {
            "backgroundcolor": "#E5ECF6",
            "gridcolor": "white",
            "gridwidth": 2,
            "linecolor": "white",
            "showbackground": true,
            "ticks": "",
            "zerolinecolor": "white"
           },
           "zaxis": {
            "backgroundcolor": "#E5ECF6",
            "gridcolor": "white",
            "gridwidth": 2,
            "linecolor": "white",
            "showbackground": true,
            "ticks": "",
            "zerolinecolor": "white"
           }
          },
          "shapedefaults": {
           "line": {
            "color": "#2a3f5f"
           }
          },
          "ternary": {
           "aaxis": {
            "gridcolor": "white",
            "linecolor": "white",
            "ticks": ""
           },
           "baxis": {
            "gridcolor": "white",
            "linecolor": "white",
            "ticks": ""
           },
           "bgcolor": "#E5ECF6",
           "caxis": {
            "gridcolor": "white",
            "linecolor": "white",
            "ticks": ""
           }
          },
          "title": {
           "x": 0.05
          },
          "xaxis": {
           "automargin": true,
           "gridcolor": "white",
           "linecolor": "white",
           "ticks": "",
           "title": {
            "standoff": 15
           },
           "zerolinecolor": "white",
           "zerolinewidth": 2
          },
          "yaxis": {
           "automargin": true,
           "gridcolor": "white",
           "linecolor": "white",
           "ticks": "",
           "title": {
            "standoff": 15
           },
           "zerolinecolor": "white",
           "zerolinewidth": 2
          }
         }
        },
        "title": {
         "font": {
          "color": "#4D5663"
         }
        },
        "xaxis": {
         "gridcolor": "#E1E5ED",
         "showgrid": true,
         "tickfont": {
          "color": "#4D5663"
         },
         "title": {
          "font": {
           "color": "#4D5663"
          },
          "text": ""
         },
         "zerolinecolor": "#E1E5ED"
        },
        "yaxis": {
         "gridcolor": "#E1E5ED",
         "showgrid": true,
         "tickfont": {
          "color": "#4D5663"
         },
         "title": {
          "font": {
           "color": "#4D5663"
          },
          "text": ""
         },
         "zerolinecolor": "#E1E5ED"
        }
       }
      },
      "text/html": "<div>                            <div id=\"4c6c3139-e358-4b6d-be6a-e3830f189df8\" class=\"plotly-graph-div\" style=\"height:525px; width:100%;\"></div>            <script type=\"text/javascript\">                require([\"plotly\"], function(Plotly) {                    window.PLOTLYENV=window.PLOTLYENV || {};\n                    window.PLOTLYENV.BASE_URL='https://plot.ly';                                    if (document.getElementById(\"4c6c3139-e358-4b6d-be6a-e3830f189df8\")) {                    Plotly.newPlot(                        \"4c6c3139-e358-4b6d-be6a-e3830f189df8\",                        [{\"boxpoints\": false, \"line\": {\"width\": 1.3}, \"marker\": {\"color\": \"rgba(255, 153, 51, 1.0)\"}, \"name\": \"A\", \"orientation\": \"v\", \"type\": \"box\", \"y\": [0.3419584291255313, 2.361780384778356, 0.9119528973909766, 0.7843148177858439, 0.19788293810360227, 0.14792586818241837, -0.9642251958129214, -0.9982883475458826, -1.1325513846419084, -0.34775573601765764, 0.05614453083062882, -1.8350439315471765, 0.5511018764251773, 0.17988137422617523, -1.065227814836348, 0.3586145152614117, 2.411605482613125, 0.3560938040312589, 0.36786610050285107, -2.6002826096447857, -0.7981799468689968, -0.9645031821395916, 0.023965620965615043, -0.7365368491710338, -0.004858042010386315, -1.3623500370271893, -0.4525814500361433, 0.7058262779117401, 0.3440578447346543, -0.6854853356129478, -1.175912357533231, -0.06250042438078895, 0.3714797107838847, 1.3432775395609564, 0.7180364148121844, 2.7251283264314794, -1.7927981428516335, 0.30526270927024285, 0.07066587428438767, 0.9829832457917175, 0.2481333939762536, 1.2611119707431302, 0.39120023817415484, 1.4126639401837995, -0.2543019620938231, -1.0808580728245565, 0.21293978874229247, -1.817542673207612, 0.5705140433534914, 0.07031969294279024, -1.7310193046540587, -0.009968310223363802, -1.0487616328861715, 0.23392266236390605, -1.1403254897435495, -0.009551520847821338, 0.0587528290155611, 0.27327642074331, 0.5952762262270923, 0.34922564728692723, 0.3506158007930843, -0.7194723669016722, -0.969386453754765, 0.07607441829377784, 0.8224531813525415, -0.4267717900771313, -0.40179473694537243, 0.8730785586025657, 0.8772569764458129, 1.7525966859134534, -0.38937715784865456, -0.07128387192799915, 0.4374266412162082, 1.0066948777907512, -0.8108547122537352, -0.12424666495990376, 0.2694509128538412, -0.5798316475284768, 0.3201902642191978, -1.1253119761184023, 0.8853008752799159, 0.9710304851537905, -0.054131980511390745, -0.17879880928332045, 0.5731252894387706, 2.1638795628246785, 1.3828172329633255, 2.1851828911286226, 0.5855947229103255, -1.314182568919194, -0.7986574709761567, -0.6434624893139342, -0.9091145307420864, -0.8156862985068415, -0.8784194413581975, 0.28373706115674197, -0.6956611445601208, 1.4316076867251473, 0.8162399203140172, -0.7460467107715341]}, {\"boxpoints\": false, \"line\": {\"width\": 1.3}, \"marker\": {\"color\": \"rgba(55, 128, 191, 1.0)\"}, \"name\": \"B\", \"orientation\": \"v\", \"type\": \"box\", \"y\": [-1.2469675844086194, 2.9891513099497544, 0.1017309838125147, 0.02548119832841038, 1.9193919674365298, -0.20182906842565754, 0.34360603457165223, -0.2249471960281491, -0.9850353052474844, -0.4559661499288387, -0.3878301319310226, 1.1082652594076037, 0.8744392746857205, 1.0093918400229367, -0.5394935232766637, -0.803745333849395, -0.6518641752351033, -0.43622292742754704, 1.433979164394179, -0.20860370790793073, 0.15344776935200735, -0.24292160640219418, 1.1989580674290223, -1.1443449709961133, -0.09993272796215072, 0.10083254924068984, -0.35213515431348485, -1.2061255943422544, 1.0970022135175945, -0.6800842183802278, -0.07119109631676689, 0.26860378089458553, -1.3759056290183418, 0.2669198011313815, 0.4534602278898926, 0.01047672724603757, -1.2522099425982471, -0.10554046833546744, 1.548445310306408, -0.06588810735895306, 0.6760987700300749, -0.0420202255577279, 1.8378273002595218, -0.6078283434805584, 1.5282024981691928, -0.2754917649929963, -0.5399326467480746, 0.6224826249171681, 0.47795041715071557, 0.6278077101583388, -1.3409423856968694, -0.7706624003108283, 0.015473729679894384, 0.26319508876425185, 1.0028321641640017, -0.807548524223669, 0.9869502776032817, -1.28221797054689, -1.1449359698029302, -0.6395403941539245, 2.4047917183665826, 0.27108517431821616, -1.2451142203486658, -0.9178682146002846, -0.14570048592133691, -0.6272356706833567, -0.8514150741598167, 1.3091254912388204, 0.05193399027756955, -0.002553724868215908, -1.1324415602896714, 1.438180944671712, 0.6043815252099933, 0.3150816994390484, -0.09226594346437388, -1.6197115478527, -1.075865500583438, 0.7486483332115086, 0.19586000178350335, -0.12224064694673781, -0.5599448183549804, 0.3622861605064426, -1.4558631826967452, 1.7992281941455563, -0.5220566801522477, -0.9653810326273534, -0.7122912093233262, 2.2326519358646375, -0.2406418434421078, 0.804193973114719, 1.0070051946632714, 0.5420153009884275, -0.7734745290640057, -0.48601676911296376, 1.6060186504018106, -0.5062587167544614, -0.09464116750951326, -1.3098800820079146, 1.0224650955995838, 1.0548935522161016]}, {\"boxpoints\": false, \"line\": {\"width\": 1.3}, \"marker\": {\"color\": \"rgba(50, 171, 96, 1.0)\"}, \"name\": \"C\", \"orientation\": \"v\", \"type\": \"box\", \"y\": [-0.8089288141229286, 1.465625495185079, -1.6871488539427726, -0.16911132657974587, -0.3897976290030342, -0.8863405228175659, 0.9933038955886511, -1.398853576678524, -0.0157329850118625, 0.23536393631978372, -0.7531687946176233, 0.3894346234619737, 0.5094110804845734, 1.2632159547476658, 0.2271132454212522, -0.8953206806668295, -1.2068772383786814, 2.1190160225500247, -0.03549621773010565, -0.952683310719695, 0.08553780338648229, 0.3953373493668272, -2.2670940447542396, 0.04253291466940502, 0.5119931380963819, -0.5259428136451291, 0.3082554492326414, -1.6069737932921186, 0.20636859567286595, 1.5548193258373544, -0.9567089594079814, 0.6728533111210662, -0.9997399942218823, -0.09836268084447383, 1.7038591416615787, 0.9611717084785155, -0.4951431652825938, -1.063680158143539, -0.9948721946688438, -0.017621018172893865, 0.5174491565658988, -0.5023341354767339, -0.02414621402911911, 0.12426822120337526, -0.3115496270231586, -1.7841290940276027, -0.13733470666161338, -0.02318853537118824, -0.1333064003505278, -0.9623536542119135, -2.8041763341735346, -0.5119872819721337, 0.30013520666559257, 1.6910139484110014, 0.2456693011005962, 0.22633368250740665, 1.1793248059506944, -0.8301434267279466, 0.2425819941879717, 0.4883295416244339, -0.3389813899614871, 0.8955468968992681, -0.384502634438256, -1.7040628213892801, -0.10814430946056518, 0.794890079038299, 0.028363038057607048, -1.5585199034833328, -0.8994240345396853, 0.3154103928417971, -0.8386742063083595, 0.5817731990193705, -0.6111994888444816, -1.3378652433103626, 1.5123413860138917, 1.2472323942584211, -0.8272328276494867, -2.2526709403200087, 0.31489696733571637, 1.0936677244595716, -1.4145990863380116, 0.3804596019823487, -0.00537908434606341, 0.3001120751126071, -0.022196432508811422, -0.817676741412886, 1.142454128263068, 0.4099378611088832, 1.4467648063116247, -0.9086416758100836, -0.1235427476832825, -0.6491710343064113, 0.1956716750126732, 1.2130925114886821, -0.9775054147348364, -2.136610016537593, -1.146151232781277, -1.1754693482576994, 0.2615274703338761, 0.8530757510388908]}, {\"boxpoints\": false, \"line\": {\"width\": 1.3}, \"marker\": {\"color\": \"rgba(128, 0, 128, 1.0)\"}, \"name\": \"D\", \"orientation\": \"v\", \"type\": \"box\", \"y\": [-0.45816628383099955, -0.11883466025434251, -0.4094015829946311, -1.2914835561549904, 0.9612754990723938, 0.6013143215561251, 0.8564923935017692, -1.5060242820790841, -0.9329120696189221, 0.5063840010781364, 0.19673850995509426, 0.6968008590816267, -0.2682153528159321, -1.1966321881543034, -1.914986796762749, -1.5012721808636513, 0.24797725105555277, 0.8956152441841162, 1.3563540894257557, 0.8866127678583284, 0.5446759778705538, -0.06239291541902479, 1.9280441190196405, 0.6166345796571179, -1.1676956065830673, 2.1245751222705205, -1.2979540310128002, -1.30507718123677, -0.08188772766930365, -0.275984330830567, 0.055651433310535715, 0.3315132615174775, -0.6073458170743979, -0.45460058967665207, 0.74131982341312, 1.0672504125579774, 0.7501262159060722, 1.1200458081068019, -0.9053260445508353, -1.5043868218719552, 1.6867649379872203, 0.01968016348648188, 1.0633539743711993, -0.653158196183623, -0.3777676154145722, 1.2792921150219716, -0.8853086974144317, -0.014708258081066811, -0.8120917239685443, 1.036743975431949, -1.396935034960128, -0.20948651650971176, -0.6781034470926233, 0.35063491088267884, -0.231463425208386, 0.2493170422893123, 0.6467210677592791, -0.5019229277631404, 1.2428177651306924, -1.7728723348714754, 0.7413236797040839, 1.3372389018303743, 0.19819940830218838, 0.43856707932029015, -0.2539172064642826, -0.11232087017211007, -0.1708233860370722, 0.23028026703935586, -0.24100973880514245, 0.7220692601567872, -1.1294243054334292, -0.3764175995907608, 0.5139801776844591, 0.9361789461093236, 0.9014679938618109, -1.5550062592884444, 0.3165226975801555, 1.1964668573000992, -0.8015063727727901, 1.0927057005616585, 1.38631879990504, 0.7310956778995843, -1.0576901462878046, -0.059923002252414634, -0.10875592293217297, -0.21129293570494387, -0.39967581594824675, -0.010035887195605423, 0.5237332158414504, -0.643840440184256, 0.19727126151322869, -2.33014797811234, 0.37603575047736865, 0.17974822302615057, -0.6015247299934993, -0.36552514462323477, -1.1966862830172331, 0.39478812868742486, 0.9220918500329655, 0.37342520314964806]}],                        {\"legend\": {\"bgcolor\": \"#F5F6F9\", \"font\": {\"color\": \"#4D5663\"}}, \"paper_bgcolor\": \"#F5F6F9\", \"plot_bgcolor\": \"#F5F6F9\", \"template\": {\"data\": {\"bar\": [{\"error_x\": {\"color\": \"#2a3f5f\"}, \"error_y\": {\"color\": \"#2a3f5f\"}, \"marker\": {\"line\": {\"color\": \"#E5ECF6\", \"width\": 0.5}}, \"type\": \"bar\"}], \"barpolar\": [{\"marker\": {\"line\": {\"color\": \"#E5ECF6\", \"width\": 0.5}}, \"type\": \"barpolar\"}], \"carpet\": [{\"aaxis\": {\"endlinecolor\": \"#2a3f5f\", \"gridcolor\": \"white\", \"linecolor\": \"white\", \"minorgridcolor\": \"white\", \"startlinecolor\": \"#2a3f5f\"}, \"baxis\": {\"endlinecolor\": \"#2a3f5f\", \"gridcolor\": \"white\", \"linecolor\": \"white\", \"minorgridcolor\": \"white\", \"startlinecolor\": \"#2a3f5f\"}, \"type\": \"carpet\"}], \"choropleth\": [{\"colorbar\": {\"outlinewidth\": 0, \"ticks\": \"\"}, \"type\": \"choropleth\"}], \"contour\": [{\"colorbar\": {\"outlinewidth\": 0, \"ticks\": \"\"}, \"colorscale\": [[0.0, \"#0d0887\"], [0.1111111111111111, \"#46039f\"], [0.2222222222222222, \"#7201a8\"], [0.3333333333333333, \"#9c179e\"], [0.4444444444444444, \"#bd3786\"], [0.5555555555555556, \"#d8576b\"], [0.6666666666666666, \"#ed7953\"], [0.7777777777777778, \"#fb9f3a\"], [0.8888888888888888, \"#fdca26\"], [1.0, \"#f0f921\"]], \"type\": \"contour\"}], \"contourcarpet\": [{\"colorbar\": {\"outlinewidth\": 0, \"ticks\": \"\"}, \"type\": \"contourcarpet\"}], \"heatmap\": [{\"colorbar\": {\"outlinewidth\": 0, \"ticks\": \"\"}, \"colorscale\": [[0.0, \"#0d0887\"], [0.1111111111111111, \"#46039f\"], [0.2222222222222222, \"#7201a8\"], [0.3333333333333333, \"#9c179e\"], [0.4444444444444444, \"#bd3786\"], [0.5555555555555556, \"#d8576b\"], [0.6666666666666666, \"#ed7953\"], [0.7777777777777778, \"#fb9f3a\"], [0.8888888888888888, \"#fdca26\"], [1.0, \"#f0f921\"]], \"type\": \"heatmap\"}], \"heatmapgl\": [{\"colorbar\": {\"outlinewidth\": 0, \"ticks\": \"\"}, \"colorscale\": [[0.0, \"#0d0887\"], [0.1111111111111111, \"#46039f\"], [0.2222222222222222, \"#7201a8\"], [0.3333333333333333, \"#9c179e\"], [0.4444444444444444, \"#bd3786\"], [0.5555555555555556, \"#d8576b\"], [0.6666666666666666, \"#ed7953\"], [0.7777777777777778, \"#fb9f3a\"], [0.8888888888888888, \"#fdca26\"], [1.0, \"#f0f921\"]], \"type\": \"heatmapgl\"}], \"histogram\": [{\"marker\": {\"colorbar\": {\"outlinewidth\": 0, \"ticks\": \"\"}}, \"type\": \"histogram\"}], \"histogram2d\": [{\"colorbar\": {\"outlinewidth\": 0, \"ticks\": \"\"}, \"colorscale\": [[0.0, \"#0d0887\"], [0.1111111111111111, \"#46039f\"], [0.2222222222222222, \"#7201a8\"], [0.3333333333333333, \"#9c179e\"], [0.4444444444444444, \"#bd3786\"], [0.5555555555555556, \"#d8576b\"], [0.6666666666666666, \"#ed7953\"], [0.7777777777777778, \"#fb9f3a\"], [0.8888888888888888, \"#fdca26\"], [1.0, \"#f0f921\"]], \"type\": \"histogram2d\"}], \"histogram2dcontour\": [{\"colorbar\": {\"outlinewidth\": 0, \"ticks\": \"\"}, \"colorscale\": [[0.0, \"#0d0887\"], [0.1111111111111111, \"#46039f\"], [0.2222222222222222, \"#7201a8\"], [0.3333333333333333, \"#9c179e\"], [0.4444444444444444, \"#bd3786\"], [0.5555555555555556, \"#d8576b\"], [0.6666666666666666, \"#ed7953\"], [0.7777777777777778, \"#fb9f3a\"], [0.8888888888888888, \"#fdca26\"], [1.0, \"#f0f921\"]], \"type\": \"histogram2dcontour\"}], \"mesh3d\": [{\"colorbar\": {\"outlinewidth\": 0, \"ticks\": \"\"}, \"type\": \"mesh3d\"}], \"parcoords\": [{\"line\": {\"colorbar\": {\"outlinewidth\": 0, \"ticks\": \"\"}}, \"type\": \"parcoords\"}], \"pie\": [{\"automargin\": true, \"type\": \"pie\"}], \"scatter\": [{\"marker\": {\"colorbar\": {\"outlinewidth\": 0, \"ticks\": \"\"}}, \"type\": \"scatter\"}], \"scatter3d\": [{\"line\": {\"colorbar\": {\"outlinewidth\": 0, \"ticks\": \"\"}}, \"marker\": {\"colorbar\": {\"outlinewidth\": 0, \"ticks\": \"\"}}, \"type\": \"scatter3d\"}], \"scattercarpet\": [{\"marker\": {\"colorbar\": {\"outlinewidth\": 0, \"ticks\": \"\"}}, \"type\": \"scattercarpet\"}], \"scattergeo\": [{\"marker\": {\"colorbar\": {\"outlinewidth\": 0, \"ticks\": \"\"}}, \"type\": \"scattergeo\"}], \"scattergl\": [{\"marker\": {\"colorbar\": {\"outlinewidth\": 0, \"ticks\": \"\"}}, \"type\": \"scattergl\"}], \"scattermapbox\": [{\"marker\": {\"colorbar\": {\"outlinewidth\": 0, \"ticks\": \"\"}}, \"type\": \"scattermapbox\"}], \"scatterpolar\": [{\"marker\": {\"colorbar\": {\"outlinewidth\": 0, \"ticks\": \"\"}}, \"type\": \"scatterpolar\"}], \"scatterpolargl\": [{\"marker\": {\"colorbar\": {\"outlinewidth\": 0, \"ticks\": \"\"}}, \"type\": \"scatterpolargl\"}], \"scatterternary\": [{\"marker\": {\"colorbar\": {\"outlinewidth\": 0, \"ticks\": \"\"}}, \"type\": \"scatterternary\"}], \"surface\": [{\"colorbar\": {\"outlinewidth\": 0, \"ticks\": \"\"}, \"colorscale\": [[0.0, \"#0d0887\"], [0.1111111111111111, \"#46039f\"], [0.2222222222222222, \"#7201a8\"], [0.3333333333333333, \"#9c179e\"], [0.4444444444444444, \"#bd3786\"], [0.5555555555555556, \"#d8576b\"], [0.6666666666666666, \"#ed7953\"], [0.7777777777777778, \"#fb9f3a\"], [0.8888888888888888, \"#fdca26\"], [1.0, \"#f0f921\"]], \"type\": \"surface\"}], \"table\": [{\"cells\": {\"fill\": {\"color\": \"#EBF0F8\"}, \"line\": {\"color\": \"white\"}}, \"header\": {\"fill\": {\"color\": \"#C8D4E3\"}, \"line\": {\"color\": \"white\"}}, \"type\": \"table\"}]}, \"layout\": {\"annotationdefaults\": {\"arrowcolor\": \"#2a3f5f\", \"arrowhead\": 0, \"arrowwidth\": 1}, \"autotypenumbers\": \"strict\", \"coloraxis\": {\"colorbar\": {\"outlinewidth\": 0, \"ticks\": \"\"}}, \"colorscale\": {\"diverging\": [[0, \"#8e0152\"], [0.1, \"#c51b7d\"], [0.2, \"#de77ae\"], [0.3, \"#f1b6da\"], [0.4, \"#fde0ef\"], [0.5, \"#f7f7f7\"], [0.6, \"#e6f5d0\"], [0.7, \"#b8e186\"], [0.8, \"#7fbc41\"], [0.9, \"#4d9221\"], [1, \"#276419\"]], \"sequential\": [[0.0, \"#0d0887\"], [0.1111111111111111, \"#46039f\"], [0.2222222222222222, \"#7201a8\"], [0.3333333333333333, \"#9c179e\"], [0.4444444444444444, \"#bd3786\"], [0.5555555555555556, \"#d8576b\"], [0.6666666666666666, \"#ed7953\"], [0.7777777777777778, \"#fb9f3a\"], [0.8888888888888888, \"#fdca26\"], [1.0, \"#f0f921\"]], \"sequentialminus\": [[0.0, \"#0d0887\"], [0.1111111111111111, \"#46039f\"], [0.2222222222222222, \"#7201a8\"], [0.3333333333333333, \"#9c179e\"], [0.4444444444444444, \"#bd3786\"], [0.5555555555555556, \"#d8576b\"], [0.6666666666666666, \"#ed7953\"], [0.7777777777777778, \"#fb9f3a\"], [0.8888888888888888, \"#fdca26\"], [1.0, \"#f0f921\"]]}, \"colorway\": [\"#636efa\", \"#EF553B\", \"#00cc96\", \"#ab63fa\", \"#FFA15A\", \"#19d3f3\", \"#FF6692\", \"#B6E880\", \"#FF97FF\", \"#FECB52\"], \"font\": {\"color\": \"#2a3f5f\"}, \"geo\": {\"bgcolor\": \"white\", \"lakecolor\": \"white\", \"landcolor\": \"#E5ECF6\", \"showlakes\": true, \"showland\": true, \"subunitcolor\": \"white\"}, \"hoverlabel\": {\"align\": \"left\"}, \"hovermode\": \"closest\", \"mapbox\": {\"style\": \"light\"}, \"paper_bgcolor\": \"white\", \"plot_bgcolor\": \"#E5ECF6\", \"polar\": {\"angularaxis\": {\"gridcolor\": \"white\", \"linecolor\": \"white\", \"ticks\": \"\"}, \"bgcolor\": \"#E5ECF6\", \"radialaxis\": {\"gridcolor\": \"white\", \"linecolor\": \"white\", \"ticks\": \"\"}}, \"scene\": {\"xaxis\": {\"backgroundcolor\": \"#E5ECF6\", \"gridcolor\": \"white\", \"gridwidth\": 2, \"linecolor\": \"white\", \"showbackground\": true, \"ticks\": \"\", \"zerolinecolor\": \"white\"}, \"yaxis\": {\"backgroundcolor\": \"#E5ECF6\", \"gridcolor\": \"white\", \"gridwidth\": 2, \"linecolor\": \"white\", \"showbackground\": true, \"ticks\": \"\", \"zerolinecolor\": \"white\"}, \"zaxis\": {\"backgroundcolor\": \"#E5ECF6\", \"gridcolor\": \"white\", \"gridwidth\": 2, \"linecolor\": \"white\", \"showbackground\": true, \"ticks\": \"\", \"zerolinecolor\": \"white\"}}, \"shapedefaults\": {\"line\": {\"color\": \"#2a3f5f\"}}, \"ternary\": {\"aaxis\": {\"gridcolor\": \"white\", \"linecolor\": \"white\", \"ticks\": \"\"}, \"baxis\": {\"gridcolor\": \"white\", \"linecolor\": \"white\", \"ticks\": \"\"}, \"bgcolor\": \"#E5ECF6\", \"caxis\": {\"gridcolor\": \"white\", \"linecolor\": \"white\", \"ticks\": \"\"}}, \"title\": {\"x\": 0.05}, \"xaxis\": {\"automargin\": true, \"gridcolor\": \"white\", \"linecolor\": \"white\", \"ticks\": \"\", \"title\": {\"standoff\": 15}, \"zerolinecolor\": \"white\", \"zerolinewidth\": 2}, \"yaxis\": {\"automargin\": true, \"gridcolor\": \"white\", \"linecolor\": \"white\", \"ticks\": \"\", \"title\": {\"standoff\": 15}, \"zerolinecolor\": \"white\", \"zerolinewidth\": 2}}}, \"title\": {\"font\": {\"color\": \"#4D5663\"}}, \"xaxis\": {\"gridcolor\": \"#E1E5ED\", \"showgrid\": true, \"tickfont\": {\"color\": \"#4D5663\"}, \"title\": {\"font\": {\"color\": \"#4D5663\"}, \"text\": \"\"}, \"zerolinecolor\": \"#E1E5ED\"}, \"yaxis\": {\"gridcolor\": \"#E1E5ED\", \"showgrid\": true, \"tickfont\": {\"color\": \"#4D5663\"}, \"title\": {\"font\": {\"color\": \"#4D5663\"}, \"text\": \"\"}, \"zerolinecolor\": \"#E1E5ED\"}},                        {\"showLink\": true, \"linkText\": \"Export to plot.ly\", \"plotlyServerURL\": \"https://plot.ly\", \"responsive\": true}                    ).then(function(){\n                            \nvar gd = document.getElementById('4c6c3139-e358-4b6d-be6a-e3830f189df8');\nvar x = new MutationObserver(function (mutations, observer) {{\n        var display = window.getComputedStyle(gd).display;\n        if (!display || display === 'none') {{\n            console.log([gd, 'removed!']);\n            Plotly.purge(gd);\n            observer.disconnect();\n        }}\n}});\n\n// Listen for the removal of the full notebook cells\nvar notebookContainer = gd.closest('#notebook-container');\nif (notebookContainer) {{\n    x.observe(notebookContainer, {childList: true});\n}}\n\n// Listen for the clearing of the current output cell\nvar outputEl = gd.closest('.output');\nif (outputEl) {{\n    x.observe(outputEl, {childList: true});\n}}\n\n                        })                };                });            </script>        </div>"
     },
     "metadata": {}
    }
   ],
   "source": [
    "df.iplot(kind='box')"
   ]
  },
  {
   "cell_type": "markdown",
   "metadata": {},
   "source": [
    "## 3d Surface"
   ]
  },
  {
   "cell_type": "code",
   "execution_count": 14,
   "metadata": {
    "collapsed": false
   },
   "outputs": [
    {
     "output_type": "display_data",
     "data": {
      "application/vnd.plotly.v1+json": {
       "config": {
        "linkText": "Export to plot.ly",
        "plotlyServerURL": "https://plot.ly",
        "showLink": true
       },
       "data": [
        {
         "colorscale": [
          [
           0,
           "rgb(165,0,38)"
          ],
          [
           0.1,
           "rgb(215,48,39)"
          ],
          [
           0.2,
           "rgb(244,109,67)"
          ],
          [
           0.3,
           "rgb(253,174,97)"
          ],
          [
           0.4,
           "rgb(254,224,144)"
          ],
          [
           0.5,
           "rgb(255,255,191)"
          ],
          [
           0.6,
           "rgb(224,243,248)"
          ],
          [
           0.7,
           "rgb(171,217,233)"
          ],
          [
           0.8,
           "rgb(116,173,209)"
          ],
          [
           0.9,
           "rgb(69,117,180)"
          ],
          [
           1,
           "rgb(49,54,149)"
          ]
         ],
         "type": "surface",
         "x": [
          0,
          1,
          2,
          3,
          4
         ],
         "y": [
          "x",
          "y",
          "z"
         ],
         "z": [
          [
           1,
           2,
           3,
           4,
           5
          ],
          [
           10,
           20,
           30,
           20,
           10
          ],
          [
           5,
           4,
           3,
           2,
           1
          ]
         ]
        }
       ],
       "layout": {
        "legend": {
         "bgcolor": "#F5F6F9",
         "font": {
          "color": "#4D5663"
         }
        },
        "paper_bgcolor": "#F5F6F9",
        "plot_bgcolor": "#F5F6F9",
        "template": {
         "data": {
          "bar": [
           {
            "error_x": {
             "color": "#2a3f5f"
            },
            "error_y": {
             "color": "#2a3f5f"
            },
            "marker": {
             "line": {
              "color": "#E5ECF6",
              "width": 0.5
             }
            },
            "type": "bar"
           }
          ],
          "barpolar": [
           {
            "marker": {
             "line": {
              "color": "#E5ECF6",
              "width": 0.5
             }
            },
            "type": "barpolar"
           }
          ],
          "carpet": [
           {
            "aaxis": {
             "endlinecolor": "#2a3f5f",
             "gridcolor": "white",
             "linecolor": "white",
             "minorgridcolor": "white",
             "startlinecolor": "#2a3f5f"
            },
            "baxis": {
             "endlinecolor": "#2a3f5f",
             "gridcolor": "white",
             "linecolor": "white",
             "minorgridcolor": "white",
             "startlinecolor": "#2a3f5f"
            },
            "type": "carpet"
           }
          ],
          "choropleth": [
           {
            "colorbar": {
             "outlinewidth": 0,
             "ticks": ""
            },
            "type": "choropleth"
           }
          ],
          "contour": [
           {
            "colorbar": {
             "outlinewidth": 0,
             "ticks": ""
            },
            "colorscale": [
             [
              0,
              "#0d0887"
             ],
             [
              0.1111111111111111,
              "#46039f"
             ],
             [
              0.2222222222222222,
              "#7201a8"
             ],
             [
              0.3333333333333333,
              "#9c179e"
             ],
             [
              0.4444444444444444,
              "#bd3786"
             ],
             [
              0.5555555555555556,
              "#d8576b"
             ],
             [
              0.6666666666666666,
              "#ed7953"
             ],
             [
              0.7777777777777778,
              "#fb9f3a"
             ],
             [
              0.8888888888888888,
              "#fdca26"
             ],
             [
              1,
              "#f0f921"
             ]
            ],
            "type": "contour"
           }
          ],
          "contourcarpet": [
           {
            "colorbar": {
             "outlinewidth": 0,
             "ticks": ""
            },
            "type": "contourcarpet"
           }
          ],
          "heatmap": [
           {
            "colorbar": {
             "outlinewidth": 0,
             "ticks": ""
            },
            "colorscale": [
             [
              0,
              "#0d0887"
             ],
             [
              0.1111111111111111,
              "#46039f"
             ],
             [
              0.2222222222222222,
              "#7201a8"
             ],
             [
              0.3333333333333333,
              "#9c179e"
             ],
             [
              0.4444444444444444,
              "#bd3786"
             ],
             [
              0.5555555555555556,
              "#d8576b"
             ],
             [
              0.6666666666666666,
              "#ed7953"
             ],
             [
              0.7777777777777778,
              "#fb9f3a"
             ],
             [
              0.8888888888888888,
              "#fdca26"
             ],
             [
              1,
              "#f0f921"
             ]
            ],
            "type": "heatmap"
           }
          ],
          "heatmapgl": [
           {
            "colorbar": {
             "outlinewidth": 0,
             "ticks": ""
            },
            "colorscale": [
             [
              0,
              "#0d0887"
             ],
             [
              0.1111111111111111,
              "#46039f"
             ],
             [
              0.2222222222222222,
              "#7201a8"
             ],
             [
              0.3333333333333333,
              "#9c179e"
             ],
             [
              0.4444444444444444,
              "#bd3786"
             ],
             [
              0.5555555555555556,
              "#d8576b"
             ],
             [
              0.6666666666666666,
              "#ed7953"
             ],
             [
              0.7777777777777778,
              "#fb9f3a"
             ],
             [
              0.8888888888888888,
              "#fdca26"
             ],
             [
              1,
              "#f0f921"
             ]
            ],
            "type": "heatmapgl"
           }
          ],
          "histogram": [
           {
            "marker": {
             "colorbar": {
              "outlinewidth": 0,
              "ticks": ""
             }
            },
            "type": "histogram"
           }
          ],
          "histogram2d": [
           {
            "colorbar": {
             "outlinewidth": 0,
             "ticks": ""
            },
            "colorscale": [
             [
              0,
              "#0d0887"
             ],
             [
              0.1111111111111111,
              "#46039f"
             ],
             [
              0.2222222222222222,
              "#7201a8"
             ],
             [
              0.3333333333333333,
              "#9c179e"
             ],
             [
              0.4444444444444444,
              "#bd3786"
             ],
             [
              0.5555555555555556,
              "#d8576b"
             ],
             [
              0.6666666666666666,
              "#ed7953"
             ],
             [
              0.7777777777777778,
              "#fb9f3a"
             ],
             [
              0.8888888888888888,
              "#fdca26"
             ],
             [
              1,
              "#f0f921"
             ]
            ],
            "type": "histogram2d"
           }
          ],
          "histogram2dcontour": [
           {
            "colorbar": {
             "outlinewidth": 0,
             "ticks": ""
            },
            "colorscale": [
             [
              0,
              "#0d0887"
             ],
             [
              0.1111111111111111,
              "#46039f"
             ],
             [
              0.2222222222222222,
              "#7201a8"
             ],
             [
              0.3333333333333333,
              "#9c179e"
             ],
             [
              0.4444444444444444,
              "#bd3786"
             ],
             [
              0.5555555555555556,
              "#d8576b"
             ],
             [
              0.6666666666666666,
              "#ed7953"
             ],
             [
              0.7777777777777778,
              "#fb9f3a"
             ],
             [
              0.8888888888888888,
              "#fdca26"
             ],
             [
              1,
              "#f0f921"
             ]
            ],
            "type": "histogram2dcontour"
           }
          ],
          "mesh3d": [
           {
            "colorbar": {
             "outlinewidth": 0,
             "ticks": ""
            },
            "type": "mesh3d"
           }
          ],
          "parcoords": [
           {
            "line": {
             "colorbar": {
              "outlinewidth": 0,
              "ticks": ""
             }
            },
            "type": "parcoords"
           }
          ],
          "pie": [
           {
            "automargin": true,
            "type": "pie"
           }
          ],
          "scatter": [
           {
            "marker": {
             "colorbar": {
              "outlinewidth": 0,
              "ticks": ""
             }
            },
            "type": "scatter"
           }
          ],
          "scatter3d": [
           {
            "line": {
             "colorbar": {
              "outlinewidth": 0,
              "ticks": ""
             }
            },
            "marker": {
             "colorbar": {
              "outlinewidth": 0,
              "ticks": ""
             }
            },
            "type": "scatter3d"
           }
          ],
          "scattercarpet": [
           {
            "marker": {
             "colorbar": {
              "outlinewidth": 0,
              "ticks": ""
             }
            },
            "type": "scattercarpet"
           }
          ],
          "scattergeo": [
           {
            "marker": {
             "colorbar": {
              "outlinewidth": 0,
              "ticks": ""
             }
            },
            "type": "scattergeo"
           }
          ],
          "scattergl": [
           {
            "marker": {
             "colorbar": {
              "outlinewidth": 0,
              "ticks": ""
             }
            },
            "type": "scattergl"
           }
          ],
          "scattermapbox": [
           {
            "marker": {
             "colorbar": {
              "outlinewidth": 0,
              "ticks": ""
             }
            },
            "type": "scattermapbox"
           }
          ],
          "scatterpolar": [
           {
            "marker": {
             "colorbar": {
              "outlinewidth": 0,
              "ticks": ""
             }
            },
            "type": "scatterpolar"
           }
          ],
          "scatterpolargl": [
           {
            "marker": {
             "colorbar": {
              "outlinewidth": 0,
              "ticks": ""
             }
            },
            "type": "scatterpolargl"
           }
          ],
          "scatterternary": [
           {
            "marker": {
             "colorbar": {
              "outlinewidth": 0,
              "ticks": ""
             }
            },
            "type": "scatterternary"
           }
          ],
          "surface": [
           {
            "colorbar": {
             "outlinewidth": 0,
             "ticks": ""
            },
            "colorscale": [
             [
              0,
              "#0d0887"
             ],
             [
              0.1111111111111111,
              "#46039f"
             ],
             [
              0.2222222222222222,
              "#7201a8"
             ],
             [
              0.3333333333333333,
              "#9c179e"
             ],
             [
              0.4444444444444444,
              "#bd3786"
             ],
             [
              0.5555555555555556,
              "#d8576b"
             ],
             [
              0.6666666666666666,
              "#ed7953"
             ],
             [
              0.7777777777777778,
              "#fb9f3a"
             ],
             [
              0.8888888888888888,
              "#fdca26"
             ],
             [
              1,
              "#f0f921"
             ]
            ],
            "type": "surface"
           }
          ],
          "table": [
           {
            "cells": {
             "fill": {
              "color": "#EBF0F8"
             },
             "line": {
              "color": "white"
             }
            },
            "header": {
             "fill": {
              "color": "#C8D4E3"
             },
             "line": {
              "color": "white"
             }
            },
            "type": "table"
           }
          ]
         },
         "layout": {
          "annotationdefaults": {
           "arrowcolor": "#2a3f5f",
           "arrowhead": 0,
           "arrowwidth": 1
          },
          "autotypenumbers": "strict",
          "coloraxis": {
           "colorbar": {
            "outlinewidth": 0,
            "ticks": ""
           }
          },
          "colorscale": {
           "diverging": [
            [
             0,
             "#8e0152"
            ],
            [
             0.1,
             "#c51b7d"
            ],
            [
             0.2,
             "#de77ae"
            ],
            [
             0.3,
             "#f1b6da"
            ],
            [
             0.4,
             "#fde0ef"
            ],
            [
             0.5,
             "#f7f7f7"
            ],
            [
             0.6,
             "#e6f5d0"
            ],
            [
             0.7,
             "#b8e186"
            ],
            [
             0.8,
             "#7fbc41"
            ],
            [
             0.9,
             "#4d9221"
            ],
            [
             1,
             "#276419"
            ]
           ],
           "sequential": [
            [
             0,
             "#0d0887"
            ],
            [
             0.1111111111111111,
             "#46039f"
            ],
            [
             0.2222222222222222,
             "#7201a8"
            ],
            [
             0.3333333333333333,
             "#9c179e"
            ],
            [
             0.4444444444444444,
             "#bd3786"
            ],
            [
             0.5555555555555556,
             "#d8576b"
            ],
            [
             0.6666666666666666,
             "#ed7953"
            ],
            [
             0.7777777777777778,
             "#fb9f3a"
            ],
            [
             0.8888888888888888,
             "#fdca26"
            ],
            [
             1,
             "#f0f921"
            ]
           ],
           "sequentialminus": [
            [
             0,
             "#0d0887"
            ],
            [
             0.1111111111111111,
             "#46039f"
            ],
            [
             0.2222222222222222,
             "#7201a8"
            ],
            [
             0.3333333333333333,
             "#9c179e"
            ],
            [
             0.4444444444444444,
             "#bd3786"
            ],
            [
             0.5555555555555556,
             "#d8576b"
            ],
            [
             0.6666666666666666,
             "#ed7953"
            ],
            [
             0.7777777777777778,
             "#fb9f3a"
            ],
            [
             0.8888888888888888,
             "#fdca26"
            ],
            [
             1,
             "#f0f921"
            ]
           ]
          },
          "colorway": [
           "#636efa",
           "#EF553B",
           "#00cc96",
           "#ab63fa",
           "#FFA15A",
           "#19d3f3",
           "#FF6692",
           "#B6E880",
           "#FF97FF",
           "#FECB52"
          ],
          "font": {
           "color": "#2a3f5f"
          },
          "geo": {
           "bgcolor": "white",
           "lakecolor": "white",
           "landcolor": "#E5ECF6",
           "showlakes": true,
           "showland": true,
           "subunitcolor": "white"
          },
          "hoverlabel": {
           "align": "left"
          },
          "hovermode": "closest",
          "mapbox": {
           "style": "light"
          },
          "paper_bgcolor": "white",
          "plot_bgcolor": "#E5ECF6",
          "polar": {
           "angularaxis": {
            "gridcolor": "white",
            "linecolor": "white",
            "ticks": ""
           },
           "bgcolor": "#E5ECF6",
           "radialaxis": {
            "gridcolor": "white",
            "linecolor": "white",
            "ticks": ""
           }
          },
          "scene": {
           "xaxis": {
            "backgroundcolor": "#E5ECF6",
            "gridcolor": "white",
            "gridwidth": 2,
            "linecolor": "white",
            "showbackground": true,
            "ticks": "",
            "zerolinecolor": "white"
           },
           "yaxis": {
            "backgroundcolor": "#E5ECF6",
            "gridcolor": "white",
            "gridwidth": 2,
            "linecolor": "white",
            "showbackground": true,
            "ticks": "",
            "zerolinecolor": "white"
           },
           "zaxis": {
            "backgroundcolor": "#E5ECF6",
            "gridcolor": "white",
            "gridwidth": 2,
            "linecolor": "white",
            "showbackground": true,
            "ticks": "",
            "zerolinecolor": "white"
           }
          },
          "shapedefaults": {
           "line": {
            "color": "#2a3f5f"
           }
          },
          "ternary": {
           "aaxis": {
            "gridcolor": "white",
            "linecolor": "white",
            "ticks": ""
           },
           "baxis": {
            "gridcolor": "white",
            "linecolor": "white",
            "ticks": ""
           },
           "bgcolor": "#E5ECF6",
           "caxis": {
            "gridcolor": "white",
            "linecolor": "white",
            "ticks": ""
           }
          },
          "title": {
           "x": 0.05
          },
          "xaxis": {
           "automargin": true,
           "gridcolor": "white",
           "linecolor": "white",
           "ticks": "",
           "title": {
            "standoff": 15
           },
           "zerolinecolor": "white",
           "zerolinewidth": 2
          },
          "yaxis": {
           "automargin": true,
           "gridcolor": "white",
           "linecolor": "white",
           "ticks": "",
           "title": {
            "standoff": 15
           },
           "zerolinecolor": "white",
           "zerolinewidth": 2
          }
         }
        },
        "title": {
         "font": {
          "color": "#4D5663"
         }
        },
        "xaxis": {
         "gridcolor": "#E1E5ED",
         "showgrid": true,
         "tickfont": {
          "color": "#4D5663"
         },
         "title": {
          "font": {
           "color": "#4D5663"
          },
          "text": ""
         },
         "zerolinecolor": "#E1E5ED"
        },
        "yaxis": {
         "gridcolor": "#E1E5ED",
         "showgrid": true,
         "tickfont": {
          "color": "#4D5663"
         },
         "title": {
          "font": {
           "color": "#4D5663"
          },
          "text": ""
         },
         "zerolinecolor": "#E1E5ED"
        }
       }
      },
      "text/html": "<div>                            <div id=\"c9adb1c0-d648-4579-aa93-c8948dcda717\" class=\"plotly-graph-div\" style=\"height:525px; width:100%;\"></div>            <script type=\"text/javascript\">                require([\"plotly\"], function(Plotly) {                    window.PLOTLYENV=window.PLOTLYENV || {};\n                    window.PLOTLYENV.BASE_URL='https://plot.ly';                                    if (document.getElementById(\"c9adb1c0-d648-4579-aa93-c8948dcda717\")) {                    Plotly.newPlot(                        \"c9adb1c0-d648-4579-aa93-c8948dcda717\",                        [{\"colorscale\": [[0.0, \"rgb(165,0,38)\"], [0.1, \"rgb(215,48,39)\"], [0.2, \"rgb(244,109,67)\"], [0.3, \"rgb(253,174,97)\"], [0.4, \"rgb(254,224,144)\"], [0.5, \"rgb(255,255,191)\"], [0.6, \"rgb(224,243,248)\"], [0.7, \"rgb(171,217,233)\"], [0.8, \"rgb(116,173,209)\"], [0.9, \"rgb(69,117,180)\"], [1.0, \"rgb(49,54,149)\"]], \"type\": \"surface\", \"x\": [0, 1, 2, 3, 4], \"y\": [\"x\", \"y\", \"z\"], \"z\": [[1, 2, 3, 4, 5], [10, 20, 30, 20, 10], [5, 4, 3, 2, 1]]}],                        {\"legend\": {\"bgcolor\": \"#F5F6F9\", \"font\": {\"color\": \"#4D5663\"}}, \"paper_bgcolor\": \"#F5F6F9\", \"plot_bgcolor\": \"#F5F6F9\", \"template\": {\"data\": {\"bar\": [{\"error_x\": {\"color\": \"#2a3f5f\"}, \"error_y\": {\"color\": \"#2a3f5f\"}, \"marker\": {\"line\": {\"color\": \"#E5ECF6\", \"width\": 0.5}}, \"type\": \"bar\"}], \"barpolar\": [{\"marker\": {\"line\": {\"color\": \"#E5ECF6\", \"width\": 0.5}}, \"type\": \"barpolar\"}], \"carpet\": [{\"aaxis\": {\"endlinecolor\": \"#2a3f5f\", \"gridcolor\": \"white\", \"linecolor\": \"white\", \"minorgridcolor\": \"white\", \"startlinecolor\": \"#2a3f5f\"}, \"baxis\": {\"endlinecolor\": \"#2a3f5f\", \"gridcolor\": \"white\", \"linecolor\": \"white\", \"minorgridcolor\": \"white\", \"startlinecolor\": \"#2a3f5f\"}, \"type\": \"carpet\"}], \"choropleth\": [{\"colorbar\": {\"outlinewidth\": 0, \"ticks\": \"\"}, \"type\": \"choropleth\"}], \"contour\": [{\"colorbar\": {\"outlinewidth\": 0, \"ticks\": \"\"}, \"colorscale\": [[0.0, \"#0d0887\"], [0.1111111111111111, \"#46039f\"], [0.2222222222222222, \"#7201a8\"], [0.3333333333333333, \"#9c179e\"], [0.4444444444444444, \"#bd3786\"], [0.5555555555555556, \"#d8576b\"], [0.6666666666666666, \"#ed7953\"], [0.7777777777777778, \"#fb9f3a\"], [0.8888888888888888, \"#fdca26\"], [1.0, \"#f0f921\"]], \"type\": \"contour\"}], \"contourcarpet\": [{\"colorbar\": {\"outlinewidth\": 0, \"ticks\": \"\"}, \"type\": \"contourcarpet\"}], \"heatmap\": [{\"colorbar\": {\"outlinewidth\": 0, \"ticks\": \"\"}, \"colorscale\": [[0.0, \"#0d0887\"], [0.1111111111111111, \"#46039f\"], [0.2222222222222222, \"#7201a8\"], [0.3333333333333333, \"#9c179e\"], [0.4444444444444444, \"#bd3786\"], [0.5555555555555556, \"#d8576b\"], [0.6666666666666666, \"#ed7953\"], [0.7777777777777778, \"#fb9f3a\"], [0.8888888888888888, \"#fdca26\"], [1.0, \"#f0f921\"]], \"type\": \"heatmap\"}], \"heatmapgl\": [{\"colorbar\": {\"outlinewidth\": 0, \"ticks\": \"\"}, \"colorscale\": [[0.0, \"#0d0887\"], [0.1111111111111111, \"#46039f\"], [0.2222222222222222, \"#7201a8\"], [0.3333333333333333, \"#9c179e\"], [0.4444444444444444, \"#bd3786\"], [0.5555555555555556, \"#d8576b\"], [0.6666666666666666, \"#ed7953\"], [0.7777777777777778, \"#fb9f3a\"], [0.8888888888888888, \"#fdca26\"], [1.0, \"#f0f921\"]], \"type\": \"heatmapgl\"}], \"histogram\": [{\"marker\": {\"colorbar\": {\"outlinewidth\": 0, \"ticks\": \"\"}}, \"type\": \"histogram\"}], \"histogram2d\": [{\"colorbar\": {\"outlinewidth\": 0, \"ticks\": \"\"}, \"colorscale\": [[0.0, \"#0d0887\"], [0.1111111111111111, \"#46039f\"], [0.2222222222222222, \"#7201a8\"], [0.3333333333333333, \"#9c179e\"], [0.4444444444444444, \"#bd3786\"], [0.5555555555555556, \"#d8576b\"], [0.6666666666666666, \"#ed7953\"], [0.7777777777777778, \"#fb9f3a\"], [0.8888888888888888, \"#fdca26\"], [1.0, \"#f0f921\"]], \"type\": \"histogram2d\"}], \"histogram2dcontour\": [{\"colorbar\": {\"outlinewidth\": 0, \"ticks\": \"\"}, \"colorscale\": [[0.0, \"#0d0887\"], [0.1111111111111111, \"#46039f\"], [0.2222222222222222, \"#7201a8\"], [0.3333333333333333, \"#9c179e\"], [0.4444444444444444, \"#bd3786\"], [0.5555555555555556, \"#d8576b\"], [0.6666666666666666, \"#ed7953\"], [0.7777777777777778, \"#fb9f3a\"], [0.8888888888888888, \"#fdca26\"], [1.0, \"#f0f921\"]], \"type\": \"histogram2dcontour\"}], \"mesh3d\": [{\"colorbar\": {\"outlinewidth\": 0, \"ticks\": \"\"}, \"type\": \"mesh3d\"}], \"parcoords\": [{\"line\": {\"colorbar\": {\"outlinewidth\": 0, \"ticks\": \"\"}}, \"type\": \"parcoords\"}], \"pie\": [{\"automargin\": true, \"type\": \"pie\"}], \"scatter\": [{\"marker\": {\"colorbar\": {\"outlinewidth\": 0, \"ticks\": \"\"}}, \"type\": \"scatter\"}], \"scatter3d\": [{\"line\": {\"colorbar\": {\"outlinewidth\": 0, \"ticks\": \"\"}}, \"marker\": {\"colorbar\": {\"outlinewidth\": 0, \"ticks\": \"\"}}, \"type\": \"scatter3d\"}], \"scattercarpet\": [{\"marker\": {\"colorbar\": {\"outlinewidth\": 0, \"ticks\": \"\"}}, \"type\": \"scattercarpet\"}], \"scattergeo\": [{\"marker\": {\"colorbar\": {\"outlinewidth\": 0, \"ticks\": \"\"}}, \"type\": \"scattergeo\"}], \"scattergl\": [{\"marker\": {\"colorbar\": {\"outlinewidth\": 0, \"ticks\": \"\"}}, \"type\": \"scattergl\"}], \"scattermapbox\": [{\"marker\": {\"colorbar\": {\"outlinewidth\": 0, \"ticks\": \"\"}}, \"type\": \"scattermapbox\"}], \"scatterpolar\": [{\"marker\": {\"colorbar\": {\"outlinewidth\": 0, \"ticks\": \"\"}}, \"type\": \"scatterpolar\"}], \"scatterpolargl\": [{\"marker\": {\"colorbar\": {\"outlinewidth\": 0, \"ticks\": \"\"}}, \"type\": \"scatterpolargl\"}], \"scatterternary\": [{\"marker\": {\"colorbar\": {\"outlinewidth\": 0, \"ticks\": \"\"}}, \"type\": \"scatterternary\"}], \"surface\": [{\"colorbar\": {\"outlinewidth\": 0, \"ticks\": \"\"}, \"colorscale\": [[0.0, \"#0d0887\"], [0.1111111111111111, \"#46039f\"], [0.2222222222222222, \"#7201a8\"], [0.3333333333333333, \"#9c179e\"], [0.4444444444444444, \"#bd3786\"], [0.5555555555555556, \"#d8576b\"], [0.6666666666666666, \"#ed7953\"], [0.7777777777777778, \"#fb9f3a\"], [0.8888888888888888, \"#fdca26\"], [1.0, \"#f0f921\"]], \"type\": \"surface\"}], \"table\": [{\"cells\": {\"fill\": {\"color\": \"#EBF0F8\"}, \"line\": {\"color\": \"white\"}}, \"header\": {\"fill\": {\"color\": \"#C8D4E3\"}, \"line\": {\"color\": \"white\"}}, \"type\": \"table\"}]}, \"layout\": {\"annotationdefaults\": {\"arrowcolor\": \"#2a3f5f\", \"arrowhead\": 0, \"arrowwidth\": 1}, \"autotypenumbers\": \"strict\", \"coloraxis\": {\"colorbar\": {\"outlinewidth\": 0, \"ticks\": \"\"}}, \"colorscale\": {\"diverging\": [[0, \"#8e0152\"], [0.1, \"#c51b7d\"], [0.2, \"#de77ae\"], [0.3, \"#f1b6da\"], [0.4, \"#fde0ef\"], [0.5, \"#f7f7f7\"], [0.6, \"#e6f5d0\"], [0.7, \"#b8e186\"], [0.8, \"#7fbc41\"], [0.9, \"#4d9221\"], [1, \"#276419\"]], \"sequential\": [[0.0, \"#0d0887\"], [0.1111111111111111, \"#46039f\"], [0.2222222222222222, \"#7201a8\"], [0.3333333333333333, \"#9c179e\"], [0.4444444444444444, \"#bd3786\"], [0.5555555555555556, \"#d8576b\"], [0.6666666666666666, \"#ed7953\"], [0.7777777777777778, \"#fb9f3a\"], [0.8888888888888888, \"#fdca26\"], [1.0, \"#f0f921\"]], \"sequentialminus\": [[0.0, \"#0d0887\"], [0.1111111111111111, \"#46039f\"], [0.2222222222222222, \"#7201a8\"], [0.3333333333333333, \"#9c179e\"], [0.4444444444444444, \"#bd3786\"], [0.5555555555555556, \"#d8576b\"], [0.6666666666666666, \"#ed7953\"], [0.7777777777777778, \"#fb9f3a\"], [0.8888888888888888, \"#fdca26\"], [1.0, \"#f0f921\"]]}, \"colorway\": [\"#636efa\", \"#EF553B\", \"#00cc96\", \"#ab63fa\", \"#FFA15A\", \"#19d3f3\", \"#FF6692\", \"#B6E880\", \"#FF97FF\", \"#FECB52\"], \"font\": {\"color\": \"#2a3f5f\"}, \"geo\": {\"bgcolor\": \"white\", \"lakecolor\": \"white\", \"landcolor\": \"#E5ECF6\", \"showlakes\": true, \"showland\": true, \"subunitcolor\": \"white\"}, \"hoverlabel\": {\"align\": \"left\"}, \"hovermode\": \"closest\", \"mapbox\": {\"style\": \"light\"}, \"paper_bgcolor\": \"white\", \"plot_bgcolor\": \"#E5ECF6\", \"polar\": {\"angularaxis\": {\"gridcolor\": \"white\", \"linecolor\": \"white\", \"ticks\": \"\"}, \"bgcolor\": \"#E5ECF6\", \"radialaxis\": {\"gridcolor\": \"white\", \"linecolor\": \"white\", \"ticks\": \"\"}}, \"scene\": {\"xaxis\": {\"backgroundcolor\": \"#E5ECF6\", \"gridcolor\": \"white\", \"gridwidth\": 2, \"linecolor\": \"white\", \"showbackground\": true, \"ticks\": \"\", \"zerolinecolor\": \"white\"}, \"yaxis\": {\"backgroundcolor\": \"#E5ECF6\", \"gridcolor\": \"white\", \"gridwidth\": 2, \"linecolor\": \"white\", \"showbackground\": true, \"ticks\": \"\", \"zerolinecolor\": \"white\"}, \"zaxis\": {\"backgroundcolor\": \"#E5ECF6\", \"gridcolor\": \"white\", \"gridwidth\": 2, \"linecolor\": \"white\", \"showbackground\": true, \"ticks\": \"\", \"zerolinecolor\": \"white\"}}, \"shapedefaults\": {\"line\": {\"color\": \"#2a3f5f\"}}, \"ternary\": {\"aaxis\": {\"gridcolor\": \"white\", \"linecolor\": \"white\", \"ticks\": \"\"}, \"baxis\": {\"gridcolor\": \"white\", \"linecolor\": \"white\", \"ticks\": \"\"}, \"bgcolor\": \"#E5ECF6\", \"caxis\": {\"gridcolor\": \"white\", \"linecolor\": \"white\", \"ticks\": \"\"}}, \"title\": {\"x\": 0.05}, \"xaxis\": {\"automargin\": true, \"gridcolor\": \"white\", \"linecolor\": \"white\", \"ticks\": \"\", \"title\": {\"standoff\": 15}, \"zerolinecolor\": \"white\", \"zerolinewidth\": 2}, \"yaxis\": {\"automargin\": true, \"gridcolor\": \"white\", \"linecolor\": \"white\", \"ticks\": \"\", \"title\": {\"standoff\": 15}, \"zerolinecolor\": \"white\", \"zerolinewidth\": 2}}}, \"title\": {\"font\": {\"color\": \"#4D5663\"}}, \"xaxis\": {\"gridcolor\": \"#E1E5ED\", \"showgrid\": true, \"tickfont\": {\"color\": \"#4D5663\"}, \"title\": {\"font\": {\"color\": \"#4D5663\"}, \"text\": \"\"}, \"zerolinecolor\": \"#E1E5ED\"}, \"yaxis\": {\"gridcolor\": \"#E1E5ED\", \"showgrid\": true, \"tickfont\": {\"color\": \"#4D5663\"}, \"title\": {\"font\": {\"color\": \"#4D5663\"}, \"text\": \"\"}, \"zerolinecolor\": \"#E1E5ED\"}},                        {\"showLink\": true, \"linkText\": \"Export to plot.ly\", \"plotlyServerURL\": \"https://plot.ly\", \"responsive\": true}                    ).then(function(){\n                            \nvar gd = document.getElementById('c9adb1c0-d648-4579-aa93-c8948dcda717');\nvar x = new MutationObserver(function (mutations, observer) {{\n        var display = window.getComputedStyle(gd).display;\n        if (!display || display === 'none') {{\n            console.log([gd, 'removed!']);\n            Plotly.purge(gd);\n            observer.disconnect();\n        }}\n}});\n\n// Listen for the removal of the full notebook cells\nvar notebookContainer = gd.closest('#notebook-container');\nif (notebookContainer) {{\n    x.observe(notebookContainer, {childList: true});\n}}\n\n// Listen for the clearing of the current output cell\nvar outputEl = gd.closest('.output');\nif (outputEl) {{\n    x.observe(outputEl, {childList: true});\n}}\n\n                        })                };                });            </script>        </div>"
     },
     "metadata": {}
    }
   ],
   "source": [
    "df3 = pd.DataFrame({'x':[1,2,3,4,5],'y':[10,20,30,20,10],'z':[5,4,3,2,1]})\n",
    "df3.iplot(kind='surface',colorscale='rdylbu')"
   ]
  },
  {
   "cell_type": "markdown",
   "metadata": {},
   "source": [
    "## Spread"
   ]
  },
  {
   "cell_type": "code",
   "execution_count": 15,
   "metadata": {
    "collapsed": false
   },
   "outputs": [
    {
     "output_type": "stream",
     "name": "stderr",
     "text": [
      "/home/jordan/Documents/Py-DS-ML-Bootcamp-master/venv/lib/python3.9/site-packages/cufflinks/plotlytools.py:849: FutureWarning:\n\nThe pandas.np module is deprecated and will be removed from pandas in a future version. Import numpy directly instead\n\n/home/jordan/Documents/Py-DS-ML-Bootcamp-master/venv/lib/python3.9/site-packages/cufflinks/plotlytools.py:850: FutureWarning:\n\nThe pandas.np module is deprecated and will be removed from pandas in a future version. Import numpy directly instead\n\n"
     ]
    },
    {
     "output_type": "display_data",
     "data": {
      "application/vnd.plotly.v1+json": {
       "config": {
        "linkText": "Export to plot.ly",
        "plotlyServerURL": "https://plot.ly",
        "showLink": true
       },
       "data": [
        {
         "line": {
          "color": "rgba(255, 153, 51, 1.0)",
          "dash": "solid",
          "shape": "linear",
          "width": 1.3
         },
         "mode": "lines",
         "name": "A",
         "text": "",
         "type": "scatter",
         "x": [
          0,
          1,
          2,
          3,
          4,
          5,
          6,
          7,
          8,
          9,
          10,
          11,
          12,
          13,
          14,
          15,
          16,
          17,
          18,
          19,
          20,
          21,
          22,
          23,
          24,
          25,
          26,
          27,
          28,
          29,
          30,
          31,
          32,
          33,
          34,
          35,
          36,
          37,
          38,
          39,
          40,
          41,
          42,
          43,
          44,
          45,
          46,
          47,
          48,
          49,
          50,
          51,
          52,
          53,
          54,
          55,
          56,
          57,
          58,
          59,
          60,
          61,
          62,
          63,
          64,
          65,
          66,
          67,
          68,
          69,
          70,
          71,
          72,
          73,
          74,
          75,
          76,
          77,
          78,
          79,
          80,
          81,
          82,
          83,
          84,
          85,
          86,
          87,
          88,
          89,
          90,
          91,
          92,
          93,
          94,
          95,
          96,
          97,
          98,
          99
         ],
         "y": [
          0.3419584291255313,
          2.361780384778356,
          0.9119528973909766,
          0.7843148177858439,
          0.19788293810360227,
          0.14792586818241837,
          -0.9642251958129214,
          -0.9982883475458826,
          -1.1325513846419084,
          -0.34775573601765764,
          0.05614453083062882,
          -1.8350439315471765,
          0.5511018764251773,
          0.17988137422617523,
          -1.065227814836348,
          0.3586145152614117,
          2.411605482613125,
          0.3560938040312589,
          0.36786610050285107,
          -2.6002826096447857,
          -0.7981799468689968,
          -0.9645031821395916,
          0.023965620965615043,
          -0.7365368491710338,
          -0.004858042010386315,
          -1.3623500370271893,
          -0.4525814500361433,
          0.7058262779117401,
          0.3440578447346543,
          -0.6854853356129478,
          -1.175912357533231,
          -0.06250042438078895,
          0.3714797107838847,
          1.3432775395609564,
          0.7180364148121844,
          2.7251283264314794,
          -1.7927981428516335,
          0.30526270927024285,
          0.07066587428438767,
          0.9829832457917175,
          0.2481333939762536,
          1.2611119707431302,
          0.39120023817415484,
          1.4126639401837995,
          -0.2543019620938231,
          -1.0808580728245565,
          0.21293978874229247,
          -1.817542673207612,
          0.5705140433534914,
          0.07031969294279024,
          -1.7310193046540587,
          -0.009968310223363802,
          -1.0487616328861715,
          0.23392266236390605,
          -1.1403254897435495,
          -0.009551520847821338,
          0.0587528290155611,
          0.27327642074331,
          0.5952762262270923,
          0.34922564728692723,
          0.3506158007930843,
          -0.7194723669016722,
          -0.969386453754765,
          0.07607441829377784,
          0.8224531813525415,
          -0.4267717900771313,
          -0.40179473694537243,
          0.8730785586025657,
          0.8772569764458129,
          1.7525966859134534,
          -0.38937715784865456,
          -0.07128387192799915,
          0.4374266412162082,
          1.0066948777907512,
          -0.8108547122537352,
          -0.12424666495990376,
          0.2694509128538412,
          -0.5798316475284768,
          0.3201902642191978,
          -1.1253119761184023,
          0.8853008752799159,
          0.9710304851537905,
          -0.054131980511390745,
          -0.17879880928332045,
          0.5731252894387706,
          2.1638795628246785,
          1.3828172329633255,
          2.1851828911286226,
          0.5855947229103255,
          -1.314182568919194,
          -0.7986574709761567,
          -0.6434624893139342,
          -0.9091145307420864,
          -0.8156862985068415,
          -0.8784194413581975,
          0.28373706115674197,
          -0.6956611445601208,
          1.4316076867251473,
          0.8162399203140172,
          -0.7460467107715341
         ]
        },
        {
         "line": {
          "color": "rgba(55, 128, 191, 1.0)",
          "dash": "solid",
          "shape": "linear",
          "width": 1.3
         },
         "mode": "lines",
         "name": "B",
         "text": "",
         "type": "scatter",
         "x": [
          0,
          1,
          2,
          3,
          4,
          5,
          6,
          7,
          8,
          9,
          10,
          11,
          12,
          13,
          14,
          15,
          16,
          17,
          18,
          19,
          20,
          21,
          22,
          23,
          24,
          25,
          26,
          27,
          28,
          29,
          30,
          31,
          32,
          33,
          34,
          35,
          36,
          37,
          38,
          39,
          40,
          41,
          42,
          43,
          44,
          45,
          46,
          47,
          48,
          49,
          50,
          51,
          52,
          53,
          54,
          55,
          56,
          57,
          58,
          59,
          60,
          61,
          62,
          63,
          64,
          65,
          66,
          67,
          68,
          69,
          70,
          71,
          72,
          73,
          74,
          75,
          76,
          77,
          78,
          79,
          80,
          81,
          82,
          83,
          84,
          85,
          86,
          87,
          88,
          89,
          90,
          91,
          92,
          93,
          94,
          95,
          96,
          97,
          98,
          99
         ],
         "y": [
          -1.2469675844086194,
          2.9891513099497544,
          0.1017309838125147,
          0.02548119832841038,
          1.9193919674365298,
          -0.20182906842565754,
          0.34360603457165223,
          -0.2249471960281491,
          -0.9850353052474844,
          -0.4559661499288387,
          -0.3878301319310226,
          1.1082652594076037,
          0.8744392746857205,
          1.0093918400229367,
          -0.5394935232766637,
          -0.803745333849395,
          -0.6518641752351033,
          -0.43622292742754704,
          1.433979164394179,
          -0.20860370790793073,
          0.15344776935200735,
          -0.24292160640219418,
          1.1989580674290223,
          -1.1443449709961133,
          -0.09993272796215072,
          0.10083254924068984,
          -0.35213515431348485,
          -1.2061255943422544,
          1.0970022135175945,
          -0.6800842183802278,
          -0.07119109631676689,
          0.26860378089458553,
          -1.3759056290183418,
          0.2669198011313815,
          0.4534602278898926,
          0.01047672724603757,
          -1.2522099425982471,
          -0.10554046833546744,
          1.548445310306408,
          -0.06588810735895306,
          0.6760987700300749,
          -0.0420202255577279,
          1.8378273002595218,
          -0.6078283434805584,
          1.5282024981691928,
          -0.2754917649929963,
          -0.5399326467480746,
          0.6224826249171681,
          0.47795041715071557,
          0.6278077101583388,
          -1.3409423856968694,
          -0.7706624003108283,
          0.015473729679894384,
          0.26319508876425185,
          1.0028321641640017,
          -0.807548524223669,
          0.9869502776032817,
          -1.28221797054689,
          -1.1449359698029302,
          -0.6395403941539245,
          2.4047917183665826,
          0.27108517431821616,
          -1.2451142203486658,
          -0.9178682146002846,
          -0.14570048592133691,
          -0.6272356706833567,
          -0.8514150741598167,
          1.3091254912388204,
          0.05193399027756955,
          -0.002553724868215908,
          -1.1324415602896714,
          1.438180944671712,
          0.6043815252099933,
          0.3150816994390484,
          -0.09226594346437388,
          -1.6197115478527,
          -1.075865500583438,
          0.7486483332115086,
          0.19586000178350335,
          -0.12224064694673781,
          -0.5599448183549804,
          0.3622861605064426,
          -1.4558631826967452,
          1.7992281941455563,
          -0.5220566801522477,
          -0.9653810326273534,
          -0.7122912093233262,
          2.2326519358646375,
          -0.2406418434421078,
          0.804193973114719,
          1.0070051946632714,
          0.5420153009884275,
          -0.7734745290640057,
          -0.48601676911296376,
          1.6060186504018106,
          -0.5062587167544614,
          -0.09464116750951326,
          -1.3098800820079146,
          1.0224650955995838,
          1.0548935522161016
         ]
        },
        {
         "connectgaps": false,
         "fill": "tozeroy",
         "line": {
          "color": "green",
          "dash": "solid",
          "shape": "linear",
          "width": 0.5
         },
         "mode": "lines",
         "name": "Spread",
         "showlegend": false,
         "type": "scatter",
         "x": [
          0,
          1,
          2,
          3,
          4,
          5,
          6,
          7,
          8,
          9,
          10,
          11,
          12,
          13,
          14,
          15,
          16,
          17,
          18,
          19,
          20,
          21,
          22,
          23,
          24,
          25,
          26,
          27,
          28,
          29,
          30,
          31,
          32,
          33,
          34,
          35,
          36,
          37,
          38,
          39,
          40,
          41,
          42,
          43,
          44,
          45,
          46,
          47,
          48,
          49,
          50,
          51,
          52,
          53,
          54,
          55,
          56,
          57,
          58,
          59,
          60,
          61,
          62,
          63,
          64,
          65,
          66,
          67,
          68,
          69,
          70,
          71,
          72,
          73,
          74,
          75,
          76,
          77,
          78,
          79,
          80,
          81,
          82,
          83,
          84,
          85,
          86,
          87,
          88,
          89,
          90,
          91,
          92,
          93,
          94,
          95,
          96,
          97,
          98,
          99
         ],
         "xaxis": "x2",
         "y": [
          1.5889260135341507,
          "",
          0.810221913578462,
          0.7588336194574336,
          "",
          0.3497549366080759,
          "",
          "",
          "",
          0.10821041391118108,
          0.44397466276165143,
          "",
          "",
          "",
          "",
          1.1623598491108067,
          3.063469657848228,
          0.792316731458806,
          "",
          "",
          "",
          "",
          "",
          0.40780812182507953,
          0.09507468595176441,
          "",
          "",
          1.9119518722539945,
          "",
          "",
          "",
          "",
          1.7473853398022265,
          1.076357738429575,
          0.2645761869222918,
          2.7146515991854416,
          "",
          0.4108031776057103,
          "",
          1.0488713531506706,
          "",
          1.3031321963008582,
          "",
          2.0204922836643577,
          "",
          "",
          0.7528724354903671,
          "",
          0.09256362620277586,
          "",
          "",
          0.7606940900874646,
          "",
          "",
          "",
          0.7979970033758477,
          "",
          1.5554943912902,
          1.7402121960300225,
          0.9887660414408517,
          "",
          "",
          0.27572776659390086,
          0.9939426328940624,
          0.9681536672738784,
          0.20046388060622544,
          0.4496203372144442,
          "",
          0.8253229861682434,
          1.7551504107816693,
          0.7430644024410168,
          "",
          "",
          0.6916131783517028,
          "",
          1.4954648828927963,
          1.3453164134372793,
          "",
          0.12433026243569442,
          "",
          1.4452456936348963,
          0.608744324647348,
          1.4017312021853545,
          "",
          1.0951819695910183,
          3.129260595452032,
          2.0951084422866515,
          "",
          0.8262365663524334,
          "",
          "",
          "",
          "",
          "",
          "",
          0.7899957779112035,
          "",
          2.741487768733062,
          "",
          ""
         ],
         "yaxis": "y2"
        },
        {
         "connectgaps": false,
         "fill": "tozeroy",
         "line": {
          "color": "red",
          "dash": "solid",
          "shape": "linear",
          "width": 0.5
         },
         "mode": "lines",
         "name": "Spread",
         "showlegend": false,
         "type": "scatter",
         "x": [
          0,
          1,
          2,
          3,
          4,
          5,
          6,
          7,
          8,
          9,
          10,
          11,
          12,
          13,
          14,
          15,
          16,
          17,
          18,
          19,
          20,
          21,
          22,
          23,
          24,
          25,
          26,
          27,
          28,
          29,
          30,
          31,
          32,
          33,
          34,
          35,
          36,
          37,
          38,
          39,
          40,
          41,
          42,
          43,
          44,
          45,
          46,
          47,
          48,
          49,
          50,
          51,
          52,
          53,
          54,
          55,
          56,
          57,
          58,
          59,
          60,
          61,
          62,
          63,
          64,
          65,
          66,
          67,
          68,
          69,
          70,
          71,
          72,
          73,
          74,
          75,
          76,
          77,
          78,
          79,
          80,
          81,
          82,
          83,
          84,
          85,
          86,
          87,
          88,
          89,
          90,
          91,
          92,
          93,
          94,
          95,
          96,
          97,
          98,
          99
         ],
         "xaxis": "x2",
         "y": [
          "",
          -0.6273709251713986,
          "",
          "",
          -1.7215090293329276,
          "",
          -1.3078312303845736,
          -0.7733411515177335,
          -0.14751607939442402,
          "",
          "",
          -2.94330919095478,
          -0.3233373982605432,
          -0.8295104657967615,
          -0.5257342915596844,
          "",
          "",
          "",
          -1.0661130638913279,
          -2.391678901736855,
          -0.9516277162210042,
          -0.7215815757373975,
          -1.1749924464634074,
          "",
          "",
          -1.4631825862678791,
          -0.10044629572265845,
          "",
          -0.7529443687829402,
          -0.005401117232719965,
          -1.1047212612164643,
          -0.3311042052753745,
          "",
          "",
          "",
          "",
          -0.5405882002533864,
          "",
          -1.4777794360220202,
          "",
          -0.4279653760538213,
          "",
          -1.446627062085367,
          "",
          -1.782504460263016,
          -0.8053663078315602,
          "",
          -2.4400252981247803,
          "",
          -0.5574880172155485,
          -0.3900769189571893,
          "",
          -1.0642353625660659,
          -0.029272426400345802,
          -2.143157653907551,
          "",
          -0.9281974485877206,
          "",
          "",
          "",
          -2.0541759175734984,
          -0.9905575412198884,
          "",
          "",
          "",
          "",
          "",
          -0.4360469326362547,
          "",
          "",
          "",
          -1.509464816599711,
          -0.1669548839937851,
          "",
          -0.7185887687893613,
          "",
          "",
          -1.3284799807399854,
          "",
          -1.0030713291716644,
          "",
          "",
          "",
          -1.9780270034288767,
          "",
          "",
          "",
          -0.047469044736014876,
          "",
          -2.118376542033913,
          -1.8056626656394281,
          -1.185477790302362,
          -0.13564000167808066,
          -0.3296695293938777,
          -2.484438091760008,
          "",
          -0.6010199770506076,
          "",
          -0.2062251752855666,
          -1.8009402629876357
         ],
         "yaxis": "y2"
        }
       ],
       "layout": {
        "hovermode": "x",
        "legend": {
         "bgcolor": "#F5F6F9",
         "font": {
          "color": "#4D5663"
         }
        },
        "paper_bgcolor": "#F5F6F9",
        "plot_bgcolor": "#F5F6F9",
        "template": {
         "data": {
          "bar": [
           {
            "error_x": {
             "color": "#2a3f5f"
            },
            "error_y": {
             "color": "#2a3f5f"
            },
            "marker": {
             "line": {
              "color": "#E5ECF6",
              "width": 0.5
             }
            },
            "type": "bar"
           }
          ],
          "barpolar": [
           {
            "marker": {
             "line": {
              "color": "#E5ECF6",
              "width": 0.5
             }
            },
            "type": "barpolar"
           }
          ],
          "carpet": [
           {
            "aaxis": {
             "endlinecolor": "#2a3f5f",
             "gridcolor": "white",
             "linecolor": "white",
             "minorgridcolor": "white",
             "startlinecolor": "#2a3f5f"
            },
            "baxis": {
             "endlinecolor": "#2a3f5f",
             "gridcolor": "white",
             "linecolor": "white",
             "minorgridcolor": "white",
             "startlinecolor": "#2a3f5f"
            },
            "type": "carpet"
           }
          ],
          "choropleth": [
           {
            "colorbar": {
             "outlinewidth": 0,
             "ticks": ""
            },
            "type": "choropleth"
           }
          ],
          "contour": [
           {
            "colorbar": {
             "outlinewidth": 0,
             "ticks": ""
            },
            "colorscale": [
             [
              0,
              "#0d0887"
             ],
             [
              0.1111111111111111,
              "#46039f"
             ],
             [
              0.2222222222222222,
              "#7201a8"
             ],
             [
              0.3333333333333333,
              "#9c179e"
             ],
             [
              0.4444444444444444,
              "#bd3786"
             ],
             [
              0.5555555555555556,
              "#d8576b"
             ],
             [
              0.6666666666666666,
              "#ed7953"
             ],
             [
              0.7777777777777778,
              "#fb9f3a"
             ],
             [
              0.8888888888888888,
              "#fdca26"
             ],
             [
              1,
              "#f0f921"
             ]
            ],
            "type": "contour"
           }
          ],
          "contourcarpet": [
           {
            "colorbar": {
             "outlinewidth": 0,
             "ticks": ""
            },
            "type": "contourcarpet"
           }
          ],
          "heatmap": [
           {
            "colorbar": {
             "outlinewidth": 0,
             "ticks": ""
            },
            "colorscale": [
             [
              0,
              "#0d0887"
             ],
             [
              0.1111111111111111,
              "#46039f"
             ],
             [
              0.2222222222222222,
              "#7201a8"
             ],
             [
              0.3333333333333333,
              "#9c179e"
             ],
             [
              0.4444444444444444,
              "#bd3786"
             ],
             [
              0.5555555555555556,
              "#d8576b"
             ],
             [
              0.6666666666666666,
              "#ed7953"
             ],
             [
              0.7777777777777778,
              "#fb9f3a"
             ],
             [
              0.8888888888888888,
              "#fdca26"
             ],
             [
              1,
              "#f0f921"
             ]
            ],
            "type": "heatmap"
           }
          ],
          "heatmapgl": [
           {
            "colorbar": {
             "outlinewidth": 0,
             "ticks": ""
            },
            "colorscale": [
             [
              0,
              "#0d0887"
             ],
             [
              0.1111111111111111,
              "#46039f"
             ],
             [
              0.2222222222222222,
              "#7201a8"
             ],
             [
              0.3333333333333333,
              "#9c179e"
             ],
             [
              0.4444444444444444,
              "#bd3786"
             ],
             [
              0.5555555555555556,
              "#d8576b"
             ],
             [
              0.6666666666666666,
              "#ed7953"
             ],
             [
              0.7777777777777778,
              "#fb9f3a"
             ],
             [
              0.8888888888888888,
              "#fdca26"
             ],
             [
              1,
              "#f0f921"
             ]
            ],
            "type": "heatmapgl"
           }
          ],
          "histogram": [
           {
            "marker": {
             "colorbar": {
              "outlinewidth": 0,
              "ticks": ""
             }
            },
            "type": "histogram"
           }
          ],
          "histogram2d": [
           {
            "colorbar": {
             "outlinewidth": 0,
             "ticks": ""
            },
            "colorscale": [
             [
              0,
              "#0d0887"
             ],
             [
              0.1111111111111111,
              "#46039f"
             ],
             [
              0.2222222222222222,
              "#7201a8"
             ],
             [
              0.3333333333333333,
              "#9c179e"
             ],
             [
              0.4444444444444444,
              "#bd3786"
             ],
             [
              0.5555555555555556,
              "#d8576b"
             ],
             [
              0.6666666666666666,
              "#ed7953"
             ],
             [
              0.7777777777777778,
              "#fb9f3a"
             ],
             [
              0.8888888888888888,
              "#fdca26"
             ],
             [
              1,
              "#f0f921"
             ]
            ],
            "type": "histogram2d"
           }
          ],
          "histogram2dcontour": [
           {
            "colorbar": {
             "outlinewidth": 0,
             "ticks": ""
            },
            "colorscale": [
             [
              0,
              "#0d0887"
             ],
             [
              0.1111111111111111,
              "#46039f"
             ],
             [
              0.2222222222222222,
              "#7201a8"
             ],
             [
              0.3333333333333333,
              "#9c179e"
             ],
             [
              0.4444444444444444,
              "#bd3786"
             ],
             [
              0.5555555555555556,
              "#d8576b"
             ],
             [
              0.6666666666666666,
              "#ed7953"
             ],
             [
              0.7777777777777778,
              "#fb9f3a"
             ],
             [
              0.8888888888888888,
              "#fdca26"
             ],
             [
              1,
              "#f0f921"
             ]
            ],
            "type": "histogram2dcontour"
           }
          ],
          "mesh3d": [
           {
            "colorbar": {
             "outlinewidth": 0,
             "ticks": ""
            },
            "type": "mesh3d"
           }
          ],
          "parcoords": [
           {
            "line": {
             "colorbar": {
              "outlinewidth": 0,
              "ticks": ""
             }
            },
            "type": "parcoords"
           }
          ],
          "pie": [
           {
            "automargin": true,
            "type": "pie"
           }
          ],
          "scatter": [
           {
            "marker": {
             "colorbar": {
              "outlinewidth": 0,
              "ticks": ""
             }
            },
            "type": "scatter"
           }
          ],
          "scatter3d": [
           {
            "line": {
             "colorbar": {
              "outlinewidth": 0,
              "ticks": ""
             }
            },
            "marker": {
             "colorbar": {
              "outlinewidth": 0,
              "ticks": ""
             }
            },
            "type": "scatter3d"
           }
          ],
          "scattercarpet": [
           {
            "marker": {
             "colorbar": {
              "outlinewidth": 0,
              "ticks": ""
             }
            },
            "type": "scattercarpet"
           }
          ],
          "scattergeo": [
           {
            "marker": {
             "colorbar": {
              "outlinewidth": 0,
              "ticks": ""
             }
            },
            "type": "scattergeo"
           }
          ],
          "scattergl": [
           {
            "marker": {
             "colorbar": {
              "outlinewidth": 0,
              "ticks": ""
             }
            },
            "type": "scattergl"
           }
          ],
          "scattermapbox": [
           {
            "marker": {
             "colorbar": {
              "outlinewidth": 0,
              "ticks": ""
             }
            },
            "type": "scattermapbox"
           }
          ],
          "scatterpolar": [
           {
            "marker": {
             "colorbar": {
              "outlinewidth": 0,
              "ticks": ""
             }
            },
            "type": "scatterpolar"
           }
          ],
          "scatterpolargl": [
           {
            "marker": {
             "colorbar": {
              "outlinewidth": 0,
              "ticks": ""
             }
            },
            "type": "scatterpolargl"
           }
          ],
          "scatterternary": [
           {
            "marker": {
             "colorbar": {
              "outlinewidth": 0,
              "ticks": ""
             }
            },
            "type": "scatterternary"
           }
          ],
          "surface": [
           {
            "colorbar": {
             "outlinewidth": 0,
             "ticks": ""
            },
            "colorscale": [
             [
              0,
              "#0d0887"
             ],
             [
              0.1111111111111111,
              "#46039f"
             ],
             [
              0.2222222222222222,
              "#7201a8"
             ],
             [
              0.3333333333333333,
              "#9c179e"
             ],
             [
              0.4444444444444444,
              "#bd3786"
             ],
             [
              0.5555555555555556,
              "#d8576b"
             ],
             [
              0.6666666666666666,
              "#ed7953"
             ],
             [
              0.7777777777777778,
              "#fb9f3a"
             ],
             [
              0.8888888888888888,
              "#fdca26"
             ],
             [
              1,
              "#f0f921"
             ]
            ],
            "type": "surface"
           }
          ],
          "table": [
           {
            "cells": {
             "fill": {
              "color": "#EBF0F8"
             },
             "line": {
              "color": "white"
             }
            },
            "header": {
             "fill": {
              "color": "#C8D4E3"
             },
             "line": {
              "color": "white"
             }
            },
            "type": "table"
           }
          ]
         },
         "layout": {
          "annotationdefaults": {
           "arrowcolor": "#2a3f5f",
           "arrowhead": 0,
           "arrowwidth": 1
          },
          "autotypenumbers": "strict",
          "coloraxis": {
           "colorbar": {
            "outlinewidth": 0,
            "ticks": ""
           }
          },
          "colorscale": {
           "diverging": [
            [
             0,
             "#8e0152"
            ],
            [
             0.1,
             "#c51b7d"
            ],
            [
             0.2,
             "#de77ae"
            ],
            [
             0.3,
             "#f1b6da"
            ],
            [
             0.4,
             "#fde0ef"
            ],
            [
             0.5,
             "#f7f7f7"
            ],
            [
             0.6,
             "#e6f5d0"
            ],
            [
             0.7,
             "#b8e186"
            ],
            [
             0.8,
             "#7fbc41"
            ],
            [
             0.9,
             "#4d9221"
            ],
            [
             1,
             "#276419"
            ]
           ],
           "sequential": [
            [
             0,
             "#0d0887"
            ],
            [
             0.1111111111111111,
             "#46039f"
            ],
            [
             0.2222222222222222,
             "#7201a8"
            ],
            [
             0.3333333333333333,
             "#9c179e"
            ],
            [
             0.4444444444444444,
             "#bd3786"
            ],
            [
             0.5555555555555556,
             "#d8576b"
            ],
            [
             0.6666666666666666,
             "#ed7953"
            ],
            [
             0.7777777777777778,
             "#fb9f3a"
            ],
            [
             0.8888888888888888,
             "#fdca26"
            ],
            [
             1,
             "#f0f921"
            ]
           ],
           "sequentialminus": [
            [
             0,
             "#0d0887"
            ],
            [
             0.1111111111111111,
             "#46039f"
            ],
            [
             0.2222222222222222,
             "#7201a8"
            ],
            [
             0.3333333333333333,
             "#9c179e"
            ],
            [
             0.4444444444444444,
             "#bd3786"
            ],
            [
             0.5555555555555556,
             "#d8576b"
            ],
            [
             0.6666666666666666,
             "#ed7953"
            ],
            [
             0.7777777777777778,
             "#fb9f3a"
            ],
            [
             0.8888888888888888,
             "#fdca26"
            ],
            [
             1,
             "#f0f921"
            ]
           ]
          },
          "colorway": [
           "#636efa",
           "#EF553B",
           "#00cc96",
           "#ab63fa",
           "#FFA15A",
           "#19d3f3",
           "#FF6692",
           "#B6E880",
           "#FF97FF",
           "#FECB52"
          ],
          "font": {
           "color": "#2a3f5f"
          },
          "geo": {
           "bgcolor": "white",
           "lakecolor": "white",
           "landcolor": "#E5ECF6",
           "showlakes": true,
           "showland": true,
           "subunitcolor": "white"
          },
          "hoverlabel": {
           "align": "left"
          },
          "hovermode": "closest",
          "mapbox": {
           "style": "light"
          },
          "paper_bgcolor": "white",
          "plot_bgcolor": "#E5ECF6",
          "polar": {
           "angularaxis": {
            "gridcolor": "white",
            "linecolor": "white",
            "ticks": ""
           },
           "bgcolor": "#E5ECF6",
           "radialaxis": {
            "gridcolor": "white",
            "linecolor": "white",
            "ticks": ""
           }
          },
          "scene": {
           "xaxis": {
            "backgroundcolor": "#E5ECF6",
            "gridcolor": "white",
            "gridwidth": 2,
            "linecolor": "white",
            "showbackground": true,
            "ticks": "",
            "zerolinecolor": "white"
           },
           "yaxis": {
            "backgroundcolor": "#E5ECF6",
            "gridcolor": "white",
            "gridwidth": 2,
            "linecolor": "white",
            "showbackground": true,
            "ticks": "",
            "zerolinecolor": "white"
           },
           "zaxis": {
            "backgroundcolor": "#E5ECF6",
            "gridcolor": "white",
            "gridwidth": 2,
            "linecolor": "white",
            "showbackground": true,
            "ticks": "",
            "zerolinecolor": "white"
           }
          },
          "shapedefaults": {
           "line": {
            "color": "#2a3f5f"
           }
          },
          "ternary": {
           "aaxis": {
            "gridcolor": "white",
            "linecolor": "white",
            "ticks": ""
           },
           "baxis": {
            "gridcolor": "white",
            "linecolor": "white",
            "ticks": ""
           },
           "bgcolor": "#E5ECF6",
           "caxis": {
            "gridcolor": "white",
            "linecolor": "white",
            "ticks": ""
           }
          },
          "title": {
           "x": 0.05
          },
          "xaxis": {
           "automargin": true,
           "gridcolor": "white",
           "linecolor": "white",
           "ticks": "",
           "title": {
            "standoff": 15
           },
           "zerolinecolor": "white",
           "zerolinewidth": 2
          },
          "yaxis": {
           "automargin": true,
           "gridcolor": "white",
           "linecolor": "white",
           "ticks": "",
           "title": {
            "standoff": 15
           },
           "zerolinecolor": "white",
           "zerolinewidth": 2
          }
         }
        },
        "title": {
         "font": {
          "color": "#4D5663"
         }
        },
        "xaxis": {
         "gridcolor": "#E1E5ED",
         "showgrid": true,
         "tickfont": {
          "color": "#4D5663"
         },
         "title": {
          "font": {
           "color": "#4D5663"
          },
          "text": ""
         },
         "zerolinecolor": "#E1E5ED"
        },
        "xaxis2": {
         "anchor": "y2",
         "gridcolor": "#E1E5ED",
         "showgrid": true,
         "showticklabels": false,
         "tickfont": {
          "color": "#4D5663"
         },
         "title": {
          "font": {
           "color": "#4D5663"
          },
          "text": ""
         },
         "zerolinecolor": "#E1E5ED"
        },
        "yaxis": {
         "domain": [
          0.3,
          1
         ],
         "gridcolor": "#E1E5ED",
         "showgrid": true,
         "tickfont": {
          "color": "#4D5663"
         },
         "title": {
          "font": {
           "color": "#4D5663"
          },
          "text": ""
         },
         "zerolinecolor": "#E1E5ED"
        },
        "yaxis2": {
         "domain": [
          0,
          0.25
         ],
         "gridcolor": "#E1E5ED",
         "showgrid": true,
         "tickfont": {
          "color": "#4D5663"
         },
         "title": {
          "font": {
           "color": "#4D5663"
          },
          "text": "Spread"
         },
         "zerolinecolor": "#E1E5ED"
        }
       }
      },
      "text/html": "<div>                            <div id=\"29bc9bf6-6584-41db-a2f0-59d4df7ddaed\" class=\"plotly-graph-div\" style=\"height:525px; width:100%;\"></div>            <script type=\"text/javascript\">                require([\"plotly\"], function(Plotly) {                    window.PLOTLYENV=window.PLOTLYENV || {};\n                    window.PLOTLYENV.BASE_URL='https://plot.ly';                                    if (document.getElementById(\"29bc9bf6-6584-41db-a2f0-59d4df7ddaed\")) {                    Plotly.newPlot(                        \"29bc9bf6-6584-41db-a2f0-59d4df7ddaed\",                        [{\"line\": {\"color\": \"rgba(255, 153, 51, 1.0)\", \"dash\": \"solid\", \"shape\": \"linear\", \"width\": 1.3}, \"mode\": \"lines\", \"name\": \"A\", \"text\": \"\", \"type\": \"scatter\", \"x\": [0, 1, 2, 3, 4, 5, 6, 7, 8, 9, 10, 11, 12, 13, 14, 15, 16, 17, 18, 19, 20, 21, 22, 23, 24, 25, 26, 27, 28, 29, 30, 31, 32, 33, 34, 35, 36, 37, 38, 39, 40, 41, 42, 43, 44, 45, 46, 47, 48, 49, 50, 51, 52, 53, 54, 55, 56, 57, 58, 59, 60, 61, 62, 63, 64, 65, 66, 67, 68, 69, 70, 71, 72, 73, 74, 75, 76, 77, 78, 79, 80, 81, 82, 83, 84, 85, 86, 87, 88, 89, 90, 91, 92, 93, 94, 95, 96, 97, 98, 99], \"y\": [0.3419584291255313, 2.361780384778356, 0.9119528973909766, 0.7843148177858439, 0.19788293810360227, 0.14792586818241837, -0.9642251958129214, -0.9982883475458826, -1.1325513846419084, -0.34775573601765764, 0.05614453083062882, -1.8350439315471765, 0.5511018764251773, 0.17988137422617523, -1.065227814836348, 0.3586145152614117, 2.411605482613125, 0.3560938040312589, 0.36786610050285107, -2.6002826096447857, -0.7981799468689968, -0.9645031821395916, 0.023965620965615043, -0.7365368491710338, -0.004858042010386315, -1.3623500370271893, -0.4525814500361433, 0.7058262779117401, 0.3440578447346543, -0.6854853356129478, -1.175912357533231, -0.06250042438078895, 0.3714797107838847, 1.3432775395609564, 0.7180364148121844, 2.7251283264314794, -1.7927981428516335, 0.30526270927024285, 0.07066587428438767, 0.9829832457917175, 0.2481333939762536, 1.2611119707431302, 0.39120023817415484, 1.4126639401837995, -0.2543019620938231, -1.0808580728245565, 0.21293978874229247, -1.817542673207612, 0.5705140433534914, 0.07031969294279024, -1.7310193046540587, -0.009968310223363802, -1.0487616328861715, 0.23392266236390605, -1.1403254897435495, -0.009551520847821338, 0.0587528290155611, 0.27327642074331, 0.5952762262270923, 0.34922564728692723, 0.3506158007930843, -0.7194723669016722, -0.969386453754765, 0.07607441829377784, 0.8224531813525415, -0.4267717900771313, -0.40179473694537243, 0.8730785586025657, 0.8772569764458129, 1.7525966859134534, -0.38937715784865456, -0.07128387192799915, 0.4374266412162082, 1.0066948777907512, -0.8108547122537352, -0.12424666495990376, 0.2694509128538412, -0.5798316475284768, 0.3201902642191978, -1.1253119761184023, 0.8853008752799159, 0.9710304851537905, -0.054131980511390745, -0.17879880928332045, 0.5731252894387706, 2.1638795628246785, 1.3828172329633255, 2.1851828911286226, 0.5855947229103255, -1.314182568919194, -0.7986574709761567, -0.6434624893139342, -0.9091145307420864, -0.8156862985068415, -0.8784194413581975, 0.28373706115674197, -0.6956611445601208, 1.4316076867251473, 0.8162399203140172, -0.7460467107715341]}, {\"line\": {\"color\": \"rgba(55, 128, 191, 1.0)\", \"dash\": \"solid\", \"shape\": \"linear\", \"width\": 1.3}, \"mode\": \"lines\", \"name\": \"B\", \"text\": \"\", \"type\": \"scatter\", \"x\": [0, 1, 2, 3, 4, 5, 6, 7, 8, 9, 10, 11, 12, 13, 14, 15, 16, 17, 18, 19, 20, 21, 22, 23, 24, 25, 26, 27, 28, 29, 30, 31, 32, 33, 34, 35, 36, 37, 38, 39, 40, 41, 42, 43, 44, 45, 46, 47, 48, 49, 50, 51, 52, 53, 54, 55, 56, 57, 58, 59, 60, 61, 62, 63, 64, 65, 66, 67, 68, 69, 70, 71, 72, 73, 74, 75, 76, 77, 78, 79, 80, 81, 82, 83, 84, 85, 86, 87, 88, 89, 90, 91, 92, 93, 94, 95, 96, 97, 98, 99], \"y\": [-1.2469675844086194, 2.9891513099497544, 0.1017309838125147, 0.02548119832841038, 1.9193919674365298, -0.20182906842565754, 0.34360603457165223, -0.2249471960281491, -0.9850353052474844, -0.4559661499288387, -0.3878301319310226, 1.1082652594076037, 0.8744392746857205, 1.0093918400229367, -0.5394935232766637, -0.803745333849395, -0.6518641752351033, -0.43622292742754704, 1.433979164394179, -0.20860370790793073, 0.15344776935200735, -0.24292160640219418, 1.1989580674290223, -1.1443449709961133, -0.09993272796215072, 0.10083254924068984, -0.35213515431348485, -1.2061255943422544, 1.0970022135175945, -0.6800842183802278, -0.07119109631676689, 0.26860378089458553, -1.3759056290183418, 0.2669198011313815, 0.4534602278898926, 0.01047672724603757, -1.2522099425982471, -0.10554046833546744, 1.548445310306408, -0.06588810735895306, 0.6760987700300749, -0.0420202255577279, 1.8378273002595218, -0.6078283434805584, 1.5282024981691928, -0.2754917649929963, -0.5399326467480746, 0.6224826249171681, 0.47795041715071557, 0.6278077101583388, -1.3409423856968694, -0.7706624003108283, 0.015473729679894384, 0.26319508876425185, 1.0028321641640017, -0.807548524223669, 0.9869502776032817, -1.28221797054689, -1.1449359698029302, -0.6395403941539245, 2.4047917183665826, 0.27108517431821616, -1.2451142203486658, -0.9178682146002846, -0.14570048592133691, -0.6272356706833567, -0.8514150741598167, 1.3091254912388204, 0.05193399027756955, -0.002553724868215908, -1.1324415602896714, 1.438180944671712, 0.6043815252099933, 0.3150816994390484, -0.09226594346437388, -1.6197115478527, -1.075865500583438, 0.7486483332115086, 0.19586000178350335, -0.12224064694673781, -0.5599448183549804, 0.3622861605064426, -1.4558631826967452, 1.7992281941455563, -0.5220566801522477, -0.9653810326273534, -0.7122912093233262, 2.2326519358646375, -0.2406418434421078, 0.804193973114719, 1.0070051946632714, 0.5420153009884275, -0.7734745290640057, -0.48601676911296376, 1.6060186504018106, -0.5062587167544614, -0.09464116750951326, -1.3098800820079146, 1.0224650955995838, 1.0548935522161016]}, {\"connectgaps\": false, \"fill\": \"tozeroy\", \"line\": {\"color\": \"green\", \"dash\": \"solid\", \"shape\": \"linear\", \"width\": 0.5}, \"mode\": \"lines\", \"name\": \"Spread\", \"showlegend\": false, \"type\": \"scatter\", \"x\": [0, 1, 2, 3, 4, 5, 6, 7, 8, 9, 10, 11, 12, 13, 14, 15, 16, 17, 18, 19, 20, 21, 22, 23, 24, 25, 26, 27, 28, 29, 30, 31, 32, 33, 34, 35, 36, 37, 38, 39, 40, 41, 42, 43, 44, 45, 46, 47, 48, 49, 50, 51, 52, 53, 54, 55, 56, 57, 58, 59, 60, 61, 62, 63, 64, 65, 66, 67, 68, 69, 70, 71, 72, 73, 74, 75, 76, 77, 78, 79, 80, 81, 82, 83, 84, 85, 86, 87, 88, 89, 90, 91, 92, 93, 94, 95, 96, 97, 98, 99], \"xaxis\": \"x2\", \"y\": [1.5889260135341507, \"\", 0.810221913578462, 0.7588336194574336, \"\", 0.3497549366080759, \"\", \"\", \"\", 0.10821041391118108, 0.44397466276165143, \"\", \"\", \"\", \"\", 1.1623598491108067, 3.063469657848228, 0.792316731458806, \"\", \"\", \"\", \"\", \"\", 0.40780812182507953, 0.09507468595176441, \"\", \"\", 1.9119518722539945, \"\", \"\", \"\", \"\", 1.7473853398022265, 1.076357738429575, 0.2645761869222918, 2.7146515991854416, \"\", 0.4108031776057103, \"\", 1.0488713531506706, \"\", 1.3031321963008582, \"\", 2.0204922836643577, \"\", \"\", 0.7528724354903671, \"\", 0.09256362620277586, \"\", \"\", 0.7606940900874646, \"\", \"\", \"\", 0.7979970033758477, \"\", 1.5554943912902, 1.7402121960300225, 0.9887660414408517, \"\", \"\", 0.27572776659390086, 0.9939426328940624, 0.9681536672738784, 0.20046388060622544, 0.4496203372144442, \"\", 0.8253229861682434, 1.7551504107816693, 0.7430644024410168, \"\", \"\", 0.6916131783517028, \"\", 1.4954648828927963, 1.3453164134372793, \"\", 0.12433026243569442, \"\", 1.4452456936348963, 0.608744324647348, 1.4017312021853545, \"\", 1.0951819695910183, 3.129260595452032, 2.0951084422866515, \"\", 0.8262365663524334, \"\", \"\", \"\", \"\", \"\", \"\", 0.7899957779112035, \"\", 2.741487768733062, \"\", \"\"], \"yaxis\": \"y2\"}, {\"connectgaps\": false, \"fill\": \"tozeroy\", \"line\": {\"color\": \"red\", \"dash\": \"solid\", \"shape\": \"linear\", \"width\": 0.5}, \"mode\": \"lines\", \"name\": \"Spread\", \"showlegend\": false, \"type\": \"scatter\", \"x\": [0, 1, 2, 3, 4, 5, 6, 7, 8, 9, 10, 11, 12, 13, 14, 15, 16, 17, 18, 19, 20, 21, 22, 23, 24, 25, 26, 27, 28, 29, 30, 31, 32, 33, 34, 35, 36, 37, 38, 39, 40, 41, 42, 43, 44, 45, 46, 47, 48, 49, 50, 51, 52, 53, 54, 55, 56, 57, 58, 59, 60, 61, 62, 63, 64, 65, 66, 67, 68, 69, 70, 71, 72, 73, 74, 75, 76, 77, 78, 79, 80, 81, 82, 83, 84, 85, 86, 87, 88, 89, 90, 91, 92, 93, 94, 95, 96, 97, 98, 99], \"xaxis\": \"x2\", \"y\": [\"\", -0.6273709251713986, \"\", \"\", -1.7215090293329276, \"\", -1.3078312303845736, -0.7733411515177335, -0.14751607939442402, \"\", \"\", -2.94330919095478, -0.3233373982605432, -0.8295104657967615, -0.5257342915596844, \"\", \"\", \"\", -1.0661130638913279, -2.391678901736855, -0.9516277162210042, -0.7215815757373975, -1.1749924464634074, \"\", \"\", -1.4631825862678791, -0.10044629572265845, \"\", -0.7529443687829402, -0.005401117232719965, -1.1047212612164643, -0.3311042052753745, \"\", \"\", \"\", \"\", -0.5405882002533864, \"\", -1.4777794360220202, \"\", -0.4279653760538213, \"\", -1.446627062085367, \"\", -1.782504460263016, -0.8053663078315602, \"\", -2.4400252981247803, \"\", -0.5574880172155485, -0.3900769189571893, \"\", -1.0642353625660659, -0.029272426400345802, -2.143157653907551, \"\", -0.9281974485877206, \"\", \"\", \"\", -2.0541759175734984, -0.9905575412198884, \"\", \"\", \"\", \"\", \"\", -0.4360469326362547, \"\", \"\", \"\", -1.509464816599711, -0.1669548839937851, \"\", -0.7185887687893613, \"\", \"\", -1.3284799807399854, \"\", -1.0030713291716644, \"\", \"\", \"\", -1.9780270034288767, \"\", \"\", \"\", -0.047469044736014876, \"\", -2.118376542033913, -1.8056626656394281, -1.185477790302362, -0.13564000167808066, -0.3296695293938777, -2.484438091760008, \"\", -0.6010199770506076, \"\", -0.2062251752855666, -1.8009402629876357], \"yaxis\": \"y2\"}],                        {\"hovermode\": \"x\", \"legend\": {\"bgcolor\": \"#F5F6F9\", \"font\": {\"color\": \"#4D5663\"}}, \"paper_bgcolor\": \"#F5F6F9\", \"plot_bgcolor\": \"#F5F6F9\", \"template\": {\"data\": {\"bar\": [{\"error_x\": {\"color\": \"#2a3f5f\"}, \"error_y\": {\"color\": \"#2a3f5f\"}, \"marker\": {\"line\": {\"color\": \"#E5ECF6\", \"width\": 0.5}}, \"type\": \"bar\"}], \"barpolar\": [{\"marker\": {\"line\": {\"color\": \"#E5ECF6\", \"width\": 0.5}}, \"type\": \"barpolar\"}], \"carpet\": [{\"aaxis\": {\"endlinecolor\": \"#2a3f5f\", \"gridcolor\": \"white\", \"linecolor\": \"white\", \"minorgridcolor\": \"white\", \"startlinecolor\": \"#2a3f5f\"}, \"baxis\": {\"endlinecolor\": \"#2a3f5f\", \"gridcolor\": \"white\", \"linecolor\": \"white\", \"minorgridcolor\": \"white\", \"startlinecolor\": \"#2a3f5f\"}, \"type\": \"carpet\"}], \"choropleth\": [{\"colorbar\": {\"outlinewidth\": 0, \"ticks\": \"\"}, \"type\": \"choropleth\"}], \"contour\": [{\"colorbar\": {\"outlinewidth\": 0, \"ticks\": \"\"}, \"colorscale\": [[0.0, \"#0d0887\"], [0.1111111111111111, \"#46039f\"], [0.2222222222222222, \"#7201a8\"], [0.3333333333333333, \"#9c179e\"], [0.4444444444444444, \"#bd3786\"], [0.5555555555555556, \"#d8576b\"], [0.6666666666666666, \"#ed7953\"], [0.7777777777777778, \"#fb9f3a\"], [0.8888888888888888, \"#fdca26\"], [1.0, \"#f0f921\"]], \"type\": \"contour\"}], \"contourcarpet\": [{\"colorbar\": {\"outlinewidth\": 0, \"ticks\": \"\"}, \"type\": \"contourcarpet\"}], \"heatmap\": [{\"colorbar\": {\"outlinewidth\": 0, \"ticks\": \"\"}, \"colorscale\": [[0.0, \"#0d0887\"], [0.1111111111111111, \"#46039f\"], [0.2222222222222222, \"#7201a8\"], [0.3333333333333333, \"#9c179e\"], [0.4444444444444444, \"#bd3786\"], [0.5555555555555556, \"#d8576b\"], [0.6666666666666666, \"#ed7953\"], [0.7777777777777778, \"#fb9f3a\"], [0.8888888888888888, \"#fdca26\"], [1.0, \"#f0f921\"]], \"type\": \"heatmap\"}], \"heatmapgl\": [{\"colorbar\": {\"outlinewidth\": 0, \"ticks\": \"\"}, \"colorscale\": [[0.0, \"#0d0887\"], [0.1111111111111111, \"#46039f\"], [0.2222222222222222, \"#7201a8\"], [0.3333333333333333, \"#9c179e\"], [0.4444444444444444, \"#bd3786\"], [0.5555555555555556, \"#d8576b\"], [0.6666666666666666, \"#ed7953\"], [0.7777777777777778, \"#fb9f3a\"], [0.8888888888888888, \"#fdca26\"], [1.0, \"#f0f921\"]], \"type\": \"heatmapgl\"}], \"histogram\": [{\"marker\": {\"colorbar\": {\"outlinewidth\": 0, \"ticks\": \"\"}}, \"type\": \"histogram\"}], \"histogram2d\": [{\"colorbar\": {\"outlinewidth\": 0, \"ticks\": \"\"}, \"colorscale\": [[0.0, \"#0d0887\"], [0.1111111111111111, \"#46039f\"], [0.2222222222222222, \"#7201a8\"], [0.3333333333333333, \"#9c179e\"], [0.4444444444444444, \"#bd3786\"], [0.5555555555555556, \"#d8576b\"], [0.6666666666666666, \"#ed7953\"], [0.7777777777777778, \"#fb9f3a\"], [0.8888888888888888, \"#fdca26\"], [1.0, \"#f0f921\"]], \"type\": \"histogram2d\"}], \"histogram2dcontour\": [{\"colorbar\": {\"outlinewidth\": 0, \"ticks\": \"\"}, \"colorscale\": [[0.0, \"#0d0887\"], [0.1111111111111111, \"#46039f\"], [0.2222222222222222, \"#7201a8\"], [0.3333333333333333, \"#9c179e\"], [0.4444444444444444, \"#bd3786\"], [0.5555555555555556, \"#d8576b\"], [0.6666666666666666, \"#ed7953\"], [0.7777777777777778, \"#fb9f3a\"], [0.8888888888888888, \"#fdca26\"], [1.0, \"#f0f921\"]], \"type\": \"histogram2dcontour\"}], \"mesh3d\": [{\"colorbar\": {\"outlinewidth\": 0, \"ticks\": \"\"}, \"type\": \"mesh3d\"}], \"parcoords\": [{\"line\": {\"colorbar\": {\"outlinewidth\": 0, \"ticks\": \"\"}}, \"type\": \"parcoords\"}], \"pie\": [{\"automargin\": true, \"type\": \"pie\"}], \"scatter\": [{\"marker\": {\"colorbar\": {\"outlinewidth\": 0, \"ticks\": \"\"}}, \"type\": \"scatter\"}], \"scatter3d\": [{\"line\": {\"colorbar\": {\"outlinewidth\": 0, \"ticks\": \"\"}}, \"marker\": {\"colorbar\": {\"outlinewidth\": 0, \"ticks\": \"\"}}, \"type\": \"scatter3d\"}], \"scattercarpet\": [{\"marker\": {\"colorbar\": {\"outlinewidth\": 0, \"ticks\": \"\"}}, \"type\": \"scattercarpet\"}], \"scattergeo\": [{\"marker\": {\"colorbar\": {\"outlinewidth\": 0, \"ticks\": \"\"}}, \"type\": \"scattergeo\"}], \"scattergl\": [{\"marker\": {\"colorbar\": {\"outlinewidth\": 0, \"ticks\": \"\"}}, \"type\": \"scattergl\"}], \"scattermapbox\": [{\"marker\": {\"colorbar\": {\"outlinewidth\": 0, \"ticks\": \"\"}}, \"type\": \"scattermapbox\"}], \"scatterpolar\": [{\"marker\": {\"colorbar\": {\"outlinewidth\": 0, \"ticks\": \"\"}}, \"type\": \"scatterpolar\"}], \"scatterpolargl\": [{\"marker\": {\"colorbar\": {\"outlinewidth\": 0, \"ticks\": \"\"}}, \"type\": \"scatterpolargl\"}], \"scatterternary\": [{\"marker\": {\"colorbar\": {\"outlinewidth\": 0, \"ticks\": \"\"}}, \"type\": \"scatterternary\"}], \"surface\": [{\"colorbar\": {\"outlinewidth\": 0, \"ticks\": \"\"}, \"colorscale\": [[0.0, \"#0d0887\"], [0.1111111111111111, \"#46039f\"], [0.2222222222222222, \"#7201a8\"], [0.3333333333333333, \"#9c179e\"], [0.4444444444444444, \"#bd3786\"], [0.5555555555555556, \"#d8576b\"], [0.6666666666666666, \"#ed7953\"], [0.7777777777777778, \"#fb9f3a\"], [0.8888888888888888, \"#fdca26\"], [1.0, \"#f0f921\"]], \"type\": \"surface\"}], \"table\": [{\"cells\": {\"fill\": {\"color\": \"#EBF0F8\"}, \"line\": {\"color\": \"white\"}}, \"header\": {\"fill\": {\"color\": \"#C8D4E3\"}, \"line\": {\"color\": \"white\"}}, \"type\": \"table\"}]}, \"layout\": {\"annotationdefaults\": {\"arrowcolor\": \"#2a3f5f\", \"arrowhead\": 0, \"arrowwidth\": 1}, \"autotypenumbers\": \"strict\", \"coloraxis\": {\"colorbar\": {\"outlinewidth\": 0, \"ticks\": \"\"}}, \"colorscale\": {\"diverging\": [[0, \"#8e0152\"], [0.1, \"#c51b7d\"], [0.2, \"#de77ae\"], [0.3, \"#f1b6da\"], [0.4, \"#fde0ef\"], [0.5, \"#f7f7f7\"], [0.6, \"#e6f5d0\"], [0.7, \"#b8e186\"], [0.8, \"#7fbc41\"], [0.9, \"#4d9221\"], [1, \"#276419\"]], \"sequential\": [[0.0, \"#0d0887\"], [0.1111111111111111, \"#46039f\"], [0.2222222222222222, \"#7201a8\"], [0.3333333333333333, \"#9c179e\"], [0.4444444444444444, \"#bd3786\"], [0.5555555555555556, \"#d8576b\"], [0.6666666666666666, \"#ed7953\"], [0.7777777777777778, \"#fb9f3a\"], [0.8888888888888888, \"#fdca26\"], [1.0, \"#f0f921\"]], \"sequentialminus\": [[0.0, \"#0d0887\"], [0.1111111111111111, \"#46039f\"], [0.2222222222222222, \"#7201a8\"], [0.3333333333333333, \"#9c179e\"], [0.4444444444444444, \"#bd3786\"], [0.5555555555555556, \"#d8576b\"], [0.6666666666666666, \"#ed7953\"], [0.7777777777777778, \"#fb9f3a\"], [0.8888888888888888, \"#fdca26\"], [1.0, \"#f0f921\"]]}, \"colorway\": [\"#636efa\", \"#EF553B\", \"#00cc96\", \"#ab63fa\", \"#FFA15A\", \"#19d3f3\", \"#FF6692\", \"#B6E880\", \"#FF97FF\", \"#FECB52\"], \"font\": {\"color\": \"#2a3f5f\"}, \"geo\": {\"bgcolor\": \"white\", \"lakecolor\": \"white\", \"landcolor\": \"#E5ECF6\", \"showlakes\": true, \"showland\": true, \"subunitcolor\": \"white\"}, \"hoverlabel\": {\"align\": \"left\"}, \"hovermode\": \"closest\", \"mapbox\": {\"style\": \"light\"}, \"paper_bgcolor\": \"white\", \"plot_bgcolor\": \"#E5ECF6\", \"polar\": {\"angularaxis\": {\"gridcolor\": \"white\", \"linecolor\": \"white\", \"ticks\": \"\"}, \"bgcolor\": \"#E5ECF6\", \"radialaxis\": {\"gridcolor\": \"white\", \"linecolor\": \"white\", \"ticks\": \"\"}}, \"scene\": {\"xaxis\": {\"backgroundcolor\": \"#E5ECF6\", \"gridcolor\": \"white\", \"gridwidth\": 2, \"linecolor\": \"white\", \"showbackground\": true, \"ticks\": \"\", \"zerolinecolor\": \"white\"}, \"yaxis\": {\"backgroundcolor\": \"#E5ECF6\", \"gridcolor\": \"white\", \"gridwidth\": 2, \"linecolor\": \"white\", \"showbackground\": true, \"ticks\": \"\", \"zerolinecolor\": \"white\"}, \"zaxis\": {\"backgroundcolor\": \"#E5ECF6\", \"gridcolor\": \"white\", \"gridwidth\": 2, \"linecolor\": \"white\", \"showbackground\": true, \"ticks\": \"\", \"zerolinecolor\": \"white\"}}, \"shapedefaults\": {\"line\": {\"color\": \"#2a3f5f\"}}, \"ternary\": {\"aaxis\": {\"gridcolor\": \"white\", \"linecolor\": \"white\", \"ticks\": \"\"}, \"baxis\": {\"gridcolor\": \"white\", \"linecolor\": \"white\", \"ticks\": \"\"}, \"bgcolor\": \"#E5ECF6\", \"caxis\": {\"gridcolor\": \"white\", \"linecolor\": \"white\", \"ticks\": \"\"}}, \"title\": {\"x\": 0.05}, \"xaxis\": {\"automargin\": true, \"gridcolor\": \"white\", \"linecolor\": \"white\", \"ticks\": \"\", \"title\": {\"standoff\": 15}, \"zerolinecolor\": \"white\", \"zerolinewidth\": 2}, \"yaxis\": {\"automargin\": true, \"gridcolor\": \"white\", \"linecolor\": \"white\", \"ticks\": \"\", \"title\": {\"standoff\": 15}, \"zerolinecolor\": \"white\", \"zerolinewidth\": 2}}}, \"title\": {\"font\": {\"color\": \"#4D5663\"}}, \"xaxis\": {\"gridcolor\": \"#E1E5ED\", \"showgrid\": true, \"tickfont\": {\"color\": \"#4D5663\"}, \"title\": {\"font\": {\"color\": \"#4D5663\"}, \"text\": \"\"}, \"zerolinecolor\": \"#E1E5ED\"}, \"xaxis2\": {\"anchor\": \"y2\", \"gridcolor\": \"#E1E5ED\", \"showgrid\": true, \"showticklabels\": false, \"tickfont\": {\"color\": \"#4D5663\"}, \"title\": {\"font\": {\"color\": \"#4D5663\"}, \"text\": \"\"}, \"zerolinecolor\": \"#E1E5ED\"}, \"yaxis\": {\"domain\": [0.3, 1], \"gridcolor\": \"#E1E5ED\", \"showgrid\": true, \"tickfont\": {\"color\": \"#4D5663\"}, \"title\": {\"font\": {\"color\": \"#4D5663\"}, \"text\": \"\"}, \"zerolinecolor\": \"#E1E5ED\"}, \"yaxis2\": {\"domain\": [0, 0.25], \"gridcolor\": \"#E1E5ED\", \"showgrid\": true, \"tickfont\": {\"color\": \"#4D5663\"}, \"title\": {\"font\": {\"color\": \"#4D5663\"}, \"text\": \"Spread\"}, \"zerolinecolor\": \"#E1E5ED\"}},                        {\"showLink\": true, \"linkText\": \"Export to plot.ly\", \"plotlyServerURL\": \"https://plot.ly\", \"responsive\": true}                    ).then(function(){\n                            \nvar gd = document.getElementById('29bc9bf6-6584-41db-a2f0-59d4df7ddaed');\nvar x = new MutationObserver(function (mutations, observer) {{\n        var display = window.getComputedStyle(gd).display;\n        if (!display || display === 'none') {{\n            console.log([gd, 'removed!']);\n            Plotly.purge(gd);\n            observer.disconnect();\n        }}\n}});\n\n// Listen for the removal of the full notebook cells\nvar notebookContainer = gd.closest('#notebook-container');\nif (notebookContainer) {{\n    x.observe(notebookContainer, {childList: true});\n}}\n\n// Listen for the clearing of the current output cell\nvar outputEl = gd.closest('.output');\nif (outputEl) {{\n    x.observe(outputEl, {childList: true});\n}}\n\n                        })                };                });            </script>        </div>"
     },
     "metadata": {}
    }
   ],
   "source": [
    "df[['A','B']].iplot(kind='spread')"
   ]
  },
  {
   "cell_type": "markdown",
   "metadata": {},
   "source": [
    "## histogram"
   ]
  },
  {
   "cell_type": "code",
   "execution_count": 16,
   "metadata": {
    "collapsed": false
   },
   "outputs": [
    {
     "output_type": "display_data",
     "data": {
      "application/vnd.plotly.v1+json": {
       "config": {
        "linkText": "Export to plot.ly",
        "plotlyServerURL": "https://plot.ly",
        "showLink": true
       },
       "data": [
        {
         "histfunc": "count",
         "histnorm": "",
         "marker": {
          "color": "rgba(255, 153, 51, 1.0)",
          "line": {
           "color": "#4D5663",
           "width": 1.3
          }
         },
         "name": "A",
         "nbinsx": 25,
         "opacity": 0.8,
         "orientation": "v",
         "type": "histogram",
         "x": [
          0.3419584291255313,
          2.361780384778356,
          0.9119528973909766,
          0.7843148177858439,
          0.19788293810360227,
          0.14792586818241837,
          -0.9642251958129214,
          -0.9982883475458826,
          -1.1325513846419084,
          -0.34775573601765764,
          0.05614453083062882,
          -1.8350439315471765,
          0.5511018764251773,
          0.17988137422617523,
          -1.065227814836348,
          0.3586145152614117,
          2.411605482613125,
          0.3560938040312589,
          0.36786610050285107,
          -2.6002826096447857,
          -0.7981799468689968,
          -0.9645031821395916,
          0.023965620965615043,
          -0.7365368491710338,
          -0.004858042010386315,
          -1.3623500370271893,
          -0.4525814500361433,
          0.7058262779117401,
          0.3440578447346543,
          -0.6854853356129478,
          -1.175912357533231,
          -0.06250042438078895,
          0.3714797107838847,
          1.3432775395609564,
          0.7180364148121844,
          2.7251283264314794,
          -1.7927981428516335,
          0.30526270927024285,
          0.07066587428438767,
          0.9829832457917175,
          0.2481333939762536,
          1.2611119707431302,
          0.39120023817415484,
          1.4126639401837995,
          -0.2543019620938231,
          -1.0808580728245565,
          0.21293978874229247,
          -1.817542673207612,
          0.5705140433534914,
          0.07031969294279024,
          -1.7310193046540587,
          -0.009968310223363802,
          -1.0487616328861715,
          0.23392266236390605,
          -1.1403254897435495,
          -0.009551520847821338,
          0.0587528290155611,
          0.27327642074331,
          0.5952762262270923,
          0.34922564728692723,
          0.3506158007930843,
          -0.7194723669016722,
          -0.969386453754765,
          0.07607441829377784,
          0.8224531813525415,
          -0.4267717900771313,
          -0.40179473694537243,
          0.8730785586025657,
          0.8772569764458129,
          1.7525966859134534,
          -0.38937715784865456,
          -0.07128387192799915,
          0.4374266412162082,
          1.0066948777907512,
          -0.8108547122537352,
          -0.12424666495990376,
          0.2694509128538412,
          -0.5798316475284768,
          0.3201902642191978,
          -1.1253119761184023,
          0.8853008752799159,
          0.9710304851537905,
          -0.054131980511390745,
          -0.17879880928332045,
          0.5731252894387706,
          2.1638795628246785,
          1.3828172329633255,
          2.1851828911286226,
          0.5855947229103255,
          -1.314182568919194,
          -0.7986574709761567,
          -0.6434624893139342,
          -0.9091145307420864,
          -0.8156862985068415,
          -0.8784194413581975,
          0.28373706115674197,
          -0.6956611445601208,
          1.4316076867251473,
          0.8162399203140172,
          -0.7460467107715341
         ]
        }
       ],
       "layout": {
        "barmode": "overlay",
        "legend": {
         "bgcolor": "#F5F6F9",
         "font": {
          "color": "#4D5663"
         }
        },
        "paper_bgcolor": "#F5F6F9",
        "plot_bgcolor": "#F5F6F9",
        "template": {
         "data": {
          "bar": [
           {
            "error_x": {
             "color": "#2a3f5f"
            },
            "error_y": {
             "color": "#2a3f5f"
            },
            "marker": {
             "line": {
              "color": "#E5ECF6",
              "width": 0.5
             }
            },
            "type": "bar"
           }
          ],
          "barpolar": [
           {
            "marker": {
             "line": {
              "color": "#E5ECF6",
              "width": 0.5
             }
            },
            "type": "barpolar"
           }
          ],
          "carpet": [
           {
            "aaxis": {
             "endlinecolor": "#2a3f5f",
             "gridcolor": "white",
             "linecolor": "white",
             "minorgridcolor": "white",
             "startlinecolor": "#2a3f5f"
            },
            "baxis": {
             "endlinecolor": "#2a3f5f",
             "gridcolor": "white",
             "linecolor": "white",
             "minorgridcolor": "white",
             "startlinecolor": "#2a3f5f"
            },
            "type": "carpet"
           }
          ],
          "choropleth": [
           {
            "colorbar": {
             "outlinewidth": 0,
             "ticks": ""
            },
            "type": "choropleth"
           }
          ],
          "contour": [
           {
            "colorbar": {
             "outlinewidth": 0,
             "ticks": ""
            },
            "colorscale": [
             [
              0,
              "#0d0887"
             ],
             [
              0.1111111111111111,
              "#46039f"
             ],
             [
              0.2222222222222222,
              "#7201a8"
             ],
             [
              0.3333333333333333,
              "#9c179e"
             ],
             [
              0.4444444444444444,
              "#bd3786"
             ],
             [
              0.5555555555555556,
              "#d8576b"
             ],
             [
              0.6666666666666666,
              "#ed7953"
             ],
             [
              0.7777777777777778,
              "#fb9f3a"
             ],
             [
              0.8888888888888888,
              "#fdca26"
             ],
             [
              1,
              "#f0f921"
             ]
            ],
            "type": "contour"
           }
          ],
          "contourcarpet": [
           {
            "colorbar": {
             "outlinewidth": 0,
             "ticks": ""
            },
            "type": "contourcarpet"
           }
          ],
          "heatmap": [
           {
            "colorbar": {
             "outlinewidth": 0,
             "ticks": ""
            },
            "colorscale": [
             [
              0,
              "#0d0887"
             ],
             [
              0.1111111111111111,
              "#46039f"
             ],
             [
              0.2222222222222222,
              "#7201a8"
             ],
             [
              0.3333333333333333,
              "#9c179e"
             ],
             [
              0.4444444444444444,
              "#bd3786"
             ],
             [
              0.5555555555555556,
              "#d8576b"
             ],
             [
              0.6666666666666666,
              "#ed7953"
             ],
             [
              0.7777777777777778,
              "#fb9f3a"
             ],
             [
              0.8888888888888888,
              "#fdca26"
             ],
             [
              1,
              "#f0f921"
             ]
            ],
            "type": "heatmap"
           }
          ],
          "heatmapgl": [
           {
            "colorbar": {
             "outlinewidth": 0,
             "ticks": ""
            },
            "colorscale": [
             [
              0,
              "#0d0887"
             ],
             [
              0.1111111111111111,
              "#46039f"
             ],
             [
              0.2222222222222222,
              "#7201a8"
             ],
             [
              0.3333333333333333,
              "#9c179e"
             ],
             [
              0.4444444444444444,
              "#bd3786"
             ],
             [
              0.5555555555555556,
              "#d8576b"
             ],
             [
              0.6666666666666666,
              "#ed7953"
             ],
             [
              0.7777777777777778,
              "#fb9f3a"
             ],
             [
              0.8888888888888888,
              "#fdca26"
             ],
             [
              1,
              "#f0f921"
             ]
            ],
            "type": "heatmapgl"
           }
          ],
          "histogram": [
           {
            "marker": {
             "colorbar": {
              "outlinewidth": 0,
              "ticks": ""
             }
            },
            "type": "histogram"
           }
          ],
          "histogram2d": [
           {
            "colorbar": {
             "outlinewidth": 0,
             "ticks": ""
            },
            "colorscale": [
             [
              0,
              "#0d0887"
             ],
             [
              0.1111111111111111,
              "#46039f"
             ],
             [
              0.2222222222222222,
              "#7201a8"
             ],
             [
              0.3333333333333333,
              "#9c179e"
             ],
             [
              0.4444444444444444,
              "#bd3786"
             ],
             [
              0.5555555555555556,
              "#d8576b"
             ],
             [
              0.6666666666666666,
              "#ed7953"
             ],
             [
              0.7777777777777778,
              "#fb9f3a"
             ],
             [
              0.8888888888888888,
              "#fdca26"
             ],
             [
              1,
              "#f0f921"
             ]
            ],
            "type": "histogram2d"
           }
          ],
          "histogram2dcontour": [
           {
            "colorbar": {
             "outlinewidth": 0,
             "ticks": ""
            },
            "colorscale": [
             [
              0,
              "#0d0887"
             ],
             [
              0.1111111111111111,
              "#46039f"
             ],
             [
              0.2222222222222222,
              "#7201a8"
             ],
             [
              0.3333333333333333,
              "#9c179e"
             ],
             [
              0.4444444444444444,
              "#bd3786"
             ],
             [
              0.5555555555555556,
              "#d8576b"
             ],
             [
              0.6666666666666666,
              "#ed7953"
             ],
             [
              0.7777777777777778,
              "#fb9f3a"
             ],
             [
              0.8888888888888888,
              "#fdca26"
             ],
             [
              1,
              "#f0f921"
             ]
            ],
            "type": "histogram2dcontour"
           }
          ],
          "mesh3d": [
           {
            "colorbar": {
             "outlinewidth": 0,
             "ticks": ""
            },
            "type": "mesh3d"
           }
          ],
          "parcoords": [
           {
            "line": {
             "colorbar": {
              "outlinewidth": 0,
              "ticks": ""
             }
            },
            "type": "parcoords"
           }
          ],
          "pie": [
           {
            "automargin": true,
            "type": "pie"
           }
          ],
          "scatter": [
           {
            "marker": {
             "colorbar": {
              "outlinewidth": 0,
              "ticks": ""
             }
            },
            "type": "scatter"
           }
          ],
          "scatter3d": [
           {
            "line": {
             "colorbar": {
              "outlinewidth": 0,
              "ticks": ""
             }
            },
            "marker": {
             "colorbar": {
              "outlinewidth": 0,
              "ticks": ""
             }
            },
            "type": "scatter3d"
           }
          ],
          "scattercarpet": [
           {
            "marker": {
             "colorbar": {
              "outlinewidth": 0,
              "ticks": ""
             }
            },
            "type": "scattercarpet"
           }
          ],
          "scattergeo": [
           {
            "marker": {
             "colorbar": {
              "outlinewidth": 0,
              "ticks": ""
             }
            },
            "type": "scattergeo"
           }
          ],
          "scattergl": [
           {
            "marker": {
             "colorbar": {
              "outlinewidth": 0,
              "ticks": ""
             }
            },
            "type": "scattergl"
           }
          ],
          "scattermapbox": [
           {
            "marker": {
             "colorbar": {
              "outlinewidth": 0,
              "ticks": ""
             }
            },
            "type": "scattermapbox"
           }
          ],
          "scatterpolar": [
           {
            "marker": {
             "colorbar": {
              "outlinewidth": 0,
              "ticks": ""
             }
            },
            "type": "scatterpolar"
           }
          ],
          "scatterpolargl": [
           {
            "marker": {
             "colorbar": {
              "outlinewidth": 0,
              "ticks": ""
             }
            },
            "type": "scatterpolargl"
           }
          ],
          "scatterternary": [
           {
            "marker": {
             "colorbar": {
              "outlinewidth": 0,
              "ticks": ""
             }
            },
            "type": "scatterternary"
           }
          ],
          "surface": [
           {
            "colorbar": {
             "outlinewidth": 0,
             "ticks": ""
            },
            "colorscale": [
             [
              0,
              "#0d0887"
             ],
             [
              0.1111111111111111,
              "#46039f"
             ],
             [
              0.2222222222222222,
              "#7201a8"
             ],
             [
              0.3333333333333333,
              "#9c179e"
             ],
             [
              0.4444444444444444,
              "#bd3786"
             ],
             [
              0.5555555555555556,
              "#d8576b"
             ],
             [
              0.6666666666666666,
              "#ed7953"
             ],
             [
              0.7777777777777778,
              "#fb9f3a"
             ],
             [
              0.8888888888888888,
              "#fdca26"
             ],
             [
              1,
              "#f0f921"
             ]
            ],
            "type": "surface"
           }
          ],
          "table": [
           {
            "cells": {
             "fill": {
              "color": "#EBF0F8"
             },
             "line": {
              "color": "white"
             }
            },
            "header": {
             "fill": {
              "color": "#C8D4E3"
             },
             "line": {
              "color": "white"
             }
            },
            "type": "table"
           }
          ]
         },
         "layout": {
          "annotationdefaults": {
           "arrowcolor": "#2a3f5f",
           "arrowhead": 0,
           "arrowwidth": 1
          },
          "autotypenumbers": "strict",
          "coloraxis": {
           "colorbar": {
            "outlinewidth": 0,
            "ticks": ""
           }
          },
          "colorscale": {
           "diverging": [
            [
             0,
             "#8e0152"
            ],
            [
             0.1,
             "#c51b7d"
            ],
            [
             0.2,
             "#de77ae"
            ],
            [
             0.3,
             "#f1b6da"
            ],
            [
             0.4,
             "#fde0ef"
            ],
            [
             0.5,
             "#f7f7f7"
            ],
            [
             0.6,
             "#e6f5d0"
            ],
            [
             0.7,
             "#b8e186"
            ],
            [
             0.8,
             "#7fbc41"
            ],
            [
             0.9,
             "#4d9221"
            ],
            [
             1,
             "#276419"
            ]
           ],
           "sequential": [
            [
             0,
             "#0d0887"
            ],
            [
             0.1111111111111111,
             "#46039f"
            ],
            [
             0.2222222222222222,
             "#7201a8"
            ],
            [
             0.3333333333333333,
             "#9c179e"
            ],
            [
             0.4444444444444444,
             "#bd3786"
            ],
            [
             0.5555555555555556,
             "#d8576b"
            ],
            [
             0.6666666666666666,
             "#ed7953"
            ],
            [
             0.7777777777777778,
             "#fb9f3a"
            ],
            [
             0.8888888888888888,
             "#fdca26"
            ],
            [
             1,
             "#f0f921"
            ]
           ],
           "sequentialminus": [
            [
             0,
             "#0d0887"
            ],
            [
             0.1111111111111111,
             "#46039f"
            ],
            [
             0.2222222222222222,
             "#7201a8"
            ],
            [
             0.3333333333333333,
             "#9c179e"
            ],
            [
             0.4444444444444444,
             "#bd3786"
            ],
            [
             0.5555555555555556,
             "#d8576b"
            ],
            [
             0.6666666666666666,
             "#ed7953"
            ],
            [
             0.7777777777777778,
             "#fb9f3a"
            ],
            [
             0.8888888888888888,
             "#fdca26"
            ],
            [
             1,
             "#f0f921"
            ]
           ]
          },
          "colorway": [
           "#636efa",
           "#EF553B",
           "#00cc96",
           "#ab63fa",
           "#FFA15A",
           "#19d3f3",
           "#FF6692",
           "#B6E880",
           "#FF97FF",
           "#FECB52"
          ],
          "font": {
           "color": "#2a3f5f"
          },
          "geo": {
           "bgcolor": "white",
           "lakecolor": "white",
           "landcolor": "#E5ECF6",
           "showlakes": true,
           "showland": true,
           "subunitcolor": "white"
          },
          "hoverlabel": {
           "align": "left"
          },
          "hovermode": "closest",
          "mapbox": {
           "style": "light"
          },
          "paper_bgcolor": "white",
          "plot_bgcolor": "#E5ECF6",
          "polar": {
           "angularaxis": {
            "gridcolor": "white",
            "linecolor": "white",
            "ticks": ""
           },
           "bgcolor": "#E5ECF6",
           "radialaxis": {
            "gridcolor": "white",
            "linecolor": "white",
            "ticks": ""
           }
          },
          "scene": {
           "xaxis": {
            "backgroundcolor": "#E5ECF6",
            "gridcolor": "white",
            "gridwidth": 2,
            "linecolor": "white",
            "showbackground": true,
            "ticks": "",
            "zerolinecolor": "white"
           },
           "yaxis": {
            "backgroundcolor": "#E5ECF6",
            "gridcolor": "white",
            "gridwidth": 2,
            "linecolor": "white",
            "showbackground": true,
            "ticks": "",
            "zerolinecolor": "white"
           },
           "zaxis": {
            "backgroundcolor": "#E5ECF6",
            "gridcolor": "white",
            "gridwidth": 2,
            "linecolor": "white",
            "showbackground": true,
            "ticks": "",
            "zerolinecolor": "white"
           }
          },
          "shapedefaults": {
           "line": {
            "color": "#2a3f5f"
           }
          },
          "ternary": {
           "aaxis": {
            "gridcolor": "white",
            "linecolor": "white",
            "ticks": ""
           },
           "baxis": {
            "gridcolor": "white",
            "linecolor": "white",
            "ticks": ""
           },
           "bgcolor": "#E5ECF6",
           "caxis": {
            "gridcolor": "white",
            "linecolor": "white",
            "ticks": ""
           }
          },
          "title": {
           "x": 0.05
          },
          "xaxis": {
           "automargin": true,
           "gridcolor": "white",
           "linecolor": "white",
           "ticks": "",
           "title": {
            "standoff": 15
           },
           "zerolinecolor": "white",
           "zerolinewidth": 2
          },
          "yaxis": {
           "automargin": true,
           "gridcolor": "white",
           "linecolor": "white",
           "ticks": "",
           "title": {
            "standoff": 15
           },
           "zerolinecolor": "white",
           "zerolinewidth": 2
          }
         }
        },
        "title": {
         "font": {
          "color": "#4D5663"
         }
        },
        "xaxis": {
         "gridcolor": "#E1E5ED",
         "showgrid": true,
         "tickfont": {
          "color": "#4D5663"
         },
         "title": {
          "font": {
           "color": "#4D5663"
          },
          "text": ""
         },
         "zerolinecolor": "#E1E5ED"
        },
        "yaxis": {
         "gridcolor": "#E1E5ED",
         "showgrid": true,
         "tickfont": {
          "color": "#4D5663"
         },
         "title": {
          "font": {
           "color": "#4D5663"
          },
          "text": ""
         },
         "zerolinecolor": "#E1E5ED"
        }
       }
      },
      "text/html": "<div>                            <div id=\"28ded8a5-3aa7-444a-85b2-1e7de26e77c1\" class=\"plotly-graph-div\" style=\"height:525px; width:100%;\"></div>            <script type=\"text/javascript\">                require([\"plotly\"], function(Plotly) {                    window.PLOTLYENV=window.PLOTLYENV || {};\n                    window.PLOTLYENV.BASE_URL='https://plot.ly';                                    if (document.getElementById(\"28ded8a5-3aa7-444a-85b2-1e7de26e77c1\")) {                    Plotly.newPlot(                        \"28ded8a5-3aa7-444a-85b2-1e7de26e77c1\",                        [{\"histfunc\": \"count\", \"histnorm\": \"\", \"marker\": {\"color\": \"rgba(255, 153, 51, 1.0)\", \"line\": {\"color\": \"#4D5663\", \"width\": 1.3}}, \"name\": \"A\", \"nbinsx\": 25, \"opacity\": 0.8, \"orientation\": \"v\", \"type\": \"histogram\", \"x\": [0.3419584291255313, 2.361780384778356, 0.9119528973909766, 0.7843148177858439, 0.19788293810360227, 0.14792586818241837, -0.9642251958129214, -0.9982883475458826, -1.1325513846419084, -0.34775573601765764, 0.05614453083062882, -1.8350439315471765, 0.5511018764251773, 0.17988137422617523, -1.065227814836348, 0.3586145152614117, 2.411605482613125, 0.3560938040312589, 0.36786610050285107, -2.6002826096447857, -0.7981799468689968, -0.9645031821395916, 0.023965620965615043, -0.7365368491710338, -0.004858042010386315, -1.3623500370271893, -0.4525814500361433, 0.7058262779117401, 0.3440578447346543, -0.6854853356129478, -1.175912357533231, -0.06250042438078895, 0.3714797107838847, 1.3432775395609564, 0.7180364148121844, 2.7251283264314794, -1.7927981428516335, 0.30526270927024285, 0.07066587428438767, 0.9829832457917175, 0.2481333939762536, 1.2611119707431302, 0.39120023817415484, 1.4126639401837995, -0.2543019620938231, -1.0808580728245565, 0.21293978874229247, -1.817542673207612, 0.5705140433534914, 0.07031969294279024, -1.7310193046540587, -0.009968310223363802, -1.0487616328861715, 0.23392266236390605, -1.1403254897435495, -0.009551520847821338, 0.0587528290155611, 0.27327642074331, 0.5952762262270923, 0.34922564728692723, 0.3506158007930843, -0.7194723669016722, -0.969386453754765, 0.07607441829377784, 0.8224531813525415, -0.4267717900771313, -0.40179473694537243, 0.8730785586025657, 0.8772569764458129, 1.7525966859134534, -0.38937715784865456, -0.07128387192799915, 0.4374266412162082, 1.0066948777907512, -0.8108547122537352, -0.12424666495990376, 0.2694509128538412, -0.5798316475284768, 0.3201902642191978, -1.1253119761184023, 0.8853008752799159, 0.9710304851537905, -0.054131980511390745, -0.17879880928332045, 0.5731252894387706, 2.1638795628246785, 1.3828172329633255, 2.1851828911286226, 0.5855947229103255, -1.314182568919194, -0.7986574709761567, -0.6434624893139342, -0.9091145307420864, -0.8156862985068415, -0.8784194413581975, 0.28373706115674197, -0.6956611445601208, 1.4316076867251473, 0.8162399203140172, -0.7460467107715341]}],                        {\"barmode\": \"overlay\", \"legend\": {\"bgcolor\": \"#F5F6F9\", \"font\": {\"color\": \"#4D5663\"}}, \"paper_bgcolor\": \"#F5F6F9\", \"plot_bgcolor\": \"#F5F6F9\", \"template\": {\"data\": {\"bar\": [{\"error_x\": {\"color\": \"#2a3f5f\"}, \"error_y\": {\"color\": \"#2a3f5f\"}, \"marker\": {\"line\": {\"color\": \"#E5ECF6\", \"width\": 0.5}}, \"type\": \"bar\"}], \"barpolar\": [{\"marker\": {\"line\": {\"color\": \"#E5ECF6\", \"width\": 0.5}}, \"type\": \"barpolar\"}], \"carpet\": [{\"aaxis\": {\"endlinecolor\": \"#2a3f5f\", \"gridcolor\": \"white\", \"linecolor\": \"white\", \"minorgridcolor\": \"white\", \"startlinecolor\": \"#2a3f5f\"}, \"baxis\": {\"endlinecolor\": \"#2a3f5f\", \"gridcolor\": \"white\", \"linecolor\": \"white\", \"minorgridcolor\": \"white\", \"startlinecolor\": \"#2a3f5f\"}, \"type\": \"carpet\"}], \"choropleth\": [{\"colorbar\": {\"outlinewidth\": 0, \"ticks\": \"\"}, \"type\": \"choropleth\"}], \"contour\": [{\"colorbar\": {\"outlinewidth\": 0, \"ticks\": \"\"}, \"colorscale\": [[0.0, \"#0d0887\"], [0.1111111111111111, \"#46039f\"], [0.2222222222222222, \"#7201a8\"], [0.3333333333333333, \"#9c179e\"], [0.4444444444444444, \"#bd3786\"], [0.5555555555555556, \"#d8576b\"], [0.6666666666666666, \"#ed7953\"], [0.7777777777777778, \"#fb9f3a\"], [0.8888888888888888, \"#fdca26\"], [1.0, \"#f0f921\"]], \"type\": \"contour\"}], \"contourcarpet\": [{\"colorbar\": {\"outlinewidth\": 0, \"ticks\": \"\"}, \"type\": \"contourcarpet\"}], \"heatmap\": [{\"colorbar\": {\"outlinewidth\": 0, \"ticks\": \"\"}, \"colorscale\": [[0.0, \"#0d0887\"], [0.1111111111111111, \"#46039f\"], [0.2222222222222222, \"#7201a8\"], [0.3333333333333333, \"#9c179e\"], [0.4444444444444444, \"#bd3786\"], [0.5555555555555556, \"#d8576b\"], [0.6666666666666666, \"#ed7953\"], [0.7777777777777778, \"#fb9f3a\"], [0.8888888888888888, \"#fdca26\"], [1.0, \"#f0f921\"]], \"type\": \"heatmap\"}], \"heatmapgl\": [{\"colorbar\": {\"outlinewidth\": 0, \"ticks\": \"\"}, \"colorscale\": [[0.0, \"#0d0887\"], [0.1111111111111111, \"#46039f\"], [0.2222222222222222, \"#7201a8\"], [0.3333333333333333, \"#9c179e\"], [0.4444444444444444, \"#bd3786\"], [0.5555555555555556, \"#d8576b\"], [0.6666666666666666, \"#ed7953\"], [0.7777777777777778, \"#fb9f3a\"], [0.8888888888888888, \"#fdca26\"], [1.0, \"#f0f921\"]], \"type\": \"heatmapgl\"}], \"histogram\": [{\"marker\": {\"colorbar\": {\"outlinewidth\": 0, \"ticks\": \"\"}}, \"type\": \"histogram\"}], \"histogram2d\": [{\"colorbar\": {\"outlinewidth\": 0, \"ticks\": \"\"}, \"colorscale\": [[0.0, \"#0d0887\"], [0.1111111111111111, \"#46039f\"], [0.2222222222222222, \"#7201a8\"], [0.3333333333333333, \"#9c179e\"], [0.4444444444444444, \"#bd3786\"], [0.5555555555555556, \"#d8576b\"], [0.6666666666666666, \"#ed7953\"], [0.7777777777777778, \"#fb9f3a\"], [0.8888888888888888, \"#fdca26\"], [1.0, \"#f0f921\"]], \"type\": \"histogram2d\"}], \"histogram2dcontour\": [{\"colorbar\": {\"outlinewidth\": 0, \"ticks\": \"\"}, \"colorscale\": [[0.0, \"#0d0887\"], [0.1111111111111111, \"#46039f\"], [0.2222222222222222, \"#7201a8\"], [0.3333333333333333, \"#9c179e\"], [0.4444444444444444, \"#bd3786\"], [0.5555555555555556, \"#d8576b\"], [0.6666666666666666, \"#ed7953\"], [0.7777777777777778, \"#fb9f3a\"], [0.8888888888888888, \"#fdca26\"], [1.0, \"#f0f921\"]], \"type\": \"histogram2dcontour\"}], \"mesh3d\": [{\"colorbar\": {\"outlinewidth\": 0, \"ticks\": \"\"}, \"type\": \"mesh3d\"}], \"parcoords\": [{\"line\": {\"colorbar\": {\"outlinewidth\": 0, \"ticks\": \"\"}}, \"type\": \"parcoords\"}], \"pie\": [{\"automargin\": true, \"type\": \"pie\"}], \"scatter\": [{\"marker\": {\"colorbar\": {\"outlinewidth\": 0, \"ticks\": \"\"}}, \"type\": \"scatter\"}], \"scatter3d\": [{\"line\": {\"colorbar\": {\"outlinewidth\": 0, \"ticks\": \"\"}}, \"marker\": {\"colorbar\": {\"outlinewidth\": 0, \"ticks\": \"\"}}, \"type\": \"scatter3d\"}], \"scattercarpet\": [{\"marker\": {\"colorbar\": {\"outlinewidth\": 0, \"ticks\": \"\"}}, \"type\": \"scattercarpet\"}], \"scattergeo\": [{\"marker\": {\"colorbar\": {\"outlinewidth\": 0, \"ticks\": \"\"}}, \"type\": \"scattergeo\"}], \"scattergl\": [{\"marker\": {\"colorbar\": {\"outlinewidth\": 0, \"ticks\": \"\"}}, \"type\": \"scattergl\"}], \"scattermapbox\": [{\"marker\": {\"colorbar\": {\"outlinewidth\": 0, \"ticks\": \"\"}}, \"type\": \"scattermapbox\"}], \"scatterpolar\": [{\"marker\": {\"colorbar\": {\"outlinewidth\": 0, \"ticks\": \"\"}}, \"type\": \"scatterpolar\"}], \"scatterpolargl\": [{\"marker\": {\"colorbar\": {\"outlinewidth\": 0, \"ticks\": \"\"}}, \"type\": \"scatterpolargl\"}], \"scatterternary\": [{\"marker\": {\"colorbar\": {\"outlinewidth\": 0, \"ticks\": \"\"}}, \"type\": \"scatterternary\"}], \"surface\": [{\"colorbar\": {\"outlinewidth\": 0, \"ticks\": \"\"}, \"colorscale\": [[0.0, \"#0d0887\"], [0.1111111111111111, \"#46039f\"], [0.2222222222222222, \"#7201a8\"], [0.3333333333333333, \"#9c179e\"], [0.4444444444444444, \"#bd3786\"], [0.5555555555555556, \"#d8576b\"], [0.6666666666666666, \"#ed7953\"], [0.7777777777777778, \"#fb9f3a\"], [0.8888888888888888, \"#fdca26\"], [1.0, \"#f0f921\"]], \"type\": \"surface\"}], \"table\": [{\"cells\": {\"fill\": {\"color\": \"#EBF0F8\"}, \"line\": {\"color\": \"white\"}}, \"header\": {\"fill\": {\"color\": \"#C8D4E3\"}, \"line\": {\"color\": \"white\"}}, \"type\": \"table\"}]}, \"layout\": {\"annotationdefaults\": {\"arrowcolor\": \"#2a3f5f\", \"arrowhead\": 0, \"arrowwidth\": 1}, \"autotypenumbers\": \"strict\", \"coloraxis\": {\"colorbar\": {\"outlinewidth\": 0, \"ticks\": \"\"}}, \"colorscale\": {\"diverging\": [[0, \"#8e0152\"], [0.1, \"#c51b7d\"], [0.2, \"#de77ae\"], [0.3, \"#f1b6da\"], [0.4, \"#fde0ef\"], [0.5, \"#f7f7f7\"], [0.6, \"#e6f5d0\"], [0.7, \"#b8e186\"], [0.8, \"#7fbc41\"], [0.9, \"#4d9221\"], [1, \"#276419\"]], \"sequential\": [[0.0, \"#0d0887\"], [0.1111111111111111, \"#46039f\"], [0.2222222222222222, \"#7201a8\"], [0.3333333333333333, \"#9c179e\"], [0.4444444444444444, \"#bd3786\"], [0.5555555555555556, \"#d8576b\"], [0.6666666666666666, \"#ed7953\"], [0.7777777777777778, \"#fb9f3a\"], [0.8888888888888888, \"#fdca26\"], [1.0, \"#f0f921\"]], \"sequentialminus\": [[0.0, \"#0d0887\"], [0.1111111111111111, \"#46039f\"], [0.2222222222222222, \"#7201a8\"], [0.3333333333333333, \"#9c179e\"], [0.4444444444444444, \"#bd3786\"], [0.5555555555555556, \"#d8576b\"], [0.6666666666666666, \"#ed7953\"], [0.7777777777777778, \"#fb9f3a\"], [0.8888888888888888, \"#fdca26\"], [1.0, \"#f0f921\"]]}, \"colorway\": [\"#636efa\", \"#EF553B\", \"#00cc96\", \"#ab63fa\", \"#FFA15A\", \"#19d3f3\", \"#FF6692\", \"#B6E880\", \"#FF97FF\", \"#FECB52\"], \"font\": {\"color\": \"#2a3f5f\"}, \"geo\": {\"bgcolor\": \"white\", \"lakecolor\": \"white\", \"landcolor\": \"#E5ECF6\", \"showlakes\": true, \"showland\": true, \"subunitcolor\": \"white\"}, \"hoverlabel\": {\"align\": \"left\"}, \"hovermode\": \"closest\", \"mapbox\": {\"style\": \"light\"}, \"paper_bgcolor\": \"white\", \"plot_bgcolor\": \"#E5ECF6\", \"polar\": {\"angularaxis\": {\"gridcolor\": \"white\", \"linecolor\": \"white\", \"ticks\": \"\"}, \"bgcolor\": \"#E5ECF6\", \"radialaxis\": {\"gridcolor\": \"white\", \"linecolor\": \"white\", \"ticks\": \"\"}}, \"scene\": {\"xaxis\": {\"backgroundcolor\": \"#E5ECF6\", \"gridcolor\": \"white\", \"gridwidth\": 2, \"linecolor\": \"white\", \"showbackground\": true, \"ticks\": \"\", \"zerolinecolor\": \"white\"}, \"yaxis\": {\"backgroundcolor\": \"#E5ECF6\", \"gridcolor\": \"white\", \"gridwidth\": 2, \"linecolor\": \"white\", \"showbackground\": true, \"ticks\": \"\", \"zerolinecolor\": \"white\"}, \"zaxis\": {\"backgroundcolor\": \"#E5ECF6\", \"gridcolor\": \"white\", \"gridwidth\": 2, \"linecolor\": \"white\", \"showbackground\": true, \"ticks\": \"\", \"zerolinecolor\": \"white\"}}, \"shapedefaults\": {\"line\": {\"color\": \"#2a3f5f\"}}, \"ternary\": {\"aaxis\": {\"gridcolor\": \"white\", \"linecolor\": \"white\", \"ticks\": \"\"}, \"baxis\": {\"gridcolor\": \"white\", \"linecolor\": \"white\", \"ticks\": \"\"}, \"bgcolor\": \"#E5ECF6\", \"caxis\": {\"gridcolor\": \"white\", \"linecolor\": \"white\", \"ticks\": \"\"}}, \"title\": {\"x\": 0.05}, \"xaxis\": {\"automargin\": true, \"gridcolor\": \"white\", \"linecolor\": \"white\", \"ticks\": \"\", \"title\": {\"standoff\": 15}, \"zerolinecolor\": \"white\", \"zerolinewidth\": 2}, \"yaxis\": {\"automargin\": true, \"gridcolor\": \"white\", \"linecolor\": \"white\", \"ticks\": \"\", \"title\": {\"standoff\": 15}, \"zerolinecolor\": \"white\", \"zerolinewidth\": 2}}}, \"title\": {\"font\": {\"color\": \"#4D5663\"}}, \"xaxis\": {\"gridcolor\": \"#E1E5ED\", \"showgrid\": true, \"tickfont\": {\"color\": \"#4D5663\"}, \"title\": {\"font\": {\"color\": \"#4D5663\"}, \"text\": \"\"}, \"zerolinecolor\": \"#E1E5ED\"}, \"yaxis\": {\"gridcolor\": \"#E1E5ED\", \"showgrid\": true, \"tickfont\": {\"color\": \"#4D5663\"}, \"title\": {\"font\": {\"color\": \"#4D5663\"}, \"text\": \"\"}, \"zerolinecolor\": \"#E1E5ED\"}},                        {\"showLink\": true, \"linkText\": \"Export to plot.ly\", \"plotlyServerURL\": \"https://plot.ly\", \"responsive\": true}                    ).then(function(){\n                            \nvar gd = document.getElementById('28ded8a5-3aa7-444a-85b2-1e7de26e77c1');\nvar x = new MutationObserver(function (mutations, observer) {{\n        var display = window.getComputedStyle(gd).display;\n        if (!display || display === 'none') {{\n            console.log([gd, 'removed!']);\n            Plotly.purge(gd);\n            observer.disconnect();\n        }}\n}});\n\n// Listen for the removal of the full notebook cells\nvar notebookContainer = gd.closest('#notebook-container');\nif (notebookContainer) {{\n    x.observe(notebookContainer, {childList: true});\n}}\n\n// Listen for the clearing of the current output cell\nvar outputEl = gd.closest('.output');\nif (outputEl) {{\n    x.observe(outputEl, {childList: true});\n}}\n\n                        })                };                });            </script>        </div>"
     },
     "metadata": {}
    }
   ],
   "source": [
    "df['A'].iplot(kind='hist',bins=25)"
   ]
  },
  {
   "cell_type": "code",
   "execution_count": 17,
   "metadata": {
    "collapsed": false
   },
   "outputs": [
    {
     "output_type": "display_data",
     "data": {
      "application/vnd.plotly.v1+json": {
       "config": {
        "linkText": "Export to plot.ly",
        "plotlyServerURL": "https://plot.ly",
        "showLink": true
       },
       "data": [
        {
         "marker": {
          "color": [
           "rgb(255, 153, 51)",
           "rgb(55, 128, 191)",
           "rgb(50, 171, 96)",
           "rgb(128, 0, 128)",
           "rgb(219, 64, 82)",
           "rgb(0, 128, 128)",
           "rgb(255, 255, 51)",
           "rgb(128, 128, 0)",
           "rgb(251, 128, 114)",
           "rgb(128, 177, 211)"
          ],
          "line": {
           "width": 1.3
          },
          "size": [
           52,
           98,
           34,
           65,
           61,
           50,
           89,
           40,
           68,
           73,
           53,
           76,
           79,
           94,
           73,
           50,
           44,
           112,
           68,
           49,
           70,
           76,
           22,
           69,
           79,
           58,
           75,
           36,
           73,
           100,
           49,
           82,
           48,
           66,
           103,
           88,
           58,
           47,
           48,
           68,
           79,
           58,
           68,
           71,
           62,
           32,
           66,
           68,
           66,
           49,
           12,
           58,
           75,
           103,
           73,
           73,
           92,
           52,
           73,
           78,
           62,
           87,
           61,
           34,
           66,
           85,
           69,
           37,
           50,
           75,
           51,
           80,
           56,
           41,
           99,
           94,
           52,
           23,
           75,
           91,
           40,
           76,
           68,
           75,
           68,
           52,
           92,
           77,
           98,
           50,
           66,
           55,
           72,
           93,
           49,
           25,
           45,
           45,
           74,
           86
          ],
          "symbol": "circle"
         },
         "mode": "markers",
         "text": "",
         "type": "scatter",
         "x": [
          0.3419584291255313,
          2.361780384778356,
          0.9119528973909766,
          0.7843148177858439,
          0.19788293810360227,
          0.14792586818241837,
          -0.9642251958129214,
          -0.9982883475458826,
          -1.1325513846419084,
          -0.34775573601765764,
          0.05614453083062882,
          -1.8350439315471765,
          0.5511018764251773,
          0.17988137422617523,
          -1.065227814836348,
          0.3586145152614117,
          2.411605482613125,
          0.3560938040312589,
          0.36786610050285107,
          -2.6002826096447857,
          -0.7981799468689968,
          -0.9645031821395916,
          0.023965620965615043,
          -0.7365368491710338,
          -0.004858042010386315,
          -1.3623500370271893,
          -0.4525814500361433,
          0.7058262779117401,
          0.3440578447346543,
          -0.6854853356129478,
          -1.175912357533231,
          -0.06250042438078895,
          0.3714797107838847,
          1.3432775395609564,
          0.7180364148121844,
          2.7251283264314794,
          -1.7927981428516335,
          0.30526270927024285,
          0.07066587428438767,
          0.9829832457917175,
          0.2481333939762536,
          1.2611119707431302,
          0.39120023817415484,
          1.4126639401837995,
          -0.2543019620938231,
          -1.0808580728245565,
          0.21293978874229247,
          -1.817542673207612,
          0.5705140433534914,
          0.07031969294279024,
          -1.7310193046540587,
          -0.009968310223363802,
          -1.0487616328861715,
          0.23392266236390605,
          -1.1403254897435495,
          -0.009551520847821338,
          0.0587528290155611,
          0.27327642074331,
          0.5952762262270923,
          0.34922564728692723,
          0.3506158007930843,
          -0.7194723669016722,
          -0.969386453754765,
          0.07607441829377784,
          0.8224531813525415,
          -0.4267717900771313,
          -0.40179473694537243,
          0.8730785586025657,
          0.8772569764458129,
          1.7525966859134534,
          -0.38937715784865456,
          -0.07128387192799915,
          0.4374266412162082,
          1.0066948777907512,
          -0.8108547122537352,
          -0.12424666495990376,
          0.2694509128538412,
          -0.5798316475284768,
          0.3201902642191978,
          -1.1253119761184023,
          0.8853008752799159,
          0.9710304851537905,
          -0.054131980511390745,
          -0.17879880928332045,
          0.5731252894387706,
          2.1638795628246785,
          1.3828172329633255,
          2.1851828911286226,
          0.5855947229103255,
          -1.314182568919194,
          -0.7986574709761567,
          -0.6434624893139342,
          -0.9091145307420864,
          -0.8156862985068415,
          -0.8784194413581975,
          0.28373706115674197,
          -0.6956611445601208,
          1.4316076867251473,
          0.8162399203140172,
          -0.7460467107715341
         ],
         "y": [
          -1.2469675844086194,
          2.9891513099497544,
          0.1017309838125147,
          0.02548119832841038,
          1.9193919674365298,
          -0.20182906842565754,
          0.34360603457165223,
          -0.2249471960281491,
          -0.9850353052474844,
          -0.4559661499288387,
          -0.3878301319310226,
          1.1082652594076037,
          0.8744392746857205,
          1.0093918400229367,
          -0.5394935232766637,
          -0.803745333849395,
          -0.6518641752351033,
          -0.43622292742754704,
          1.433979164394179,
          -0.20860370790793073,
          0.15344776935200735,
          -0.24292160640219418,
          1.1989580674290223,
          -1.1443449709961133,
          -0.09993272796215072,
          0.10083254924068984,
          -0.35213515431348485,
          -1.2061255943422544,
          1.0970022135175945,
          -0.6800842183802278,
          -0.07119109631676689,
          0.26860378089458553,
          -1.3759056290183418,
          0.2669198011313815,
          0.4534602278898926,
          0.01047672724603757,
          -1.2522099425982471,
          -0.10554046833546744,
          1.548445310306408,
          -0.06588810735895306,
          0.6760987700300749,
          -0.0420202255577279,
          1.8378273002595218,
          -0.6078283434805584,
          1.5282024981691928,
          -0.2754917649929963,
          -0.5399326467480746,
          0.6224826249171681,
          0.47795041715071557,
          0.6278077101583388,
          -1.3409423856968694,
          -0.7706624003108283,
          0.015473729679894384,
          0.26319508876425185,
          1.0028321641640017,
          -0.807548524223669,
          0.9869502776032817,
          -1.28221797054689,
          -1.1449359698029302,
          -0.6395403941539245,
          2.4047917183665826,
          0.27108517431821616,
          -1.2451142203486658,
          -0.9178682146002846,
          -0.14570048592133691,
          -0.6272356706833567,
          -0.8514150741598167,
          1.3091254912388204,
          0.05193399027756955,
          -0.002553724868215908,
          -1.1324415602896714,
          1.438180944671712,
          0.6043815252099933,
          0.3150816994390484,
          -0.09226594346437388,
          -1.6197115478527,
          -1.075865500583438,
          0.7486483332115086,
          0.19586000178350335,
          -0.12224064694673781,
          -0.5599448183549804,
          0.3622861605064426,
          -1.4558631826967452,
          1.7992281941455563,
          -0.5220566801522477,
          -0.9653810326273534,
          -0.7122912093233262,
          2.2326519358646375,
          -0.2406418434421078,
          0.804193973114719,
          1.0070051946632714,
          0.5420153009884275,
          -0.7734745290640057,
          -0.48601676911296376,
          1.6060186504018106,
          -0.5062587167544614,
          -0.09464116750951326,
          -1.3098800820079146,
          1.0224650955995838,
          1.0548935522161016
         ]
        }
       ],
       "layout": {
        "legend": {
         "bgcolor": "#F5F6F9",
         "font": {
          "color": "#4D5663"
         }
        },
        "paper_bgcolor": "#F5F6F9",
        "plot_bgcolor": "#F5F6F9",
        "template": {
         "data": {
          "bar": [
           {
            "error_x": {
             "color": "#2a3f5f"
            },
            "error_y": {
             "color": "#2a3f5f"
            },
            "marker": {
             "line": {
              "color": "#E5ECF6",
              "width": 0.5
             }
            },
            "type": "bar"
           }
          ],
          "barpolar": [
           {
            "marker": {
             "line": {
              "color": "#E5ECF6",
              "width": 0.5
             }
            },
            "type": "barpolar"
           }
          ],
          "carpet": [
           {
            "aaxis": {
             "endlinecolor": "#2a3f5f",
             "gridcolor": "white",
             "linecolor": "white",
             "minorgridcolor": "white",
             "startlinecolor": "#2a3f5f"
            },
            "baxis": {
             "endlinecolor": "#2a3f5f",
             "gridcolor": "white",
             "linecolor": "white",
             "minorgridcolor": "white",
             "startlinecolor": "#2a3f5f"
            },
            "type": "carpet"
           }
          ],
          "choropleth": [
           {
            "colorbar": {
             "outlinewidth": 0,
             "ticks": ""
            },
            "type": "choropleth"
           }
          ],
          "contour": [
           {
            "colorbar": {
             "outlinewidth": 0,
             "ticks": ""
            },
            "colorscale": [
             [
              0,
              "#0d0887"
             ],
             [
              0.1111111111111111,
              "#46039f"
             ],
             [
              0.2222222222222222,
              "#7201a8"
             ],
             [
              0.3333333333333333,
              "#9c179e"
             ],
             [
              0.4444444444444444,
              "#bd3786"
             ],
             [
              0.5555555555555556,
              "#d8576b"
             ],
             [
              0.6666666666666666,
              "#ed7953"
             ],
             [
              0.7777777777777778,
              "#fb9f3a"
             ],
             [
              0.8888888888888888,
              "#fdca26"
             ],
             [
              1,
              "#f0f921"
             ]
            ],
            "type": "contour"
           }
          ],
          "contourcarpet": [
           {
            "colorbar": {
             "outlinewidth": 0,
             "ticks": ""
            },
            "type": "contourcarpet"
           }
          ],
          "heatmap": [
           {
            "colorbar": {
             "outlinewidth": 0,
             "ticks": ""
            },
            "colorscale": [
             [
              0,
              "#0d0887"
             ],
             [
              0.1111111111111111,
              "#46039f"
             ],
             [
              0.2222222222222222,
              "#7201a8"
             ],
             [
              0.3333333333333333,
              "#9c179e"
             ],
             [
              0.4444444444444444,
              "#bd3786"
             ],
             [
              0.5555555555555556,
              "#d8576b"
             ],
             [
              0.6666666666666666,
              "#ed7953"
             ],
             [
              0.7777777777777778,
              "#fb9f3a"
             ],
             [
              0.8888888888888888,
              "#fdca26"
             ],
             [
              1,
              "#f0f921"
             ]
            ],
            "type": "heatmap"
           }
          ],
          "heatmapgl": [
           {
            "colorbar": {
             "outlinewidth": 0,
             "ticks": ""
            },
            "colorscale": [
             [
              0,
              "#0d0887"
             ],
             [
              0.1111111111111111,
              "#46039f"
             ],
             [
              0.2222222222222222,
              "#7201a8"
             ],
             [
              0.3333333333333333,
              "#9c179e"
             ],
             [
              0.4444444444444444,
              "#bd3786"
             ],
             [
              0.5555555555555556,
              "#d8576b"
             ],
             [
              0.6666666666666666,
              "#ed7953"
             ],
             [
              0.7777777777777778,
              "#fb9f3a"
             ],
             [
              0.8888888888888888,
              "#fdca26"
             ],
             [
              1,
              "#f0f921"
             ]
            ],
            "type": "heatmapgl"
           }
          ],
          "histogram": [
           {
            "marker": {
             "colorbar": {
              "outlinewidth": 0,
              "ticks": ""
             }
            },
            "type": "histogram"
           }
          ],
          "histogram2d": [
           {
            "colorbar": {
             "outlinewidth": 0,
             "ticks": ""
            },
            "colorscale": [
             [
              0,
              "#0d0887"
             ],
             [
              0.1111111111111111,
              "#46039f"
             ],
             [
              0.2222222222222222,
              "#7201a8"
             ],
             [
              0.3333333333333333,
              "#9c179e"
             ],
             [
              0.4444444444444444,
              "#bd3786"
             ],
             [
              0.5555555555555556,
              "#d8576b"
             ],
             [
              0.6666666666666666,
              "#ed7953"
             ],
             [
              0.7777777777777778,
              "#fb9f3a"
             ],
             [
              0.8888888888888888,
              "#fdca26"
             ],
             [
              1,
              "#f0f921"
             ]
            ],
            "type": "histogram2d"
           }
          ],
          "histogram2dcontour": [
           {
            "colorbar": {
             "outlinewidth": 0,
             "ticks": ""
            },
            "colorscale": [
             [
              0,
              "#0d0887"
             ],
             [
              0.1111111111111111,
              "#46039f"
             ],
             [
              0.2222222222222222,
              "#7201a8"
             ],
             [
              0.3333333333333333,
              "#9c179e"
             ],
             [
              0.4444444444444444,
              "#bd3786"
             ],
             [
              0.5555555555555556,
              "#d8576b"
             ],
             [
              0.6666666666666666,
              "#ed7953"
             ],
             [
              0.7777777777777778,
              "#fb9f3a"
             ],
             [
              0.8888888888888888,
              "#fdca26"
             ],
             [
              1,
              "#f0f921"
             ]
            ],
            "type": "histogram2dcontour"
           }
          ],
          "mesh3d": [
           {
            "colorbar": {
             "outlinewidth": 0,
             "ticks": ""
            },
            "type": "mesh3d"
           }
          ],
          "parcoords": [
           {
            "line": {
             "colorbar": {
              "outlinewidth": 0,
              "ticks": ""
             }
            },
            "type": "parcoords"
           }
          ],
          "pie": [
           {
            "automargin": true,
            "type": "pie"
           }
          ],
          "scatter": [
           {
            "marker": {
             "colorbar": {
              "outlinewidth": 0,
              "ticks": ""
             }
            },
            "type": "scatter"
           }
          ],
          "scatter3d": [
           {
            "line": {
             "colorbar": {
              "outlinewidth": 0,
              "ticks": ""
             }
            },
            "marker": {
             "colorbar": {
              "outlinewidth": 0,
              "ticks": ""
             }
            },
            "type": "scatter3d"
           }
          ],
          "scattercarpet": [
           {
            "marker": {
             "colorbar": {
              "outlinewidth": 0,
              "ticks": ""
             }
            },
            "type": "scattercarpet"
           }
          ],
          "scattergeo": [
           {
            "marker": {
             "colorbar": {
              "outlinewidth": 0,
              "ticks": ""
             }
            },
            "type": "scattergeo"
           }
          ],
          "scattergl": [
           {
            "marker": {
             "colorbar": {
              "outlinewidth": 0,
              "ticks": ""
             }
            },
            "type": "scattergl"
           }
          ],
          "scattermapbox": [
           {
            "marker": {
             "colorbar": {
              "outlinewidth": 0,
              "ticks": ""
             }
            },
            "type": "scattermapbox"
           }
          ],
          "scatterpolar": [
           {
            "marker": {
             "colorbar": {
              "outlinewidth": 0,
              "ticks": ""
             }
            },
            "type": "scatterpolar"
           }
          ],
          "scatterpolargl": [
           {
            "marker": {
             "colorbar": {
              "outlinewidth": 0,
              "ticks": ""
             }
            },
            "type": "scatterpolargl"
           }
          ],
          "scatterternary": [
           {
            "marker": {
             "colorbar": {
              "outlinewidth": 0,
              "ticks": ""
             }
            },
            "type": "scatterternary"
           }
          ],
          "surface": [
           {
            "colorbar": {
             "outlinewidth": 0,
             "ticks": ""
            },
            "colorscale": [
             [
              0,
              "#0d0887"
             ],
             [
              0.1111111111111111,
              "#46039f"
             ],
             [
              0.2222222222222222,
              "#7201a8"
             ],
             [
              0.3333333333333333,
              "#9c179e"
             ],
             [
              0.4444444444444444,
              "#bd3786"
             ],
             [
              0.5555555555555556,
              "#d8576b"
             ],
             [
              0.6666666666666666,
              "#ed7953"
             ],
             [
              0.7777777777777778,
              "#fb9f3a"
             ],
             [
              0.8888888888888888,
              "#fdca26"
             ],
             [
              1,
              "#f0f921"
             ]
            ],
            "type": "surface"
           }
          ],
          "table": [
           {
            "cells": {
             "fill": {
              "color": "#EBF0F8"
             },
             "line": {
              "color": "white"
             }
            },
            "header": {
             "fill": {
              "color": "#C8D4E3"
             },
             "line": {
              "color": "white"
             }
            },
            "type": "table"
           }
          ]
         },
         "layout": {
          "annotationdefaults": {
           "arrowcolor": "#2a3f5f",
           "arrowhead": 0,
           "arrowwidth": 1
          },
          "autotypenumbers": "strict",
          "coloraxis": {
           "colorbar": {
            "outlinewidth": 0,
            "ticks": ""
           }
          },
          "colorscale": {
           "diverging": [
            [
             0,
             "#8e0152"
            ],
            [
             0.1,
             "#c51b7d"
            ],
            [
             0.2,
             "#de77ae"
            ],
            [
             0.3,
             "#f1b6da"
            ],
            [
             0.4,
             "#fde0ef"
            ],
            [
             0.5,
             "#f7f7f7"
            ],
            [
             0.6,
             "#e6f5d0"
            ],
            [
             0.7,
             "#b8e186"
            ],
            [
             0.8,
             "#7fbc41"
            ],
            [
             0.9,
             "#4d9221"
            ],
            [
             1,
             "#276419"
            ]
           ],
           "sequential": [
            [
             0,
             "#0d0887"
            ],
            [
             0.1111111111111111,
             "#46039f"
            ],
            [
             0.2222222222222222,
             "#7201a8"
            ],
            [
             0.3333333333333333,
             "#9c179e"
            ],
            [
             0.4444444444444444,
             "#bd3786"
            ],
            [
             0.5555555555555556,
             "#d8576b"
            ],
            [
             0.6666666666666666,
             "#ed7953"
            ],
            [
             0.7777777777777778,
             "#fb9f3a"
            ],
            [
             0.8888888888888888,
             "#fdca26"
            ],
            [
             1,
             "#f0f921"
            ]
           ],
           "sequentialminus": [
            [
             0,
             "#0d0887"
            ],
            [
             0.1111111111111111,
             "#46039f"
            ],
            [
             0.2222222222222222,
             "#7201a8"
            ],
            [
             0.3333333333333333,
             "#9c179e"
            ],
            [
             0.4444444444444444,
             "#bd3786"
            ],
            [
             0.5555555555555556,
             "#d8576b"
            ],
            [
             0.6666666666666666,
             "#ed7953"
            ],
            [
             0.7777777777777778,
             "#fb9f3a"
            ],
            [
             0.8888888888888888,
             "#fdca26"
            ],
            [
             1,
             "#f0f921"
            ]
           ]
          },
          "colorway": [
           "#636efa",
           "#EF553B",
           "#00cc96",
           "#ab63fa",
           "#FFA15A",
           "#19d3f3",
           "#FF6692",
           "#B6E880",
           "#FF97FF",
           "#FECB52"
          ],
          "font": {
           "color": "#2a3f5f"
          },
          "geo": {
           "bgcolor": "white",
           "lakecolor": "white",
           "landcolor": "#E5ECF6",
           "showlakes": true,
           "showland": true,
           "subunitcolor": "white"
          },
          "hoverlabel": {
           "align": "left"
          },
          "hovermode": "closest",
          "mapbox": {
           "style": "light"
          },
          "paper_bgcolor": "white",
          "plot_bgcolor": "#E5ECF6",
          "polar": {
           "angularaxis": {
            "gridcolor": "white",
            "linecolor": "white",
            "ticks": ""
           },
           "bgcolor": "#E5ECF6",
           "radialaxis": {
            "gridcolor": "white",
            "linecolor": "white",
            "ticks": ""
           }
          },
          "scene": {
           "xaxis": {
            "backgroundcolor": "#E5ECF6",
            "gridcolor": "white",
            "gridwidth": 2,
            "linecolor": "white",
            "showbackground": true,
            "ticks": "",
            "zerolinecolor": "white"
           },
           "yaxis": {
            "backgroundcolor": "#E5ECF6",
            "gridcolor": "white",
            "gridwidth": 2,
            "linecolor": "white",
            "showbackground": true,
            "ticks": "",
            "zerolinecolor": "white"
           },
           "zaxis": {
            "backgroundcolor": "#E5ECF6",
            "gridcolor": "white",
            "gridwidth": 2,
            "linecolor": "white",
            "showbackground": true,
            "ticks": "",
            "zerolinecolor": "white"
           }
          },
          "shapedefaults": {
           "line": {
            "color": "#2a3f5f"
           }
          },
          "ternary": {
           "aaxis": {
            "gridcolor": "white",
            "linecolor": "white",
            "ticks": ""
           },
           "baxis": {
            "gridcolor": "white",
            "linecolor": "white",
            "ticks": ""
           },
           "bgcolor": "#E5ECF6",
           "caxis": {
            "gridcolor": "white",
            "linecolor": "white",
            "ticks": ""
           }
          },
          "title": {
           "x": 0.05
          },
          "xaxis": {
           "automargin": true,
           "gridcolor": "white",
           "linecolor": "white",
           "ticks": "",
           "title": {
            "standoff": 15
           },
           "zerolinecolor": "white",
           "zerolinewidth": 2
          },
          "yaxis": {
           "automargin": true,
           "gridcolor": "white",
           "linecolor": "white",
           "ticks": "",
           "title": {
            "standoff": 15
           },
           "zerolinecolor": "white",
           "zerolinewidth": 2
          }
         }
        },
        "title": {
         "font": {
          "color": "#4D5663"
         }
        },
        "xaxis": {
         "gridcolor": "#E1E5ED",
         "showgrid": true,
         "tickfont": {
          "color": "#4D5663"
         },
         "title": {
          "font": {
           "color": "#4D5663"
          },
          "text": ""
         },
         "zerolinecolor": "#E1E5ED"
        },
        "yaxis": {
         "gridcolor": "#E1E5ED",
         "showgrid": true,
         "tickfont": {
          "color": "#4D5663"
         },
         "title": {
          "font": {
           "color": "#4D5663"
          },
          "text": ""
         },
         "zerolinecolor": "#E1E5ED"
        }
       }
      },
      "text/html": "<div>                            <div id=\"b0e3dc9f-084c-4a2f-abf1-982c20406e0d\" class=\"plotly-graph-div\" style=\"height:525px; width:100%;\"></div>            <script type=\"text/javascript\">                require([\"plotly\"], function(Plotly) {                    window.PLOTLYENV=window.PLOTLYENV || {};\n                    window.PLOTLYENV.BASE_URL='https://plot.ly';                                    if (document.getElementById(\"b0e3dc9f-084c-4a2f-abf1-982c20406e0d\")) {                    Plotly.newPlot(                        \"b0e3dc9f-084c-4a2f-abf1-982c20406e0d\",                        [{\"marker\": {\"color\": [\"rgb(255, 153, 51)\", \"rgb(55, 128, 191)\", \"rgb(50, 171, 96)\", \"rgb(128, 0, 128)\", \"rgb(219, 64, 82)\", \"rgb(0, 128, 128)\", \"rgb(255, 255, 51)\", \"rgb(128, 128, 0)\", \"rgb(251, 128, 114)\", \"rgb(128, 177, 211)\"], \"line\": {\"width\": 1.3}, \"size\": [52, 98, 34, 65, 61, 50, 89, 40, 68, 73, 53, 76, 79, 94, 73, 50, 44, 112, 68, 49, 70, 76, 22, 69, 79, 58, 75, 36, 73, 100, 49, 82, 48, 66, 103, 88, 58, 47, 48, 68, 79, 58, 68, 71, 62, 32, 66, 68, 66, 49, 12, 58, 75, 103, 73, 73, 92, 52, 73, 78, 62, 87, 61, 34, 66, 85, 69, 37, 50, 75, 51, 80, 56, 41, 99, 94, 52, 23, 75, 91, 40, 76, 68, 75, 68, 52, 92, 77, 98, 50, 66, 55, 72, 93, 49, 25, 45, 45, 74, 86], \"symbol\": \"circle\"}, \"mode\": \"markers\", \"text\": \"\", \"type\": \"scatter\", \"x\": [0.3419584291255313, 2.361780384778356, 0.9119528973909766, 0.7843148177858439, 0.19788293810360227, 0.14792586818241837, -0.9642251958129214, -0.9982883475458826, -1.1325513846419084, -0.34775573601765764, 0.05614453083062882, -1.8350439315471765, 0.5511018764251773, 0.17988137422617523, -1.065227814836348, 0.3586145152614117, 2.411605482613125, 0.3560938040312589, 0.36786610050285107, -2.6002826096447857, -0.7981799468689968, -0.9645031821395916, 0.023965620965615043, -0.7365368491710338, -0.004858042010386315, -1.3623500370271893, -0.4525814500361433, 0.7058262779117401, 0.3440578447346543, -0.6854853356129478, -1.175912357533231, -0.06250042438078895, 0.3714797107838847, 1.3432775395609564, 0.7180364148121844, 2.7251283264314794, -1.7927981428516335, 0.30526270927024285, 0.07066587428438767, 0.9829832457917175, 0.2481333939762536, 1.2611119707431302, 0.39120023817415484, 1.4126639401837995, -0.2543019620938231, -1.0808580728245565, 0.21293978874229247, -1.817542673207612, 0.5705140433534914, 0.07031969294279024, -1.7310193046540587, -0.009968310223363802, -1.0487616328861715, 0.23392266236390605, -1.1403254897435495, -0.009551520847821338, 0.0587528290155611, 0.27327642074331, 0.5952762262270923, 0.34922564728692723, 0.3506158007930843, -0.7194723669016722, -0.969386453754765, 0.07607441829377784, 0.8224531813525415, -0.4267717900771313, -0.40179473694537243, 0.8730785586025657, 0.8772569764458129, 1.7525966859134534, -0.38937715784865456, -0.07128387192799915, 0.4374266412162082, 1.0066948777907512, -0.8108547122537352, -0.12424666495990376, 0.2694509128538412, -0.5798316475284768, 0.3201902642191978, -1.1253119761184023, 0.8853008752799159, 0.9710304851537905, -0.054131980511390745, -0.17879880928332045, 0.5731252894387706, 2.1638795628246785, 1.3828172329633255, 2.1851828911286226, 0.5855947229103255, -1.314182568919194, -0.7986574709761567, -0.6434624893139342, -0.9091145307420864, -0.8156862985068415, -0.8784194413581975, 0.28373706115674197, -0.6956611445601208, 1.4316076867251473, 0.8162399203140172, -0.7460467107715341], \"y\": [-1.2469675844086194, 2.9891513099497544, 0.1017309838125147, 0.02548119832841038, 1.9193919674365298, -0.20182906842565754, 0.34360603457165223, -0.2249471960281491, -0.9850353052474844, -0.4559661499288387, -0.3878301319310226, 1.1082652594076037, 0.8744392746857205, 1.0093918400229367, -0.5394935232766637, -0.803745333849395, -0.6518641752351033, -0.43622292742754704, 1.433979164394179, -0.20860370790793073, 0.15344776935200735, -0.24292160640219418, 1.1989580674290223, -1.1443449709961133, -0.09993272796215072, 0.10083254924068984, -0.35213515431348485, -1.2061255943422544, 1.0970022135175945, -0.6800842183802278, -0.07119109631676689, 0.26860378089458553, -1.3759056290183418, 0.2669198011313815, 0.4534602278898926, 0.01047672724603757, -1.2522099425982471, -0.10554046833546744, 1.548445310306408, -0.06588810735895306, 0.6760987700300749, -0.0420202255577279, 1.8378273002595218, -0.6078283434805584, 1.5282024981691928, -0.2754917649929963, -0.5399326467480746, 0.6224826249171681, 0.47795041715071557, 0.6278077101583388, -1.3409423856968694, -0.7706624003108283, 0.015473729679894384, 0.26319508876425185, 1.0028321641640017, -0.807548524223669, 0.9869502776032817, -1.28221797054689, -1.1449359698029302, -0.6395403941539245, 2.4047917183665826, 0.27108517431821616, -1.2451142203486658, -0.9178682146002846, -0.14570048592133691, -0.6272356706833567, -0.8514150741598167, 1.3091254912388204, 0.05193399027756955, -0.002553724868215908, -1.1324415602896714, 1.438180944671712, 0.6043815252099933, 0.3150816994390484, -0.09226594346437388, -1.6197115478527, -1.075865500583438, 0.7486483332115086, 0.19586000178350335, -0.12224064694673781, -0.5599448183549804, 0.3622861605064426, -1.4558631826967452, 1.7992281941455563, -0.5220566801522477, -0.9653810326273534, -0.7122912093233262, 2.2326519358646375, -0.2406418434421078, 0.804193973114719, 1.0070051946632714, 0.5420153009884275, -0.7734745290640057, -0.48601676911296376, 1.6060186504018106, -0.5062587167544614, -0.09464116750951326, -1.3098800820079146, 1.0224650955995838, 1.0548935522161016]}],                        {\"legend\": {\"bgcolor\": \"#F5F6F9\", \"font\": {\"color\": \"#4D5663\"}}, \"paper_bgcolor\": \"#F5F6F9\", \"plot_bgcolor\": \"#F5F6F9\", \"template\": {\"data\": {\"bar\": [{\"error_x\": {\"color\": \"#2a3f5f\"}, \"error_y\": {\"color\": \"#2a3f5f\"}, \"marker\": {\"line\": {\"color\": \"#E5ECF6\", \"width\": 0.5}}, \"type\": \"bar\"}], \"barpolar\": [{\"marker\": {\"line\": {\"color\": \"#E5ECF6\", \"width\": 0.5}}, \"type\": \"barpolar\"}], \"carpet\": [{\"aaxis\": {\"endlinecolor\": \"#2a3f5f\", \"gridcolor\": \"white\", \"linecolor\": \"white\", \"minorgridcolor\": \"white\", \"startlinecolor\": \"#2a3f5f\"}, \"baxis\": {\"endlinecolor\": \"#2a3f5f\", \"gridcolor\": \"white\", \"linecolor\": \"white\", \"minorgridcolor\": \"white\", \"startlinecolor\": \"#2a3f5f\"}, \"type\": \"carpet\"}], \"choropleth\": [{\"colorbar\": {\"outlinewidth\": 0, \"ticks\": \"\"}, \"type\": \"choropleth\"}], \"contour\": [{\"colorbar\": {\"outlinewidth\": 0, \"ticks\": \"\"}, \"colorscale\": [[0.0, \"#0d0887\"], [0.1111111111111111, \"#46039f\"], [0.2222222222222222, \"#7201a8\"], [0.3333333333333333, \"#9c179e\"], [0.4444444444444444, \"#bd3786\"], [0.5555555555555556, \"#d8576b\"], [0.6666666666666666, \"#ed7953\"], [0.7777777777777778, \"#fb9f3a\"], [0.8888888888888888, \"#fdca26\"], [1.0, \"#f0f921\"]], \"type\": \"contour\"}], \"contourcarpet\": [{\"colorbar\": {\"outlinewidth\": 0, \"ticks\": \"\"}, \"type\": \"contourcarpet\"}], \"heatmap\": [{\"colorbar\": {\"outlinewidth\": 0, \"ticks\": \"\"}, \"colorscale\": [[0.0, \"#0d0887\"], [0.1111111111111111, \"#46039f\"], [0.2222222222222222, \"#7201a8\"], [0.3333333333333333, \"#9c179e\"], [0.4444444444444444, \"#bd3786\"], [0.5555555555555556, \"#d8576b\"], [0.6666666666666666, \"#ed7953\"], [0.7777777777777778, \"#fb9f3a\"], [0.8888888888888888, \"#fdca26\"], [1.0, \"#f0f921\"]], \"type\": \"heatmap\"}], \"heatmapgl\": [{\"colorbar\": {\"outlinewidth\": 0, \"ticks\": \"\"}, \"colorscale\": [[0.0, \"#0d0887\"], [0.1111111111111111, \"#46039f\"], [0.2222222222222222, \"#7201a8\"], [0.3333333333333333, \"#9c179e\"], [0.4444444444444444, \"#bd3786\"], [0.5555555555555556, \"#d8576b\"], [0.6666666666666666, \"#ed7953\"], [0.7777777777777778, \"#fb9f3a\"], [0.8888888888888888, \"#fdca26\"], [1.0, \"#f0f921\"]], \"type\": \"heatmapgl\"}], \"histogram\": [{\"marker\": {\"colorbar\": {\"outlinewidth\": 0, \"ticks\": \"\"}}, \"type\": \"histogram\"}], \"histogram2d\": [{\"colorbar\": {\"outlinewidth\": 0, \"ticks\": \"\"}, \"colorscale\": [[0.0, \"#0d0887\"], [0.1111111111111111, \"#46039f\"], [0.2222222222222222, \"#7201a8\"], [0.3333333333333333, \"#9c179e\"], [0.4444444444444444, \"#bd3786\"], [0.5555555555555556, \"#d8576b\"], [0.6666666666666666, \"#ed7953\"], [0.7777777777777778, \"#fb9f3a\"], [0.8888888888888888, \"#fdca26\"], [1.0, \"#f0f921\"]], \"type\": \"histogram2d\"}], \"histogram2dcontour\": [{\"colorbar\": {\"outlinewidth\": 0, \"ticks\": \"\"}, \"colorscale\": [[0.0, \"#0d0887\"], [0.1111111111111111, \"#46039f\"], [0.2222222222222222, \"#7201a8\"], [0.3333333333333333, \"#9c179e\"], [0.4444444444444444, \"#bd3786\"], [0.5555555555555556, \"#d8576b\"], [0.6666666666666666, \"#ed7953\"], [0.7777777777777778, \"#fb9f3a\"], [0.8888888888888888, \"#fdca26\"], [1.0, \"#f0f921\"]], \"type\": \"histogram2dcontour\"}], \"mesh3d\": [{\"colorbar\": {\"outlinewidth\": 0, \"ticks\": \"\"}, \"type\": \"mesh3d\"}], \"parcoords\": [{\"line\": {\"colorbar\": {\"outlinewidth\": 0, \"ticks\": \"\"}}, \"type\": \"parcoords\"}], \"pie\": [{\"automargin\": true, \"type\": \"pie\"}], \"scatter\": [{\"marker\": {\"colorbar\": {\"outlinewidth\": 0, \"ticks\": \"\"}}, \"type\": \"scatter\"}], \"scatter3d\": [{\"line\": {\"colorbar\": {\"outlinewidth\": 0, \"ticks\": \"\"}}, \"marker\": {\"colorbar\": {\"outlinewidth\": 0, \"ticks\": \"\"}}, \"type\": \"scatter3d\"}], \"scattercarpet\": [{\"marker\": {\"colorbar\": {\"outlinewidth\": 0, \"ticks\": \"\"}}, \"type\": \"scattercarpet\"}], \"scattergeo\": [{\"marker\": {\"colorbar\": {\"outlinewidth\": 0, \"ticks\": \"\"}}, \"type\": \"scattergeo\"}], \"scattergl\": [{\"marker\": {\"colorbar\": {\"outlinewidth\": 0, \"ticks\": \"\"}}, \"type\": \"scattergl\"}], \"scattermapbox\": [{\"marker\": {\"colorbar\": {\"outlinewidth\": 0, \"ticks\": \"\"}}, \"type\": \"scattermapbox\"}], \"scatterpolar\": [{\"marker\": {\"colorbar\": {\"outlinewidth\": 0, \"ticks\": \"\"}}, \"type\": \"scatterpolar\"}], \"scatterpolargl\": [{\"marker\": {\"colorbar\": {\"outlinewidth\": 0, \"ticks\": \"\"}}, \"type\": \"scatterpolargl\"}], \"scatterternary\": [{\"marker\": {\"colorbar\": {\"outlinewidth\": 0, \"ticks\": \"\"}}, \"type\": \"scatterternary\"}], \"surface\": [{\"colorbar\": {\"outlinewidth\": 0, \"ticks\": \"\"}, \"colorscale\": [[0.0, \"#0d0887\"], [0.1111111111111111, \"#46039f\"], [0.2222222222222222, \"#7201a8\"], [0.3333333333333333, \"#9c179e\"], [0.4444444444444444, \"#bd3786\"], [0.5555555555555556, \"#d8576b\"], [0.6666666666666666, \"#ed7953\"], [0.7777777777777778, \"#fb9f3a\"], [0.8888888888888888, \"#fdca26\"], [1.0, \"#f0f921\"]], \"type\": \"surface\"}], \"table\": [{\"cells\": {\"fill\": {\"color\": \"#EBF0F8\"}, \"line\": {\"color\": \"white\"}}, \"header\": {\"fill\": {\"color\": \"#C8D4E3\"}, \"line\": {\"color\": \"white\"}}, \"type\": \"table\"}]}, \"layout\": {\"annotationdefaults\": {\"arrowcolor\": \"#2a3f5f\", \"arrowhead\": 0, \"arrowwidth\": 1}, \"autotypenumbers\": \"strict\", \"coloraxis\": {\"colorbar\": {\"outlinewidth\": 0, \"ticks\": \"\"}}, \"colorscale\": {\"diverging\": [[0, \"#8e0152\"], [0.1, \"#c51b7d\"], [0.2, \"#de77ae\"], [0.3, \"#f1b6da\"], [0.4, \"#fde0ef\"], [0.5, \"#f7f7f7\"], [0.6, \"#e6f5d0\"], [0.7, \"#b8e186\"], [0.8, \"#7fbc41\"], [0.9, \"#4d9221\"], [1, \"#276419\"]], \"sequential\": [[0.0, \"#0d0887\"], [0.1111111111111111, \"#46039f\"], [0.2222222222222222, \"#7201a8\"], [0.3333333333333333, \"#9c179e\"], [0.4444444444444444, \"#bd3786\"], [0.5555555555555556, \"#d8576b\"], [0.6666666666666666, \"#ed7953\"], [0.7777777777777778, \"#fb9f3a\"], [0.8888888888888888, \"#fdca26\"], [1.0, \"#f0f921\"]], \"sequentialminus\": [[0.0, \"#0d0887\"], [0.1111111111111111, \"#46039f\"], [0.2222222222222222, \"#7201a8\"], [0.3333333333333333, \"#9c179e\"], [0.4444444444444444, \"#bd3786\"], [0.5555555555555556, \"#d8576b\"], [0.6666666666666666, \"#ed7953\"], [0.7777777777777778, \"#fb9f3a\"], [0.8888888888888888, \"#fdca26\"], [1.0, \"#f0f921\"]]}, \"colorway\": [\"#636efa\", \"#EF553B\", \"#00cc96\", \"#ab63fa\", \"#FFA15A\", \"#19d3f3\", \"#FF6692\", \"#B6E880\", \"#FF97FF\", \"#FECB52\"], \"font\": {\"color\": \"#2a3f5f\"}, \"geo\": {\"bgcolor\": \"white\", \"lakecolor\": \"white\", \"landcolor\": \"#E5ECF6\", \"showlakes\": true, \"showland\": true, \"subunitcolor\": \"white\"}, \"hoverlabel\": {\"align\": \"left\"}, \"hovermode\": \"closest\", \"mapbox\": {\"style\": \"light\"}, \"paper_bgcolor\": \"white\", \"plot_bgcolor\": \"#E5ECF6\", \"polar\": {\"angularaxis\": {\"gridcolor\": \"white\", \"linecolor\": \"white\", \"ticks\": \"\"}, \"bgcolor\": \"#E5ECF6\", \"radialaxis\": {\"gridcolor\": \"white\", \"linecolor\": \"white\", \"ticks\": \"\"}}, \"scene\": {\"xaxis\": {\"backgroundcolor\": \"#E5ECF6\", \"gridcolor\": \"white\", \"gridwidth\": 2, \"linecolor\": \"white\", \"showbackground\": true, \"ticks\": \"\", \"zerolinecolor\": \"white\"}, \"yaxis\": {\"backgroundcolor\": \"#E5ECF6\", \"gridcolor\": \"white\", \"gridwidth\": 2, \"linecolor\": \"white\", \"showbackground\": true, \"ticks\": \"\", \"zerolinecolor\": \"white\"}, \"zaxis\": {\"backgroundcolor\": \"#E5ECF6\", \"gridcolor\": \"white\", \"gridwidth\": 2, \"linecolor\": \"white\", \"showbackground\": true, \"ticks\": \"\", \"zerolinecolor\": \"white\"}}, \"shapedefaults\": {\"line\": {\"color\": \"#2a3f5f\"}}, \"ternary\": {\"aaxis\": {\"gridcolor\": \"white\", \"linecolor\": \"white\", \"ticks\": \"\"}, \"baxis\": {\"gridcolor\": \"white\", \"linecolor\": \"white\", \"ticks\": \"\"}, \"bgcolor\": \"#E5ECF6\", \"caxis\": {\"gridcolor\": \"white\", \"linecolor\": \"white\", \"ticks\": \"\"}}, \"title\": {\"x\": 0.05}, \"xaxis\": {\"automargin\": true, \"gridcolor\": \"white\", \"linecolor\": \"white\", \"ticks\": \"\", \"title\": {\"standoff\": 15}, \"zerolinecolor\": \"white\", \"zerolinewidth\": 2}, \"yaxis\": {\"automargin\": true, \"gridcolor\": \"white\", \"linecolor\": \"white\", \"ticks\": \"\", \"title\": {\"standoff\": 15}, \"zerolinecolor\": \"white\", \"zerolinewidth\": 2}}}, \"title\": {\"font\": {\"color\": \"#4D5663\"}}, \"xaxis\": {\"gridcolor\": \"#E1E5ED\", \"showgrid\": true, \"tickfont\": {\"color\": \"#4D5663\"}, \"title\": {\"font\": {\"color\": \"#4D5663\"}, \"text\": \"\"}, \"zerolinecolor\": \"#E1E5ED\"}, \"yaxis\": {\"gridcolor\": \"#E1E5ED\", \"showgrid\": true, \"tickfont\": {\"color\": \"#4D5663\"}, \"title\": {\"font\": {\"color\": \"#4D5663\"}, \"text\": \"\"}, \"zerolinecolor\": \"#E1E5ED\"}},                        {\"showLink\": true, \"linkText\": \"Export to plot.ly\", \"plotlyServerURL\": \"https://plot.ly\", \"responsive\": true}                    ).then(function(){\n                            \nvar gd = document.getElementById('b0e3dc9f-084c-4a2f-abf1-982c20406e0d');\nvar x = new MutationObserver(function (mutations, observer) {{\n        var display = window.getComputedStyle(gd).display;\n        if (!display || display === 'none') {{\n            console.log([gd, 'removed!']);\n            Plotly.purge(gd);\n            observer.disconnect();\n        }}\n}});\n\n// Listen for the removal of the full notebook cells\nvar notebookContainer = gd.closest('#notebook-container');\nif (notebookContainer) {{\n    x.observe(notebookContainer, {childList: true});\n}}\n\n// Listen for the clearing of the current output cell\nvar outputEl = gd.closest('.output');\nif (outputEl) {{\n    x.observe(outputEl, {childList: true});\n}}\n\n                        })                };                });            </script>        </div>"
     },
     "metadata": {}
    }
   ],
   "source": [
    "df.iplot(kind='bubble',x='A',y='B',size='C')"
   ]
  },
  {
   "cell_type": "markdown",
   "metadata": {},
   "source": [
    "## scatter_matrix()\n",
    "\n",
    "Similar to sns.pairplot()"
   ]
  },
  {
   "cell_type": "code",
   "execution_count": 18,
   "metadata": {
    "collapsed": false
   },
   "outputs": [
    {
     "output_type": "display_data",
     "data": {
      "application/vnd.plotly.v1+json": {
       "config": {
        "linkText": "Export to plot.ly",
        "plotlyServerURL": "https://plot.ly",
        "showLink": true
       },
       "data": [
        {
         "histfunc": "count",
         "histnorm": "",
         "marker": {
          "color": "rgba(255, 153, 51, 1.0)",
          "line": {
           "color": "#4D5663",
           "width": 1.3
          }
         },
         "name": "A",
         "nbinsx": 10,
         "opacity": 0.8,
         "orientation": "v",
         "type": "histogram",
         "x": [
          0.3419584291255313,
          2.361780384778356,
          0.9119528973909766,
          0.7843148177858439,
          0.19788293810360227,
          0.14792586818241837,
          -0.9642251958129214,
          -0.9982883475458826,
          -1.1325513846419084,
          -0.34775573601765764,
          0.05614453083062882,
          -1.8350439315471765,
          0.5511018764251773,
          0.17988137422617523,
          -1.065227814836348,
          0.3586145152614117,
          2.411605482613125,
          0.3560938040312589,
          0.36786610050285107,
          -2.6002826096447857,
          -0.7981799468689968,
          -0.9645031821395916,
          0.023965620965615043,
          -0.7365368491710338,
          -0.004858042010386315,
          -1.3623500370271893,
          -0.4525814500361433,
          0.7058262779117401,
          0.3440578447346543,
          -0.6854853356129478,
          -1.175912357533231,
          -0.06250042438078895,
          0.3714797107838847,
          1.3432775395609564,
          0.7180364148121844,
          2.7251283264314794,
          -1.7927981428516335,
          0.30526270927024285,
          0.07066587428438767,
          0.9829832457917175,
          0.2481333939762536,
          1.2611119707431302,
          0.39120023817415484,
          1.4126639401837995,
          -0.2543019620938231,
          -1.0808580728245565,
          0.21293978874229247,
          -1.817542673207612,
          0.5705140433534914,
          0.07031969294279024,
          -1.7310193046540587,
          -0.009968310223363802,
          -1.0487616328861715,
          0.23392266236390605,
          -1.1403254897435495,
          -0.009551520847821338,
          0.0587528290155611,
          0.27327642074331,
          0.5952762262270923,
          0.34922564728692723,
          0.3506158007930843,
          -0.7194723669016722,
          -0.969386453754765,
          0.07607441829377784,
          0.8224531813525415,
          -0.4267717900771313,
          -0.40179473694537243,
          0.8730785586025657,
          0.8772569764458129,
          1.7525966859134534,
          -0.38937715784865456,
          -0.07128387192799915,
          0.4374266412162082,
          1.0066948777907512,
          -0.8108547122537352,
          -0.12424666495990376,
          0.2694509128538412,
          -0.5798316475284768,
          0.3201902642191978,
          -1.1253119761184023,
          0.8853008752799159,
          0.9710304851537905,
          -0.054131980511390745,
          -0.17879880928332045,
          0.5731252894387706,
          2.1638795628246785,
          1.3828172329633255,
          2.1851828911286226,
          0.5855947229103255,
          -1.314182568919194,
          -0.7986574709761567,
          -0.6434624893139342,
          -0.9091145307420864,
          -0.8156862985068415,
          -0.8784194413581975,
          0.28373706115674197,
          -0.6956611445601208,
          1.4316076867251473,
          0.8162399203140172,
          -0.7460467107715341
         ],
         "xaxis": "x",
         "yaxis": "y"
        },
        {
         "line": {
          "color": "rgba(128, 128, 128, 1.0)",
          "dash": "solid",
          "shape": "linear",
          "width": 1.3
         },
         "marker": {
          "size": 2,
          "symbol": "circle"
         },
         "mode": "markers",
         "name": "A",
         "text": "",
         "type": "scatter",
         "x": [
          -1.2469675844086194,
          2.9891513099497544,
          0.1017309838125147,
          0.02548119832841038,
          1.9193919674365298,
          -0.20182906842565754,
          0.34360603457165223,
          -0.2249471960281491,
          -0.9850353052474844,
          -0.4559661499288387,
          -0.3878301319310226,
          1.1082652594076037,
          0.8744392746857205,
          1.0093918400229367,
          -0.5394935232766637,
          -0.803745333849395,
          -0.6518641752351033,
          -0.43622292742754704,
          1.433979164394179,
          -0.20860370790793073,
          0.15344776935200735,
          -0.24292160640219418,
          1.1989580674290223,
          -1.1443449709961133,
          -0.09993272796215072,
          0.10083254924068984,
          -0.35213515431348485,
          -1.2061255943422544,
          1.0970022135175945,
          -0.6800842183802278,
          -0.07119109631676689,
          0.26860378089458553,
          -1.3759056290183418,
          0.2669198011313815,
          0.4534602278898926,
          0.01047672724603757,
          -1.2522099425982471,
          -0.10554046833546744,
          1.548445310306408,
          -0.06588810735895306,
          0.6760987700300749,
          -0.0420202255577279,
          1.8378273002595218,
          -0.6078283434805584,
          1.5282024981691928,
          -0.2754917649929963,
          -0.5399326467480746,
          0.6224826249171681,
          0.47795041715071557,
          0.6278077101583388,
          -1.3409423856968694,
          -0.7706624003108283,
          0.015473729679894384,
          0.26319508876425185,
          1.0028321641640017,
          -0.807548524223669,
          0.9869502776032817,
          -1.28221797054689,
          -1.1449359698029302,
          -0.6395403941539245,
          2.4047917183665826,
          0.27108517431821616,
          -1.2451142203486658,
          -0.9178682146002846,
          -0.14570048592133691,
          -0.6272356706833567,
          -0.8514150741598167,
          1.3091254912388204,
          0.05193399027756955,
          -0.002553724868215908,
          -1.1324415602896714,
          1.438180944671712,
          0.6043815252099933,
          0.3150816994390484,
          -0.09226594346437388,
          -1.6197115478527,
          -1.075865500583438,
          0.7486483332115086,
          0.19586000178350335,
          -0.12224064694673781,
          -0.5599448183549804,
          0.3622861605064426,
          -1.4558631826967452,
          1.7992281941455563,
          -0.5220566801522477,
          -0.9653810326273534,
          -0.7122912093233262,
          2.2326519358646375,
          -0.2406418434421078,
          0.804193973114719,
          1.0070051946632714,
          0.5420153009884275,
          -0.7734745290640057,
          -0.48601676911296376,
          1.6060186504018106,
          -0.5062587167544614,
          -0.09464116750951326,
          -1.3098800820079146,
          1.0224650955995838,
          1.0548935522161016
         ],
         "xaxis": "x2",
         "y": [
          0.3419584291255313,
          2.361780384778356,
          0.9119528973909766,
          0.7843148177858439,
          0.19788293810360227,
          0.14792586818241837,
          -0.9642251958129214,
          -0.9982883475458826,
          -1.1325513846419084,
          -0.34775573601765764,
          0.05614453083062882,
          -1.8350439315471765,
          0.5511018764251773,
          0.17988137422617523,
          -1.065227814836348,
          0.3586145152614117,
          2.411605482613125,
          0.3560938040312589,
          0.36786610050285107,
          -2.6002826096447857,
          -0.7981799468689968,
          -0.9645031821395916,
          0.023965620965615043,
          -0.7365368491710338,
          -0.004858042010386315,
          -1.3623500370271893,
          -0.4525814500361433,
          0.7058262779117401,
          0.3440578447346543,
          -0.6854853356129478,
          -1.175912357533231,
          -0.06250042438078895,
          0.3714797107838847,
          1.3432775395609564,
          0.7180364148121844,
          2.7251283264314794,
          -1.7927981428516335,
          0.30526270927024285,
          0.07066587428438767,
          0.9829832457917175,
          0.2481333939762536,
          1.2611119707431302,
          0.39120023817415484,
          1.4126639401837995,
          -0.2543019620938231,
          -1.0808580728245565,
          0.21293978874229247,
          -1.817542673207612,
          0.5705140433534914,
          0.07031969294279024,
          -1.7310193046540587,
          -0.009968310223363802,
          -1.0487616328861715,
          0.23392266236390605,
          -1.1403254897435495,
          -0.009551520847821338,
          0.0587528290155611,
          0.27327642074331,
          0.5952762262270923,
          0.34922564728692723,
          0.3506158007930843,
          -0.7194723669016722,
          -0.969386453754765,
          0.07607441829377784,
          0.8224531813525415,
          -0.4267717900771313,
          -0.40179473694537243,
          0.8730785586025657,
          0.8772569764458129,
          1.7525966859134534,
          -0.38937715784865456,
          -0.07128387192799915,
          0.4374266412162082,
          1.0066948777907512,
          -0.8108547122537352,
          -0.12424666495990376,
          0.2694509128538412,
          -0.5798316475284768,
          0.3201902642191978,
          -1.1253119761184023,
          0.8853008752799159,
          0.9710304851537905,
          -0.054131980511390745,
          -0.17879880928332045,
          0.5731252894387706,
          2.1638795628246785,
          1.3828172329633255,
          2.1851828911286226,
          0.5855947229103255,
          -1.314182568919194,
          -0.7986574709761567,
          -0.6434624893139342,
          -0.9091145307420864,
          -0.8156862985068415,
          -0.8784194413581975,
          0.28373706115674197,
          -0.6956611445601208,
          1.4316076867251473,
          0.8162399203140172,
          -0.7460467107715341
         ],
         "yaxis": "y2"
        },
        {
         "line": {
          "color": "rgba(128, 128, 128, 1.0)",
          "dash": "solid",
          "shape": "linear",
          "width": 1.3
         },
         "marker": {
          "size": 2,
          "symbol": "circle"
         },
         "mode": "markers",
         "name": "A",
         "text": "",
         "type": "scatter",
         "x": [
          -0.8089288141229286,
          1.465625495185079,
          -1.6871488539427726,
          -0.16911132657974587,
          -0.3897976290030342,
          -0.8863405228175659,
          0.9933038955886511,
          -1.398853576678524,
          -0.0157329850118625,
          0.23536393631978372,
          -0.7531687946176233,
          0.3894346234619737,
          0.5094110804845734,
          1.2632159547476658,
          0.2271132454212522,
          -0.8953206806668295,
          -1.2068772383786814,
          2.1190160225500247,
          -0.03549621773010565,
          -0.952683310719695,
          0.08553780338648229,
          0.3953373493668272,
          -2.2670940447542396,
          0.04253291466940502,
          0.5119931380963819,
          -0.5259428136451291,
          0.3082554492326414,
          -1.6069737932921186,
          0.20636859567286595,
          1.5548193258373544,
          -0.9567089594079814,
          0.6728533111210662,
          -0.9997399942218823,
          -0.09836268084447383,
          1.7038591416615787,
          0.9611717084785155,
          -0.4951431652825938,
          -1.063680158143539,
          -0.9948721946688438,
          -0.017621018172893865,
          0.5174491565658988,
          -0.5023341354767339,
          -0.02414621402911911,
          0.12426822120337526,
          -0.3115496270231586,
          -1.7841290940276027,
          -0.13733470666161338,
          -0.02318853537118824,
          -0.1333064003505278,
          -0.9623536542119135,
          -2.8041763341735346,
          -0.5119872819721337,
          0.30013520666559257,
          1.6910139484110014,
          0.2456693011005962,
          0.22633368250740665,
          1.1793248059506944,
          -0.8301434267279466,
          0.2425819941879717,
          0.4883295416244339,
          -0.3389813899614871,
          0.8955468968992681,
          -0.384502634438256,
          -1.7040628213892801,
          -0.10814430946056518,
          0.794890079038299,
          0.028363038057607048,
          -1.5585199034833328,
          -0.8994240345396853,
          0.3154103928417971,
          -0.8386742063083595,
          0.5817731990193705,
          -0.6111994888444816,
          -1.3378652433103626,
          1.5123413860138917,
          1.2472323942584211,
          -0.8272328276494867,
          -2.2526709403200087,
          0.31489696733571637,
          1.0936677244595716,
          -1.4145990863380116,
          0.3804596019823487,
          -0.00537908434606341,
          0.3001120751126071,
          -0.022196432508811422,
          -0.817676741412886,
          1.142454128263068,
          0.4099378611088832,
          1.4467648063116247,
          -0.9086416758100836,
          -0.1235427476832825,
          -0.6491710343064113,
          0.1956716750126732,
          1.2130925114886821,
          -0.9775054147348364,
          -2.136610016537593,
          -1.146151232781277,
          -1.1754693482576994,
          0.2615274703338761,
          0.8530757510388908
         ],
         "xaxis": "x3",
         "y": [
          0.3419584291255313,
          2.361780384778356,
          0.9119528973909766,
          0.7843148177858439,
          0.19788293810360227,
          0.14792586818241837,
          -0.9642251958129214,
          -0.9982883475458826,
          -1.1325513846419084,
          -0.34775573601765764,
          0.05614453083062882,
          -1.8350439315471765,
          0.5511018764251773,
          0.17988137422617523,
          -1.065227814836348,
          0.3586145152614117,
          2.411605482613125,
          0.3560938040312589,
          0.36786610050285107,
          -2.6002826096447857,
          -0.7981799468689968,
          -0.9645031821395916,
          0.023965620965615043,
          -0.7365368491710338,
          -0.004858042010386315,
          -1.3623500370271893,
          -0.4525814500361433,
          0.7058262779117401,
          0.3440578447346543,
          -0.6854853356129478,
          -1.175912357533231,
          -0.06250042438078895,
          0.3714797107838847,
          1.3432775395609564,
          0.7180364148121844,
          2.7251283264314794,
          -1.7927981428516335,
          0.30526270927024285,
          0.07066587428438767,
          0.9829832457917175,
          0.2481333939762536,
          1.2611119707431302,
          0.39120023817415484,
          1.4126639401837995,
          -0.2543019620938231,
          -1.0808580728245565,
          0.21293978874229247,
          -1.817542673207612,
          0.5705140433534914,
          0.07031969294279024,
          -1.7310193046540587,
          -0.009968310223363802,
          -1.0487616328861715,
          0.23392266236390605,
          -1.1403254897435495,
          -0.009551520847821338,
          0.0587528290155611,
          0.27327642074331,
          0.5952762262270923,
          0.34922564728692723,
          0.3506158007930843,
          -0.7194723669016722,
          -0.969386453754765,
          0.07607441829377784,
          0.8224531813525415,
          -0.4267717900771313,
          -0.40179473694537243,
          0.8730785586025657,
          0.8772569764458129,
          1.7525966859134534,
          -0.38937715784865456,
          -0.07128387192799915,
          0.4374266412162082,
          1.0066948777907512,
          -0.8108547122537352,
          -0.12424666495990376,
          0.2694509128538412,
          -0.5798316475284768,
          0.3201902642191978,
          -1.1253119761184023,
          0.8853008752799159,
          0.9710304851537905,
          -0.054131980511390745,
          -0.17879880928332045,
          0.5731252894387706,
          2.1638795628246785,
          1.3828172329633255,
          2.1851828911286226,
          0.5855947229103255,
          -1.314182568919194,
          -0.7986574709761567,
          -0.6434624893139342,
          -0.9091145307420864,
          -0.8156862985068415,
          -0.8784194413581975,
          0.28373706115674197,
          -0.6956611445601208,
          1.4316076867251473,
          0.8162399203140172,
          -0.7460467107715341
         ],
         "yaxis": "y3"
        },
        {
         "line": {
          "color": "rgba(128, 128, 128, 1.0)",
          "dash": "solid",
          "shape": "linear",
          "width": 1.3
         },
         "marker": {
          "size": 2,
          "symbol": "circle"
         },
         "mode": "markers",
         "name": "A",
         "text": "",
         "type": "scatter",
         "x": [
          -0.45816628383099955,
          -0.11883466025434251,
          -0.4094015829946311,
          -1.2914835561549904,
          0.9612754990723938,
          0.6013143215561251,
          0.8564923935017692,
          -1.5060242820790841,
          -0.9329120696189221,
          0.5063840010781364,
          0.19673850995509426,
          0.6968008590816267,
          -0.2682153528159321,
          -1.1966321881543034,
          -1.914986796762749,
          -1.5012721808636513,
          0.24797725105555277,
          0.8956152441841162,
          1.3563540894257557,
          0.8866127678583284,
          0.5446759778705538,
          -0.06239291541902479,
          1.9280441190196405,
          0.6166345796571179,
          -1.1676956065830673,
          2.1245751222705205,
          -1.2979540310128002,
          -1.30507718123677,
          -0.08188772766930365,
          -0.275984330830567,
          0.055651433310535715,
          0.3315132615174775,
          -0.6073458170743979,
          -0.45460058967665207,
          0.74131982341312,
          1.0672504125579774,
          0.7501262159060722,
          1.1200458081068019,
          -0.9053260445508353,
          -1.5043868218719552,
          1.6867649379872203,
          0.01968016348648188,
          1.0633539743711993,
          -0.653158196183623,
          -0.3777676154145722,
          1.2792921150219716,
          -0.8853086974144317,
          -0.014708258081066811,
          -0.8120917239685443,
          1.036743975431949,
          -1.396935034960128,
          -0.20948651650971176,
          -0.6781034470926233,
          0.35063491088267884,
          -0.231463425208386,
          0.2493170422893123,
          0.6467210677592791,
          -0.5019229277631404,
          1.2428177651306924,
          -1.7728723348714754,
          0.7413236797040839,
          1.3372389018303743,
          0.19819940830218838,
          0.43856707932029015,
          -0.2539172064642826,
          -0.11232087017211007,
          -0.1708233860370722,
          0.23028026703935586,
          -0.24100973880514245,
          0.7220692601567872,
          -1.1294243054334292,
          -0.3764175995907608,
          0.5139801776844591,
          0.9361789461093236,
          0.9014679938618109,
          -1.5550062592884444,
          0.3165226975801555,
          1.1964668573000992,
          -0.8015063727727901,
          1.0927057005616585,
          1.38631879990504,
          0.7310956778995843,
          -1.0576901462878046,
          -0.059923002252414634,
          -0.10875592293217297,
          -0.21129293570494387,
          -0.39967581594824675,
          -0.010035887195605423,
          0.5237332158414504,
          -0.643840440184256,
          0.19727126151322869,
          -2.33014797811234,
          0.37603575047736865,
          0.17974822302615057,
          -0.6015247299934993,
          -0.36552514462323477,
          -1.1966862830172331,
          0.39478812868742486,
          0.9220918500329655,
          0.37342520314964806
         ],
         "xaxis": "x4",
         "y": [
          0.3419584291255313,
          2.361780384778356,
          0.9119528973909766,
          0.7843148177858439,
          0.19788293810360227,
          0.14792586818241837,
          -0.9642251958129214,
          -0.9982883475458826,
          -1.1325513846419084,
          -0.34775573601765764,
          0.05614453083062882,
          -1.8350439315471765,
          0.5511018764251773,
          0.17988137422617523,
          -1.065227814836348,
          0.3586145152614117,
          2.411605482613125,
          0.3560938040312589,
          0.36786610050285107,
          -2.6002826096447857,
          -0.7981799468689968,
          -0.9645031821395916,
          0.023965620965615043,
          -0.7365368491710338,
          -0.004858042010386315,
          -1.3623500370271893,
          -0.4525814500361433,
          0.7058262779117401,
          0.3440578447346543,
          -0.6854853356129478,
          -1.175912357533231,
          -0.06250042438078895,
          0.3714797107838847,
          1.3432775395609564,
          0.7180364148121844,
          2.7251283264314794,
          -1.7927981428516335,
          0.30526270927024285,
          0.07066587428438767,
          0.9829832457917175,
          0.2481333939762536,
          1.2611119707431302,
          0.39120023817415484,
          1.4126639401837995,
          -0.2543019620938231,
          -1.0808580728245565,
          0.21293978874229247,
          -1.817542673207612,
          0.5705140433534914,
          0.07031969294279024,
          -1.7310193046540587,
          -0.009968310223363802,
          -1.0487616328861715,
          0.23392266236390605,
          -1.1403254897435495,
          -0.009551520847821338,
          0.0587528290155611,
          0.27327642074331,
          0.5952762262270923,
          0.34922564728692723,
          0.3506158007930843,
          -0.7194723669016722,
          -0.969386453754765,
          0.07607441829377784,
          0.8224531813525415,
          -0.4267717900771313,
          -0.40179473694537243,
          0.8730785586025657,
          0.8772569764458129,
          1.7525966859134534,
          -0.38937715784865456,
          -0.07128387192799915,
          0.4374266412162082,
          1.0066948777907512,
          -0.8108547122537352,
          -0.12424666495990376,
          0.2694509128538412,
          -0.5798316475284768,
          0.3201902642191978,
          -1.1253119761184023,
          0.8853008752799159,
          0.9710304851537905,
          -0.054131980511390745,
          -0.17879880928332045,
          0.5731252894387706,
          2.1638795628246785,
          1.3828172329633255,
          2.1851828911286226,
          0.5855947229103255,
          -1.314182568919194,
          -0.7986574709761567,
          -0.6434624893139342,
          -0.9091145307420864,
          -0.8156862985068415,
          -0.8784194413581975,
          0.28373706115674197,
          -0.6956611445601208,
          1.4316076867251473,
          0.8162399203140172,
          -0.7460467107715341
         ],
         "yaxis": "y4"
        },
        {
         "line": {
          "color": "rgba(128, 128, 128, 1.0)",
          "dash": "solid",
          "shape": "linear",
          "width": 1.3
         },
         "marker": {
          "size": 2,
          "symbol": "circle"
         },
         "mode": "markers",
         "name": "B",
         "text": "",
         "type": "scatter",
         "x": [
          0.3419584291255313,
          2.361780384778356,
          0.9119528973909766,
          0.7843148177858439,
          0.19788293810360227,
          0.14792586818241837,
          -0.9642251958129214,
          -0.9982883475458826,
          -1.1325513846419084,
          -0.34775573601765764,
          0.05614453083062882,
          -1.8350439315471765,
          0.5511018764251773,
          0.17988137422617523,
          -1.065227814836348,
          0.3586145152614117,
          2.411605482613125,
          0.3560938040312589,
          0.36786610050285107,
          -2.6002826096447857,
          -0.7981799468689968,
          -0.9645031821395916,
          0.023965620965615043,
          -0.7365368491710338,
          -0.004858042010386315,
          -1.3623500370271893,
          -0.4525814500361433,
          0.7058262779117401,
          0.3440578447346543,
          -0.6854853356129478,
          -1.175912357533231,
          -0.06250042438078895,
          0.3714797107838847,
          1.3432775395609564,
          0.7180364148121844,
          2.7251283264314794,
          -1.7927981428516335,
          0.30526270927024285,
          0.07066587428438767,
          0.9829832457917175,
          0.2481333939762536,
          1.2611119707431302,
          0.39120023817415484,
          1.4126639401837995,
          -0.2543019620938231,
          -1.0808580728245565,
          0.21293978874229247,
          -1.817542673207612,
          0.5705140433534914,
          0.07031969294279024,
          -1.7310193046540587,
          -0.009968310223363802,
          -1.0487616328861715,
          0.23392266236390605,
          -1.1403254897435495,
          -0.009551520847821338,
          0.0587528290155611,
          0.27327642074331,
          0.5952762262270923,
          0.34922564728692723,
          0.3506158007930843,
          -0.7194723669016722,
          -0.969386453754765,
          0.07607441829377784,
          0.8224531813525415,
          -0.4267717900771313,
          -0.40179473694537243,
          0.8730785586025657,
          0.8772569764458129,
          1.7525966859134534,
          -0.38937715784865456,
          -0.07128387192799915,
          0.4374266412162082,
          1.0066948777907512,
          -0.8108547122537352,
          -0.12424666495990376,
          0.2694509128538412,
          -0.5798316475284768,
          0.3201902642191978,
          -1.1253119761184023,
          0.8853008752799159,
          0.9710304851537905,
          -0.054131980511390745,
          -0.17879880928332045,
          0.5731252894387706,
          2.1638795628246785,
          1.3828172329633255,
          2.1851828911286226,
          0.5855947229103255,
          -1.314182568919194,
          -0.7986574709761567,
          -0.6434624893139342,
          -0.9091145307420864,
          -0.8156862985068415,
          -0.8784194413581975,
          0.28373706115674197,
          -0.6956611445601208,
          1.4316076867251473,
          0.8162399203140172,
          -0.7460467107715341
         ],
         "xaxis": "x5",
         "y": [
          -1.2469675844086194,
          2.9891513099497544,
          0.1017309838125147,
          0.02548119832841038,
          1.9193919674365298,
          -0.20182906842565754,
          0.34360603457165223,
          -0.2249471960281491,
          -0.9850353052474844,
          -0.4559661499288387,
          -0.3878301319310226,
          1.1082652594076037,
          0.8744392746857205,
          1.0093918400229367,
          -0.5394935232766637,
          -0.803745333849395,
          -0.6518641752351033,
          -0.43622292742754704,
          1.433979164394179,
          -0.20860370790793073,
          0.15344776935200735,
          -0.24292160640219418,
          1.1989580674290223,
          -1.1443449709961133,
          -0.09993272796215072,
          0.10083254924068984,
          -0.35213515431348485,
          -1.2061255943422544,
          1.0970022135175945,
          -0.6800842183802278,
          -0.07119109631676689,
          0.26860378089458553,
          -1.3759056290183418,
          0.2669198011313815,
          0.4534602278898926,
          0.01047672724603757,
          -1.2522099425982471,
          -0.10554046833546744,
          1.548445310306408,
          -0.06588810735895306,
          0.6760987700300749,
          -0.0420202255577279,
          1.8378273002595218,
          -0.6078283434805584,
          1.5282024981691928,
          -0.2754917649929963,
          -0.5399326467480746,
          0.6224826249171681,
          0.47795041715071557,
          0.6278077101583388,
          -1.3409423856968694,
          -0.7706624003108283,
          0.015473729679894384,
          0.26319508876425185,
          1.0028321641640017,
          -0.807548524223669,
          0.9869502776032817,
          -1.28221797054689,
          -1.1449359698029302,
          -0.6395403941539245,
          2.4047917183665826,
          0.27108517431821616,
          -1.2451142203486658,
          -0.9178682146002846,
          -0.14570048592133691,
          -0.6272356706833567,
          -0.8514150741598167,
          1.3091254912388204,
          0.05193399027756955,
          -0.002553724868215908,
          -1.1324415602896714,
          1.438180944671712,
          0.6043815252099933,
          0.3150816994390484,
          -0.09226594346437388,
          -1.6197115478527,
          -1.075865500583438,
          0.7486483332115086,
          0.19586000178350335,
          -0.12224064694673781,
          -0.5599448183549804,
          0.3622861605064426,
          -1.4558631826967452,
          1.7992281941455563,
          -0.5220566801522477,
          -0.9653810326273534,
          -0.7122912093233262,
          2.2326519358646375,
          -0.2406418434421078,
          0.804193973114719,
          1.0070051946632714,
          0.5420153009884275,
          -0.7734745290640057,
          -0.48601676911296376,
          1.6060186504018106,
          -0.5062587167544614,
          -0.09464116750951326,
          -1.3098800820079146,
          1.0224650955995838,
          1.0548935522161016
         ],
         "yaxis": "y5"
        },
        {
         "histfunc": "count",
         "histnorm": "",
         "marker": {
          "color": "rgba(55, 128, 191, 1.0)",
          "line": {
           "color": "#4D5663",
           "width": 1.3
          }
         },
         "name": "B",
         "nbinsx": 10,
         "opacity": 0.8,
         "orientation": "v",
         "type": "histogram",
         "x": [
          -1.2469675844086194,
          2.9891513099497544,
          0.1017309838125147,
          0.02548119832841038,
          1.9193919674365298,
          -0.20182906842565754,
          0.34360603457165223,
          -0.2249471960281491,
          -0.9850353052474844,
          -0.4559661499288387,
          -0.3878301319310226,
          1.1082652594076037,
          0.8744392746857205,
          1.0093918400229367,
          -0.5394935232766637,
          -0.803745333849395,
          -0.6518641752351033,
          -0.43622292742754704,
          1.433979164394179,
          -0.20860370790793073,
          0.15344776935200735,
          -0.24292160640219418,
          1.1989580674290223,
          -1.1443449709961133,
          -0.09993272796215072,
          0.10083254924068984,
          -0.35213515431348485,
          -1.2061255943422544,
          1.0970022135175945,
          -0.6800842183802278,
          -0.07119109631676689,
          0.26860378089458553,
          -1.3759056290183418,
          0.2669198011313815,
          0.4534602278898926,
          0.01047672724603757,
          -1.2522099425982471,
          -0.10554046833546744,
          1.548445310306408,
          -0.06588810735895306,
          0.6760987700300749,
          -0.0420202255577279,
          1.8378273002595218,
          -0.6078283434805584,
          1.5282024981691928,
          -0.2754917649929963,
          -0.5399326467480746,
          0.6224826249171681,
          0.47795041715071557,
          0.6278077101583388,
          -1.3409423856968694,
          -0.7706624003108283,
          0.015473729679894384,
          0.26319508876425185,
          1.0028321641640017,
          -0.807548524223669,
          0.9869502776032817,
          -1.28221797054689,
          -1.1449359698029302,
          -0.6395403941539245,
          2.4047917183665826,
          0.27108517431821616,
          -1.2451142203486658,
          -0.9178682146002846,
          -0.14570048592133691,
          -0.6272356706833567,
          -0.8514150741598167,
          1.3091254912388204,
          0.05193399027756955,
          -0.002553724868215908,
          -1.1324415602896714,
          1.438180944671712,
          0.6043815252099933,
          0.3150816994390484,
          -0.09226594346437388,
          -1.6197115478527,
          -1.075865500583438,
          0.7486483332115086,
          0.19586000178350335,
          -0.12224064694673781,
          -0.5599448183549804,
          0.3622861605064426,
          -1.4558631826967452,
          1.7992281941455563,
          -0.5220566801522477,
          -0.9653810326273534,
          -0.7122912093233262,
          2.2326519358646375,
          -0.2406418434421078,
          0.804193973114719,
          1.0070051946632714,
          0.5420153009884275,
          -0.7734745290640057,
          -0.48601676911296376,
          1.6060186504018106,
          -0.5062587167544614,
          -0.09464116750951326,
          -1.3098800820079146,
          1.0224650955995838,
          1.0548935522161016
         ],
         "xaxis": "x6",
         "yaxis": "y6"
        },
        {
         "line": {
          "color": "rgba(128, 128, 128, 1.0)",
          "dash": "solid",
          "shape": "linear",
          "width": 1.3
         },
         "marker": {
          "size": 2,
          "symbol": "circle"
         },
         "mode": "markers",
         "name": "B",
         "text": "",
         "type": "scatter",
         "x": [
          -0.8089288141229286,
          1.465625495185079,
          -1.6871488539427726,
          -0.16911132657974587,
          -0.3897976290030342,
          -0.8863405228175659,
          0.9933038955886511,
          -1.398853576678524,
          -0.0157329850118625,
          0.23536393631978372,
          -0.7531687946176233,
          0.3894346234619737,
          0.5094110804845734,
          1.2632159547476658,
          0.2271132454212522,
          -0.8953206806668295,
          -1.2068772383786814,
          2.1190160225500247,
          -0.03549621773010565,
          -0.952683310719695,
          0.08553780338648229,
          0.3953373493668272,
          -2.2670940447542396,
          0.04253291466940502,
          0.5119931380963819,
          -0.5259428136451291,
          0.3082554492326414,
          -1.6069737932921186,
          0.20636859567286595,
          1.5548193258373544,
          -0.9567089594079814,
          0.6728533111210662,
          -0.9997399942218823,
          -0.09836268084447383,
          1.7038591416615787,
          0.9611717084785155,
          -0.4951431652825938,
          -1.063680158143539,
          -0.9948721946688438,
          -0.017621018172893865,
          0.5174491565658988,
          -0.5023341354767339,
          -0.02414621402911911,
          0.12426822120337526,
          -0.3115496270231586,
          -1.7841290940276027,
          -0.13733470666161338,
          -0.02318853537118824,
          -0.1333064003505278,
          -0.9623536542119135,
          -2.8041763341735346,
          -0.5119872819721337,
          0.30013520666559257,
          1.6910139484110014,
          0.2456693011005962,
          0.22633368250740665,
          1.1793248059506944,
          -0.8301434267279466,
          0.2425819941879717,
          0.4883295416244339,
          -0.3389813899614871,
          0.8955468968992681,
          -0.384502634438256,
          -1.7040628213892801,
          -0.10814430946056518,
          0.794890079038299,
          0.028363038057607048,
          -1.5585199034833328,
          -0.8994240345396853,
          0.3154103928417971,
          -0.8386742063083595,
          0.5817731990193705,
          -0.6111994888444816,
          -1.3378652433103626,
          1.5123413860138917,
          1.2472323942584211,
          -0.8272328276494867,
          -2.2526709403200087,
          0.31489696733571637,
          1.0936677244595716,
          -1.4145990863380116,
          0.3804596019823487,
          -0.00537908434606341,
          0.3001120751126071,
          -0.022196432508811422,
          -0.817676741412886,
          1.142454128263068,
          0.4099378611088832,
          1.4467648063116247,
          -0.9086416758100836,
          -0.1235427476832825,
          -0.6491710343064113,
          0.1956716750126732,
          1.2130925114886821,
          -0.9775054147348364,
          -2.136610016537593,
          -1.146151232781277,
          -1.1754693482576994,
          0.2615274703338761,
          0.8530757510388908
         ],
         "xaxis": "x7",
         "y": [
          -1.2469675844086194,
          2.9891513099497544,
          0.1017309838125147,
          0.02548119832841038,
          1.9193919674365298,
          -0.20182906842565754,
          0.34360603457165223,
          -0.2249471960281491,
          -0.9850353052474844,
          -0.4559661499288387,
          -0.3878301319310226,
          1.1082652594076037,
          0.8744392746857205,
          1.0093918400229367,
          -0.5394935232766637,
          -0.803745333849395,
          -0.6518641752351033,
          -0.43622292742754704,
          1.433979164394179,
          -0.20860370790793073,
          0.15344776935200735,
          -0.24292160640219418,
          1.1989580674290223,
          -1.1443449709961133,
          -0.09993272796215072,
          0.10083254924068984,
          -0.35213515431348485,
          -1.2061255943422544,
          1.0970022135175945,
          -0.6800842183802278,
          -0.07119109631676689,
          0.26860378089458553,
          -1.3759056290183418,
          0.2669198011313815,
          0.4534602278898926,
          0.01047672724603757,
          -1.2522099425982471,
          -0.10554046833546744,
          1.548445310306408,
          -0.06588810735895306,
          0.6760987700300749,
          -0.0420202255577279,
          1.8378273002595218,
          -0.6078283434805584,
          1.5282024981691928,
          -0.2754917649929963,
          -0.5399326467480746,
          0.6224826249171681,
          0.47795041715071557,
          0.6278077101583388,
          -1.3409423856968694,
          -0.7706624003108283,
          0.015473729679894384,
          0.26319508876425185,
          1.0028321641640017,
          -0.807548524223669,
          0.9869502776032817,
          -1.28221797054689,
          -1.1449359698029302,
          -0.6395403941539245,
          2.4047917183665826,
          0.27108517431821616,
          -1.2451142203486658,
          -0.9178682146002846,
          -0.14570048592133691,
          -0.6272356706833567,
          -0.8514150741598167,
          1.3091254912388204,
          0.05193399027756955,
          -0.002553724868215908,
          -1.1324415602896714,
          1.438180944671712,
          0.6043815252099933,
          0.3150816994390484,
          -0.09226594346437388,
          -1.6197115478527,
          -1.075865500583438,
          0.7486483332115086,
          0.19586000178350335,
          -0.12224064694673781,
          -0.5599448183549804,
          0.3622861605064426,
          -1.4558631826967452,
          1.7992281941455563,
          -0.5220566801522477,
          -0.9653810326273534,
          -0.7122912093233262,
          2.2326519358646375,
          -0.2406418434421078,
          0.804193973114719,
          1.0070051946632714,
          0.5420153009884275,
          -0.7734745290640057,
          -0.48601676911296376,
          1.6060186504018106,
          -0.5062587167544614,
          -0.09464116750951326,
          -1.3098800820079146,
          1.0224650955995838,
          1.0548935522161016
         ],
         "yaxis": "y7"
        },
        {
         "line": {
          "color": "rgba(128, 128, 128, 1.0)",
          "dash": "solid",
          "shape": "linear",
          "width": 1.3
         },
         "marker": {
          "size": 2,
          "symbol": "circle"
         },
         "mode": "markers",
         "name": "B",
         "text": "",
         "type": "scatter",
         "x": [
          -0.45816628383099955,
          -0.11883466025434251,
          -0.4094015829946311,
          -1.2914835561549904,
          0.9612754990723938,
          0.6013143215561251,
          0.8564923935017692,
          -1.5060242820790841,
          -0.9329120696189221,
          0.5063840010781364,
          0.19673850995509426,
          0.6968008590816267,
          -0.2682153528159321,
          -1.1966321881543034,
          -1.914986796762749,
          -1.5012721808636513,
          0.24797725105555277,
          0.8956152441841162,
          1.3563540894257557,
          0.8866127678583284,
          0.5446759778705538,
          -0.06239291541902479,
          1.9280441190196405,
          0.6166345796571179,
          -1.1676956065830673,
          2.1245751222705205,
          -1.2979540310128002,
          -1.30507718123677,
          -0.08188772766930365,
          -0.275984330830567,
          0.055651433310535715,
          0.3315132615174775,
          -0.6073458170743979,
          -0.45460058967665207,
          0.74131982341312,
          1.0672504125579774,
          0.7501262159060722,
          1.1200458081068019,
          -0.9053260445508353,
          -1.5043868218719552,
          1.6867649379872203,
          0.01968016348648188,
          1.0633539743711993,
          -0.653158196183623,
          -0.3777676154145722,
          1.2792921150219716,
          -0.8853086974144317,
          -0.014708258081066811,
          -0.8120917239685443,
          1.036743975431949,
          -1.396935034960128,
          -0.20948651650971176,
          -0.6781034470926233,
          0.35063491088267884,
          -0.231463425208386,
          0.2493170422893123,
          0.6467210677592791,
          -0.5019229277631404,
          1.2428177651306924,
          -1.7728723348714754,
          0.7413236797040839,
          1.3372389018303743,
          0.19819940830218838,
          0.43856707932029015,
          -0.2539172064642826,
          -0.11232087017211007,
          -0.1708233860370722,
          0.23028026703935586,
          -0.24100973880514245,
          0.7220692601567872,
          -1.1294243054334292,
          -0.3764175995907608,
          0.5139801776844591,
          0.9361789461093236,
          0.9014679938618109,
          -1.5550062592884444,
          0.3165226975801555,
          1.1964668573000992,
          -0.8015063727727901,
          1.0927057005616585,
          1.38631879990504,
          0.7310956778995843,
          -1.0576901462878046,
          -0.059923002252414634,
          -0.10875592293217297,
          -0.21129293570494387,
          -0.39967581594824675,
          -0.010035887195605423,
          0.5237332158414504,
          -0.643840440184256,
          0.19727126151322869,
          -2.33014797811234,
          0.37603575047736865,
          0.17974822302615057,
          -0.6015247299934993,
          -0.36552514462323477,
          -1.1966862830172331,
          0.39478812868742486,
          0.9220918500329655,
          0.37342520314964806
         ],
         "xaxis": "x8",
         "y": [
          -1.2469675844086194,
          2.9891513099497544,
          0.1017309838125147,
          0.02548119832841038,
          1.9193919674365298,
          -0.20182906842565754,
          0.34360603457165223,
          -0.2249471960281491,
          -0.9850353052474844,
          -0.4559661499288387,
          -0.3878301319310226,
          1.1082652594076037,
          0.8744392746857205,
          1.0093918400229367,
          -0.5394935232766637,
          -0.803745333849395,
          -0.6518641752351033,
          -0.43622292742754704,
          1.433979164394179,
          -0.20860370790793073,
          0.15344776935200735,
          -0.24292160640219418,
          1.1989580674290223,
          -1.1443449709961133,
          -0.09993272796215072,
          0.10083254924068984,
          -0.35213515431348485,
          -1.2061255943422544,
          1.0970022135175945,
          -0.6800842183802278,
          -0.07119109631676689,
          0.26860378089458553,
          -1.3759056290183418,
          0.2669198011313815,
          0.4534602278898926,
          0.01047672724603757,
          -1.2522099425982471,
          -0.10554046833546744,
          1.548445310306408,
          -0.06588810735895306,
          0.6760987700300749,
          -0.0420202255577279,
          1.8378273002595218,
          -0.6078283434805584,
          1.5282024981691928,
          -0.2754917649929963,
          -0.5399326467480746,
          0.6224826249171681,
          0.47795041715071557,
          0.6278077101583388,
          -1.3409423856968694,
          -0.7706624003108283,
          0.015473729679894384,
          0.26319508876425185,
          1.0028321641640017,
          -0.807548524223669,
          0.9869502776032817,
          -1.28221797054689,
          -1.1449359698029302,
          -0.6395403941539245,
          2.4047917183665826,
          0.27108517431821616,
          -1.2451142203486658,
          -0.9178682146002846,
          -0.14570048592133691,
          -0.6272356706833567,
          -0.8514150741598167,
          1.3091254912388204,
          0.05193399027756955,
          -0.002553724868215908,
          -1.1324415602896714,
          1.438180944671712,
          0.6043815252099933,
          0.3150816994390484,
          -0.09226594346437388,
          -1.6197115478527,
          -1.075865500583438,
          0.7486483332115086,
          0.19586000178350335,
          -0.12224064694673781,
          -0.5599448183549804,
          0.3622861605064426,
          -1.4558631826967452,
          1.7992281941455563,
          -0.5220566801522477,
          -0.9653810326273534,
          -0.7122912093233262,
          2.2326519358646375,
          -0.2406418434421078,
          0.804193973114719,
          1.0070051946632714,
          0.5420153009884275,
          -0.7734745290640057,
          -0.48601676911296376,
          1.6060186504018106,
          -0.5062587167544614,
          -0.09464116750951326,
          -1.3098800820079146,
          1.0224650955995838,
          1.0548935522161016
         ],
         "yaxis": "y8"
        },
        {
         "line": {
          "color": "rgba(128, 128, 128, 1.0)",
          "dash": "solid",
          "shape": "linear",
          "width": 1.3
         },
         "marker": {
          "size": 2,
          "symbol": "circle"
         },
         "mode": "markers",
         "name": "C",
         "text": "",
         "type": "scatter",
         "x": [
          0.3419584291255313,
          2.361780384778356,
          0.9119528973909766,
          0.7843148177858439,
          0.19788293810360227,
          0.14792586818241837,
          -0.9642251958129214,
          -0.9982883475458826,
          -1.1325513846419084,
          -0.34775573601765764,
          0.05614453083062882,
          -1.8350439315471765,
          0.5511018764251773,
          0.17988137422617523,
          -1.065227814836348,
          0.3586145152614117,
          2.411605482613125,
          0.3560938040312589,
          0.36786610050285107,
          -2.6002826096447857,
          -0.7981799468689968,
          -0.9645031821395916,
          0.023965620965615043,
          -0.7365368491710338,
          -0.004858042010386315,
          -1.3623500370271893,
          -0.4525814500361433,
          0.7058262779117401,
          0.3440578447346543,
          -0.6854853356129478,
          -1.175912357533231,
          -0.06250042438078895,
          0.3714797107838847,
          1.3432775395609564,
          0.7180364148121844,
          2.7251283264314794,
          -1.7927981428516335,
          0.30526270927024285,
          0.07066587428438767,
          0.9829832457917175,
          0.2481333939762536,
          1.2611119707431302,
          0.39120023817415484,
          1.4126639401837995,
          -0.2543019620938231,
          -1.0808580728245565,
          0.21293978874229247,
          -1.817542673207612,
          0.5705140433534914,
          0.07031969294279024,
          -1.7310193046540587,
          -0.009968310223363802,
          -1.0487616328861715,
          0.23392266236390605,
          -1.1403254897435495,
          -0.009551520847821338,
          0.0587528290155611,
          0.27327642074331,
          0.5952762262270923,
          0.34922564728692723,
          0.3506158007930843,
          -0.7194723669016722,
          -0.969386453754765,
          0.07607441829377784,
          0.8224531813525415,
          -0.4267717900771313,
          -0.40179473694537243,
          0.8730785586025657,
          0.8772569764458129,
          1.7525966859134534,
          -0.38937715784865456,
          -0.07128387192799915,
          0.4374266412162082,
          1.0066948777907512,
          -0.8108547122537352,
          -0.12424666495990376,
          0.2694509128538412,
          -0.5798316475284768,
          0.3201902642191978,
          -1.1253119761184023,
          0.8853008752799159,
          0.9710304851537905,
          -0.054131980511390745,
          -0.17879880928332045,
          0.5731252894387706,
          2.1638795628246785,
          1.3828172329633255,
          2.1851828911286226,
          0.5855947229103255,
          -1.314182568919194,
          -0.7986574709761567,
          -0.6434624893139342,
          -0.9091145307420864,
          -0.8156862985068415,
          -0.8784194413581975,
          0.28373706115674197,
          -0.6956611445601208,
          1.4316076867251473,
          0.8162399203140172,
          -0.7460467107715341
         ],
         "xaxis": "x9",
         "y": [
          -0.8089288141229286,
          1.465625495185079,
          -1.6871488539427726,
          -0.16911132657974587,
          -0.3897976290030342,
          -0.8863405228175659,
          0.9933038955886511,
          -1.398853576678524,
          -0.0157329850118625,
          0.23536393631978372,
          -0.7531687946176233,
          0.3894346234619737,
          0.5094110804845734,
          1.2632159547476658,
          0.2271132454212522,
          -0.8953206806668295,
          -1.2068772383786814,
          2.1190160225500247,
          -0.03549621773010565,
          -0.952683310719695,
          0.08553780338648229,
          0.3953373493668272,
          -2.2670940447542396,
          0.04253291466940502,
          0.5119931380963819,
          -0.5259428136451291,
          0.3082554492326414,
          -1.6069737932921186,
          0.20636859567286595,
          1.5548193258373544,
          -0.9567089594079814,
          0.6728533111210662,
          -0.9997399942218823,
          -0.09836268084447383,
          1.7038591416615787,
          0.9611717084785155,
          -0.4951431652825938,
          -1.063680158143539,
          -0.9948721946688438,
          -0.017621018172893865,
          0.5174491565658988,
          -0.5023341354767339,
          -0.02414621402911911,
          0.12426822120337526,
          -0.3115496270231586,
          -1.7841290940276027,
          -0.13733470666161338,
          -0.02318853537118824,
          -0.1333064003505278,
          -0.9623536542119135,
          -2.8041763341735346,
          -0.5119872819721337,
          0.30013520666559257,
          1.6910139484110014,
          0.2456693011005962,
          0.22633368250740665,
          1.1793248059506944,
          -0.8301434267279466,
          0.2425819941879717,
          0.4883295416244339,
          -0.3389813899614871,
          0.8955468968992681,
          -0.384502634438256,
          -1.7040628213892801,
          -0.10814430946056518,
          0.794890079038299,
          0.028363038057607048,
          -1.5585199034833328,
          -0.8994240345396853,
          0.3154103928417971,
          -0.8386742063083595,
          0.5817731990193705,
          -0.6111994888444816,
          -1.3378652433103626,
          1.5123413860138917,
          1.2472323942584211,
          -0.8272328276494867,
          -2.2526709403200087,
          0.31489696733571637,
          1.0936677244595716,
          -1.4145990863380116,
          0.3804596019823487,
          -0.00537908434606341,
          0.3001120751126071,
          -0.022196432508811422,
          -0.817676741412886,
          1.142454128263068,
          0.4099378611088832,
          1.4467648063116247,
          -0.9086416758100836,
          -0.1235427476832825,
          -0.6491710343064113,
          0.1956716750126732,
          1.2130925114886821,
          -0.9775054147348364,
          -2.136610016537593,
          -1.146151232781277,
          -1.1754693482576994,
          0.2615274703338761,
          0.8530757510388908
         ],
         "yaxis": "y9"
        },
        {
         "line": {
          "color": "rgba(128, 128, 128, 1.0)",
          "dash": "solid",
          "shape": "linear",
          "width": 1.3
         },
         "marker": {
          "size": 2,
          "symbol": "circle"
         },
         "mode": "markers",
         "name": "C",
         "text": "",
         "type": "scatter",
         "x": [
          -1.2469675844086194,
          2.9891513099497544,
          0.1017309838125147,
          0.02548119832841038,
          1.9193919674365298,
          -0.20182906842565754,
          0.34360603457165223,
          -0.2249471960281491,
          -0.9850353052474844,
          -0.4559661499288387,
          -0.3878301319310226,
          1.1082652594076037,
          0.8744392746857205,
          1.0093918400229367,
          -0.5394935232766637,
          -0.803745333849395,
          -0.6518641752351033,
          -0.43622292742754704,
          1.433979164394179,
          -0.20860370790793073,
          0.15344776935200735,
          -0.24292160640219418,
          1.1989580674290223,
          -1.1443449709961133,
          -0.09993272796215072,
          0.10083254924068984,
          -0.35213515431348485,
          -1.2061255943422544,
          1.0970022135175945,
          -0.6800842183802278,
          -0.07119109631676689,
          0.26860378089458553,
          -1.3759056290183418,
          0.2669198011313815,
          0.4534602278898926,
          0.01047672724603757,
          -1.2522099425982471,
          -0.10554046833546744,
          1.548445310306408,
          -0.06588810735895306,
          0.6760987700300749,
          -0.0420202255577279,
          1.8378273002595218,
          -0.6078283434805584,
          1.5282024981691928,
          -0.2754917649929963,
          -0.5399326467480746,
          0.6224826249171681,
          0.47795041715071557,
          0.6278077101583388,
          -1.3409423856968694,
          -0.7706624003108283,
          0.015473729679894384,
          0.26319508876425185,
          1.0028321641640017,
          -0.807548524223669,
          0.9869502776032817,
          -1.28221797054689,
          -1.1449359698029302,
          -0.6395403941539245,
          2.4047917183665826,
          0.27108517431821616,
          -1.2451142203486658,
          -0.9178682146002846,
          -0.14570048592133691,
          -0.6272356706833567,
          -0.8514150741598167,
          1.3091254912388204,
          0.05193399027756955,
          -0.002553724868215908,
          -1.1324415602896714,
          1.438180944671712,
          0.6043815252099933,
          0.3150816994390484,
          -0.09226594346437388,
          -1.6197115478527,
          -1.075865500583438,
          0.7486483332115086,
          0.19586000178350335,
          -0.12224064694673781,
          -0.5599448183549804,
          0.3622861605064426,
          -1.4558631826967452,
          1.7992281941455563,
          -0.5220566801522477,
          -0.9653810326273534,
          -0.7122912093233262,
          2.2326519358646375,
          -0.2406418434421078,
          0.804193973114719,
          1.0070051946632714,
          0.5420153009884275,
          -0.7734745290640057,
          -0.48601676911296376,
          1.6060186504018106,
          -0.5062587167544614,
          -0.09464116750951326,
          -1.3098800820079146,
          1.0224650955995838,
          1.0548935522161016
         ],
         "xaxis": "x10",
         "y": [
          -0.8089288141229286,
          1.465625495185079,
          -1.6871488539427726,
          -0.16911132657974587,
          -0.3897976290030342,
          -0.8863405228175659,
          0.9933038955886511,
          -1.398853576678524,
          -0.0157329850118625,
          0.23536393631978372,
          -0.7531687946176233,
          0.3894346234619737,
          0.5094110804845734,
          1.2632159547476658,
          0.2271132454212522,
          -0.8953206806668295,
          -1.2068772383786814,
          2.1190160225500247,
          -0.03549621773010565,
          -0.952683310719695,
          0.08553780338648229,
          0.3953373493668272,
          -2.2670940447542396,
          0.04253291466940502,
          0.5119931380963819,
          -0.5259428136451291,
          0.3082554492326414,
          -1.6069737932921186,
          0.20636859567286595,
          1.5548193258373544,
          -0.9567089594079814,
          0.6728533111210662,
          -0.9997399942218823,
          -0.09836268084447383,
          1.7038591416615787,
          0.9611717084785155,
          -0.4951431652825938,
          -1.063680158143539,
          -0.9948721946688438,
          -0.017621018172893865,
          0.5174491565658988,
          -0.5023341354767339,
          -0.02414621402911911,
          0.12426822120337526,
          -0.3115496270231586,
          -1.7841290940276027,
          -0.13733470666161338,
          -0.02318853537118824,
          -0.1333064003505278,
          -0.9623536542119135,
          -2.8041763341735346,
          -0.5119872819721337,
          0.30013520666559257,
          1.6910139484110014,
          0.2456693011005962,
          0.22633368250740665,
          1.1793248059506944,
          -0.8301434267279466,
          0.2425819941879717,
          0.4883295416244339,
          -0.3389813899614871,
          0.8955468968992681,
          -0.384502634438256,
          -1.7040628213892801,
          -0.10814430946056518,
          0.794890079038299,
          0.028363038057607048,
          -1.5585199034833328,
          -0.8994240345396853,
          0.3154103928417971,
          -0.8386742063083595,
          0.5817731990193705,
          -0.6111994888444816,
          -1.3378652433103626,
          1.5123413860138917,
          1.2472323942584211,
          -0.8272328276494867,
          -2.2526709403200087,
          0.31489696733571637,
          1.0936677244595716,
          -1.4145990863380116,
          0.3804596019823487,
          -0.00537908434606341,
          0.3001120751126071,
          -0.022196432508811422,
          -0.817676741412886,
          1.142454128263068,
          0.4099378611088832,
          1.4467648063116247,
          -0.9086416758100836,
          -0.1235427476832825,
          -0.6491710343064113,
          0.1956716750126732,
          1.2130925114886821,
          -0.9775054147348364,
          -2.136610016537593,
          -1.146151232781277,
          -1.1754693482576994,
          0.2615274703338761,
          0.8530757510388908
         ],
         "yaxis": "y10"
        },
        {
         "histfunc": "count",
         "histnorm": "",
         "marker": {
          "color": "rgba(50, 171, 96, 1.0)",
          "line": {
           "color": "#4D5663",
           "width": 1.3
          }
         },
         "name": "C",
         "nbinsx": 10,
         "opacity": 0.8,
         "orientation": "v",
         "type": "histogram",
         "x": [
          -0.8089288141229286,
          1.465625495185079,
          -1.6871488539427726,
          -0.16911132657974587,
          -0.3897976290030342,
          -0.8863405228175659,
          0.9933038955886511,
          -1.398853576678524,
          -0.0157329850118625,
          0.23536393631978372,
          -0.7531687946176233,
          0.3894346234619737,
          0.5094110804845734,
          1.2632159547476658,
          0.2271132454212522,
          -0.8953206806668295,
          -1.2068772383786814,
          2.1190160225500247,
          -0.03549621773010565,
          -0.952683310719695,
          0.08553780338648229,
          0.3953373493668272,
          -2.2670940447542396,
          0.04253291466940502,
          0.5119931380963819,
          -0.5259428136451291,
          0.3082554492326414,
          -1.6069737932921186,
          0.20636859567286595,
          1.5548193258373544,
          -0.9567089594079814,
          0.6728533111210662,
          -0.9997399942218823,
          -0.09836268084447383,
          1.7038591416615787,
          0.9611717084785155,
          -0.4951431652825938,
          -1.063680158143539,
          -0.9948721946688438,
          -0.017621018172893865,
          0.5174491565658988,
          -0.5023341354767339,
          -0.02414621402911911,
          0.12426822120337526,
          -0.3115496270231586,
          -1.7841290940276027,
          -0.13733470666161338,
          -0.02318853537118824,
          -0.1333064003505278,
          -0.9623536542119135,
          -2.8041763341735346,
          -0.5119872819721337,
          0.30013520666559257,
          1.6910139484110014,
          0.2456693011005962,
          0.22633368250740665,
          1.1793248059506944,
          -0.8301434267279466,
          0.2425819941879717,
          0.4883295416244339,
          -0.3389813899614871,
          0.8955468968992681,
          -0.384502634438256,
          -1.7040628213892801,
          -0.10814430946056518,
          0.794890079038299,
          0.028363038057607048,
          -1.5585199034833328,
          -0.8994240345396853,
          0.3154103928417971,
          -0.8386742063083595,
          0.5817731990193705,
          -0.6111994888444816,
          -1.3378652433103626,
          1.5123413860138917,
          1.2472323942584211,
          -0.8272328276494867,
          -2.2526709403200087,
          0.31489696733571637,
          1.0936677244595716,
          -1.4145990863380116,
          0.3804596019823487,
          -0.00537908434606341,
          0.3001120751126071,
          -0.022196432508811422,
          -0.817676741412886,
          1.142454128263068,
          0.4099378611088832,
          1.4467648063116247,
          -0.9086416758100836,
          -0.1235427476832825,
          -0.6491710343064113,
          0.1956716750126732,
          1.2130925114886821,
          -0.9775054147348364,
          -2.136610016537593,
          -1.146151232781277,
          -1.1754693482576994,
          0.2615274703338761,
          0.8530757510388908
         ],
         "xaxis": "x11",
         "yaxis": "y11"
        },
        {
         "line": {
          "color": "rgba(128, 128, 128, 1.0)",
          "dash": "solid",
          "shape": "linear",
          "width": 1.3
         },
         "marker": {
          "size": 2,
          "symbol": "circle"
         },
         "mode": "markers",
         "name": "C",
         "text": "",
         "type": "scatter",
         "x": [
          -0.45816628383099955,
          -0.11883466025434251,
          -0.4094015829946311,
          -1.2914835561549904,
          0.9612754990723938,
          0.6013143215561251,
          0.8564923935017692,
          -1.5060242820790841,
          -0.9329120696189221,
          0.5063840010781364,
          0.19673850995509426,
          0.6968008590816267,
          -0.2682153528159321,
          -1.1966321881543034,
          -1.914986796762749,
          -1.5012721808636513,
          0.24797725105555277,
          0.8956152441841162,
          1.3563540894257557,
          0.8866127678583284,
          0.5446759778705538,
          -0.06239291541902479,
          1.9280441190196405,
          0.6166345796571179,
          -1.1676956065830673,
          2.1245751222705205,
          -1.2979540310128002,
          -1.30507718123677,
          -0.08188772766930365,
          -0.275984330830567,
          0.055651433310535715,
          0.3315132615174775,
          -0.6073458170743979,
          -0.45460058967665207,
          0.74131982341312,
          1.0672504125579774,
          0.7501262159060722,
          1.1200458081068019,
          -0.9053260445508353,
          -1.5043868218719552,
          1.6867649379872203,
          0.01968016348648188,
          1.0633539743711993,
          -0.653158196183623,
          -0.3777676154145722,
          1.2792921150219716,
          -0.8853086974144317,
          -0.014708258081066811,
          -0.8120917239685443,
          1.036743975431949,
          -1.396935034960128,
          -0.20948651650971176,
          -0.6781034470926233,
          0.35063491088267884,
          -0.231463425208386,
          0.2493170422893123,
          0.6467210677592791,
          -0.5019229277631404,
          1.2428177651306924,
          -1.7728723348714754,
          0.7413236797040839,
          1.3372389018303743,
          0.19819940830218838,
          0.43856707932029015,
          -0.2539172064642826,
          -0.11232087017211007,
          -0.1708233860370722,
          0.23028026703935586,
          -0.24100973880514245,
          0.7220692601567872,
          -1.1294243054334292,
          -0.3764175995907608,
          0.5139801776844591,
          0.9361789461093236,
          0.9014679938618109,
          -1.5550062592884444,
          0.3165226975801555,
          1.1964668573000992,
          -0.8015063727727901,
          1.0927057005616585,
          1.38631879990504,
          0.7310956778995843,
          -1.0576901462878046,
          -0.059923002252414634,
          -0.10875592293217297,
          -0.21129293570494387,
          -0.39967581594824675,
          -0.010035887195605423,
          0.5237332158414504,
          -0.643840440184256,
          0.19727126151322869,
          -2.33014797811234,
          0.37603575047736865,
          0.17974822302615057,
          -0.6015247299934993,
          -0.36552514462323477,
          -1.1966862830172331,
          0.39478812868742486,
          0.9220918500329655,
          0.37342520314964806
         ],
         "xaxis": "x12",
         "y": [
          -0.8089288141229286,
          1.465625495185079,
          -1.6871488539427726,
          -0.16911132657974587,
          -0.3897976290030342,
          -0.8863405228175659,
          0.9933038955886511,
          -1.398853576678524,
          -0.0157329850118625,
          0.23536393631978372,
          -0.7531687946176233,
          0.3894346234619737,
          0.5094110804845734,
          1.2632159547476658,
          0.2271132454212522,
          -0.8953206806668295,
          -1.2068772383786814,
          2.1190160225500247,
          -0.03549621773010565,
          -0.952683310719695,
          0.08553780338648229,
          0.3953373493668272,
          -2.2670940447542396,
          0.04253291466940502,
          0.5119931380963819,
          -0.5259428136451291,
          0.3082554492326414,
          -1.6069737932921186,
          0.20636859567286595,
          1.5548193258373544,
          -0.9567089594079814,
          0.6728533111210662,
          -0.9997399942218823,
          -0.09836268084447383,
          1.7038591416615787,
          0.9611717084785155,
          -0.4951431652825938,
          -1.063680158143539,
          -0.9948721946688438,
          -0.017621018172893865,
          0.5174491565658988,
          -0.5023341354767339,
          -0.02414621402911911,
          0.12426822120337526,
          -0.3115496270231586,
          -1.7841290940276027,
          -0.13733470666161338,
          -0.02318853537118824,
          -0.1333064003505278,
          -0.9623536542119135,
          -2.8041763341735346,
          -0.5119872819721337,
          0.30013520666559257,
          1.6910139484110014,
          0.2456693011005962,
          0.22633368250740665,
          1.1793248059506944,
          -0.8301434267279466,
          0.2425819941879717,
          0.4883295416244339,
          -0.3389813899614871,
          0.8955468968992681,
          -0.384502634438256,
          -1.7040628213892801,
          -0.10814430946056518,
          0.794890079038299,
          0.028363038057607048,
          -1.5585199034833328,
          -0.8994240345396853,
          0.3154103928417971,
          -0.8386742063083595,
          0.5817731990193705,
          -0.6111994888444816,
          -1.3378652433103626,
          1.5123413860138917,
          1.2472323942584211,
          -0.8272328276494867,
          -2.2526709403200087,
          0.31489696733571637,
          1.0936677244595716,
          -1.4145990863380116,
          0.3804596019823487,
          -0.00537908434606341,
          0.3001120751126071,
          -0.022196432508811422,
          -0.817676741412886,
          1.142454128263068,
          0.4099378611088832,
          1.4467648063116247,
          -0.9086416758100836,
          -0.1235427476832825,
          -0.6491710343064113,
          0.1956716750126732,
          1.2130925114886821,
          -0.9775054147348364,
          -2.136610016537593,
          -1.146151232781277,
          -1.1754693482576994,
          0.2615274703338761,
          0.8530757510388908
         ],
         "yaxis": "y12"
        },
        {
         "line": {
          "color": "rgba(128, 128, 128, 1.0)",
          "dash": "solid",
          "shape": "linear",
          "width": 1.3
         },
         "marker": {
          "size": 2,
          "symbol": "circle"
         },
         "mode": "markers",
         "name": "D",
         "text": "",
         "type": "scatter",
         "x": [
          0.3419584291255313,
          2.361780384778356,
          0.9119528973909766,
          0.7843148177858439,
          0.19788293810360227,
          0.14792586818241837,
          -0.9642251958129214,
          -0.9982883475458826,
          -1.1325513846419084,
          -0.34775573601765764,
          0.05614453083062882,
          -1.8350439315471765,
          0.5511018764251773,
          0.17988137422617523,
          -1.065227814836348,
          0.3586145152614117,
          2.411605482613125,
          0.3560938040312589,
          0.36786610050285107,
          -2.6002826096447857,
          -0.7981799468689968,
          -0.9645031821395916,
          0.023965620965615043,
          -0.7365368491710338,
          -0.004858042010386315,
          -1.3623500370271893,
          -0.4525814500361433,
          0.7058262779117401,
          0.3440578447346543,
          -0.6854853356129478,
          -1.175912357533231,
          -0.06250042438078895,
          0.3714797107838847,
          1.3432775395609564,
          0.7180364148121844,
          2.7251283264314794,
          -1.7927981428516335,
          0.30526270927024285,
          0.07066587428438767,
          0.9829832457917175,
          0.2481333939762536,
          1.2611119707431302,
          0.39120023817415484,
          1.4126639401837995,
          -0.2543019620938231,
          -1.0808580728245565,
          0.21293978874229247,
          -1.817542673207612,
          0.5705140433534914,
          0.07031969294279024,
          -1.7310193046540587,
          -0.009968310223363802,
          -1.0487616328861715,
          0.23392266236390605,
          -1.1403254897435495,
          -0.009551520847821338,
          0.0587528290155611,
          0.27327642074331,
          0.5952762262270923,
          0.34922564728692723,
          0.3506158007930843,
          -0.7194723669016722,
          -0.969386453754765,
          0.07607441829377784,
          0.8224531813525415,
          -0.4267717900771313,
          -0.40179473694537243,
          0.8730785586025657,
          0.8772569764458129,
          1.7525966859134534,
          -0.38937715784865456,
          -0.07128387192799915,
          0.4374266412162082,
          1.0066948777907512,
          -0.8108547122537352,
          -0.12424666495990376,
          0.2694509128538412,
          -0.5798316475284768,
          0.3201902642191978,
          -1.1253119761184023,
          0.8853008752799159,
          0.9710304851537905,
          -0.054131980511390745,
          -0.17879880928332045,
          0.5731252894387706,
          2.1638795628246785,
          1.3828172329633255,
          2.1851828911286226,
          0.5855947229103255,
          -1.314182568919194,
          -0.7986574709761567,
          -0.6434624893139342,
          -0.9091145307420864,
          -0.8156862985068415,
          -0.8784194413581975,
          0.28373706115674197,
          -0.6956611445601208,
          1.4316076867251473,
          0.8162399203140172,
          -0.7460467107715341
         ],
         "xaxis": "x13",
         "y": [
          -0.45816628383099955,
          -0.11883466025434251,
          -0.4094015829946311,
          -1.2914835561549904,
          0.9612754990723938,
          0.6013143215561251,
          0.8564923935017692,
          -1.5060242820790841,
          -0.9329120696189221,
          0.5063840010781364,
          0.19673850995509426,
          0.6968008590816267,
          -0.2682153528159321,
          -1.1966321881543034,
          -1.914986796762749,
          -1.5012721808636513,
          0.24797725105555277,
          0.8956152441841162,
          1.3563540894257557,
          0.8866127678583284,
          0.5446759778705538,
          -0.06239291541902479,
          1.9280441190196405,
          0.6166345796571179,
          -1.1676956065830673,
          2.1245751222705205,
          -1.2979540310128002,
          -1.30507718123677,
          -0.08188772766930365,
          -0.275984330830567,
          0.055651433310535715,
          0.3315132615174775,
          -0.6073458170743979,
          -0.45460058967665207,
          0.74131982341312,
          1.0672504125579774,
          0.7501262159060722,
          1.1200458081068019,
          -0.9053260445508353,
          -1.5043868218719552,
          1.6867649379872203,
          0.01968016348648188,
          1.0633539743711993,
          -0.653158196183623,
          -0.3777676154145722,
          1.2792921150219716,
          -0.8853086974144317,
          -0.014708258081066811,
          -0.8120917239685443,
          1.036743975431949,
          -1.396935034960128,
          -0.20948651650971176,
          -0.6781034470926233,
          0.35063491088267884,
          -0.231463425208386,
          0.2493170422893123,
          0.6467210677592791,
          -0.5019229277631404,
          1.2428177651306924,
          -1.7728723348714754,
          0.7413236797040839,
          1.3372389018303743,
          0.19819940830218838,
          0.43856707932029015,
          -0.2539172064642826,
          -0.11232087017211007,
          -0.1708233860370722,
          0.23028026703935586,
          -0.24100973880514245,
          0.7220692601567872,
          -1.1294243054334292,
          -0.3764175995907608,
          0.5139801776844591,
          0.9361789461093236,
          0.9014679938618109,
          -1.5550062592884444,
          0.3165226975801555,
          1.1964668573000992,
          -0.8015063727727901,
          1.0927057005616585,
          1.38631879990504,
          0.7310956778995843,
          -1.0576901462878046,
          -0.059923002252414634,
          -0.10875592293217297,
          -0.21129293570494387,
          -0.39967581594824675,
          -0.010035887195605423,
          0.5237332158414504,
          -0.643840440184256,
          0.19727126151322869,
          -2.33014797811234,
          0.37603575047736865,
          0.17974822302615057,
          -0.6015247299934993,
          -0.36552514462323477,
          -1.1966862830172331,
          0.39478812868742486,
          0.9220918500329655,
          0.37342520314964806
         ],
         "yaxis": "y13"
        },
        {
         "line": {
          "color": "rgba(128, 128, 128, 1.0)",
          "dash": "solid",
          "shape": "linear",
          "width": 1.3
         },
         "marker": {
          "size": 2,
          "symbol": "circle"
         },
         "mode": "markers",
         "name": "D",
         "text": "",
         "type": "scatter",
         "x": [
          -1.2469675844086194,
          2.9891513099497544,
          0.1017309838125147,
          0.02548119832841038,
          1.9193919674365298,
          -0.20182906842565754,
          0.34360603457165223,
          -0.2249471960281491,
          -0.9850353052474844,
          -0.4559661499288387,
          -0.3878301319310226,
          1.1082652594076037,
          0.8744392746857205,
          1.0093918400229367,
          -0.5394935232766637,
          -0.803745333849395,
          -0.6518641752351033,
          -0.43622292742754704,
          1.433979164394179,
          -0.20860370790793073,
          0.15344776935200735,
          -0.24292160640219418,
          1.1989580674290223,
          -1.1443449709961133,
          -0.09993272796215072,
          0.10083254924068984,
          -0.35213515431348485,
          -1.2061255943422544,
          1.0970022135175945,
          -0.6800842183802278,
          -0.07119109631676689,
          0.26860378089458553,
          -1.3759056290183418,
          0.2669198011313815,
          0.4534602278898926,
          0.01047672724603757,
          -1.2522099425982471,
          -0.10554046833546744,
          1.548445310306408,
          -0.06588810735895306,
          0.6760987700300749,
          -0.0420202255577279,
          1.8378273002595218,
          -0.6078283434805584,
          1.5282024981691928,
          -0.2754917649929963,
          -0.5399326467480746,
          0.6224826249171681,
          0.47795041715071557,
          0.6278077101583388,
          -1.3409423856968694,
          -0.7706624003108283,
          0.015473729679894384,
          0.26319508876425185,
          1.0028321641640017,
          -0.807548524223669,
          0.9869502776032817,
          -1.28221797054689,
          -1.1449359698029302,
          -0.6395403941539245,
          2.4047917183665826,
          0.27108517431821616,
          -1.2451142203486658,
          -0.9178682146002846,
          -0.14570048592133691,
          -0.6272356706833567,
          -0.8514150741598167,
          1.3091254912388204,
          0.05193399027756955,
          -0.002553724868215908,
          -1.1324415602896714,
          1.438180944671712,
          0.6043815252099933,
          0.3150816994390484,
          -0.09226594346437388,
          -1.6197115478527,
          -1.075865500583438,
          0.7486483332115086,
          0.19586000178350335,
          -0.12224064694673781,
          -0.5599448183549804,
          0.3622861605064426,
          -1.4558631826967452,
          1.7992281941455563,
          -0.5220566801522477,
          -0.9653810326273534,
          -0.7122912093233262,
          2.2326519358646375,
          -0.2406418434421078,
          0.804193973114719,
          1.0070051946632714,
          0.5420153009884275,
          -0.7734745290640057,
          -0.48601676911296376,
          1.6060186504018106,
          -0.5062587167544614,
          -0.09464116750951326,
          -1.3098800820079146,
          1.0224650955995838,
          1.0548935522161016
         ],
         "xaxis": "x14",
         "y": [
          -0.45816628383099955,
          -0.11883466025434251,
          -0.4094015829946311,
          -1.2914835561549904,
          0.9612754990723938,
          0.6013143215561251,
          0.8564923935017692,
          -1.5060242820790841,
          -0.9329120696189221,
          0.5063840010781364,
          0.19673850995509426,
          0.6968008590816267,
          -0.2682153528159321,
          -1.1966321881543034,
          -1.914986796762749,
          -1.5012721808636513,
          0.24797725105555277,
          0.8956152441841162,
          1.3563540894257557,
          0.8866127678583284,
          0.5446759778705538,
          -0.06239291541902479,
          1.9280441190196405,
          0.6166345796571179,
          -1.1676956065830673,
          2.1245751222705205,
          -1.2979540310128002,
          -1.30507718123677,
          -0.08188772766930365,
          -0.275984330830567,
          0.055651433310535715,
          0.3315132615174775,
          -0.6073458170743979,
          -0.45460058967665207,
          0.74131982341312,
          1.0672504125579774,
          0.7501262159060722,
          1.1200458081068019,
          -0.9053260445508353,
          -1.5043868218719552,
          1.6867649379872203,
          0.01968016348648188,
          1.0633539743711993,
          -0.653158196183623,
          -0.3777676154145722,
          1.2792921150219716,
          -0.8853086974144317,
          -0.014708258081066811,
          -0.8120917239685443,
          1.036743975431949,
          -1.396935034960128,
          -0.20948651650971176,
          -0.6781034470926233,
          0.35063491088267884,
          -0.231463425208386,
          0.2493170422893123,
          0.6467210677592791,
          -0.5019229277631404,
          1.2428177651306924,
          -1.7728723348714754,
          0.7413236797040839,
          1.3372389018303743,
          0.19819940830218838,
          0.43856707932029015,
          -0.2539172064642826,
          -0.11232087017211007,
          -0.1708233860370722,
          0.23028026703935586,
          -0.24100973880514245,
          0.7220692601567872,
          -1.1294243054334292,
          -0.3764175995907608,
          0.5139801776844591,
          0.9361789461093236,
          0.9014679938618109,
          -1.5550062592884444,
          0.3165226975801555,
          1.1964668573000992,
          -0.8015063727727901,
          1.0927057005616585,
          1.38631879990504,
          0.7310956778995843,
          -1.0576901462878046,
          -0.059923002252414634,
          -0.10875592293217297,
          -0.21129293570494387,
          -0.39967581594824675,
          -0.010035887195605423,
          0.5237332158414504,
          -0.643840440184256,
          0.19727126151322869,
          -2.33014797811234,
          0.37603575047736865,
          0.17974822302615057,
          -0.6015247299934993,
          -0.36552514462323477,
          -1.1966862830172331,
          0.39478812868742486,
          0.9220918500329655,
          0.37342520314964806
         ],
         "yaxis": "y14"
        },
        {
         "line": {
          "color": "rgba(128, 128, 128, 1.0)",
          "dash": "solid",
          "shape": "linear",
          "width": 1.3
         },
         "marker": {
          "size": 2,
          "symbol": "circle"
         },
         "mode": "markers",
         "name": "D",
         "text": "",
         "type": "scatter",
         "x": [
          -0.8089288141229286,
          1.465625495185079,
          -1.6871488539427726,
          -0.16911132657974587,
          -0.3897976290030342,
          -0.8863405228175659,
          0.9933038955886511,
          -1.398853576678524,
          -0.0157329850118625,
          0.23536393631978372,
          -0.7531687946176233,
          0.3894346234619737,
          0.5094110804845734,
          1.2632159547476658,
          0.2271132454212522,
          -0.8953206806668295,
          -1.2068772383786814,
          2.1190160225500247,
          -0.03549621773010565,
          -0.952683310719695,
          0.08553780338648229,
          0.3953373493668272,
          -2.2670940447542396,
          0.04253291466940502,
          0.5119931380963819,
          -0.5259428136451291,
          0.3082554492326414,
          -1.6069737932921186,
          0.20636859567286595,
          1.5548193258373544,
          -0.9567089594079814,
          0.6728533111210662,
          -0.9997399942218823,
          -0.09836268084447383,
          1.7038591416615787,
          0.9611717084785155,
          -0.4951431652825938,
          -1.063680158143539,
          -0.9948721946688438,
          -0.017621018172893865,
          0.5174491565658988,
          -0.5023341354767339,
          -0.02414621402911911,
          0.12426822120337526,
          -0.3115496270231586,
          -1.7841290940276027,
          -0.13733470666161338,
          -0.02318853537118824,
          -0.1333064003505278,
          -0.9623536542119135,
          -2.8041763341735346,
          -0.5119872819721337,
          0.30013520666559257,
          1.6910139484110014,
          0.2456693011005962,
          0.22633368250740665,
          1.1793248059506944,
          -0.8301434267279466,
          0.2425819941879717,
          0.4883295416244339,
          -0.3389813899614871,
          0.8955468968992681,
          -0.384502634438256,
          -1.7040628213892801,
          -0.10814430946056518,
          0.794890079038299,
          0.028363038057607048,
          -1.5585199034833328,
          -0.8994240345396853,
          0.3154103928417971,
          -0.8386742063083595,
          0.5817731990193705,
          -0.6111994888444816,
          -1.3378652433103626,
          1.5123413860138917,
          1.2472323942584211,
          -0.8272328276494867,
          -2.2526709403200087,
          0.31489696733571637,
          1.0936677244595716,
          -1.4145990863380116,
          0.3804596019823487,
          -0.00537908434606341,
          0.3001120751126071,
          -0.022196432508811422,
          -0.817676741412886,
          1.142454128263068,
          0.4099378611088832,
          1.4467648063116247,
          -0.9086416758100836,
          -0.1235427476832825,
          -0.6491710343064113,
          0.1956716750126732,
          1.2130925114886821,
          -0.9775054147348364,
          -2.136610016537593,
          -1.146151232781277,
          -1.1754693482576994,
          0.2615274703338761,
          0.8530757510388908
         ],
         "xaxis": "x15",
         "y": [
          -0.45816628383099955,
          -0.11883466025434251,
          -0.4094015829946311,
          -1.2914835561549904,
          0.9612754990723938,
          0.6013143215561251,
          0.8564923935017692,
          -1.5060242820790841,
          -0.9329120696189221,
          0.5063840010781364,
          0.19673850995509426,
          0.6968008590816267,
          -0.2682153528159321,
          -1.1966321881543034,
          -1.914986796762749,
          -1.5012721808636513,
          0.24797725105555277,
          0.8956152441841162,
          1.3563540894257557,
          0.8866127678583284,
          0.5446759778705538,
          -0.06239291541902479,
          1.9280441190196405,
          0.6166345796571179,
          -1.1676956065830673,
          2.1245751222705205,
          -1.2979540310128002,
          -1.30507718123677,
          -0.08188772766930365,
          -0.275984330830567,
          0.055651433310535715,
          0.3315132615174775,
          -0.6073458170743979,
          -0.45460058967665207,
          0.74131982341312,
          1.0672504125579774,
          0.7501262159060722,
          1.1200458081068019,
          -0.9053260445508353,
          -1.5043868218719552,
          1.6867649379872203,
          0.01968016348648188,
          1.0633539743711993,
          -0.653158196183623,
          -0.3777676154145722,
          1.2792921150219716,
          -0.8853086974144317,
          -0.014708258081066811,
          -0.8120917239685443,
          1.036743975431949,
          -1.396935034960128,
          -0.20948651650971176,
          -0.6781034470926233,
          0.35063491088267884,
          -0.231463425208386,
          0.2493170422893123,
          0.6467210677592791,
          -0.5019229277631404,
          1.2428177651306924,
          -1.7728723348714754,
          0.7413236797040839,
          1.3372389018303743,
          0.19819940830218838,
          0.43856707932029015,
          -0.2539172064642826,
          -0.11232087017211007,
          -0.1708233860370722,
          0.23028026703935586,
          -0.24100973880514245,
          0.7220692601567872,
          -1.1294243054334292,
          -0.3764175995907608,
          0.5139801776844591,
          0.9361789461093236,
          0.9014679938618109,
          -1.5550062592884444,
          0.3165226975801555,
          1.1964668573000992,
          -0.8015063727727901,
          1.0927057005616585,
          1.38631879990504,
          0.7310956778995843,
          -1.0576901462878046,
          -0.059923002252414634,
          -0.10875592293217297,
          -0.21129293570494387,
          -0.39967581594824675,
          -0.010035887195605423,
          0.5237332158414504,
          -0.643840440184256,
          0.19727126151322869,
          -2.33014797811234,
          0.37603575047736865,
          0.17974822302615057,
          -0.6015247299934993,
          -0.36552514462323477,
          -1.1966862830172331,
          0.39478812868742486,
          0.9220918500329655,
          0.37342520314964806
         ],
         "yaxis": "y15"
        },
        {
         "histfunc": "count",
         "histnorm": "",
         "marker": {
          "color": "rgba(128, 0, 128, 1.0)",
          "line": {
           "color": "#4D5663",
           "width": 1.3
          }
         },
         "name": "D",
         "nbinsx": 10,
         "opacity": 0.8,
         "orientation": "v",
         "type": "histogram",
         "x": [
          -0.45816628383099955,
          -0.11883466025434251,
          -0.4094015829946311,
          -1.2914835561549904,
          0.9612754990723938,
          0.6013143215561251,
          0.8564923935017692,
          -1.5060242820790841,
          -0.9329120696189221,
          0.5063840010781364,
          0.19673850995509426,
          0.6968008590816267,
          -0.2682153528159321,
          -1.1966321881543034,
          -1.914986796762749,
          -1.5012721808636513,
          0.24797725105555277,
          0.8956152441841162,
          1.3563540894257557,
          0.8866127678583284,
          0.5446759778705538,
          -0.06239291541902479,
          1.9280441190196405,
          0.6166345796571179,
          -1.1676956065830673,
          2.1245751222705205,
          -1.2979540310128002,
          -1.30507718123677,
          -0.08188772766930365,
          -0.275984330830567,
          0.055651433310535715,
          0.3315132615174775,
          -0.6073458170743979,
          -0.45460058967665207,
          0.74131982341312,
          1.0672504125579774,
          0.7501262159060722,
          1.1200458081068019,
          -0.9053260445508353,
          -1.5043868218719552,
          1.6867649379872203,
          0.01968016348648188,
          1.0633539743711993,
          -0.653158196183623,
          -0.3777676154145722,
          1.2792921150219716,
          -0.8853086974144317,
          -0.014708258081066811,
          -0.8120917239685443,
          1.036743975431949,
          -1.396935034960128,
          -0.20948651650971176,
          -0.6781034470926233,
          0.35063491088267884,
          -0.231463425208386,
          0.2493170422893123,
          0.6467210677592791,
          -0.5019229277631404,
          1.2428177651306924,
          -1.7728723348714754,
          0.7413236797040839,
          1.3372389018303743,
          0.19819940830218838,
          0.43856707932029015,
          -0.2539172064642826,
          -0.11232087017211007,
          -0.1708233860370722,
          0.23028026703935586,
          -0.24100973880514245,
          0.7220692601567872,
          -1.1294243054334292,
          -0.3764175995907608,
          0.5139801776844591,
          0.9361789461093236,
          0.9014679938618109,
          -1.5550062592884444,
          0.3165226975801555,
          1.1964668573000992,
          -0.8015063727727901,
          1.0927057005616585,
          1.38631879990504,
          0.7310956778995843,
          -1.0576901462878046,
          -0.059923002252414634,
          -0.10875592293217297,
          -0.21129293570494387,
          -0.39967581594824675,
          -0.010035887195605423,
          0.5237332158414504,
          -0.643840440184256,
          0.19727126151322869,
          -2.33014797811234,
          0.37603575047736865,
          0.17974822302615057,
          -0.6015247299934993,
          -0.36552514462323477,
          -1.1966862830172331,
          0.39478812868742486,
          0.9220918500329655,
          0.37342520314964806
         ],
         "xaxis": "x16",
         "yaxis": "y16"
        }
       ],
       "layout": {
        "bargap": 0.02,
        "legend": {
         "bgcolor": "#F5F6F9",
         "font": {
          "color": "#4D5663"
         }
        },
        "paper_bgcolor": "#F5F6F9",
        "plot_bgcolor": "#F5F6F9",
        "showlegend": false,
        "template": {
         "data": {
          "bar": [
           {
            "error_x": {
             "color": "#2a3f5f"
            },
            "error_y": {
             "color": "#2a3f5f"
            },
            "marker": {
             "line": {
              "color": "#E5ECF6",
              "width": 0.5
             }
            },
            "type": "bar"
           }
          ],
          "barpolar": [
           {
            "marker": {
             "line": {
              "color": "#E5ECF6",
              "width": 0.5
             }
            },
            "type": "barpolar"
           }
          ],
          "carpet": [
           {
            "aaxis": {
             "endlinecolor": "#2a3f5f",
             "gridcolor": "white",
             "linecolor": "white",
             "minorgridcolor": "white",
             "startlinecolor": "#2a3f5f"
            },
            "baxis": {
             "endlinecolor": "#2a3f5f",
             "gridcolor": "white",
             "linecolor": "white",
             "minorgridcolor": "white",
             "startlinecolor": "#2a3f5f"
            },
            "type": "carpet"
           }
          ],
          "choropleth": [
           {
            "colorbar": {
             "outlinewidth": 0,
             "ticks": ""
            },
            "type": "choropleth"
           }
          ],
          "contour": [
           {
            "colorbar": {
             "outlinewidth": 0,
             "ticks": ""
            },
            "colorscale": [
             [
              0,
              "#0d0887"
             ],
             [
              0.1111111111111111,
              "#46039f"
             ],
             [
              0.2222222222222222,
              "#7201a8"
             ],
             [
              0.3333333333333333,
              "#9c179e"
             ],
             [
              0.4444444444444444,
              "#bd3786"
             ],
             [
              0.5555555555555556,
              "#d8576b"
             ],
             [
              0.6666666666666666,
              "#ed7953"
             ],
             [
              0.7777777777777778,
              "#fb9f3a"
             ],
             [
              0.8888888888888888,
              "#fdca26"
             ],
             [
              1,
              "#f0f921"
             ]
            ],
            "type": "contour"
           }
          ],
          "contourcarpet": [
           {
            "colorbar": {
             "outlinewidth": 0,
             "ticks": ""
            },
            "type": "contourcarpet"
           }
          ],
          "heatmap": [
           {
            "colorbar": {
             "outlinewidth": 0,
             "ticks": ""
            },
            "colorscale": [
             [
              0,
              "#0d0887"
             ],
             [
              0.1111111111111111,
              "#46039f"
             ],
             [
              0.2222222222222222,
              "#7201a8"
             ],
             [
              0.3333333333333333,
              "#9c179e"
             ],
             [
              0.4444444444444444,
              "#bd3786"
             ],
             [
              0.5555555555555556,
              "#d8576b"
             ],
             [
              0.6666666666666666,
              "#ed7953"
             ],
             [
              0.7777777777777778,
              "#fb9f3a"
             ],
             [
              0.8888888888888888,
              "#fdca26"
             ],
             [
              1,
              "#f0f921"
             ]
            ],
            "type": "heatmap"
           }
          ],
          "heatmapgl": [
           {
            "colorbar": {
             "outlinewidth": 0,
             "ticks": ""
            },
            "colorscale": [
             [
              0,
              "#0d0887"
             ],
             [
              0.1111111111111111,
              "#46039f"
             ],
             [
              0.2222222222222222,
              "#7201a8"
             ],
             [
              0.3333333333333333,
              "#9c179e"
             ],
             [
              0.4444444444444444,
              "#bd3786"
             ],
             [
              0.5555555555555556,
              "#d8576b"
             ],
             [
              0.6666666666666666,
              "#ed7953"
             ],
             [
              0.7777777777777778,
              "#fb9f3a"
             ],
             [
              0.8888888888888888,
              "#fdca26"
             ],
             [
              1,
              "#f0f921"
             ]
            ],
            "type": "heatmapgl"
           }
          ],
          "histogram": [
           {
            "marker": {
             "colorbar": {
              "outlinewidth": 0,
              "ticks": ""
             }
            },
            "type": "histogram"
           }
          ],
          "histogram2d": [
           {
            "colorbar": {
             "outlinewidth": 0,
             "ticks": ""
            },
            "colorscale": [
             [
              0,
              "#0d0887"
             ],
             [
              0.1111111111111111,
              "#46039f"
             ],
             [
              0.2222222222222222,
              "#7201a8"
             ],
             [
              0.3333333333333333,
              "#9c179e"
             ],
             [
              0.4444444444444444,
              "#bd3786"
             ],
             [
              0.5555555555555556,
              "#d8576b"
             ],
             [
              0.6666666666666666,
              "#ed7953"
             ],
             [
              0.7777777777777778,
              "#fb9f3a"
             ],
             [
              0.8888888888888888,
              "#fdca26"
             ],
             [
              1,
              "#f0f921"
             ]
            ],
            "type": "histogram2d"
           }
          ],
          "histogram2dcontour": [
           {
            "colorbar": {
             "outlinewidth": 0,
             "ticks": ""
            },
            "colorscale": [
             [
              0,
              "#0d0887"
             ],
             [
              0.1111111111111111,
              "#46039f"
             ],
             [
              0.2222222222222222,
              "#7201a8"
             ],
             [
              0.3333333333333333,
              "#9c179e"
             ],
             [
              0.4444444444444444,
              "#bd3786"
             ],
             [
              0.5555555555555556,
              "#d8576b"
             ],
             [
              0.6666666666666666,
              "#ed7953"
             ],
             [
              0.7777777777777778,
              "#fb9f3a"
             ],
             [
              0.8888888888888888,
              "#fdca26"
             ],
             [
              1,
              "#f0f921"
             ]
            ],
            "type": "histogram2dcontour"
           }
          ],
          "mesh3d": [
           {
            "colorbar": {
             "outlinewidth": 0,
             "ticks": ""
            },
            "type": "mesh3d"
           }
          ],
          "parcoords": [
           {
            "line": {
             "colorbar": {
              "outlinewidth": 0,
              "ticks": ""
             }
            },
            "type": "parcoords"
           }
          ],
          "pie": [
           {
            "automargin": true,
            "type": "pie"
           }
          ],
          "scatter": [
           {
            "marker": {
             "colorbar": {
              "outlinewidth": 0,
              "ticks": ""
             }
            },
            "type": "scatter"
           }
          ],
          "scatter3d": [
           {
            "line": {
             "colorbar": {
              "outlinewidth": 0,
              "ticks": ""
             }
            },
            "marker": {
             "colorbar": {
              "outlinewidth": 0,
              "ticks": ""
             }
            },
            "type": "scatter3d"
           }
          ],
          "scattercarpet": [
           {
            "marker": {
             "colorbar": {
              "outlinewidth": 0,
              "ticks": ""
             }
            },
            "type": "scattercarpet"
           }
          ],
          "scattergeo": [
           {
            "marker": {
             "colorbar": {
              "outlinewidth": 0,
              "ticks": ""
             }
            },
            "type": "scattergeo"
           }
          ],
          "scattergl": [
           {
            "marker": {
             "colorbar": {
              "outlinewidth": 0,
              "ticks": ""
             }
            },
            "type": "scattergl"
           }
          ],
          "scattermapbox": [
           {
            "marker": {
             "colorbar": {
              "outlinewidth": 0,
              "ticks": ""
             }
            },
            "type": "scattermapbox"
           }
          ],
          "scatterpolar": [
           {
            "marker": {
             "colorbar": {
              "outlinewidth": 0,
              "ticks": ""
             }
            },
            "type": "scatterpolar"
           }
          ],
          "scatterpolargl": [
           {
            "marker": {
             "colorbar": {
              "outlinewidth": 0,
              "ticks": ""
             }
            },
            "type": "scatterpolargl"
           }
          ],
          "scatterternary": [
           {
            "marker": {
             "colorbar": {
              "outlinewidth": 0,
              "ticks": ""
             }
            },
            "type": "scatterternary"
           }
          ],
          "surface": [
           {
            "colorbar": {
             "outlinewidth": 0,
             "ticks": ""
            },
            "colorscale": [
             [
              0,
              "#0d0887"
             ],
             [
              0.1111111111111111,
              "#46039f"
             ],
             [
              0.2222222222222222,
              "#7201a8"
             ],
             [
              0.3333333333333333,
              "#9c179e"
             ],
             [
              0.4444444444444444,
              "#bd3786"
             ],
             [
              0.5555555555555556,
              "#d8576b"
             ],
             [
              0.6666666666666666,
              "#ed7953"
             ],
             [
              0.7777777777777778,
              "#fb9f3a"
             ],
             [
              0.8888888888888888,
              "#fdca26"
             ],
             [
              1,
              "#f0f921"
             ]
            ],
            "type": "surface"
           }
          ],
          "table": [
           {
            "cells": {
             "fill": {
              "color": "#EBF0F8"
             },
             "line": {
              "color": "white"
             }
            },
            "header": {
             "fill": {
              "color": "#C8D4E3"
             },
             "line": {
              "color": "white"
             }
            },
            "type": "table"
           }
          ]
         },
         "layout": {
          "annotationdefaults": {
           "arrowcolor": "#2a3f5f",
           "arrowhead": 0,
           "arrowwidth": 1
          },
          "autotypenumbers": "strict",
          "coloraxis": {
           "colorbar": {
            "outlinewidth": 0,
            "ticks": ""
           }
          },
          "colorscale": {
           "diverging": [
            [
             0,
             "#8e0152"
            ],
            [
             0.1,
             "#c51b7d"
            ],
            [
             0.2,
             "#de77ae"
            ],
            [
             0.3,
             "#f1b6da"
            ],
            [
             0.4,
             "#fde0ef"
            ],
            [
             0.5,
             "#f7f7f7"
            ],
            [
             0.6,
             "#e6f5d0"
            ],
            [
             0.7,
             "#b8e186"
            ],
            [
             0.8,
             "#7fbc41"
            ],
            [
             0.9,
             "#4d9221"
            ],
            [
             1,
             "#276419"
            ]
           ],
           "sequential": [
            [
             0,
             "#0d0887"
            ],
            [
             0.1111111111111111,
             "#46039f"
            ],
            [
             0.2222222222222222,
             "#7201a8"
            ],
            [
             0.3333333333333333,
             "#9c179e"
            ],
            [
             0.4444444444444444,
             "#bd3786"
            ],
            [
             0.5555555555555556,
             "#d8576b"
            ],
            [
             0.6666666666666666,
             "#ed7953"
            ],
            [
             0.7777777777777778,
             "#fb9f3a"
            ],
            [
             0.8888888888888888,
             "#fdca26"
            ],
            [
             1,
             "#f0f921"
            ]
           ],
           "sequentialminus": [
            [
             0,
             "#0d0887"
            ],
            [
             0.1111111111111111,
             "#46039f"
            ],
            [
             0.2222222222222222,
             "#7201a8"
            ],
            [
             0.3333333333333333,
             "#9c179e"
            ],
            [
             0.4444444444444444,
             "#bd3786"
            ],
            [
             0.5555555555555556,
             "#d8576b"
            ],
            [
             0.6666666666666666,
             "#ed7953"
            ],
            [
             0.7777777777777778,
             "#fb9f3a"
            ],
            [
             0.8888888888888888,
             "#fdca26"
            ],
            [
             1,
             "#f0f921"
            ]
           ]
          },
          "colorway": [
           "#636efa",
           "#EF553B",
           "#00cc96",
           "#ab63fa",
           "#FFA15A",
           "#19d3f3",
           "#FF6692",
           "#B6E880",
           "#FF97FF",
           "#FECB52"
          ],
          "font": {
           "color": "#2a3f5f"
          },
          "geo": {
           "bgcolor": "white",
           "lakecolor": "white",
           "landcolor": "#E5ECF6",
           "showlakes": true,
           "showland": true,
           "subunitcolor": "white"
          },
          "hoverlabel": {
           "align": "left"
          },
          "hovermode": "closest",
          "mapbox": {
           "style": "light"
          },
          "paper_bgcolor": "white",
          "plot_bgcolor": "#E5ECF6",
          "polar": {
           "angularaxis": {
            "gridcolor": "white",
            "linecolor": "white",
            "ticks": ""
           },
           "bgcolor": "#E5ECF6",
           "radialaxis": {
            "gridcolor": "white",
            "linecolor": "white",
            "ticks": ""
           }
          },
          "scene": {
           "xaxis": {
            "backgroundcolor": "#E5ECF6",
            "gridcolor": "white",
            "gridwidth": 2,
            "linecolor": "white",
            "showbackground": true,
            "ticks": "",
            "zerolinecolor": "white"
           },
           "yaxis": {
            "backgroundcolor": "#E5ECF6",
            "gridcolor": "white",
            "gridwidth": 2,
            "linecolor": "white",
            "showbackground": true,
            "ticks": "",
            "zerolinecolor": "white"
           },
           "zaxis": {
            "backgroundcolor": "#E5ECF6",
            "gridcolor": "white",
            "gridwidth": 2,
            "linecolor": "white",
            "showbackground": true,
            "ticks": "",
            "zerolinecolor": "white"
           }
          },
          "shapedefaults": {
           "line": {
            "color": "#2a3f5f"
           }
          },
          "ternary": {
           "aaxis": {
            "gridcolor": "white",
            "linecolor": "white",
            "ticks": ""
           },
           "baxis": {
            "gridcolor": "white",
            "linecolor": "white",
            "ticks": ""
           },
           "bgcolor": "#E5ECF6",
           "caxis": {
            "gridcolor": "white",
            "linecolor": "white",
            "ticks": ""
           }
          },
          "title": {
           "x": 0.05
          },
          "xaxis": {
           "automargin": true,
           "gridcolor": "white",
           "linecolor": "white",
           "ticks": "",
           "title": {
            "standoff": 15
           },
           "zerolinecolor": "white",
           "zerolinewidth": 2
          },
          "yaxis": {
           "automargin": true,
           "gridcolor": "white",
           "linecolor": "white",
           "ticks": "",
           "title": {
            "standoff": 15
           },
           "zerolinecolor": "white",
           "zerolinewidth": 2
          }
         }
        },
        "title": {
         "font": {
          "color": "#4D5663"
         }
        },
        "xaxis": {
         "anchor": "y",
         "domain": [
          0,
          0.2125
         ],
         "gridcolor": "#E1E5ED",
         "showgrid": false,
         "tickfont": {
          "color": "#4D5663"
         },
         "title": {
          "font": {
           "color": "#4D5663"
          },
          "text": ""
         },
         "zerolinecolor": "#E1E5ED"
        },
        "xaxis10": {
         "anchor": "y10",
         "domain": [
          0.2625,
          0.475
         ],
         "gridcolor": "#E1E5ED",
         "showgrid": false,
         "tickfont": {
          "color": "#4D5663"
         },
         "title": {
          "font": {
           "color": "#4D5663"
          },
          "text": ""
         },
         "zerolinecolor": "#E1E5ED"
        },
        "xaxis11": {
         "anchor": "y11",
         "domain": [
          0.525,
          0.7375
         ],
         "gridcolor": "#E1E5ED",
         "showgrid": false,
         "tickfont": {
          "color": "#4D5663"
         },
         "title": {
          "font": {
           "color": "#4D5663"
          },
          "text": ""
         },
         "zerolinecolor": "#E1E5ED"
        },
        "xaxis12": {
         "anchor": "y12",
         "domain": [
          0.7875,
          1
         ],
         "gridcolor": "#E1E5ED",
         "showgrid": false,
         "tickfont": {
          "color": "#4D5663"
         },
         "title": {
          "font": {
           "color": "#4D5663"
          },
          "text": ""
         },
         "zerolinecolor": "#E1E5ED"
        },
        "xaxis13": {
         "anchor": "y13",
         "domain": [
          0,
          0.2125
         ],
         "gridcolor": "#E1E5ED",
         "showgrid": false,
         "tickfont": {
          "color": "#4D5663"
         },
         "title": {
          "font": {
           "color": "#4D5663"
          },
          "text": ""
         },
         "zerolinecolor": "#E1E5ED"
        },
        "xaxis14": {
         "anchor": "y14",
         "domain": [
          0.2625,
          0.475
         ],
         "gridcolor": "#E1E5ED",
         "showgrid": false,
         "tickfont": {
          "color": "#4D5663"
         },
         "title": {
          "font": {
           "color": "#4D5663"
          },
          "text": ""
         },
         "zerolinecolor": "#E1E5ED"
        },
        "xaxis15": {
         "anchor": "y15",
         "domain": [
          0.525,
          0.7375
         ],
         "gridcolor": "#E1E5ED",
         "showgrid": false,
         "tickfont": {
          "color": "#4D5663"
         },
         "title": {
          "font": {
           "color": "#4D5663"
          },
          "text": ""
         },
         "zerolinecolor": "#E1E5ED"
        },
        "xaxis16": {
         "anchor": "y16",
         "domain": [
          0.7875,
          1
         ],
         "gridcolor": "#E1E5ED",
         "showgrid": false,
         "tickfont": {
          "color": "#4D5663"
         },
         "title": {
          "font": {
           "color": "#4D5663"
          },
          "text": ""
         },
         "zerolinecolor": "#E1E5ED"
        },
        "xaxis2": {
         "anchor": "y2",
         "domain": [
          0.2625,
          0.475
         ],
         "gridcolor": "#E1E5ED",
         "showgrid": false,
         "tickfont": {
          "color": "#4D5663"
         },
         "title": {
          "font": {
           "color": "#4D5663"
          },
          "text": ""
         },
         "zerolinecolor": "#E1E5ED"
        },
        "xaxis3": {
         "anchor": "y3",
         "domain": [
          0.525,
          0.7375
         ],
         "gridcolor": "#E1E5ED",
         "showgrid": false,
         "tickfont": {
          "color": "#4D5663"
         },
         "title": {
          "font": {
           "color": "#4D5663"
          },
          "text": ""
         },
         "zerolinecolor": "#E1E5ED"
        },
        "xaxis4": {
         "anchor": "y4",
         "domain": [
          0.7875,
          1
         ],
         "gridcolor": "#E1E5ED",
         "showgrid": false,
         "tickfont": {
          "color": "#4D5663"
         },
         "title": {
          "font": {
           "color": "#4D5663"
          },
          "text": ""
         },
         "zerolinecolor": "#E1E5ED"
        },
        "xaxis5": {
         "anchor": "y5",
         "domain": [
          0,
          0.2125
         ],
         "gridcolor": "#E1E5ED",
         "showgrid": false,
         "tickfont": {
          "color": "#4D5663"
         },
         "title": {
          "font": {
           "color": "#4D5663"
          },
          "text": ""
         },
         "zerolinecolor": "#E1E5ED"
        },
        "xaxis6": {
         "anchor": "y6",
         "domain": [
          0.2625,
          0.475
         ],
         "gridcolor": "#E1E5ED",
         "showgrid": false,
         "tickfont": {
          "color": "#4D5663"
         },
         "title": {
          "font": {
           "color": "#4D5663"
          },
          "text": ""
         },
         "zerolinecolor": "#E1E5ED"
        },
        "xaxis7": {
         "anchor": "y7",
         "domain": [
          0.525,
          0.7375
         ],
         "gridcolor": "#E1E5ED",
         "showgrid": false,
         "tickfont": {
          "color": "#4D5663"
         },
         "title": {
          "font": {
           "color": "#4D5663"
          },
          "text": ""
         },
         "zerolinecolor": "#E1E5ED"
        },
        "xaxis8": {
         "anchor": "y8",
         "domain": [
          0.7875,
          1
         ],
         "gridcolor": "#E1E5ED",
         "showgrid": false,
         "tickfont": {
          "color": "#4D5663"
         },
         "title": {
          "font": {
           "color": "#4D5663"
          },
          "text": ""
         },
         "zerolinecolor": "#E1E5ED"
        },
        "xaxis9": {
         "anchor": "y9",
         "domain": [
          0,
          0.2125
         ],
         "gridcolor": "#E1E5ED",
         "showgrid": false,
         "tickfont": {
          "color": "#4D5663"
         },
         "title": {
          "font": {
           "color": "#4D5663"
          },
          "text": ""
         },
         "zerolinecolor": "#E1E5ED"
        },
        "yaxis": {
         "anchor": "x",
         "domain": [
          0.8025,
          1
         ],
         "gridcolor": "#E1E5ED",
         "showgrid": false,
         "tickfont": {
          "color": "#4D5663"
         },
         "title": {
          "font": {
           "color": "#4D5663"
          },
          "text": ""
         },
         "zerolinecolor": "#E1E5ED"
        },
        "yaxis10": {
         "anchor": "x10",
         "domain": [
          0.2675,
          0.465
         ],
         "gridcolor": "#E1E5ED",
         "showgrid": false,
         "tickfont": {
          "color": "#4D5663"
         },
         "title": {
          "font": {
           "color": "#4D5663"
          },
          "text": ""
         },
         "zerolinecolor": "#E1E5ED"
        },
        "yaxis11": {
         "anchor": "x11",
         "domain": [
          0.2675,
          0.465
         ],
         "gridcolor": "#E1E5ED",
         "showgrid": false,
         "tickfont": {
          "color": "#4D5663"
         },
         "title": {
          "font": {
           "color": "#4D5663"
          },
          "text": ""
         },
         "zerolinecolor": "#E1E5ED"
        },
        "yaxis12": {
         "anchor": "x12",
         "domain": [
          0.2675,
          0.465
         ],
         "gridcolor": "#E1E5ED",
         "showgrid": false,
         "tickfont": {
          "color": "#4D5663"
         },
         "title": {
          "font": {
           "color": "#4D5663"
          },
          "text": ""
         },
         "zerolinecolor": "#E1E5ED"
        },
        "yaxis13": {
         "anchor": "x13",
         "domain": [
          0,
          0.1975
         ],
         "gridcolor": "#E1E5ED",
         "showgrid": false,
         "tickfont": {
          "color": "#4D5663"
         },
         "title": {
          "font": {
           "color": "#4D5663"
          },
          "text": ""
         },
         "zerolinecolor": "#E1E5ED"
        },
        "yaxis14": {
         "anchor": "x14",
         "domain": [
          0,
          0.1975
         ],
         "gridcolor": "#E1E5ED",
         "showgrid": false,
         "tickfont": {
          "color": "#4D5663"
         },
         "title": {
          "font": {
           "color": "#4D5663"
          },
          "text": ""
         },
         "zerolinecolor": "#E1E5ED"
        },
        "yaxis15": {
         "anchor": "x15",
         "domain": [
          0,
          0.1975
         ],
         "gridcolor": "#E1E5ED",
         "showgrid": false,
         "tickfont": {
          "color": "#4D5663"
         },
         "title": {
          "font": {
           "color": "#4D5663"
          },
          "text": ""
         },
         "zerolinecolor": "#E1E5ED"
        },
        "yaxis16": {
         "anchor": "x16",
         "domain": [
          0,
          0.1975
         ],
         "gridcolor": "#E1E5ED",
         "showgrid": false,
         "tickfont": {
          "color": "#4D5663"
         },
         "title": {
          "font": {
           "color": "#4D5663"
          },
          "text": ""
         },
         "zerolinecolor": "#E1E5ED"
        },
        "yaxis2": {
         "anchor": "x2",
         "domain": [
          0.8025,
          1
         ],
         "gridcolor": "#E1E5ED",
         "showgrid": false,
         "tickfont": {
          "color": "#4D5663"
         },
         "title": {
          "font": {
           "color": "#4D5663"
          },
          "text": ""
         },
         "zerolinecolor": "#E1E5ED"
        },
        "yaxis3": {
         "anchor": "x3",
         "domain": [
          0.8025,
          1
         ],
         "gridcolor": "#E1E5ED",
         "showgrid": false,
         "tickfont": {
          "color": "#4D5663"
         },
         "title": {
          "font": {
           "color": "#4D5663"
          },
          "text": ""
         },
         "zerolinecolor": "#E1E5ED"
        },
        "yaxis4": {
         "anchor": "x4",
         "domain": [
          0.8025,
          1
         ],
         "gridcolor": "#E1E5ED",
         "showgrid": false,
         "tickfont": {
          "color": "#4D5663"
         },
         "title": {
          "font": {
           "color": "#4D5663"
          },
          "text": ""
         },
         "zerolinecolor": "#E1E5ED"
        },
        "yaxis5": {
         "anchor": "x5",
         "domain": [
          0.535,
          0.7325
         ],
         "gridcolor": "#E1E5ED",
         "showgrid": false,
         "tickfont": {
          "color": "#4D5663"
         },
         "title": {
          "font": {
           "color": "#4D5663"
          },
          "text": ""
         },
         "zerolinecolor": "#E1E5ED"
        },
        "yaxis6": {
         "anchor": "x6",
         "domain": [
          0.535,
          0.7325
         ],
         "gridcolor": "#E1E5ED",
         "showgrid": false,
         "tickfont": {
          "color": "#4D5663"
         },
         "title": {
          "font": {
           "color": "#4D5663"
          },
          "text": ""
         },
         "zerolinecolor": "#E1E5ED"
        },
        "yaxis7": {
         "anchor": "x7",
         "domain": [
          0.535,
          0.7325
         ],
         "gridcolor": "#E1E5ED",
         "showgrid": false,
         "tickfont": {
          "color": "#4D5663"
         },
         "title": {
          "font": {
           "color": "#4D5663"
          },
          "text": ""
         },
         "zerolinecolor": "#E1E5ED"
        },
        "yaxis8": {
         "anchor": "x8",
         "domain": [
          0.535,
          0.7325
         ],
         "gridcolor": "#E1E5ED",
         "showgrid": false,
         "tickfont": {
          "color": "#4D5663"
         },
         "title": {
          "font": {
           "color": "#4D5663"
          },
          "text": ""
         },
         "zerolinecolor": "#E1E5ED"
        },
        "yaxis9": {
         "anchor": "x9",
         "domain": [
          0.2675,
          0.465
         ],
         "gridcolor": "#E1E5ED",
         "showgrid": false,
         "tickfont": {
          "color": "#4D5663"
         },
         "title": {
          "font": {
           "color": "#4D5663"
          },
          "text": ""
         },
         "zerolinecolor": "#E1E5ED"
        }
       }
      },
      "text/html": "<div>                            <div id=\"e6500f90-1930-4855-a814-a4ca6b66affe\" class=\"plotly-graph-div\" style=\"height:525px; width:100%;\"></div>            <script type=\"text/javascript\">                require([\"plotly\"], function(Plotly) {                    window.PLOTLYENV=window.PLOTLYENV || {};\n                    window.PLOTLYENV.BASE_URL='https://plot.ly';                                    if (document.getElementById(\"e6500f90-1930-4855-a814-a4ca6b66affe\")) {                    Plotly.newPlot(                        \"e6500f90-1930-4855-a814-a4ca6b66affe\",                        [{\"histfunc\": \"count\", \"histnorm\": \"\", \"marker\": {\"color\": \"rgba(255, 153, 51, 1.0)\", \"line\": {\"color\": \"#4D5663\", \"width\": 1.3}}, \"name\": \"A\", \"nbinsx\": 10, \"opacity\": 0.8, \"orientation\": \"v\", \"type\": \"histogram\", \"x\": [0.3419584291255313, 2.361780384778356, 0.9119528973909766, 0.7843148177858439, 0.19788293810360227, 0.14792586818241837, -0.9642251958129214, -0.9982883475458826, -1.1325513846419084, -0.34775573601765764, 0.05614453083062882, -1.8350439315471765, 0.5511018764251773, 0.17988137422617523, -1.065227814836348, 0.3586145152614117, 2.411605482613125, 0.3560938040312589, 0.36786610050285107, -2.6002826096447857, -0.7981799468689968, -0.9645031821395916, 0.023965620965615043, -0.7365368491710338, -0.004858042010386315, -1.3623500370271893, -0.4525814500361433, 0.7058262779117401, 0.3440578447346543, -0.6854853356129478, -1.175912357533231, -0.06250042438078895, 0.3714797107838847, 1.3432775395609564, 0.7180364148121844, 2.7251283264314794, -1.7927981428516335, 0.30526270927024285, 0.07066587428438767, 0.9829832457917175, 0.2481333939762536, 1.2611119707431302, 0.39120023817415484, 1.4126639401837995, -0.2543019620938231, -1.0808580728245565, 0.21293978874229247, -1.817542673207612, 0.5705140433534914, 0.07031969294279024, -1.7310193046540587, -0.009968310223363802, -1.0487616328861715, 0.23392266236390605, -1.1403254897435495, -0.009551520847821338, 0.0587528290155611, 0.27327642074331, 0.5952762262270923, 0.34922564728692723, 0.3506158007930843, -0.7194723669016722, -0.969386453754765, 0.07607441829377784, 0.8224531813525415, -0.4267717900771313, -0.40179473694537243, 0.8730785586025657, 0.8772569764458129, 1.7525966859134534, -0.38937715784865456, -0.07128387192799915, 0.4374266412162082, 1.0066948777907512, -0.8108547122537352, -0.12424666495990376, 0.2694509128538412, -0.5798316475284768, 0.3201902642191978, -1.1253119761184023, 0.8853008752799159, 0.9710304851537905, -0.054131980511390745, -0.17879880928332045, 0.5731252894387706, 2.1638795628246785, 1.3828172329633255, 2.1851828911286226, 0.5855947229103255, -1.314182568919194, -0.7986574709761567, -0.6434624893139342, -0.9091145307420864, -0.8156862985068415, -0.8784194413581975, 0.28373706115674197, -0.6956611445601208, 1.4316076867251473, 0.8162399203140172, -0.7460467107715341], \"xaxis\": \"x\", \"yaxis\": \"y\"}, {\"line\": {\"color\": \"rgba(128, 128, 128, 1.0)\", \"dash\": \"solid\", \"shape\": \"linear\", \"width\": 1.3}, \"marker\": {\"size\": 2, \"symbol\": \"circle\"}, \"mode\": \"markers\", \"name\": \"A\", \"text\": \"\", \"type\": \"scatter\", \"x\": [-1.2469675844086194, 2.9891513099497544, 0.1017309838125147, 0.02548119832841038, 1.9193919674365298, -0.20182906842565754, 0.34360603457165223, -0.2249471960281491, -0.9850353052474844, -0.4559661499288387, -0.3878301319310226, 1.1082652594076037, 0.8744392746857205, 1.0093918400229367, -0.5394935232766637, -0.803745333849395, -0.6518641752351033, -0.43622292742754704, 1.433979164394179, -0.20860370790793073, 0.15344776935200735, -0.24292160640219418, 1.1989580674290223, -1.1443449709961133, -0.09993272796215072, 0.10083254924068984, -0.35213515431348485, -1.2061255943422544, 1.0970022135175945, -0.6800842183802278, -0.07119109631676689, 0.26860378089458553, -1.3759056290183418, 0.2669198011313815, 0.4534602278898926, 0.01047672724603757, -1.2522099425982471, -0.10554046833546744, 1.548445310306408, -0.06588810735895306, 0.6760987700300749, -0.0420202255577279, 1.8378273002595218, -0.6078283434805584, 1.5282024981691928, -0.2754917649929963, -0.5399326467480746, 0.6224826249171681, 0.47795041715071557, 0.6278077101583388, -1.3409423856968694, -0.7706624003108283, 0.015473729679894384, 0.26319508876425185, 1.0028321641640017, -0.807548524223669, 0.9869502776032817, -1.28221797054689, -1.1449359698029302, -0.6395403941539245, 2.4047917183665826, 0.27108517431821616, -1.2451142203486658, -0.9178682146002846, -0.14570048592133691, -0.6272356706833567, -0.8514150741598167, 1.3091254912388204, 0.05193399027756955, -0.002553724868215908, -1.1324415602896714, 1.438180944671712, 0.6043815252099933, 0.3150816994390484, -0.09226594346437388, -1.6197115478527, -1.075865500583438, 0.7486483332115086, 0.19586000178350335, -0.12224064694673781, -0.5599448183549804, 0.3622861605064426, -1.4558631826967452, 1.7992281941455563, -0.5220566801522477, -0.9653810326273534, -0.7122912093233262, 2.2326519358646375, -0.2406418434421078, 0.804193973114719, 1.0070051946632714, 0.5420153009884275, -0.7734745290640057, -0.48601676911296376, 1.6060186504018106, -0.5062587167544614, -0.09464116750951326, -1.3098800820079146, 1.0224650955995838, 1.0548935522161016], \"xaxis\": \"x2\", \"y\": [0.3419584291255313, 2.361780384778356, 0.9119528973909766, 0.7843148177858439, 0.19788293810360227, 0.14792586818241837, -0.9642251958129214, -0.9982883475458826, -1.1325513846419084, -0.34775573601765764, 0.05614453083062882, -1.8350439315471765, 0.5511018764251773, 0.17988137422617523, -1.065227814836348, 0.3586145152614117, 2.411605482613125, 0.3560938040312589, 0.36786610050285107, -2.6002826096447857, -0.7981799468689968, -0.9645031821395916, 0.023965620965615043, -0.7365368491710338, -0.004858042010386315, -1.3623500370271893, -0.4525814500361433, 0.7058262779117401, 0.3440578447346543, -0.6854853356129478, -1.175912357533231, -0.06250042438078895, 0.3714797107838847, 1.3432775395609564, 0.7180364148121844, 2.7251283264314794, -1.7927981428516335, 0.30526270927024285, 0.07066587428438767, 0.9829832457917175, 0.2481333939762536, 1.2611119707431302, 0.39120023817415484, 1.4126639401837995, -0.2543019620938231, -1.0808580728245565, 0.21293978874229247, -1.817542673207612, 0.5705140433534914, 0.07031969294279024, -1.7310193046540587, -0.009968310223363802, -1.0487616328861715, 0.23392266236390605, -1.1403254897435495, -0.009551520847821338, 0.0587528290155611, 0.27327642074331, 0.5952762262270923, 0.34922564728692723, 0.3506158007930843, -0.7194723669016722, -0.969386453754765, 0.07607441829377784, 0.8224531813525415, -0.4267717900771313, -0.40179473694537243, 0.8730785586025657, 0.8772569764458129, 1.7525966859134534, -0.38937715784865456, -0.07128387192799915, 0.4374266412162082, 1.0066948777907512, -0.8108547122537352, -0.12424666495990376, 0.2694509128538412, -0.5798316475284768, 0.3201902642191978, -1.1253119761184023, 0.8853008752799159, 0.9710304851537905, -0.054131980511390745, -0.17879880928332045, 0.5731252894387706, 2.1638795628246785, 1.3828172329633255, 2.1851828911286226, 0.5855947229103255, -1.314182568919194, -0.7986574709761567, -0.6434624893139342, -0.9091145307420864, -0.8156862985068415, -0.8784194413581975, 0.28373706115674197, -0.6956611445601208, 1.4316076867251473, 0.8162399203140172, -0.7460467107715341], \"yaxis\": \"y2\"}, {\"line\": {\"color\": \"rgba(128, 128, 128, 1.0)\", \"dash\": \"solid\", \"shape\": \"linear\", \"width\": 1.3}, \"marker\": {\"size\": 2, \"symbol\": \"circle\"}, \"mode\": \"markers\", \"name\": \"A\", \"text\": \"\", \"type\": \"scatter\", \"x\": [-0.8089288141229286, 1.465625495185079, -1.6871488539427726, -0.16911132657974587, -0.3897976290030342, -0.8863405228175659, 0.9933038955886511, -1.398853576678524, -0.0157329850118625, 0.23536393631978372, -0.7531687946176233, 0.3894346234619737, 0.5094110804845734, 1.2632159547476658, 0.2271132454212522, -0.8953206806668295, -1.2068772383786814, 2.1190160225500247, -0.03549621773010565, -0.952683310719695, 0.08553780338648229, 0.3953373493668272, -2.2670940447542396, 0.04253291466940502, 0.5119931380963819, -0.5259428136451291, 0.3082554492326414, -1.6069737932921186, 0.20636859567286595, 1.5548193258373544, -0.9567089594079814, 0.6728533111210662, -0.9997399942218823, -0.09836268084447383, 1.7038591416615787, 0.9611717084785155, -0.4951431652825938, -1.063680158143539, -0.9948721946688438, -0.017621018172893865, 0.5174491565658988, -0.5023341354767339, -0.02414621402911911, 0.12426822120337526, -0.3115496270231586, -1.7841290940276027, -0.13733470666161338, -0.02318853537118824, -0.1333064003505278, -0.9623536542119135, -2.8041763341735346, -0.5119872819721337, 0.30013520666559257, 1.6910139484110014, 0.2456693011005962, 0.22633368250740665, 1.1793248059506944, -0.8301434267279466, 0.2425819941879717, 0.4883295416244339, -0.3389813899614871, 0.8955468968992681, -0.384502634438256, -1.7040628213892801, -0.10814430946056518, 0.794890079038299, 0.028363038057607048, -1.5585199034833328, -0.8994240345396853, 0.3154103928417971, -0.8386742063083595, 0.5817731990193705, -0.6111994888444816, -1.3378652433103626, 1.5123413860138917, 1.2472323942584211, -0.8272328276494867, -2.2526709403200087, 0.31489696733571637, 1.0936677244595716, -1.4145990863380116, 0.3804596019823487, -0.00537908434606341, 0.3001120751126071, -0.022196432508811422, -0.817676741412886, 1.142454128263068, 0.4099378611088832, 1.4467648063116247, -0.9086416758100836, -0.1235427476832825, -0.6491710343064113, 0.1956716750126732, 1.2130925114886821, -0.9775054147348364, -2.136610016537593, -1.146151232781277, -1.1754693482576994, 0.2615274703338761, 0.8530757510388908], \"xaxis\": \"x3\", \"y\": [0.3419584291255313, 2.361780384778356, 0.9119528973909766, 0.7843148177858439, 0.19788293810360227, 0.14792586818241837, -0.9642251958129214, -0.9982883475458826, -1.1325513846419084, -0.34775573601765764, 0.05614453083062882, -1.8350439315471765, 0.5511018764251773, 0.17988137422617523, -1.065227814836348, 0.3586145152614117, 2.411605482613125, 0.3560938040312589, 0.36786610050285107, -2.6002826096447857, -0.7981799468689968, -0.9645031821395916, 0.023965620965615043, -0.7365368491710338, -0.004858042010386315, -1.3623500370271893, -0.4525814500361433, 0.7058262779117401, 0.3440578447346543, -0.6854853356129478, -1.175912357533231, -0.06250042438078895, 0.3714797107838847, 1.3432775395609564, 0.7180364148121844, 2.7251283264314794, -1.7927981428516335, 0.30526270927024285, 0.07066587428438767, 0.9829832457917175, 0.2481333939762536, 1.2611119707431302, 0.39120023817415484, 1.4126639401837995, -0.2543019620938231, -1.0808580728245565, 0.21293978874229247, -1.817542673207612, 0.5705140433534914, 0.07031969294279024, -1.7310193046540587, -0.009968310223363802, -1.0487616328861715, 0.23392266236390605, -1.1403254897435495, -0.009551520847821338, 0.0587528290155611, 0.27327642074331, 0.5952762262270923, 0.34922564728692723, 0.3506158007930843, -0.7194723669016722, -0.969386453754765, 0.07607441829377784, 0.8224531813525415, -0.4267717900771313, -0.40179473694537243, 0.8730785586025657, 0.8772569764458129, 1.7525966859134534, -0.38937715784865456, -0.07128387192799915, 0.4374266412162082, 1.0066948777907512, -0.8108547122537352, -0.12424666495990376, 0.2694509128538412, -0.5798316475284768, 0.3201902642191978, -1.1253119761184023, 0.8853008752799159, 0.9710304851537905, -0.054131980511390745, -0.17879880928332045, 0.5731252894387706, 2.1638795628246785, 1.3828172329633255, 2.1851828911286226, 0.5855947229103255, -1.314182568919194, -0.7986574709761567, -0.6434624893139342, -0.9091145307420864, -0.8156862985068415, -0.8784194413581975, 0.28373706115674197, -0.6956611445601208, 1.4316076867251473, 0.8162399203140172, -0.7460467107715341], \"yaxis\": \"y3\"}, {\"line\": {\"color\": \"rgba(128, 128, 128, 1.0)\", \"dash\": \"solid\", \"shape\": \"linear\", \"width\": 1.3}, \"marker\": {\"size\": 2, \"symbol\": \"circle\"}, \"mode\": \"markers\", \"name\": \"A\", \"text\": \"\", \"type\": \"scatter\", \"x\": [-0.45816628383099955, -0.11883466025434251, -0.4094015829946311, -1.2914835561549904, 0.9612754990723938, 0.6013143215561251, 0.8564923935017692, -1.5060242820790841, -0.9329120696189221, 0.5063840010781364, 0.19673850995509426, 0.6968008590816267, -0.2682153528159321, -1.1966321881543034, -1.914986796762749, -1.5012721808636513, 0.24797725105555277, 0.8956152441841162, 1.3563540894257557, 0.8866127678583284, 0.5446759778705538, -0.06239291541902479, 1.9280441190196405, 0.6166345796571179, -1.1676956065830673, 2.1245751222705205, -1.2979540310128002, -1.30507718123677, -0.08188772766930365, -0.275984330830567, 0.055651433310535715, 0.3315132615174775, -0.6073458170743979, -0.45460058967665207, 0.74131982341312, 1.0672504125579774, 0.7501262159060722, 1.1200458081068019, -0.9053260445508353, -1.5043868218719552, 1.6867649379872203, 0.01968016348648188, 1.0633539743711993, -0.653158196183623, -0.3777676154145722, 1.2792921150219716, -0.8853086974144317, -0.014708258081066811, -0.8120917239685443, 1.036743975431949, -1.396935034960128, -0.20948651650971176, -0.6781034470926233, 0.35063491088267884, -0.231463425208386, 0.2493170422893123, 0.6467210677592791, -0.5019229277631404, 1.2428177651306924, -1.7728723348714754, 0.7413236797040839, 1.3372389018303743, 0.19819940830218838, 0.43856707932029015, -0.2539172064642826, -0.11232087017211007, -0.1708233860370722, 0.23028026703935586, -0.24100973880514245, 0.7220692601567872, -1.1294243054334292, -0.3764175995907608, 0.5139801776844591, 0.9361789461093236, 0.9014679938618109, -1.5550062592884444, 0.3165226975801555, 1.1964668573000992, -0.8015063727727901, 1.0927057005616585, 1.38631879990504, 0.7310956778995843, -1.0576901462878046, -0.059923002252414634, -0.10875592293217297, -0.21129293570494387, -0.39967581594824675, -0.010035887195605423, 0.5237332158414504, -0.643840440184256, 0.19727126151322869, -2.33014797811234, 0.37603575047736865, 0.17974822302615057, -0.6015247299934993, -0.36552514462323477, -1.1966862830172331, 0.39478812868742486, 0.9220918500329655, 0.37342520314964806], \"xaxis\": \"x4\", \"y\": [0.3419584291255313, 2.361780384778356, 0.9119528973909766, 0.7843148177858439, 0.19788293810360227, 0.14792586818241837, -0.9642251958129214, -0.9982883475458826, -1.1325513846419084, -0.34775573601765764, 0.05614453083062882, -1.8350439315471765, 0.5511018764251773, 0.17988137422617523, -1.065227814836348, 0.3586145152614117, 2.411605482613125, 0.3560938040312589, 0.36786610050285107, -2.6002826096447857, -0.7981799468689968, -0.9645031821395916, 0.023965620965615043, -0.7365368491710338, -0.004858042010386315, -1.3623500370271893, -0.4525814500361433, 0.7058262779117401, 0.3440578447346543, -0.6854853356129478, -1.175912357533231, -0.06250042438078895, 0.3714797107838847, 1.3432775395609564, 0.7180364148121844, 2.7251283264314794, -1.7927981428516335, 0.30526270927024285, 0.07066587428438767, 0.9829832457917175, 0.2481333939762536, 1.2611119707431302, 0.39120023817415484, 1.4126639401837995, -0.2543019620938231, -1.0808580728245565, 0.21293978874229247, -1.817542673207612, 0.5705140433534914, 0.07031969294279024, -1.7310193046540587, -0.009968310223363802, -1.0487616328861715, 0.23392266236390605, -1.1403254897435495, -0.009551520847821338, 0.0587528290155611, 0.27327642074331, 0.5952762262270923, 0.34922564728692723, 0.3506158007930843, -0.7194723669016722, -0.969386453754765, 0.07607441829377784, 0.8224531813525415, -0.4267717900771313, -0.40179473694537243, 0.8730785586025657, 0.8772569764458129, 1.7525966859134534, -0.38937715784865456, -0.07128387192799915, 0.4374266412162082, 1.0066948777907512, -0.8108547122537352, -0.12424666495990376, 0.2694509128538412, -0.5798316475284768, 0.3201902642191978, -1.1253119761184023, 0.8853008752799159, 0.9710304851537905, -0.054131980511390745, -0.17879880928332045, 0.5731252894387706, 2.1638795628246785, 1.3828172329633255, 2.1851828911286226, 0.5855947229103255, -1.314182568919194, -0.7986574709761567, -0.6434624893139342, -0.9091145307420864, -0.8156862985068415, -0.8784194413581975, 0.28373706115674197, -0.6956611445601208, 1.4316076867251473, 0.8162399203140172, -0.7460467107715341], \"yaxis\": \"y4\"}, {\"line\": {\"color\": \"rgba(128, 128, 128, 1.0)\", \"dash\": \"solid\", \"shape\": \"linear\", \"width\": 1.3}, \"marker\": {\"size\": 2, \"symbol\": \"circle\"}, \"mode\": \"markers\", \"name\": \"B\", \"text\": \"\", \"type\": \"scatter\", \"x\": [0.3419584291255313, 2.361780384778356, 0.9119528973909766, 0.7843148177858439, 0.19788293810360227, 0.14792586818241837, -0.9642251958129214, -0.9982883475458826, -1.1325513846419084, -0.34775573601765764, 0.05614453083062882, -1.8350439315471765, 0.5511018764251773, 0.17988137422617523, -1.065227814836348, 0.3586145152614117, 2.411605482613125, 0.3560938040312589, 0.36786610050285107, -2.6002826096447857, -0.7981799468689968, -0.9645031821395916, 0.023965620965615043, -0.7365368491710338, -0.004858042010386315, -1.3623500370271893, -0.4525814500361433, 0.7058262779117401, 0.3440578447346543, -0.6854853356129478, -1.175912357533231, -0.06250042438078895, 0.3714797107838847, 1.3432775395609564, 0.7180364148121844, 2.7251283264314794, -1.7927981428516335, 0.30526270927024285, 0.07066587428438767, 0.9829832457917175, 0.2481333939762536, 1.2611119707431302, 0.39120023817415484, 1.4126639401837995, -0.2543019620938231, -1.0808580728245565, 0.21293978874229247, -1.817542673207612, 0.5705140433534914, 0.07031969294279024, -1.7310193046540587, -0.009968310223363802, -1.0487616328861715, 0.23392266236390605, -1.1403254897435495, -0.009551520847821338, 0.0587528290155611, 0.27327642074331, 0.5952762262270923, 0.34922564728692723, 0.3506158007930843, -0.7194723669016722, -0.969386453754765, 0.07607441829377784, 0.8224531813525415, -0.4267717900771313, -0.40179473694537243, 0.8730785586025657, 0.8772569764458129, 1.7525966859134534, -0.38937715784865456, -0.07128387192799915, 0.4374266412162082, 1.0066948777907512, -0.8108547122537352, -0.12424666495990376, 0.2694509128538412, -0.5798316475284768, 0.3201902642191978, -1.1253119761184023, 0.8853008752799159, 0.9710304851537905, -0.054131980511390745, -0.17879880928332045, 0.5731252894387706, 2.1638795628246785, 1.3828172329633255, 2.1851828911286226, 0.5855947229103255, -1.314182568919194, -0.7986574709761567, -0.6434624893139342, -0.9091145307420864, -0.8156862985068415, -0.8784194413581975, 0.28373706115674197, -0.6956611445601208, 1.4316076867251473, 0.8162399203140172, -0.7460467107715341], \"xaxis\": \"x5\", \"y\": [-1.2469675844086194, 2.9891513099497544, 0.1017309838125147, 0.02548119832841038, 1.9193919674365298, -0.20182906842565754, 0.34360603457165223, -0.2249471960281491, -0.9850353052474844, -0.4559661499288387, -0.3878301319310226, 1.1082652594076037, 0.8744392746857205, 1.0093918400229367, -0.5394935232766637, -0.803745333849395, -0.6518641752351033, -0.43622292742754704, 1.433979164394179, -0.20860370790793073, 0.15344776935200735, -0.24292160640219418, 1.1989580674290223, -1.1443449709961133, -0.09993272796215072, 0.10083254924068984, -0.35213515431348485, -1.2061255943422544, 1.0970022135175945, -0.6800842183802278, -0.07119109631676689, 0.26860378089458553, -1.3759056290183418, 0.2669198011313815, 0.4534602278898926, 0.01047672724603757, -1.2522099425982471, -0.10554046833546744, 1.548445310306408, -0.06588810735895306, 0.6760987700300749, -0.0420202255577279, 1.8378273002595218, -0.6078283434805584, 1.5282024981691928, -0.2754917649929963, -0.5399326467480746, 0.6224826249171681, 0.47795041715071557, 0.6278077101583388, -1.3409423856968694, -0.7706624003108283, 0.015473729679894384, 0.26319508876425185, 1.0028321641640017, -0.807548524223669, 0.9869502776032817, -1.28221797054689, -1.1449359698029302, -0.6395403941539245, 2.4047917183665826, 0.27108517431821616, -1.2451142203486658, -0.9178682146002846, -0.14570048592133691, -0.6272356706833567, -0.8514150741598167, 1.3091254912388204, 0.05193399027756955, -0.002553724868215908, -1.1324415602896714, 1.438180944671712, 0.6043815252099933, 0.3150816994390484, -0.09226594346437388, -1.6197115478527, -1.075865500583438, 0.7486483332115086, 0.19586000178350335, -0.12224064694673781, -0.5599448183549804, 0.3622861605064426, -1.4558631826967452, 1.7992281941455563, -0.5220566801522477, -0.9653810326273534, -0.7122912093233262, 2.2326519358646375, -0.2406418434421078, 0.804193973114719, 1.0070051946632714, 0.5420153009884275, -0.7734745290640057, -0.48601676911296376, 1.6060186504018106, -0.5062587167544614, -0.09464116750951326, -1.3098800820079146, 1.0224650955995838, 1.0548935522161016], \"yaxis\": \"y5\"}, {\"histfunc\": \"count\", \"histnorm\": \"\", \"marker\": {\"color\": \"rgba(55, 128, 191, 1.0)\", \"line\": {\"color\": \"#4D5663\", \"width\": 1.3}}, \"name\": \"B\", \"nbinsx\": 10, \"opacity\": 0.8, \"orientation\": \"v\", \"type\": \"histogram\", \"x\": [-1.2469675844086194, 2.9891513099497544, 0.1017309838125147, 0.02548119832841038, 1.9193919674365298, -0.20182906842565754, 0.34360603457165223, -0.2249471960281491, -0.9850353052474844, -0.4559661499288387, -0.3878301319310226, 1.1082652594076037, 0.8744392746857205, 1.0093918400229367, -0.5394935232766637, -0.803745333849395, -0.6518641752351033, -0.43622292742754704, 1.433979164394179, -0.20860370790793073, 0.15344776935200735, -0.24292160640219418, 1.1989580674290223, -1.1443449709961133, -0.09993272796215072, 0.10083254924068984, -0.35213515431348485, -1.2061255943422544, 1.0970022135175945, -0.6800842183802278, -0.07119109631676689, 0.26860378089458553, -1.3759056290183418, 0.2669198011313815, 0.4534602278898926, 0.01047672724603757, -1.2522099425982471, -0.10554046833546744, 1.548445310306408, -0.06588810735895306, 0.6760987700300749, -0.0420202255577279, 1.8378273002595218, -0.6078283434805584, 1.5282024981691928, -0.2754917649929963, -0.5399326467480746, 0.6224826249171681, 0.47795041715071557, 0.6278077101583388, -1.3409423856968694, -0.7706624003108283, 0.015473729679894384, 0.26319508876425185, 1.0028321641640017, -0.807548524223669, 0.9869502776032817, -1.28221797054689, -1.1449359698029302, -0.6395403941539245, 2.4047917183665826, 0.27108517431821616, -1.2451142203486658, -0.9178682146002846, -0.14570048592133691, -0.6272356706833567, -0.8514150741598167, 1.3091254912388204, 0.05193399027756955, -0.002553724868215908, -1.1324415602896714, 1.438180944671712, 0.6043815252099933, 0.3150816994390484, -0.09226594346437388, -1.6197115478527, -1.075865500583438, 0.7486483332115086, 0.19586000178350335, -0.12224064694673781, -0.5599448183549804, 0.3622861605064426, -1.4558631826967452, 1.7992281941455563, -0.5220566801522477, -0.9653810326273534, -0.7122912093233262, 2.2326519358646375, -0.2406418434421078, 0.804193973114719, 1.0070051946632714, 0.5420153009884275, -0.7734745290640057, -0.48601676911296376, 1.6060186504018106, -0.5062587167544614, -0.09464116750951326, -1.3098800820079146, 1.0224650955995838, 1.0548935522161016], \"xaxis\": \"x6\", \"yaxis\": \"y6\"}, {\"line\": {\"color\": \"rgba(128, 128, 128, 1.0)\", \"dash\": \"solid\", \"shape\": \"linear\", \"width\": 1.3}, \"marker\": {\"size\": 2, \"symbol\": \"circle\"}, \"mode\": \"markers\", \"name\": \"B\", \"text\": \"\", \"type\": \"scatter\", \"x\": [-0.8089288141229286, 1.465625495185079, -1.6871488539427726, -0.16911132657974587, -0.3897976290030342, -0.8863405228175659, 0.9933038955886511, -1.398853576678524, -0.0157329850118625, 0.23536393631978372, -0.7531687946176233, 0.3894346234619737, 0.5094110804845734, 1.2632159547476658, 0.2271132454212522, -0.8953206806668295, -1.2068772383786814, 2.1190160225500247, -0.03549621773010565, -0.952683310719695, 0.08553780338648229, 0.3953373493668272, -2.2670940447542396, 0.04253291466940502, 0.5119931380963819, -0.5259428136451291, 0.3082554492326414, -1.6069737932921186, 0.20636859567286595, 1.5548193258373544, -0.9567089594079814, 0.6728533111210662, -0.9997399942218823, -0.09836268084447383, 1.7038591416615787, 0.9611717084785155, -0.4951431652825938, -1.063680158143539, -0.9948721946688438, -0.017621018172893865, 0.5174491565658988, -0.5023341354767339, -0.02414621402911911, 0.12426822120337526, -0.3115496270231586, -1.7841290940276027, -0.13733470666161338, -0.02318853537118824, -0.1333064003505278, -0.9623536542119135, -2.8041763341735346, -0.5119872819721337, 0.30013520666559257, 1.6910139484110014, 0.2456693011005962, 0.22633368250740665, 1.1793248059506944, -0.8301434267279466, 0.2425819941879717, 0.4883295416244339, -0.3389813899614871, 0.8955468968992681, -0.384502634438256, -1.7040628213892801, -0.10814430946056518, 0.794890079038299, 0.028363038057607048, -1.5585199034833328, -0.8994240345396853, 0.3154103928417971, -0.8386742063083595, 0.5817731990193705, -0.6111994888444816, -1.3378652433103626, 1.5123413860138917, 1.2472323942584211, -0.8272328276494867, -2.2526709403200087, 0.31489696733571637, 1.0936677244595716, -1.4145990863380116, 0.3804596019823487, -0.00537908434606341, 0.3001120751126071, -0.022196432508811422, -0.817676741412886, 1.142454128263068, 0.4099378611088832, 1.4467648063116247, -0.9086416758100836, -0.1235427476832825, -0.6491710343064113, 0.1956716750126732, 1.2130925114886821, -0.9775054147348364, -2.136610016537593, -1.146151232781277, -1.1754693482576994, 0.2615274703338761, 0.8530757510388908], \"xaxis\": \"x7\", \"y\": [-1.2469675844086194, 2.9891513099497544, 0.1017309838125147, 0.02548119832841038, 1.9193919674365298, -0.20182906842565754, 0.34360603457165223, -0.2249471960281491, -0.9850353052474844, -0.4559661499288387, -0.3878301319310226, 1.1082652594076037, 0.8744392746857205, 1.0093918400229367, -0.5394935232766637, -0.803745333849395, -0.6518641752351033, -0.43622292742754704, 1.433979164394179, -0.20860370790793073, 0.15344776935200735, -0.24292160640219418, 1.1989580674290223, -1.1443449709961133, -0.09993272796215072, 0.10083254924068984, -0.35213515431348485, -1.2061255943422544, 1.0970022135175945, -0.6800842183802278, -0.07119109631676689, 0.26860378089458553, -1.3759056290183418, 0.2669198011313815, 0.4534602278898926, 0.01047672724603757, -1.2522099425982471, -0.10554046833546744, 1.548445310306408, -0.06588810735895306, 0.6760987700300749, -0.0420202255577279, 1.8378273002595218, -0.6078283434805584, 1.5282024981691928, -0.2754917649929963, -0.5399326467480746, 0.6224826249171681, 0.47795041715071557, 0.6278077101583388, -1.3409423856968694, -0.7706624003108283, 0.015473729679894384, 0.26319508876425185, 1.0028321641640017, -0.807548524223669, 0.9869502776032817, -1.28221797054689, -1.1449359698029302, -0.6395403941539245, 2.4047917183665826, 0.27108517431821616, -1.2451142203486658, -0.9178682146002846, -0.14570048592133691, -0.6272356706833567, -0.8514150741598167, 1.3091254912388204, 0.05193399027756955, -0.002553724868215908, -1.1324415602896714, 1.438180944671712, 0.6043815252099933, 0.3150816994390484, -0.09226594346437388, -1.6197115478527, -1.075865500583438, 0.7486483332115086, 0.19586000178350335, -0.12224064694673781, -0.5599448183549804, 0.3622861605064426, -1.4558631826967452, 1.7992281941455563, -0.5220566801522477, -0.9653810326273534, -0.7122912093233262, 2.2326519358646375, -0.2406418434421078, 0.804193973114719, 1.0070051946632714, 0.5420153009884275, -0.7734745290640057, -0.48601676911296376, 1.6060186504018106, -0.5062587167544614, -0.09464116750951326, -1.3098800820079146, 1.0224650955995838, 1.0548935522161016], \"yaxis\": \"y7\"}, {\"line\": {\"color\": \"rgba(128, 128, 128, 1.0)\", \"dash\": \"solid\", \"shape\": \"linear\", \"width\": 1.3}, \"marker\": {\"size\": 2, \"symbol\": \"circle\"}, \"mode\": \"markers\", \"name\": \"B\", \"text\": \"\", \"type\": \"scatter\", \"x\": [-0.45816628383099955, -0.11883466025434251, -0.4094015829946311, -1.2914835561549904, 0.9612754990723938, 0.6013143215561251, 0.8564923935017692, -1.5060242820790841, -0.9329120696189221, 0.5063840010781364, 0.19673850995509426, 0.6968008590816267, -0.2682153528159321, -1.1966321881543034, -1.914986796762749, -1.5012721808636513, 0.24797725105555277, 0.8956152441841162, 1.3563540894257557, 0.8866127678583284, 0.5446759778705538, -0.06239291541902479, 1.9280441190196405, 0.6166345796571179, -1.1676956065830673, 2.1245751222705205, -1.2979540310128002, -1.30507718123677, -0.08188772766930365, -0.275984330830567, 0.055651433310535715, 0.3315132615174775, -0.6073458170743979, -0.45460058967665207, 0.74131982341312, 1.0672504125579774, 0.7501262159060722, 1.1200458081068019, -0.9053260445508353, -1.5043868218719552, 1.6867649379872203, 0.01968016348648188, 1.0633539743711993, -0.653158196183623, -0.3777676154145722, 1.2792921150219716, -0.8853086974144317, -0.014708258081066811, -0.8120917239685443, 1.036743975431949, -1.396935034960128, -0.20948651650971176, -0.6781034470926233, 0.35063491088267884, -0.231463425208386, 0.2493170422893123, 0.6467210677592791, -0.5019229277631404, 1.2428177651306924, -1.7728723348714754, 0.7413236797040839, 1.3372389018303743, 0.19819940830218838, 0.43856707932029015, -0.2539172064642826, -0.11232087017211007, -0.1708233860370722, 0.23028026703935586, -0.24100973880514245, 0.7220692601567872, -1.1294243054334292, -0.3764175995907608, 0.5139801776844591, 0.9361789461093236, 0.9014679938618109, -1.5550062592884444, 0.3165226975801555, 1.1964668573000992, -0.8015063727727901, 1.0927057005616585, 1.38631879990504, 0.7310956778995843, -1.0576901462878046, -0.059923002252414634, -0.10875592293217297, -0.21129293570494387, -0.39967581594824675, -0.010035887195605423, 0.5237332158414504, -0.643840440184256, 0.19727126151322869, -2.33014797811234, 0.37603575047736865, 0.17974822302615057, -0.6015247299934993, -0.36552514462323477, -1.1966862830172331, 0.39478812868742486, 0.9220918500329655, 0.37342520314964806], \"xaxis\": \"x8\", \"y\": [-1.2469675844086194, 2.9891513099497544, 0.1017309838125147, 0.02548119832841038, 1.9193919674365298, -0.20182906842565754, 0.34360603457165223, -0.2249471960281491, -0.9850353052474844, -0.4559661499288387, -0.3878301319310226, 1.1082652594076037, 0.8744392746857205, 1.0093918400229367, -0.5394935232766637, -0.803745333849395, -0.6518641752351033, -0.43622292742754704, 1.433979164394179, -0.20860370790793073, 0.15344776935200735, -0.24292160640219418, 1.1989580674290223, -1.1443449709961133, -0.09993272796215072, 0.10083254924068984, -0.35213515431348485, -1.2061255943422544, 1.0970022135175945, -0.6800842183802278, -0.07119109631676689, 0.26860378089458553, -1.3759056290183418, 0.2669198011313815, 0.4534602278898926, 0.01047672724603757, -1.2522099425982471, -0.10554046833546744, 1.548445310306408, -0.06588810735895306, 0.6760987700300749, -0.0420202255577279, 1.8378273002595218, -0.6078283434805584, 1.5282024981691928, -0.2754917649929963, -0.5399326467480746, 0.6224826249171681, 0.47795041715071557, 0.6278077101583388, -1.3409423856968694, -0.7706624003108283, 0.015473729679894384, 0.26319508876425185, 1.0028321641640017, -0.807548524223669, 0.9869502776032817, -1.28221797054689, -1.1449359698029302, -0.6395403941539245, 2.4047917183665826, 0.27108517431821616, -1.2451142203486658, -0.9178682146002846, -0.14570048592133691, -0.6272356706833567, -0.8514150741598167, 1.3091254912388204, 0.05193399027756955, -0.002553724868215908, -1.1324415602896714, 1.438180944671712, 0.6043815252099933, 0.3150816994390484, -0.09226594346437388, -1.6197115478527, -1.075865500583438, 0.7486483332115086, 0.19586000178350335, -0.12224064694673781, -0.5599448183549804, 0.3622861605064426, -1.4558631826967452, 1.7992281941455563, -0.5220566801522477, -0.9653810326273534, -0.7122912093233262, 2.2326519358646375, -0.2406418434421078, 0.804193973114719, 1.0070051946632714, 0.5420153009884275, -0.7734745290640057, -0.48601676911296376, 1.6060186504018106, -0.5062587167544614, -0.09464116750951326, -1.3098800820079146, 1.0224650955995838, 1.0548935522161016], \"yaxis\": \"y8\"}, {\"line\": {\"color\": \"rgba(128, 128, 128, 1.0)\", \"dash\": \"solid\", \"shape\": \"linear\", \"width\": 1.3}, \"marker\": {\"size\": 2, \"symbol\": \"circle\"}, \"mode\": \"markers\", \"name\": \"C\", \"text\": \"\", \"type\": \"scatter\", \"x\": [0.3419584291255313, 2.361780384778356, 0.9119528973909766, 0.7843148177858439, 0.19788293810360227, 0.14792586818241837, -0.9642251958129214, -0.9982883475458826, -1.1325513846419084, -0.34775573601765764, 0.05614453083062882, -1.8350439315471765, 0.5511018764251773, 0.17988137422617523, -1.065227814836348, 0.3586145152614117, 2.411605482613125, 0.3560938040312589, 0.36786610050285107, -2.6002826096447857, -0.7981799468689968, -0.9645031821395916, 0.023965620965615043, -0.7365368491710338, -0.004858042010386315, -1.3623500370271893, -0.4525814500361433, 0.7058262779117401, 0.3440578447346543, -0.6854853356129478, -1.175912357533231, -0.06250042438078895, 0.3714797107838847, 1.3432775395609564, 0.7180364148121844, 2.7251283264314794, -1.7927981428516335, 0.30526270927024285, 0.07066587428438767, 0.9829832457917175, 0.2481333939762536, 1.2611119707431302, 0.39120023817415484, 1.4126639401837995, -0.2543019620938231, -1.0808580728245565, 0.21293978874229247, -1.817542673207612, 0.5705140433534914, 0.07031969294279024, -1.7310193046540587, -0.009968310223363802, -1.0487616328861715, 0.23392266236390605, -1.1403254897435495, -0.009551520847821338, 0.0587528290155611, 0.27327642074331, 0.5952762262270923, 0.34922564728692723, 0.3506158007930843, -0.7194723669016722, -0.969386453754765, 0.07607441829377784, 0.8224531813525415, -0.4267717900771313, -0.40179473694537243, 0.8730785586025657, 0.8772569764458129, 1.7525966859134534, -0.38937715784865456, -0.07128387192799915, 0.4374266412162082, 1.0066948777907512, -0.8108547122537352, -0.12424666495990376, 0.2694509128538412, -0.5798316475284768, 0.3201902642191978, -1.1253119761184023, 0.8853008752799159, 0.9710304851537905, -0.054131980511390745, -0.17879880928332045, 0.5731252894387706, 2.1638795628246785, 1.3828172329633255, 2.1851828911286226, 0.5855947229103255, -1.314182568919194, -0.7986574709761567, -0.6434624893139342, -0.9091145307420864, -0.8156862985068415, -0.8784194413581975, 0.28373706115674197, -0.6956611445601208, 1.4316076867251473, 0.8162399203140172, -0.7460467107715341], \"xaxis\": \"x9\", \"y\": [-0.8089288141229286, 1.465625495185079, -1.6871488539427726, -0.16911132657974587, -0.3897976290030342, -0.8863405228175659, 0.9933038955886511, -1.398853576678524, -0.0157329850118625, 0.23536393631978372, -0.7531687946176233, 0.3894346234619737, 0.5094110804845734, 1.2632159547476658, 0.2271132454212522, -0.8953206806668295, -1.2068772383786814, 2.1190160225500247, -0.03549621773010565, -0.952683310719695, 0.08553780338648229, 0.3953373493668272, -2.2670940447542396, 0.04253291466940502, 0.5119931380963819, -0.5259428136451291, 0.3082554492326414, -1.6069737932921186, 0.20636859567286595, 1.5548193258373544, -0.9567089594079814, 0.6728533111210662, -0.9997399942218823, -0.09836268084447383, 1.7038591416615787, 0.9611717084785155, -0.4951431652825938, -1.063680158143539, -0.9948721946688438, -0.017621018172893865, 0.5174491565658988, -0.5023341354767339, -0.02414621402911911, 0.12426822120337526, -0.3115496270231586, -1.7841290940276027, -0.13733470666161338, -0.02318853537118824, -0.1333064003505278, -0.9623536542119135, -2.8041763341735346, -0.5119872819721337, 0.30013520666559257, 1.6910139484110014, 0.2456693011005962, 0.22633368250740665, 1.1793248059506944, -0.8301434267279466, 0.2425819941879717, 0.4883295416244339, -0.3389813899614871, 0.8955468968992681, -0.384502634438256, -1.7040628213892801, -0.10814430946056518, 0.794890079038299, 0.028363038057607048, -1.5585199034833328, -0.8994240345396853, 0.3154103928417971, -0.8386742063083595, 0.5817731990193705, -0.6111994888444816, -1.3378652433103626, 1.5123413860138917, 1.2472323942584211, -0.8272328276494867, -2.2526709403200087, 0.31489696733571637, 1.0936677244595716, -1.4145990863380116, 0.3804596019823487, -0.00537908434606341, 0.3001120751126071, -0.022196432508811422, -0.817676741412886, 1.142454128263068, 0.4099378611088832, 1.4467648063116247, -0.9086416758100836, -0.1235427476832825, -0.6491710343064113, 0.1956716750126732, 1.2130925114886821, -0.9775054147348364, -2.136610016537593, -1.146151232781277, -1.1754693482576994, 0.2615274703338761, 0.8530757510388908], \"yaxis\": \"y9\"}, {\"line\": {\"color\": \"rgba(128, 128, 128, 1.0)\", \"dash\": \"solid\", \"shape\": \"linear\", \"width\": 1.3}, \"marker\": {\"size\": 2, \"symbol\": \"circle\"}, \"mode\": \"markers\", \"name\": \"C\", \"text\": \"\", \"type\": \"scatter\", \"x\": [-1.2469675844086194, 2.9891513099497544, 0.1017309838125147, 0.02548119832841038, 1.9193919674365298, -0.20182906842565754, 0.34360603457165223, -0.2249471960281491, -0.9850353052474844, -0.4559661499288387, -0.3878301319310226, 1.1082652594076037, 0.8744392746857205, 1.0093918400229367, -0.5394935232766637, -0.803745333849395, -0.6518641752351033, -0.43622292742754704, 1.433979164394179, -0.20860370790793073, 0.15344776935200735, -0.24292160640219418, 1.1989580674290223, -1.1443449709961133, -0.09993272796215072, 0.10083254924068984, -0.35213515431348485, -1.2061255943422544, 1.0970022135175945, -0.6800842183802278, -0.07119109631676689, 0.26860378089458553, -1.3759056290183418, 0.2669198011313815, 0.4534602278898926, 0.01047672724603757, -1.2522099425982471, -0.10554046833546744, 1.548445310306408, -0.06588810735895306, 0.6760987700300749, -0.0420202255577279, 1.8378273002595218, -0.6078283434805584, 1.5282024981691928, -0.2754917649929963, -0.5399326467480746, 0.6224826249171681, 0.47795041715071557, 0.6278077101583388, -1.3409423856968694, -0.7706624003108283, 0.015473729679894384, 0.26319508876425185, 1.0028321641640017, -0.807548524223669, 0.9869502776032817, -1.28221797054689, -1.1449359698029302, -0.6395403941539245, 2.4047917183665826, 0.27108517431821616, -1.2451142203486658, -0.9178682146002846, -0.14570048592133691, -0.6272356706833567, -0.8514150741598167, 1.3091254912388204, 0.05193399027756955, -0.002553724868215908, -1.1324415602896714, 1.438180944671712, 0.6043815252099933, 0.3150816994390484, -0.09226594346437388, -1.6197115478527, -1.075865500583438, 0.7486483332115086, 0.19586000178350335, -0.12224064694673781, -0.5599448183549804, 0.3622861605064426, -1.4558631826967452, 1.7992281941455563, -0.5220566801522477, -0.9653810326273534, -0.7122912093233262, 2.2326519358646375, -0.2406418434421078, 0.804193973114719, 1.0070051946632714, 0.5420153009884275, -0.7734745290640057, -0.48601676911296376, 1.6060186504018106, -0.5062587167544614, -0.09464116750951326, -1.3098800820079146, 1.0224650955995838, 1.0548935522161016], \"xaxis\": \"x10\", \"y\": [-0.8089288141229286, 1.465625495185079, -1.6871488539427726, -0.16911132657974587, -0.3897976290030342, -0.8863405228175659, 0.9933038955886511, -1.398853576678524, -0.0157329850118625, 0.23536393631978372, -0.7531687946176233, 0.3894346234619737, 0.5094110804845734, 1.2632159547476658, 0.2271132454212522, -0.8953206806668295, -1.2068772383786814, 2.1190160225500247, -0.03549621773010565, -0.952683310719695, 0.08553780338648229, 0.3953373493668272, -2.2670940447542396, 0.04253291466940502, 0.5119931380963819, -0.5259428136451291, 0.3082554492326414, -1.6069737932921186, 0.20636859567286595, 1.5548193258373544, -0.9567089594079814, 0.6728533111210662, -0.9997399942218823, -0.09836268084447383, 1.7038591416615787, 0.9611717084785155, -0.4951431652825938, -1.063680158143539, -0.9948721946688438, -0.017621018172893865, 0.5174491565658988, -0.5023341354767339, -0.02414621402911911, 0.12426822120337526, -0.3115496270231586, -1.7841290940276027, -0.13733470666161338, -0.02318853537118824, -0.1333064003505278, -0.9623536542119135, -2.8041763341735346, -0.5119872819721337, 0.30013520666559257, 1.6910139484110014, 0.2456693011005962, 0.22633368250740665, 1.1793248059506944, -0.8301434267279466, 0.2425819941879717, 0.4883295416244339, -0.3389813899614871, 0.8955468968992681, -0.384502634438256, -1.7040628213892801, -0.10814430946056518, 0.794890079038299, 0.028363038057607048, -1.5585199034833328, -0.8994240345396853, 0.3154103928417971, -0.8386742063083595, 0.5817731990193705, -0.6111994888444816, -1.3378652433103626, 1.5123413860138917, 1.2472323942584211, -0.8272328276494867, -2.2526709403200087, 0.31489696733571637, 1.0936677244595716, -1.4145990863380116, 0.3804596019823487, -0.00537908434606341, 0.3001120751126071, -0.022196432508811422, -0.817676741412886, 1.142454128263068, 0.4099378611088832, 1.4467648063116247, -0.9086416758100836, -0.1235427476832825, -0.6491710343064113, 0.1956716750126732, 1.2130925114886821, -0.9775054147348364, -2.136610016537593, -1.146151232781277, -1.1754693482576994, 0.2615274703338761, 0.8530757510388908], \"yaxis\": \"y10\"}, {\"histfunc\": \"count\", \"histnorm\": \"\", \"marker\": {\"color\": \"rgba(50, 171, 96, 1.0)\", \"line\": {\"color\": \"#4D5663\", \"width\": 1.3}}, \"name\": \"C\", \"nbinsx\": 10, \"opacity\": 0.8, \"orientation\": \"v\", \"type\": \"histogram\", \"x\": [-0.8089288141229286, 1.465625495185079, -1.6871488539427726, -0.16911132657974587, -0.3897976290030342, -0.8863405228175659, 0.9933038955886511, -1.398853576678524, -0.0157329850118625, 0.23536393631978372, -0.7531687946176233, 0.3894346234619737, 0.5094110804845734, 1.2632159547476658, 0.2271132454212522, -0.8953206806668295, -1.2068772383786814, 2.1190160225500247, -0.03549621773010565, -0.952683310719695, 0.08553780338648229, 0.3953373493668272, -2.2670940447542396, 0.04253291466940502, 0.5119931380963819, -0.5259428136451291, 0.3082554492326414, -1.6069737932921186, 0.20636859567286595, 1.5548193258373544, -0.9567089594079814, 0.6728533111210662, -0.9997399942218823, -0.09836268084447383, 1.7038591416615787, 0.9611717084785155, -0.4951431652825938, -1.063680158143539, -0.9948721946688438, -0.017621018172893865, 0.5174491565658988, -0.5023341354767339, -0.02414621402911911, 0.12426822120337526, -0.3115496270231586, -1.7841290940276027, -0.13733470666161338, -0.02318853537118824, -0.1333064003505278, -0.9623536542119135, -2.8041763341735346, -0.5119872819721337, 0.30013520666559257, 1.6910139484110014, 0.2456693011005962, 0.22633368250740665, 1.1793248059506944, -0.8301434267279466, 0.2425819941879717, 0.4883295416244339, -0.3389813899614871, 0.8955468968992681, -0.384502634438256, -1.7040628213892801, -0.10814430946056518, 0.794890079038299, 0.028363038057607048, -1.5585199034833328, -0.8994240345396853, 0.3154103928417971, -0.8386742063083595, 0.5817731990193705, -0.6111994888444816, -1.3378652433103626, 1.5123413860138917, 1.2472323942584211, -0.8272328276494867, -2.2526709403200087, 0.31489696733571637, 1.0936677244595716, -1.4145990863380116, 0.3804596019823487, -0.00537908434606341, 0.3001120751126071, -0.022196432508811422, -0.817676741412886, 1.142454128263068, 0.4099378611088832, 1.4467648063116247, -0.9086416758100836, -0.1235427476832825, -0.6491710343064113, 0.1956716750126732, 1.2130925114886821, -0.9775054147348364, -2.136610016537593, -1.146151232781277, -1.1754693482576994, 0.2615274703338761, 0.8530757510388908], \"xaxis\": \"x11\", \"yaxis\": \"y11\"}, {\"line\": {\"color\": \"rgba(128, 128, 128, 1.0)\", \"dash\": \"solid\", \"shape\": \"linear\", \"width\": 1.3}, \"marker\": {\"size\": 2, \"symbol\": \"circle\"}, \"mode\": \"markers\", \"name\": \"C\", \"text\": \"\", \"type\": \"scatter\", \"x\": [-0.45816628383099955, -0.11883466025434251, -0.4094015829946311, -1.2914835561549904, 0.9612754990723938, 0.6013143215561251, 0.8564923935017692, -1.5060242820790841, -0.9329120696189221, 0.5063840010781364, 0.19673850995509426, 0.6968008590816267, -0.2682153528159321, -1.1966321881543034, -1.914986796762749, -1.5012721808636513, 0.24797725105555277, 0.8956152441841162, 1.3563540894257557, 0.8866127678583284, 0.5446759778705538, -0.06239291541902479, 1.9280441190196405, 0.6166345796571179, -1.1676956065830673, 2.1245751222705205, -1.2979540310128002, -1.30507718123677, -0.08188772766930365, -0.275984330830567, 0.055651433310535715, 0.3315132615174775, -0.6073458170743979, -0.45460058967665207, 0.74131982341312, 1.0672504125579774, 0.7501262159060722, 1.1200458081068019, -0.9053260445508353, -1.5043868218719552, 1.6867649379872203, 0.01968016348648188, 1.0633539743711993, -0.653158196183623, -0.3777676154145722, 1.2792921150219716, -0.8853086974144317, -0.014708258081066811, -0.8120917239685443, 1.036743975431949, -1.396935034960128, -0.20948651650971176, -0.6781034470926233, 0.35063491088267884, -0.231463425208386, 0.2493170422893123, 0.6467210677592791, -0.5019229277631404, 1.2428177651306924, -1.7728723348714754, 0.7413236797040839, 1.3372389018303743, 0.19819940830218838, 0.43856707932029015, -0.2539172064642826, -0.11232087017211007, -0.1708233860370722, 0.23028026703935586, -0.24100973880514245, 0.7220692601567872, -1.1294243054334292, -0.3764175995907608, 0.5139801776844591, 0.9361789461093236, 0.9014679938618109, -1.5550062592884444, 0.3165226975801555, 1.1964668573000992, -0.8015063727727901, 1.0927057005616585, 1.38631879990504, 0.7310956778995843, -1.0576901462878046, -0.059923002252414634, -0.10875592293217297, -0.21129293570494387, -0.39967581594824675, -0.010035887195605423, 0.5237332158414504, -0.643840440184256, 0.19727126151322869, -2.33014797811234, 0.37603575047736865, 0.17974822302615057, -0.6015247299934993, -0.36552514462323477, -1.1966862830172331, 0.39478812868742486, 0.9220918500329655, 0.37342520314964806], \"xaxis\": \"x12\", \"y\": [-0.8089288141229286, 1.465625495185079, -1.6871488539427726, -0.16911132657974587, -0.3897976290030342, -0.8863405228175659, 0.9933038955886511, -1.398853576678524, -0.0157329850118625, 0.23536393631978372, -0.7531687946176233, 0.3894346234619737, 0.5094110804845734, 1.2632159547476658, 0.2271132454212522, -0.8953206806668295, -1.2068772383786814, 2.1190160225500247, -0.03549621773010565, -0.952683310719695, 0.08553780338648229, 0.3953373493668272, -2.2670940447542396, 0.04253291466940502, 0.5119931380963819, -0.5259428136451291, 0.3082554492326414, -1.6069737932921186, 0.20636859567286595, 1.5548193258373544, -0.9567089594079814, 0.6728533111210662, -0.9997399942218823, -0.09836268084447383, 1.7038591416615787, 0.9611717084785155, -0.4951431652825938, -1.063680158143539, -0.9948721946688438, -0.017621018172893865, 0.5174491565658988, -0.5023341354767339, -0.02414621402911911, 0.12426822120337526, -0.3115496270231586, -1.7841290940276027, -0.13733470666161338, -0.02318853537118824, -0.1333064003505278, -0.9623536542119135, -2.8041763341735346, -0.5119872819721337, 0.30013520666559257, 1.6910139484110014, 0.2456693011005962, 0.22633368250740665, 1.1793248059506944, -0.8301434267279466, 0.2425819941879717, 0.4883295416244339, -0.3389813899614871, 0.8955468968992681, -0.384502634438256, -1.7040628213892801, -0.10814430946056518, 0.794890079038299, 0.028363038057607048, -1.5585199034833328, -0.8994240345396853, 0.3154103928417971, -0.8386742063083595, 0.5817731990193705, -0.6111994888444816, -1.3378652433103626, 1.5123413860138917, 1.2472323942584211, -0.8272328276494867, -2.2526709403200087, 0.31489696733571637, 1.0936677244595716, -1.4145990863380116, 0.3804596019823487, -0.00537908434606341, 0.3001120751126071, -0.022196432508811422, -0.817676741412886, 1.142454128263068, 0.4099378611088832, 1.4467648063116247, -0.9086416758100836, -0.1235427476832825, -0.6491710343064113, 0.1956716750126732, 1.2130925114886821, -0.9775054147348364, -2.136610016537593, -1.146151232781277, -1.1754693482576994, 0.2615274703338761, 0.8530757510388908], \"yaxis\": \"y12\"}, {\"line\": {\"color\": \"rgba(128, 128, 128, 1.0)\", \"dash\": \"solid\", \"shape\": \"linear\", \"width\": 1.3}, \"marker\": {\"size\": 2, \"symbol\": \"circle\"}, \"mode\": \"markers\", \"name\": \"D\", \"text\": \"\", \"type\": \"scatter\", \"x\": [0.3419584291255313, 2.361780384778356, 0.9119528973909766, 0.7843148177858439, 0.19788293810360227, 0.14792586818241837, -0.9642251958129214, -0.9982883475458826, -1.1325513846419084, -0.34775573601765764, 0.05614453083062882, -1.8350439315471765, 0.5511018764251773, 0.17988137422617523, -1.065227814836348, 0.3586145152614117, 2.411605482613125, 0.3560938040312589, 0.36786610050285107, -2.6002826096447857, -0.7981799468689968, -0.9645031821395916, 0.023965620965615043, -0.7365368491710338, -0.004858042010386315, -1.3623500370271893, -0.4525814500361433, 0.7058262779117401, 0.3440578447346543, -0.6854853356129478, -1.175912357533231, -0.06250042438078895, 0.3714797107838847, 1.3432775395609564, 0.7180364148121844, 2.7251283264314794, -1.7927981428516335, 0.30526270927024285, 0.07066587428438767, 0.9829832457917175, 0.2481333939762536, 1.2611119707431302, 0.39120023817415484, 1.4126639401837995, -0.2543019620938231, -1.0808580728245565, 0.21293978874229247, -1.817542673207612, 0.5705140433534914, 0.07031969294279024, -1.7310193046540587, -0.009968310223363802, -1.0487616328861715, 0.23392266236390605, -1.1403254897435495, -0.009551520847821338, 0.0587528290155611, 0.27327642074331, 0.5952762262270923, 0.34922564728692723, 0.3506158007930843, -0.7194723669016722, -0.969386453754765, 0.07607441829377784, 0.8224531813525415, -0.4267717900771313, -0.40179473694537243, 0.8730785586025657, 0.8772569764458129, 1.7525966859134534, -0.38937715784865456, -0.07128387192799915, 0.4374266412162082, 1.0066948777907512, -0.8108547122537352, -0.12424666495990376, 0.2694509128538412, -0.5798316475284768, 0.3201902642191978, -1.1253119761184023, 0.8853008752799159, 0.9710304851537905, -0.054131980511390745, -0.17879880928332045, 0.5731252894387706, 2.1638795628246785, 1.3828172329633255, 2.1851828911286226, 0.5855947229103255, -1.314182568919194, -0.7986574709761567, -0.6434624893139342, -0.9091145307420864, -0.8156862985068415, -0.8784194413581975, 0.28373706115674197, -0.6956611445601208, 1.4316076867251473, 0.8162399203140172, -0.7460467107715341], \"xaxis\": \"x13\", \"y\": [-0.45816628383099955, -0.11883466025434251, -0.4094015829946311, -1.2914835561549904, 0.9612754990723938, 0.6013143215561251, 0.8564923935017692, -1.5060242820790841, -0.9329120696189221, 0.5063840010781364, 0.19673850995509426, 0.6968008590816267, -0.2682153528159321, -1.1966321881543034, -1.914986796762749, -1.5012721808636513, 0.24797725105555277, 0.8956152441841162, 1.3563540894257557, 0.8866127678583284, 0.5446759778705538, -0.06239291541902479, 1.9280441190196405, 0.6166345796571179, -1.1676956065830673, 2.1245751222705205, -1.2979540310128002, -1.30507718123677, -0.08188772766930365, -0.275984330830567, 0.055651433310535715, 0.3315132615174775, -0.6073458170743979, -0.45460058967665207, 0.74131982341312, 1.0672504125579774, 0.7501262159060722, 1.1200458081068019, -0.9053260445508353, -1.5043868218719552, 1.6867649379872203, 0.01968016348648188, 1.0633539743711993, -0.653158196183623, -0.3777676154145722, 1.2792921150219716, -0.8853086974144317, -0.014708258081066811, -0.8120917239685443, 1.036743975431949, -1.396935034960128, -0.20948651650971176, -0.6781034470926233, 0.35063491088267884, -0.231463425208386, 0.2493170422893123, 0.6467210677592791, -0.5019229277631404, 1.2428177651306924, -1.7728723348714754, 0.7413236797040839, 1.3372389018303743, 0.19819940830218838, 0.43856707932029015, -0.2539172064642826, -0.11232087017211007, -0.1708233860370722, 0.23028026703935586, -0.24100973880514245, 0.7220692601567872, -1.1294243054334292, -0.3764175995907608, 0.5139801776844591, 0.9361789461093236, 0.9014679938618109, -1.5550062592884444, 0.3165226975801555, 1.1964668573000992, -0.8015063727727901, 1.0927057005616585, 1.38631879990504, 0.7310956778995843, -1.0576901462878046, -0.059923002252414634, -0.10875592293217297, -0.21129293570494387, -0.39967581594824675, -0.010035887195605423, 0.5237332158414504, -0.643840440184256, 0.19727126151322869, -2.33014797811234, 0.37603575047736865, 0.17974822302615057, -0.6015247299934993, -0.36552514462323477, -1.1966862830172331, 0.39478812868742486, 0.9220918500329655, 0.37342520314964806], \"yaxis\": \"y13\"}, {\"line\": {\"color\": \"rgba(128, 128, 128, 1.0)\", \"dash\": \"solid\", \"shape\": \"linear\", \"width\": 1.3}, \"marker\": {\"size\": 2, \"symbol\": \"circle\"}, \"mode\": \"markers\", \"name\": \"D\", \"text\": \"\", \"type\": \"scatter\", \"x\": [-1.2469675844086194, 2.9891513099497544, 0.1017309838125147, 0.02548119832841038, 1.9193919674365298, -0.20182906842565754, 0.34360603457165223, -0.2249471960281491, -0.9850353052474844, -0.4559661499288387, -0.3878301319310226, 1.1082652594076037, 0.8744392746857205, 1.0093918400229367, -0.5394935232766637, -0.803745333849395, -0.6518641752351033, -0.43622292742754704, 1.433979164394179, -0.20860370790793073, 0.15344776935200735, -0.24292160640219418, 1.1989580674290223, -1.1443449709961133, -0.09993272796215072, 0.10083254924068984, -0.35213515431348485, -1.2061255943422544, 1.0970022135175945, -0.6800842183802278, -0.07119109631676689, 0.26860378089458553, -1.3759056290183418, 0.2669198011313815, 0.4534602278898926, 0.01047672724603757, -1.2522099425982471, -0.10554046833546744, 1.548445310306408, -0.06588810735895306, 0.6760987700300749, -0.0420202255577279, 1.8378273002595218, -0.6078283434805584, 1.5282024981691928, -0.2754917649929963, -0.5399326467480746, 0.6224826249171681, 0.47795041715071557, 0.6278077101583388, -1.3409423856968694, -0.7706624003108283, 0.015473729679894384, 0.26319508876425185, 1.0028321641640017, -0.807548524223669, 0.9869502776032817, -1.28221797054689, -1.1449359698029302, -0.6395403941539245, 2.4047917183665826, 0.27108517431821616, -1.2451142203486658, -0.9178682146002846, -0.14570048592133691, -0.6272356706833567, -0.8514150741598167, 1.3091254912388204, 0.05193399027756955, -0.002553724868215908, -1.1324415602896714, 1.438180944671712, 0.6043815252099933, 0.3150816994390484, -0.09226594346437388, -1.6197115478527, -1.075865500583438, 0.7486483332115086, 0.19586000178350335, -0.12224064694673781, -0.5599448183549804, 0.3622861605064426, -1.4558631826967452, 1.7992281941455563, -0.5220566801522477, -0.9653810326273534, -0.7122912093233262, 2.2326519358646375, -0.2406418434421078, 0.804193973114719, 1.0070051946632714, 0.5420153009884275, -0.7734745290640057, -0.48601676911296376, 1.6060186504018106, -0.5062587167544614, -0.09464116750951326, -1.3098800820079146, 1.0224650955995838, 1.0548935522161016], \"xaxis\": \"x14\", \"y\": [-0.45816628383099955, -0.11883466025434251, -0.4094015829946311, -1.2914835561549904, 0.9612754990723938, 0.6013143215561251, 0.8564923935017692, -1.5060242820790841, -0.9329120696189221, 0.5063840010781364, 0.19673850995509426, 0.6968008590816267, -0.2682153528159321, -1.1966321881543034, -1.914986796762749, -1.5012721808636513, 0.24797725105555277, 0.8956152441841162, 1.3563540894257557, 0.8866127678583284, 0.5446759778705538, -0.06239291541902479, 1.9280441190196405, 0.6166345796571179, -1.1676956065830673, 2.1245751222705205, -1.2979540310128002, -1.30507718123677, -0.08188772766930365, -0.275984330830567, 0.055651433310535715, 0.3315132615174775, -0.6073458170743979, -0.45460058967665207, 0.74131982341312, 1.0672504125579774, 0.7501262159060722, 1.1200458081068019, -0.9053260445508353, -1.5043868218719552, 1.6867649379872203, 0.01968016348648188, 1.0633539743711993, -0.653158196183623, -0.3777676154145722, 1.2792921150219716, -0.8853086974144317, -0.014708258081066811, -0.8120917239685443, 1.036743975431949, -1.396935034960128, -0.20948651650971176, -0.6781034470926233, 0.35063491088267884, -0.231463425208386, 0.2493170422893123, 0.6467210677592791, -0.5019229277631404, 1.2428177651306924, -1.7728723348714754, 0.7413236797040839, 1.3372389018303743, 0.19819940830218838, 0.43856707932029015, -0.2539172064642826, -0.11232087017211007, -0.1708233860370722, 0.23028026703935586, -0.24100973880514245, 0.7220692601567872, -1.1294243054334292, -0.3764175995907608, 0.5139801776844591, 0.9361789461093236, 0.9014679938618109, -1.5550062592884444, 0.3165226975801555, 1.1964668573000992, -0.8015063727727901, 1.0927057005616585, 1.38631879990504, 0.7310956778995843, -1.0576901462878046, -0.059923002252414634, -0.10875592293217297, -0.21129293570494387, -0.39967581594824675, -0.010035887195605423, 0.5237332158414504, -0.643840440184256, 0.19727126151322869, -2.33014797811234, 0.37603575047736865, 0.17974822302615057, -0.6015247299934993, -0.36552514462323477, -1.1966862830172331, 0.39478812868742486, 0.9220918500329655, 0.37342520314964806], \"yaxis\": \"y14\"}, {\"line\": {\"color\": \"rgba(128, 128, 128, 1.0)\", \"dash\": \"solid\", \"shape\": \"linear\", \"width\": 1.3}, \"marker\": {\"size\": 2, \"symbol\": \"circle\"}, \"mode\": \"markers\", \"name\": \"D\", \"text\": \"\", \"type\": \"scatter\", \"x\": [-0.8089288141229286, 1.465625495185079, -1.6871488539427726, -0.16911132657974587, -0.3897976290030342, -0.8863405228175659, 0.9933038955886511, -1.398853576678524, -0.0157329850118625, 0.23536393631978372, -0.7531687946176233, 0.3894346234619737, 0.5094110804845734, 1.2632159547476658, 0.2271132454212522, -0.8953206806668295, -1.2068772383786814, 2.1190160225500247, -0.03549621773010565, -0.952683310719695, 0.08553780338648229, 0.3953373493668272, -2.2670940447542396, 0.04253291466940502, 0.5119931380963819, -0.5259428136451291, 0.3082554492326414, -1.6069737932921186, 0.20636859567286595, 1.5548193258373544, -0.9567089594079814, 0.6728533111210662, -0.9997399942218823, -0.09836268084447383, 1.7038591416615787, 0.9611717084785155, -0.4951431652825938, -1.063680158143539, -0.9948721946688438, -0.017621018172893865, 0.5174491565658988, -0.5023341354767339, -0.02414621402911911, 0.12426822120337526, -0.3115496270231586, -1.7841290940276027, -0.13733470666161338, -0.02318853537118824, -0.1333064003505278, -0.9623536542119135, -2.8041763341735346, -0.5119872819721337, 0.30013520666559257, 1.6910139484110014, 0.2456693011005962, 0.22633368250740665, 1.1793248059506944, -0.8301434267279466, 0.2425819941879717, 0.4883295416244339, -0.3389813899614871, 0.8955468968992681, -0.384502634438256, -1.7040628213892801, -0.10814430946056518, 0.794890079038299, 0.028363038057607048, -1.5585199034833328, -0.8994240345396853, 0.3154103928417971, -0.8386742063083595, 0.5817731990193705, -0.6111994888444816, -1.3378652433103626, 1.5123413860138917, 1.2472323942584211, -0.8272328276494867, -2.2526709403200087, 0.31489696733571637, 1.0936677244595716, -1.4145990863380116, 0.3804596019823487, -0.00537908434606341, 0.3001120751126071, -0.022196432508811422, -0.817676741412886, 1.142454128263068, 0.4099378611088832, 1.4467648063116247, -0.9086416758100836, -0.1235427476832825, -0.6491710343064113, 0.1956716750126732, 1.2130925114886821, -0.9775054147348364, -2.136610016537593, -1.146151232781277, -1.1754693482576994, 0.2615274703338761, 0.8530757510388908], \"xaxis\": \"x15\", \"y\": [-0.45816628383099955, -0.11883466025434251, -0.4094015829946311, -1.2914835561549904, 0.9612754990723938, 0.6013143215561251, 0.8564923935017692, -1.5060242820790841, -0.9329120696189221, 0.5063840010781364, 0.19673850995509426, 0.6968008590816267, -0.2682153528159321, -1.1966321881543034, -1.914986796762749, -1.5012721808636513, 0.24797725105555277, 0.8956152441841162, 1.3563540894257557, 0.8866127678583284, 0.5446759778705538, -0.06239291541902479, 1.9280441190196405, 0.6166345796571179, -1.1676956065830673, 2.1245751222705205, -1.2979540310128002, -1.30507718123677, -0.08188772766930365, -0.275984330830567, 0.055651433310535715, 0.3315132615174775, -0.6073458170743979, -0.45460058967665207, 0.74131982341312, 1.0672504125579774, 0.7501262159060722, 1.1200458081068019, -0.9053260445508353, -1.5043868218719552, 1.6867649379872203, 0.01968016348648188, 1.0633539743711993, -0.653158196183623, -0.3777676154145722, 1.2792921150219716, -0.8853086974144317, -0.014708258081066811, -0.8120917239685443, 1.036743975431949, -1.396935034960128, -0.20948651650971176, -0.6781034470926233, 0.35063491088267884, -0.231463425208386, 0.2493170422893123, 0.6467210677592791, -0.5019229277631404, 1.2428177651306924, -1.7728723348714754, 0.7413236797040839, 1.3372389018303743, 0.19819940830218838, 0.43856707932029015, -0.2539172064642826, -0.11232087017211007, -0.1708233860370722, 0.23028026703935586, -0.24100973880514245, 0.7220692601567872, -1.1294243054334292, -0.3764175995907608, 0.5139801776844591, 0.9361789461093236, 0.9014679938618109, -1.5550062592884444, 0.3165226975801555, 1.1964668573000992, -0.8015063727727901, 1.0927057005616585, 1.38631879990504, 0.7310956778995843, -1.0576901462878046, -0.059923002252414634, -0.10875592293217297, -0.21129293570494387, -0.39967581594824675, -0.010035887195605423, 0.5237332158414504, -0.643840440184256, 0.19727126151322869, -2.33014797811234, 0.37603575047736865, 0.17974822302615057, -0.6015247299934993, -0.36552514462323477, -1.1966862830172331, 0.39478812868742486, 0.9220918500329655, 0.37342520314964806], \"yaxis\": \"y15\"}, {\"histfunc\": \"count\", \"histnorm\": \"\", \"marker\": {\"color\": \"rgba(128, 0, 128, 1.0)\", \"line\": {\"color\": \"#4D5663\", \"width\": 1.3}}, \"name\": \"D\", \"nbinsx\": 10, \"opacity\": 0.8, \"orientation\": \"v\", \"type\": \"histogram\", \"x\": [-0.45816628383099955, -0.11883466025434251, -0.4094015829946311, -1.2914835561549904, 0.9612754990723938, 0.6013143215561251, 0.8564923935017692, -1.5060242820790841, -0.9329120696189221, 0.5063840010781364, 0.19673850995509426, 0.6968008590816267, -0.2682153528159321, -1.1966321881543034, -1.914986796762749, -1.5012721808636513, 0.24797725105555277, 0.8956152441841162, 1.3563540894257557, 0.8866127678583284, 0.5446759778705538, -0.06239291541902479, 1.9280441190196405, 0.6166345796571179, -1.1676956065830673, 2.1245751222705205, -1.2979540310128002, -1.30507718123677, -0.08188772766930365, -0.275984330830567, 0.055651433310535715, 0.3315132615174775, -0.6073458170743979, -0.45460058967665207, 0.74131982341312, 1.0672504125579774, 0.7501262159060722, 1.1200458081068019, -0.9053260445508353, -1.5043868218719552, 1.6867649379872203, 0.01968016348648188, 1.0633539743711993, -0.653158196183623, -0.3777676154145722, 1.2792921150219716, -0.8853086974144317, -0.014708258081066811, -0.8120917239685443, 1.036743975431949, -1.396935034960128, -0.20948651650971176, -0.6781034470926233, 0.35063491088267884, -0.231463425208386, 0.2493170422893123, 0.6467210677592791, -0.5019229277631404, 1.2428177651306924, -1.7728723348714754, 0.7413236797040839, 1.3372389018303743, 0.19819940830218838, 0.43856707932029015, -0.2539172064642826, -0.11232087017211007, -0.1708233860370722, 0.23028026703935586, -0.24100973880514245, 0.7220692601567872, -1.1294243054334292, -0.3764175995907608, 0.5139801776844591, 0.9361789461093236, 0.9014679938618109, -1.5550062592884444, 0.3165226975801555, 1.1964668573000992, -0.8015063727727901, 1.0927057005616585, 1.38631879990504, 0.7310956778995843, -1.0576901462878046, -0.059923002252414634, -0.10875592293217297, -0.21129293570494387, -0.39967581594824675, -0.010035887195605423, 0.5237332158414504, -0.643840440184256, 0.19727126151322869, -2.33014797811234, 0.37603575047736865, 0.17974822302615057, -0.6015247299934993, -0.36552514462323477, -1.1966862830172331, 0.39478812868742486, 0.9220918500329655, 0.37342520314964806], \"xaxis\": \"x16\", \"yaxis\": \"y16\"}],                        {\"bargap\": 0.02, \"legend\": {\"bgcolor\": \"#F5F6F9\", \"font\": {\"color\": \"#4D5663\"}}, \"paper_bgcolor\": \"#F5F6F9\", \"plot_bgcolor\": \"#F5F6F9\", \"showlegend\": false, \"template\": {\"data\": {\"bar\": [{\"error_x\": {\"color\": \"#2a3f5f\"}, \"error_y\": {\"color\": \"#2a3f5f\"}, \"marker\": {\"line\": {\"color\": \"#E5ECF6\", \"width\": 0.5}}, \"type\": \"bar\"}], \"barpolar\": [{\"marker\": {\"line\": {\"color\": \"#E5ECF6\", \"width\": 0.5}}, \"type\": \"barpolar\"}], \"carpet\": [{\"aaxis\": {\"endlinecolor\": \"#2a3f5f\", \"gridcolor\": \"white\", \"linecolor\": \"white\", \"minorgridcolor\": \"white\", \"startlinecolor\": \"#2a3f5f\"}, \"baxis\": {\"endlinecolor\": \"#2a3f5f\", \"gridcolor\": \"white\", \"linecolor\": \"white\", \"minorgridcolor\": \"white\", \"startlinecolor\": \"#2a3f5f\"}, \"type\": \"carpet\"}], \"choropleth\": [{\"colorbar\": {\"outlinewidth\": 0, \"ticks\": \"\"}, \"type\": \"choropleth\"}], \"contour\": [{\"colorbar\": {\"outlinewidth\": 0, \"ticks\": \"\"}, \"colorscale\": [[0.0, \"#0d0887\"], [0.1111111111111111, \"#46039f\"], [0.2222222222222222, \"#7201a8\"], [0.3333333333333333, \"#9c179e\"], [0.4444444444444444, \"#bd3786\"], [0.5555555555555556, \"#d8576b\"], [0.6666666666666666, \"#ed7953\"], [0.7777777777777778, \"#fb9f3a\"], [0.8888888888888888, \"#fdca26\"], [1.0, \"#f0f921\"]], \"type\": \"contour\"}], \"contourcarpet\": [{\"colorbar\": {\"outlinewidth\": 0, \"ticks\": \"\"}, \"type\": \"contourcarpet\"}], \"heatmap\": [{\"colorbar\": {\"outlinewidth\": 0, \"ticks\": \"\"}, \"colorscale\": [[0.0, \"#0d0887\"], [0.1111111111111111, \"#46039f\"], [0.2222222222222222, \"#7201a8\"], [0.3333333333333333, \"#9c179e\"], [0.4444444444444444, \"#bd3786\"], [0.5555555555555556, \"#d8576b\"], [0.6666666666666666, \"#ed7953\"], [0.7777777777777778, \"#fb9f3a\"], [0.8888888888888888, \"#fdca26\"], [1.0, \"#f0f921\"]], \"type\": \"heatmap\"}], \"heatmapgl\": [{\"colorbar\": {\"outlinewidth\": 0, \"ticks\": \"\"}, \"colorscale\": [[0.0, \"#0d0887\"], [0.1111111111111111, \"#46039f\"], [0.2222222222222222, \"#7201a8\"], [0.3333333333333333, \"#9c179e\"], [0.4444444444444444, \"#bd3786\"], [0.5555555555555556, \"#d8576b\"], [0.6666666666666666, \"#ed7953\"], [0.7777777777777778, \"#fb9f3a\"], [0.8888888888888888, \"#fdca26\"], [1.0, \"#f0f921\"]], \"type\": \"heatmapgl\"}], \"histogram\": [{\"marker\": {\"colorbar\": {\"outlinewidth\": 0, \"ticks\": \"\"}}, \"type\": \"histogram\"}], \"histogram2d\": [{\"colorbar\": {\"outlinewidth\": 0, \"ticks\": \"\"}, \"colorscale\": [[0.0, \"#0d0887\"], [0.1111111111111111, \"#46039f\"], [0.2222222222222222, \"#7201a8\"], [0.3333333333333333, \"#9c179e\"], [0.4444444444444444, \"#bd3786\"], [0.5555555555555556, \"#d8576b\"], [0.6666666666666666, \"#ed7953\"], [0.7777777777777778, \"#fb9f3a\"], [0.8888888888888888, \"#fdca26\"], [1.0, \"#f0f921\"]], \"type\": \"histogram2d\"}], \"histogram2dcontour\": [{\"colorbar\": {\"outlinewidth\": 0, \"ticks\": \"\"}, \"colorscale\": [[0.0, \"#0d0887\"], [0.1111111111111111, \"#46039f\"], [0.2222222222222222, \"#7201a8\"], [0.3333333333333333, \"#9c179e\"], [0.4444444444444444, \"#bd3786\"], [0.5555555555555556, \"#d8576b\"], [0.6666666666666666, \"#ed7953\"], [0.7777777777777778, \"#fb9f3a\"], [0.8888888888888888, \"#fdca26\"], [1.0, \"#f0f921\"]], \"type\": \"histogram2dcontour\"}], \"mesh3d\": [{\"colorbar\": {\"outlinewidth\": 0, \"ticks\": \"\"}, \"type\": \"mesh3d\"}], \"parcoords\": [{\"line\": {\"colorbar\": {\"outlinewidth\": 0, \"ticks\": \"\"}}, \"type\": \"parcoords\"}], \"pie\": [{\"automargin\": true, \"type\": \"pie\"}], \"scatter\": [{\"marker\": {\"colorbar\": {\"outlinewidth\": 0, \"ticks\": \"\"}}, \"type\": \"scatter\"}], \"scatter3d\": [{\"line\": {\"colorbar\": {\"outlinewidth\": 0, \"ticks\": \"\"}}, \"marker\": {\"colorbar\": {\"outlinewidth\": 0, \"ticks\": \"\"}}, \"type\": \"scatter3d\"}], \"scattercarpet\": [{\"marker\": {\"colorbar\": {\"outlinewidth\": 0, \"ticks\": \"\"}}, \"type\": \"scattercarpet\"}], \"scattergeo\": [{\"marker\": {\"colorbar\": {\"outlinewidth\": 0, \"ticks\": \"\"}}, \"type\": \"scattergeo\"}], \"scattergl\": [{\"marker\": {\"colorbar\": {\"outlinewidth\": 0, \"ticks\": \"\"}}, \"type\": \"scattergl\"}], \"scattermapbox\": [{\"marker\": {\"colorbar\": {\"outlinewidth\": 0, \"ticks\": \"\"}}, \"type\": \"scattermapbox\"}], \"scatterpolar\": [{\"marker\": {\"colorbar\": {\"outlinewidth\": 0, \"ticks\": \"\"}}, \"type\": \"scatterpolar\"}], \"scatterpolargl\": [{\"marker\": {\"colorbar\": {\"outlinewidth\": 0, \"ticks\": \"\"}}, \"type\": \"scatterpolargl\"}], \"scatterternary\": [{\"marker\": {\"colorbar\": {\"outlinewidth\": 0, \"ticks\": \"\"}}, \"type\": \"scatterternary\"}], \"surface\": [{\"colorbar\": {\"outlinewidth\": 0, \"ticks\": \"\"}, \"colorscale\": [[0.0, \"#0d0887\"], [0.1111111111111111, \"#46039f\"], [0.2222222222222222, \"#7201a8\"], [0.3333333333333333, \"#9c179e\"], [0.4444444444444444, \"#bd3786\"], [0.5555555555555556, \"#d8576b\"], [0.6666666666666666, \"#ed7953\"], [0.7777777777777778, \"#fb9f3a\"], [0.8888888888888888, \"#fdca26\"], [1.0, \"#f0f921\"]], \"type\": \"surface\"}], \"table\": [{\"cells\": {\"fill\": {\"color\": \"#EBF0F8\"}, \"line\": {\"color\": \"white\"}}, \"header\": {\"fill\": {\"color\": \"#C8D4E3\"}, \"line\": {\"color\": \"white\"}}, \"type\": \"table\"}]}, \"layout\": {\"annotationdefaults\": {\"arrowcolor\": \"#2a3f5f\", \"arrowhead\": 0, \"arrowwidth\": 1}, \"autotypenumbers\": \"strict\", \"coloraxis\": {\"colorbar\": {\"outlinewidth\": 0, \"ticks\": \"\"}}, \"colorscale\": {\"diverging\": [[0, \"#8e0152\"], [0.1, \"#c51b7d\"], [0.2, \"#de77ae\"], [0.3, \"#f1b6da\"], [0.4, \"#fde0ef\"], [0.5, \"#f7f7f7\"], [0.6, \"#e6f5d0\"], [0.7, \"#b8e186\"], [0.8, \"#7fbc41\"], [0.9, \"#4d9221\"], [1, \"#276419\"]], \"sequential\": [[0.0, \"#0d0887\"], [0.1111111111111111, \"#46039f\"], [0.2222222222222222, \"#7201a8\"], [0.3333333333333333, \"#9c179e\"], [0.4444444444444444, \"#bd3786\"], [0.5555555555555556, \"#d8576b\"], [0.6666666666666666, \"#ed7953\"], [0.7777777777777778, \"#fb9f3a\"], [0.8888888888888888, \"#fdca26\"], [1.0, \"#f0f921\"]], \"sequentialminus\": [[0.0, \"#0d0887\"], [0.1111111111111111, \"#46039f\"], [0.2222222222222222, \"#7201a8\"], [0.3333333333333333, \"#9c179e\"], [0.4444444444444444, \"#bd3786\"], [0.5555555555555556, \"#d8576b\"], [0.6666666666666666, \"#ed7953\"], [0.7777777777777778, \"#fb9f3a\"], [0.8888888888888888, \"#fdca26\"], [1.0, \"#f0f921\"]]}, \"colorway\": [\"#636efa\", \"#EF553B\", \"#00cc96\", \"#ab63fa\", \"#FFA15A\", \"#19d3f3\", \"#FF6692\", \"#B6E880\", \"#FF97FF\", \"#FECB52\"], \"font\": {\"color\": \"#2a3f5f\"}, \"geo\": {\"bgcolor\": \"white\", \"lakecolor\": \"white\", \"landcolor\": \"#E5ECF6\", \"showlakes\": true, \"showland\": true, \"subunitcolor\": \"white\"}, \"hoverlabel\": {\"align\": \"left\"}, \"hovermode\": \"closest\", \"mapbox\": {\"style\": \"light\"}, \"paper_bgcolor\": \"white\", \"plot_bgcolor\": \"#E5ECF6\", \"polar\": {\"angularaxis\": {\"gridcolor\": \"white\", \"linecolor\": \"white\", \"ticks\": \"\"}, \"bgcolor\": \"#E5ECF6\", \"radialaxis\": {\"gridcolor\": \"white\", \"linecolor\": \"white\", \"ticks\": \"\"}}, \"scene\": {\"xaxis\": {\"backgroundcolor\": \"#E5ECF6\", \"gridcolor\": \"white\", \"gridwidth\": 2, \"linecolor\": \"white\", \"showbackground\": true, \"ticks\": \"\", \"zerolinecolor\": \"white\"}, \"yaxis\": {\"backgroundcolor\": \"#E5ECF6\", \"gridcolor\": \"white\", \"gridwidth\": 2, \"linecolor\": \"white\", \"showbackground\": true, \"ticks\": \"\", \"zerolinecolor\": \"white\"}, \"zaxis\": {\"backgroundcolor\": \"#E5ECF6\", \"gridcolor\": \"white\", \"gridwidth\": 2, \"linecolor\": \"white\", \"showbackground\": true, \"ticks\": \"\", \"zerolinecolor\": \"white\"}}, \"shapedefaults\": {\"line\": {\"color\": \"#2a3f5f\"}}, \"ternary\": {\"aaxis\": {\"gridcolor\": \"white\", \"linecolor\": \"white\", \"ticks\": \"\"}, \"baxis\": {\"gridcolor\": \"white\", \"linecolor\": \"white\", \"ticks\": \"\"}, \"bgcolor\": \"#E5ECF6\", \"caxis\": {\"gridcolor\": \"white\", \"linecolor\": \"white\", \"ticks\": \"\"}}, \"title\": {\"x\": 0.05}, \"xaxis\": {\"automargin\": true, \"gridcolor\": \"white\", \"linecolor\": \"white\", \"ticks\": \"\", \"title\": {\"standoff\": 15}, \"zerolinecolor\": \"white\", \"zerolinewidth\": 2}, \"yaxis\": {\"automargin\": true, \"gridcolor\": \"white\", \"linecolor\": \"white\", \"ticks\": \"\", \"title\": {\"standoff\": 15}, \"zerolinecolor\": \"white\", \"zerolinewidth\": 2}}}, \"title\": {\"font\": {\"color\": \"#4D5663\"}}, \"xaxis\": {\"anchor\": \"y\", \"domain\": [0.0, 0.2125], \"gridcolor\": \"#E1E5ED\", \"showgrid\": false, \"tickfont\": {\"color\": \"#4D5663\"}, \"title\": {\"font\": {\"color\": \"#4D5663\"}, \"text\": \"\"}, \"zerolinecolor\": \"#E1E5ED\"}, \"xaxis10\": {\"anchor\": \"y10\", \"domain\": [0.2625, 0.475], \"gridcolor\": \"#E1E5ED\", \"showgrid\": false, \"tickfont\": {\"color\": \"#4D5663\"}, \"title\": {\"font\": {\"color\": \"#4D5663\"}, \"text\": \"\"}, \"zerolinecolor\": \"#E1E5ED\"}, \"xaxis11\": {\"anchor\": \"y11\", \"domain\": [0.525, 0.7375], \"gridcolor\": \"#E1E5ED\", \"showgrid\": false, \"tickfont\": {\"color\": \"#4D5663\"}, \"title\": {\"font\": {\"color\": \"#4D5663\"}, \"text\": \"\"}, \"zerolinecolor\": \"#E1E5ED\"}, \"xaxis12\": {\"anchor\": \"y12\", \"domain\": [0.7875, 1.0], \"gridcolor\": \"#E1E5ED\", \"showgrid\": false, \"tickfont\": {\"color\": \"#4D5663\"}, \"title\": {\"font\": {\"color\": \"#4D5663\"}, \"text\": \"\"}, \"zerolinecolor\": \"#E1E5ED\"}, \"xaxis13\": {\"anchor\": \"y13\", \"domain\": [0.0, 0.2125], \"gridcolor\": \"#E1E5ED\", \"showgrid\": false, \"tickfont\": {\"color\": \"#4D5663\"}, \"title\": {\"font\": {\"color\": \"#4D5663\"}, \"text\": \"\"}, \"zerolinecolor\": \"#E1E5ED\"}, \"xaxis14\": {\"anchor\": \"y14\", \"domain\": [0.2625, 0.475], \"gridcolor\": \"#E1E5ED\", \"showgrid\": false, \"tickfont\": {\"color\": \"#4D5663\"}, \"title\": {\"font\": {\"color\": \"#4D5663\"}, \"text\": \"\"}, \"zerolinecolor\": \"#E1E5ED\"}, \"xaxis15\": {\"anchor\": \"y15\", \"domain\": [0.525, 0.7375], \"gridcolor\": \"#E1E5ED\", \"showgrid\": false, \"tickfont\": {\"color\": \"#4D5663\"}, \"title\": {\"font\": {\"color\": \"#4D5663\"}, \"text\": \"\"}, \"zerolinecolor\": \"#E1E5ED\"}, \"xaxis16\": {\"anchor\": \"y16\", \"domain\": [0.7875, 1.0], \"gridcolor\": \"#E1E5ED\", \"showgrid\": false, \"tickfont\": {\"color\": \"#4D5663\"}, \"title\": {\"font\": {\"color\": \"#4D5663\"}, \"text\": \"\"}, \"zerolinecolor\": \"#E1E5ED\"}, \"xaxis2\": {\"anchor\": \"y2\", \"domain\": [0.2625, 0.475], \"gridcolor\": \"#E1E5ED\", \"showgrid\": false, \"tickfont\": {\"color\": \"#4D5663\"}, \"title\": {\"font\": {\"color\": \"#4D5663\"}, \"text\": \"\"}, \"zerolinecolor\": \"#E1E5ED\"}, \"xaxis3\": {\"anchor\": \"y3\", \"domain\": [0.525, 0.7375], \"gridcolor\": \"#E1E5ED\", \"showgrid\": false, \"tickfont\": {\"color\": \"#4D5663\"}, \"title\": {\"font\": {\"color\": \"#4D5663\"}, \"text\": \"\"}, \"zerolinecolor\": \"#E1E5ED\"}, \"xaxis4\": {\"anchor\": \"y4\", \"domain\": [0.7875, 1.0], \"gridcolor\": \"#E1E5ED\", \"showgrid\": false, \"tickfont\": {\"color\": \"#4D5663\"}, \"title\": {\"font\": {\"color\": \"#4D5663\"}, \"text\": \"\"}, \"zerolinecolor\": \"#E1E5ED\"}, \"xaxis5\": {\"anchor\": \"y5\", \"domain\": [0.0, 0.2125], \"gridcolor\": \"#E1E5ED\", \"showgrid\": false, \"tickfont\": {\"color\": \"#4D5663\"}, \"title\": {\"font\": {\"color\": \"#4D5663\"}, \"text\": \"\"}, \"zerolinecolor\": \"#E1E5ED\"}, \"xaxis6\": {\"anchor\": \"y6\", \"domain\": [0.2625, 0.475], \"gridcolor\": \"#E1E5ED\", \"showgrid\": false, \"tickfont\": {\"color\": \"#4D5663\"}, \"title\": {\"font\": {\"color\": \"#4D5663\"}, \"text\": \"\"}, \"zerolinecolor\": \"#E1E5ED\"}, \"xaxis7\": {\"anchor\": \"y7\", \"domain\": [0.525, 0.7375], \"gridcolor\": \"#E1E5ED\", \"showgrid\": false, \"tickfont\": {\"color\": \"#4D5663\"}, \"title\": {\"font\": {\"color\": \"#4D5663\"}, \"text\": \"\"}, \"zerolinecolor\": \"#E1E5ED\"}, \"xaxis8\": {\"anchor\": \"y8\", \"domain\": [0.7875, 1.0], \"gridcolor\": \"#E1E5ED\", \"showgrid\": false, \"tickfont\": {\"color\": \"#4D5663\"}, \"title\": {\"font\": {\"color\": \"#4D5663\"}, \"text\": \"\"}, \"zerolinecolor\": \"#E1E5ED\"}, \"xaxis9\": {\"anchor\": \"y9\", \"domain\": [0.0, 0.2125], \"gridcolor\": \"#E1E5ED\", \"showgrid\": false, \"tickfont\": {\"color\": \"#4D5663\"}, \"title\": {\"font\": {\"color\": \"#4D5663\"}, \"text\": \"\"}, \"zerolinecolor\": \"#E1E5ED\"}, \"yaxis\": {\"anchor\": \"x\", \"domain\": [0.8025, 1.0], \"gridcolor\": \"#E1E5ED\", \"showgrid\": false, \"tickfont\": {\"color\": \"#4D5663\"}, \"title\": {\"font\": {\"color\": \"#4D5663\"}, \"text\": \"\"}, \"zerolinecolor\": \"#E1E5ED\"}, \"yaxis10\": {\"anchor\": \"x10\", \"domain\": [0.2675, 0.465], \"gridcolor\": \"#E1E5ED\", \"showgrid\": false, \"tickfont\": {\"color\": \"#4D5663\"}, \"title\": {\"font\": {\"color\": \"#4D5663\"}, \"text\": \"\"}, \"zerolinecolor\": \"#E1E5ED\"}, \"yaxis11\": {\"anchor\": \"x11\", \"domain\": [0.2675, 0.465], \"gridcolor\": \"#E1E5ED\", \"showgrid\": false, \"tickfont\": {\"color\": \"#4D5663\"}, \"title\": {\"font\": {\"color\": \"#4D5663\"}, \"text\": \"\"}, \"zerolinecolor\": \"#E1E5ED\"}, \"yaxis12\": {\"anchor\": \"x12\", \"domain\": [0.2675, 0.465], \"gridcolor\": \"#E1E5ED\", \"showgrid\": false, \"tickfont\": {\"color\": \"#4D5663\"}, \"title\": {\"font\": {\"color\": \"#4D5663\"}, \"text\": \"\"}, \"zerolinecolor\": \"#E1E5ED\"}, \"yaxis13\": {\"anchor\": \"x13\", \"domain\": [0.0, 0.1975], \"gridcolor\": \"#E1E5ED\", \"showgrid\": false, \"tickfont\": {\"color\": \"#4D5663\"}, \"title\": {\"font\": {\"color\": \"#4D5663\"}, \"text\": \"\"}, \"zerolinecolor\": \"#E1E5ED\"}, \"yaxis14\": {\"anchor\": \"x14\", \"domain\": [0.0, 0.1975], \"gridcolor\": \"#E1E5ED\", \"showgrid\": false, \"tickfont\": {\"color\": \"#4D5663\"}, \"title\": {\"font\": {\"color\": \"#4D5663\"}, \"text\": \"\"}, \"zerolinecolor\": \"#E1E5ED\"}, \"yaxis15\": {\"anchor\": \"x15\", \"domain\": [0.0, 0.1975], \"gridcolor\": \"#E1E5ED\", \"showgrid\": false, \"tickfont\": {\"color\": \"#4D5663\"}, \"title\": {\"font\": {\"color\": \"#4D5663\"}, \"text\": \"\"}, \"zerolinecolor\": \"#E1E5ED\"}, \"yaxis16\": {\"anchor\": \"x16\", \"domain\": [0.0, 0.1975], \"gridcolor\": \"#E1E5ED\", \"showgrid\": false, \"tickfont\": {\"color\": \"#4D5663\"}, \"title\": {\"font\": {\"color\": \"#4D5663\"}, \"text\": \"\"}, \"zerolinecolor\": \"#E1E5ED\"}, \"yaxis2\": {\"anchor\": \"x2\", \"domain\": [0.8025, 1.0], \"gridcolor\": \"#E1E5ED\", \"showgrid\": false, \"tickfont\": {\"color\": \"#4D5663\"}, \"title\": {\"font\": {\"color\": \"#4D5663\"}, \"text\": \"\"}, \"zerolinecolor\": \"#E1E5ED\"}, \"yaxis3\": {\"anchor\": \"x3\", \"domain\": [0.8025, 1.0], \"gridcolor\": \"#E1E5ED\", \"showgrid\": false, \"tickfont\": {\"color\": \"#4D5663\"}, \"title\": {\"font\": {\"color\": \"#4D5663\"}, \"text\": \"\"}, \"zerolinecolor\": \"#E1E5ED\"}, \"yaxis4\": {\"anchor\": \"x4\", \"domain\": [0.8025, 1.0], \"gridcolor\": \"#E1E5ED\", \"showgrid\": false, \"tickfont\": {\"color\": \"#4D5663\"}, \"title\": {\"font\": {\"color\": \"#4D5663\"}, \"text\": \"\"}, \"zerolinecolor\": \"#E1E5ED\"}, \"yaxis5\": {\"anchor\": \"x5\", \"domain\": [0.535, 0.7325], \"gridcolor\": \"#E1E5ED\", \"showgrid\": false, \"tickfont\": {\"color\": \"#4D5663\"}, \"title\": {\"font\": {\"color\": \"#4D5663\"}, \"text\": \"\"}, \"zerolinecolor\": \"#E1E5ED\"}, \"yaxis6\": {\"anchor\": \"x6\", \"domain\": [0.535, 0.7325], \"gridcolor\": \"#E1E5ED\", \"showgrid\": false, \"tickfont\": {\"color\": \"#4D5663\"}, \"title\": {\"font\": {\"color\": \"#4D5663\"}, \"text\": \"\"}, \"zerolinecolor\": \"#E1E5ED\"}, \"yaxis7\": {\"anchor\": \"x7\", \"domain\": [0.535, 0.7325], \"gridcolor\": \"#E1E5ED\", \"showgrid\": false, \"tickfont\": {\"color\": \"#4D5663\"}, \"title\": {\"font\": {\"color\": \"#4D5663\"}, \"text\": \"\"}, \"zerolinecolor\": \"#E1E5ED\"}, \"yaxis8\": {\"anchor\": \"x8\", \"domain\": [0.535, 0.7325], \"gridcolor\": \"#E1E5ED\", \"showgrid\": false, \"tickfont\": {\"color\": \"#4D5663\"}, \"title\": {\"font\": {\"color\": \"#4D5663\"}, \"text\": \"\"}, \"zerolinecolor\": \"#E1E5ED\"}, \"yaxis9\": {\"anchor\": \"x9\", \"domain\": [0.2675, 0.465], \"gridcolor\": \"#E1E5ED\", \"showgrid\": false, \"tickfont\": {\"color\": \"#4D5663\"}, \"title\": {\"font\": {\"color\": \"#4D5663\"}, \"text\": \"\"}, \"zerolinecolor\": \"#E1E5ED\"}},                        {\"showLink\": true, \"linkText\": \"Export to plot.ly\", \"plotlyServerURL\": \"https://plot.ly\", \"responsive\": true}                    ).then(function(){\n                            \nvar gd = document.getElementById('e6500f90-1930-4855-a814-a4ca6b66affe');\nvar x = new MutationObserver(function (mutations, observer) {{\n        var display = window.getComputedStyle(gd).display;\n        if (!display || display === 'none') {{\n            console.log([gd, 'removed!']);\n            Plotly.purge(gd);\n            observer.disconnect();\n        }}\n}});\n\n// Listen for the removal of the full notebook cells\nvar notebookContainer = gd.closest('#notebook-container');\nif (notebookContainer) {{\n    x.observe(notebookContainer, {childList: true});\n}}\n\n// Listen for the clearing of the current output cell\nvar outputEl = gd.closest('.output');\nif (outputEl) {{\n    x.observe(outputEl, {childList: true});\n}}\n\n                        })                };                });            </script>        </div>"
     },
     "metadata": {}
    }
   ],
   "source": [
    "df.scatter_matrix()"
   ]
  },
  {
   "cell_type": "markdown",
   "metadata": {
    "collapsed": true
   },
   "source": [
    "# Great Job!"
   ]
  }
 ],
 "metadata": {
  "kernelspec": {
   "name": "pythonjvsc74a57bd0c0aa7a66d81e3e4f46ed4a9a50ad1547c19fc9d760ef9dec7ea01bf25562b8dc",
   "display_name": "Python 3.9.5  ('venv': venv)"
  },
  "language_info": {
   "codemirror_mode": {
    "name": "ipython",
    "version": 3
   },
   "file_extension": ".py",
   "mimetype": "text/x-python",
   "name": "python",
   "nbconvert_exporter": "python",
   "pygments_lexer": "ipython3",
   "version": "3.9.5"
  },
  "metadata": {
   "interpreter": {
    "hash": "c0aa7a66d81e3e4f46ed4a9a50ad1547c19fc9d760ef9dec7ea01bf25562b8dc"
   }
  }
 },
 "nbformat": 4,
 "nbformat_minor": 0
}