{
 "cells": [
  {
   "cell_type": "markdown",
   "metadata": {},
   "source": [
    "<a href=\"https://www.pieriandata.com\"><img src=\"../Pierian_Data_Logo.PNG\"></a>\n",
    "<strong><center>Copyright by Pierian Data Inc.</center></strong> \n",
    "<strong><center>Created by Jose Marcial Portilla.</center></strong>"
   ]
  },
  {
   "cell_type": "markdown",
   "metadata": {},
   "source": [
    "# Tensorboard\n",
    "\n",
    "---\n",
    "---\n",
    "\n",
    "**NOTE: You must watch the corresponding video to understand this lecture. This notebook can't serve as a full guide. Please watch the video BEFORE posting questions to the QA forum.**\n",
    "\n",
    "---\n",
    "---\n",
    "\n",
    "Let's explore the built in data visualization capabilities that come with Tensorboard.\n",
    "\n",
    "Full official tutorial available here: https://www.tensorflow.org/tensorboard/get_started\n",
    "\n",
    "## Data"
   ]
  },
  {
   "cell_type": "code",
   "execution_count": 1,
   "metadata": {},
   "outputs": [],
   "source": [
    "import pandas as pd\n",
    "import numpy as np"
   ]
  },
  {
   "cell_type": "code",
   "execution_count": 2,
   "metadata": {},
   "outputs": [],
   "source": [
    "df = pd.read_csv('../DATA/cancer_classification.csv')"
   ]
  },
  {
   "cell_type": "markdown",
   "metadata": {},
   "source": [
    "### Train Test Split"
   ]
  },
  {
   "cell_type": "code",
   "execution_count": 3,
   "metadata": {},
   "outputs": [],
   "source": [
    "X = df.drop('benign_0__mal_1',axis=1).values\n",
    "y = df['benign_0__mal_1'].values"
   ]
  },
  {
   "cell_type": "code",
   "execution_count": 4,
   "metadata": {},
   "outputs": [],
   "source": [
    "from sklearn.model_selection import train_test_split"
   ]
  },
  {
   "cell_type": "code",
   "execution_count": 5,
   "metadata": {},
   "outputs": [],
   "source": [
    "X_train, X_test, y_train, y_test = train_test_split(X,y,test_size=0.25,random_state=101)"
   ]
  },
  {
   "cell_type": "markdown",
   "metadata": {},
   "source": [
    "\n",
    "### Scaling Data"
   ]
  },
  {
   "cell_type": "code",
   "execution_count": 6,
   "metadata": {},
   "outputs": [],
   "source": [
    "from sklearn.preprocessing import MinMaxScaler"
   ]
  },
  {
   "cell_type": "code",
   "execution_count": 7,
   "metadata": {},
   "outputs": [],
   "source": [
    "scaler = MinMaxScaler()"
   ]
  },
  {
   "cell_type": "code",
   "execution_count": 8,
   "metadata": {},
   "outputs": [
    {
     "output_type": "execute_result",
     "data": {
      "text/plain": [
       "MinMaxScaler()"
      ]
     },
     "metadata": {},
     "execution_count": 8
    }
   ],
   "source": [
    "scaler.fit(X_train)"
   ]
  },
  {
   "cell_type": "code",
   "execution_count": 9,
   "metadata": {},
   "outputs": [],
   "source": [
    "X_train = scaler.transform(X_train)\n",
    "X_test = scaler.transform(X_test)"
   ]
  },
  {
   "cell_type": "markdown",
   "metadata": {},
   "source": [
    "## Creating the Model"
   ]
  },
  {
   "cell_type": "code",
   "execution_count": 10,
   "metadata": {},
   "outputs": [],
   "source": [
    "import tensorflow as tf\n",
    "from tensorflow.keras.models import Sequential\n",
    "from tensorflow.keras.layers import Dense, Activation,Dropout"
   ]
  },
  {
   "cell_type": "code",
   "execution_count": 11,
   "metadata": {},
   "outputs": [],
   "source": [
    "from tensorflow.keras.callbacks import EarlyStopping,TensorBoard"
   ]
  },
  {
   "cell_type": "code",
   "execution_count": 12,
   "metadata": {},
   "outputs": [],
   "source": [
    "early_stop = EarlyStopping(monitor='val_loss', mode='min', verbose=1, patience=25)"
   ]
  },
  {
   "cell_type": "code",
   "execution_count": 13,
   "metadata": {},
   "outputs": [
    {
     "output_type": "execute_result",
     "data": {
      "text/plain": [
       "'/home/jordan/Documents/Py-DS-ML-Bootcamp-master/22-Deep Learning/TensorFlow_FILES/ANNs'"
      ]
     },
     "metadata": {},
     "execution_count": 13
    }
   ],
   "source": [
    "pwd"
   ]
  },
  {
   "cell_type": "markdown",
   "metadata": {},
   "source": [
    "## Creating the Tensorboard Callback\n",
    "\n",
    "TensorBoard is a visualization tool provided with TensorFlow.\n",
    "\n",
    "This callback logs events for TensorBoard, including:\n",
    "* Metrics summary plots\n",
    "* Training graph visualization\n",
    "* Activation histograms\n",
    "* Sampled profiling\n",
    "\n",
    "If you have installed TensorFlow with pip, you should be able\n",
    "to launch TensorBoard from the command line:\n",
    "\n",
    "```sh\n",
    "tensorboard --logdir=path_to_your_logs\n",
    "```\n",
    "\n",
    "You can find more information about TensorBoard\n",
    "[here](https://www.tensorflow.org/tensorboard/).\n",
    "\n",
    "    Arguments:\n",
    "        log_dir: the path of the directory where to save the log files to be\n",
    "          parsed by TensorBoard.\n",
    "        histogram_freq: frequency (in epochs) at which to compute activation and\n",
    "          weight histograms for the layers of the model. If set to 0, histograms\n",
    "          won't be computed. Validation data (or split) must be specified for\n",
    "          histogram visualizations.\n",
    "        write_graph: whether to visualize the graph in TensorBoard. The log file\n",
    "          can become quite large when write_graph is set to True.\n",
    "        write_images: whether to write model weights to visualize as image in\n",
    "          TensorBoard.\n",
    "        update_freq: `'batch'` or `'epoch'` or integer. When using `'batch'`,\n",
    "          writes the losses and metrics to TensorBoard after each batch. The same\n",
    "          applies for `'epoch'`. If using an integer, let's say `1000`, the\n",
    "          callback will write the metrics and losses to TensorBoard every 1000\n",
    "          samples. Note that writing too frequently to TensorBoard can slow down\n",
    "          your training.\n",
    "        profile_batch: Profile the batch to sample compute characteristics. By\n",
    "          default, it will profile the second batch. Set profile_batch=0 to\n",
    "          disable profiling. Must run in TensorFlow eager mode.\n",
    "        embeddings_freq: frequency (in epochs) at which embedding layers will\n",
    "          be visualized. If set to 0, embeddings won't be visualized.\n",
    "       "
   ]
  },
  {
   "cell_type": "code",
   "execution_count": 14,
   "metadata": {},
   "outputs": [],
   "source": [
    "from datetime import datetime"
   ]
  },
  {
   "cell_type": "code",
   "execution_count": 15,
   "metadata": {},
   "outputs": [
    {
     "output_type": "execute_result",
     "data": {
      "text/plain": [
       "'2021-06-09--2114'"
      ]
     },
     "metadata": {},
     "execution_count": 15
    }
   ],
   "source": [
    "datetime.now().strftime(\"%Y-%m-%d--%H%M\")"
   ]
  },
  {
   "cell_type": "code",
   "execution_count": 16,
   "metadata": {},
   "outputs": [],
   "source": [
    "# WINDOWS: Use \"logs\\\\fit\"\n",
    "# MACOS/LINUX: Use \"logs\\fit\"\n",
    "\n",
    "log_directory = 'logs/fit'\n",
    "\n",
    "# OPTIONAL: ADD A TIMESTAMP FOR UNIQUE FOLDER\n",
    "timestamp = datetime.now().strftime(\"%Y-%m-%d--%H%M\")\n",
    "log_directory = log_directory + '/' + timestamp\n",
    "\n",
    "\n",
    "board = TensorBoard(log_dir=log_directory,histogram_freq=1,\n",
    "    write_graph=True,\n",
    "    write_images=True,\n",
    "    update_freq='epoch',\n",
    "    profile_batch=2,\n",
    "    embeddings_freq=1)"
   ]
  },
  {
   "cell_type": "markdown",
   "metadata": {},
   "source": [
    "Now create the model layers:"
   ]
  },
  {
   "cell_type": "code",
   "execution_count": 17,
   "metadata": {},
   "outputs": [],
   "source": [
    "model = Sequential()\n",
    "model.add(Dense(units=30,activation='relu'))\n",
    "model.add(Dropout(0.5))\n",
    "model.add(Dense(units=15,activation='relu'))\n",
    "model.add(Dropout(0.5))\n",
    "model.add(Dense(units=1,activation='sigmoid'))\n",
    "model.compile(loss='binary_crossentropy', optimizer='adam')"
   ]
  },
  {
   "cell_type": "markdown",
   "metadata": {},
   "source": [
    "## Train the Model"
   ]
  },
  {
   "cell_type": "code",
   "execution_count": 18,
   "metadata": {},
   "outputs": [
    {
     "output_type": "stream",
     "name": "stdout",
     "text": [
      "Epoch 1/600\n",
      "14/14 [==============================] - 0s 10ms/step - loss: 0.6845 - val_loss: 0.6604\n",
      "Epoch 2/600\n",
      "14/14 [==============================] - 0s 3ms/step - loss: 0.6501 - val_loss: 0.6396\n",
      "Epoch 3/600\n",
      "14/14 [==============================] - 0s 5ms/step - loss: 0.6260 - val_loss: 0.6083\n",
      "Epoch 4/600\n",
      "14/14 [==============================] - 0s 3ms/step - loss: 0.6265 - val_loss: 0.5742\n",
      "Epoch 5/600\n",
      "14/14 [==============================] - 0s 3ms/step - loss: 0.5933 - val_loss: 0.5418\n",
      "Epoch 6/600\n",
      "14/14 [==============================] - 0s 2ms/step - loss: 0.5628 - val_loss: 0.5150\n",
      "Epoch 7/600\n",
      "14/14 [==============================] - 0s 2ms/step - loss: 0.5545 - val_loss: 0.4931\n",
      "Epoch 8/600\n",
      "14/14 [==============================] - 0s 2ms/step - loss: 0.5275 - val_loss: 0.4607\n",
      "Epoch 9/600\n",
      "14/14 [==============================] - 0s 3ms/step - loss: 0.4842 - val_loss: 0.4300\n",
      "Epoch 10/600\n",
      "14/14 [==============================] - 0s 3ms/step - loss: 0.4806 - val_loss: 0.3985\n",
      "Epoch 11/600\n",
      "14/14 [==============================] - 0s 3ms/step - loss: 0.4578 - val_loss: 0.3758\n",
      "Epoch 12/600\n",
      "14/14 [==============================] - 0s 2ms/step - loss: 0.4480 - val_loss: 0.3497\n",
      "Epoch 13/600\n",
      "14/14 [==============================] - 0s 2ms/step - loss: 0.4188 - val_loss: 0.3303\n",
      "Epoch 14/600\n",
      "14/14 [==============================] - 0s 3ms/step - loss: 0.4123 - val_loss: 0.3128\n",
      "Epoch 15/600\n",
      "14/14 [==============================] - 0s 2ms/step - loss: 0.3954 - val_loss: 0.2911\n",
      "Epoch 16/600\n",
      "14/14 [==============================] - 0s 2ms/step - loss: 0.3639 - val_loss: 0.2724\n",
      "Epoch 17/600\n",
      "14/14 [==============================] - 0s 2ms/step - loss: 0.3665 - val_loss: 0.2621\n",
      "Epoch 18/600\n",
      "14/14 [==============================] - 0s 2ms/step - loss: 0.3755 - val_loss: 0.2487\n",
      "Epoch 19/600\n",
      "14/14 [==============================] - 0s 2ms/step - loss: 0.3499 - val_loss: 0.2407\n",
      "Epoch 20/600\n",
      "14/14 [==============================] - 0s 3ms/step - loss: 0.3223 - val_loss: 0.2199\n",
      "Epoch 21/600\n",
      "14/14 [==============================] - 0s 2ms/step - loss: 0.3292 - val_loss: 0.2083\n",
      "Epoch 22/600\n",
      "14/14 [==============================] - 0s 2ms/step - loss: 0.3304 - val_loss: 0.2093\n",
      "Epoch 23/600\n",
      "14/14 [==============================] - 0s 3ms/step - loss: 0.3049 - val_loss: 0.1966\n",
      "Epoch 24/600\n",
      "14/14 [==============================] - 0s 2ms/step - loss: 0.2909 - val_loss: 0.1860\n",
      "Epoch 25/600\n",
      "14/14 [==============================] - 0s 3ms/step - loss: 0.2749 - val_loss: 0.1796\n",
      "Epoch 26/600\n",
      "14/14 [==============================] - 0s 2ms/step - loss: 0.2903 - val_loss: 0.1689\n",
      "Epoch 27/600\n",
      "14/14 [==============================] - 0s 2ms/step - loss: 0.2564 - val_loss: 0.1629\n",
      "Epoch 28/600\n",
      "14/14 [==============================] - 0s 3ms/step - loss: 0.2622 - val_loss: 0.1604\n",
      "Epoch 29/600\n",
      "14/14 [==============================] - 0s 2ms/step - loss: 0.2772 - val_loss: 0.1542\n",
      "Epoch 30/600\n",
      "14/14 [==============================] - 0s 2ms/step - loss: 0.2310 - val_loss: 0.1595\n",
      "Epoch 31/600\n",
      "14/14 [==============================] - 0s 2ms/step - loss: 0.2623 - val_loss: 0.1390\n",
      "Epoch 32/600\n",
      "14/14 [==============================] - 0s 3ms/step - loss: 0.2435 - val_loss: 0.1437\n",
      "Epoch 33/600\n",
      "14/14 [==============================] - 0s 3ms/step - loss: 0.2342 - val_loss: 0.1317\n",
      "Epoch 34/600\n",
      "14/14 [==============================] - 0s 3ms/step - loss: 0.2227 - val_loss: 0.1328\n",
      "Epoch 35/600\n",
      "14/14 [==============================] - 0s 3ms/step - loss: 0.2198 - val_loss: 0.1443\n",
      "Epoch 36/600\n",
      "14/14 [==============================] - 0s 3ms/step - loss: 0.2109 - val_loss: 0.1226\n",
      "Epoch 37/600\n",
      "14/14 [==============================] - 0s 2ms/step - loss: 0.2258 - val_loss: 0.1214\n",
      "Epoch 38/600\n",
      "14/14 [==============================] - 0s 2ms/step - loss: 0.1993 - val_loss: 0.1160\n",
      "Epoch 39/600\n",
      "14/14 [==============================] - 0s 3ms/step - loss: 0.1954 - val_loss: 0.1115\n",
      "Epoch 40/600\n",
      "14/14 [==============================] - 0s 3ms/step - loss: 0.1788 - val_loss: 0.1104\n",
      "Epoch 41/600\n",
      "14/14 [==============================] - 0s 2ms/step - loss: 0.2078 - val_loss: 0.1090\n",
      "Epoch 42/600\n",
      "14/14 [==============================] - 0s 2ms/step - loss: 0.1764 - val_loss: 0.1018\n",
      "Epoch 43/600\n",
      "14/14 [==============================] - 0s 3ms/step - loss: 0.1734 - val_loss: 0.1061\n",
      "Epoch 44/600\n",
      "14/14 [==============================] - 0s 2ms/step - loss: 0.1808 - val_loss: 0.1052\n",
      "Epoch 45/600\n",
      "14/14 [==============================] - 0s 2ms/step - loss: 0.1884 - val_loss: 0.0979\n",
      "Epoch 46/600\n",
      "14/14 [==============================] - 0s 2ms/step - loss: 0.1737 - val_loss: 0.0964\n",
      "Epoch 47/600\n",
      "14/14 [==============================] - 0s 2ms/step - loss: 0.1572 - val_loss: 0.0964\n",
      "Epoch 48/600\n",
      "14/14 [==============================] - 0s 2ms/step - loss: 0.1806 - val_loss: 0.0960\n",
      "Epoch 49/600\n",
      "14/14 [==============================] - 0s 2ms/step - loss: 0.1656 - val_loss: 0.0933\n",
      "Epoch 50/600\n",
      "14/14 [==============================] - 0s 2ms/step - loss: 0.1743 - val_loss: 0.0952\n",
      "Epoch 51/600\n",
      "14/14 [==============================] - 0s 3ms/step - loss: 0.1581 - val_loss: 0.0900\n",
      "Epoch 52/600\n",
      "14/14 [==============================] - 0s 2ms/step - loss: 0.1608 - val_loss: 0.0912\n",
      "Epoch 53/600\n",
      "14/14 [==============================] - 0s 2ms/step - loss: 0.1598 - val_loss: 0.0998\n",
      "Epoch 54/600\n",
      "14/14 [==============================] - 0s 2ms/step - loss: 0.1597 - val_loss: 0.0901\n",
      "Epoch 55/600\n",
      "14/14 [==============================] - 0s 3ms/step - loss: 0.1431 - val_loss: 0.0858\n",
      "Epoch 56/600\n",
      "14/14 [==============================] - 0s 2ms/step - loss: 0.1416 - val_loss: 0.0857\n",
      "Epoch 57/600\n",
      "14/14 [==============================] - 0s 3ms/step - loss: 0.1370 - val_loss: 0.0822\n",
      "Epoch 58/600\n",
      "14/14 [==============================] - 0s 2ms/step - loss: 0.1555 - val_loss: 0.0887\n",
      "Epoch 59/600\n",
      "14/14 [==============================] - 0s 2ms/step - loss: 0.1503 - val_loss: 0.0882\n",
      "Epoch 60/600\n",
      "14/14 [==============================] - 0s 2ms/step - loss: 0.1362 - val_loss: 0.0826\n",
      "Epoch 61/600\n",
      "14/14 [==============================] - 0s 2ms/step - loss: 0.1431 - val_loss: 0.0807\n",
      "Epoch 62/600\n",
      "14/14 [==============================] - 0s 2ms/step - loss: 0.1284 - val_loss: 0.0830\n",
      "Epoch 63/600\n",
      "14/14 [==============================] - 0s 2ms/step - loss: 0.1402 - val_loss: 0.0813\n",
      "Epoch 64/600\n",
      "14/14 [==============================] - 0s 2ms/step - loss: 0.1600 - val_loss: 0.0847\n",
      "Epoch 65/600\n",
      "14/14 [==============================] - 0s 2ms/step - loss: 0.1418 - val_loss: 0.0893\n",
      "Epoch 66/600\n",
      "14/14 [==============================] - 0s 3ms/step - loss: 0.1242 - val_loss: 0.0808\n",
      "Epoch 67/600\n",
      "14/14 [==============================] - 0s 2ms/step - loss: 0.1420 - val_loss: 0.0779\n",
      "Epoch 68/600\n",
      "14/14 [==============================] - 0s 2ms/step - loss: 0.1139 - val_loss: 0.0798\n",
      "Epoch 69/600\n",
      "14/14 [==============================] - 0s 2ms/step - loss: 0.1335 - val_loss: 0.0770\n",
      "Epoch 70/600\n",
      "14/14 [==============================] - 0s 2ms/step - loss: 0.1221 - val_loss: 0.0793\n",
      "Epoch 71/600\n",
      "14/14 [==============================] - 0s 2ms/step - loss: 0.1191 - val_loss: 0.0798\n",
      "Epoch 72/600\n",
      "14/14 [==============================] - 0s 2ms/step - loss: 0.1048 - val_loss: 0.0812\n",
      "Epoch 73/600\n",
      "14/14 [==============================] - 0s 2ms/step - loss: 0.1140 - val_loss: 0.0875\n",
      "Epoch 74/600\n",
      "14/14 [==============================] - 0s 2ms/step - loss: 0.1313 - val_loss: 0.0804\n",
      "Epoch 75/600\n",
      "14/14 [==============================] - 0s 2ms/step - loss: 0.1163 - val_loss: 0.0755\n",
      "Epoch 76/600\n",
      "14/14 [==============================] - 0s 2ms/step - loss: 0.1043 - val_loss: 0.0771\n",
      "Epoch 77/600\n",
      "14/14 [==============================] - 0s 2ms/step - loss: 0.1111 - val_loss: 0.0821\n",
      "Epoch 78/600\n",
      "14/14 [==============================] - 0s 2ms/step - loss: 0.1337 - val_loss: 0.0808\n",
      "Epoch 79/600\n",
      "14/14 [==============================] - 0s 2ms/step - loss: 0.1253 - val_loss: 0.0761\n",
      "Epoch 80/600\n",
      "14/14 [==============================] - 0s 2ms/step - loss: 0.1052 - val_loss: 0.0750\n",
      "Epoch 81/600\n",
      "14/14 [==============================] - 0s 2ms/step - loss: 0.1168 - val_loss: 0.0797\n",
      "Epoch 82/600\n",
      "14/14 [==============================] - 0s 2ms/step - loss: 0.1211 - val_loss: 0.0761\n",
      "Epoch 83/600\n",
      "14/14 [==============================] - 0s 2ms/step - loss: 0.0989 - val_loss: 0.0822\n",
      "Epoch 84/600\n",
      "14/14 [==============================] - 0s 2ms/step - loss: 0.1169 - val_loss: 0.0865\n",
      "Epoch 85/600\n",
      "14/14 [==============================] - 0s 2ms/step - loss: 0.1285 - val_loss: 0.0755\n",
      "Epoch 86/600\n",
      "14/14 [==============================] - 0s 2ms/step - loss: 0.1136 - val_loss: 0.0790\n",
      "Epoch 87/600\n",
      "14/14 [==============================] - 0s 2ms/step - loss: 0.1213 - val_loss: 0.0760\n",
      "Epoch 88/600\n",
      "14/14 [==============================] - 0s 2ms/step - loss: 0.0976 - val_loss: 0.0738\n",
      "Epoch 89/600\n",
      "14/14 [==============================] - 0s 2ms/step - loss: 0.0953 - val_loss: 0.0793\n",
      "Epoch 90/600\n",
      "14/14 [==============================] - 0s 2ms/step - loss: 0.1077 - val_loss: 0.0793\n",
      "Epoch 91/600\n",
      "14/14 [==============================] - 0s 2ms/step - loss: 0.1004 - val_loss: 0.0929\n",
      "Epoch 92/600\n",
      "14/14 [==============================] - 0s 2ms/step - loss: 0.1036 - val_loss: 0.0734\n",
      "Epoch 93/600\n",
      "14/14 [==============================] - 0s 2ms/step - loss: 0.1380 - val_loss: 0.0730\n",
      "Epoch 94/600\n",
      "14/14 [==============================] - 0s 2ms/step - loss: 0.1156 - val_loss: 0.0694\n",
      "Epoch 95/600\n",
      "14/14 [==============================] - 0s 2ms/step - loss: 0.1184 - val_loss: 0.0702\n",
      "Epoch 96/600\n",
      "14/14 [==============================] - 0s 2ms/step - loss: 0.1035 - val_loss: 0.0701\n",
      "Epoch 97/600\n",
      "14/14 [==============================] - 0s 2ms/step - loss: 0.1027 - val_loss: 0.0759\n",
      "Epoch 98/600\n",
      "14/14 [==============================] - 0s 2ms/step - loss: 0.0989 - val_loss: 0.0746\n",
      "Epoch 99/600\n",
      "14/14 [==============================] - 0s 2ms/step - loss: 0.0957 - val_loss: 0.0754\n",
      "Epoch 100/600\n",
      "14/14 [==============================] - 0s 2ms/step - loss: 0.1039 - val_loss: 0.0794\n",
      "Epoch 101/600\n",
      "14/14 [==============================] - 0s 2ms/step - loss: 0.0889 - val_loss: 0.0866\n",
      "Epoch 102/600\n",
      "14/14 [==============================] - 0s 2ms/step - loss: 0.1005 - val_loss: 0.0720\n",
      "Epoch 103/600\n",
      "14/14 [==============================] - 0s 3ms/step - loss: 0.0940 - val_loss: 0.0726\n",
      "Epoch 104/600\n",
      "14/14 [==============================] - 0s 2ms/step - loss: 0.1012 - val_loss: 0.0795\n",
      "Epoch 105/600\n",
      "14/14 [==============================] - 0s 2ms/step - loss: 0.0869 - val_loss: 0.0754\n",
      "Epoch 106/600\n",
      "14/14 [==============================] - 0s 2ms/step - loss: 0.1149 - val_loss: 0.0825\n",
      "Epoch 107/600\n",
      "14/14 [==============================] - 0s 2ms/step - loss: 0.1026 - val_loss: 0.0735\n",
      "Epoch 108/600\n",
      "14/14 [==============================] - 0s 2ms/step - loss: 0.0961 - val_loss: 0.0831\n",
      "Epoch 109/600\n",
      "14/14 [==============================] - 0s 2ms/step - loss: 0.1011 - val_loss: 0.0702\n",
      "Epoch 110/600\n",
      "14/14 [==============================] - 0s 2ms/step - loss: 0.0921 - val_loss: 0.0778\n",
      "Epoch 111/600\n",
      "14/14 [==============================] - 0s 2ms/step - loss: 0.0867 - val_loss: 0.0765\n",
      "Epoch 112/600\n",
      "14/14 [==============================] - 0s 2ms/step - loss: 0.0994 - val_loss: 0.0736\n",
      "Epoch 113/600\n",
      "14/14 [==============================] - 0s 2ms/step - loss: 0.0972 - val_loss: 0.0805\n",
      "Epoch 114/600\n",
      "14/14 [==============================] - 0s 2ms/step - loss: 0.1144 - val_loss: 0.0812\n",
      "Epoch 115/600\n",
      "14/14 [==============================] - 0s 3ms/step - loss: 0.1015 - val_loss: 0.0757\n",
      "Epoch 116/600\n",
      "14/14 [==============================] - 0s 2ms/step - loss: 0.0945 - val_loss: 0.0752\n",
      "Epoch 117/600\n",
      "14/14 [==============================] - 0s 3ms/step - loss: 0.0899 - val_loss: 0.0778\n",
      "Epoch 118/600\n",
      "14/14 [==============================] - 0s 2ms/step - loss: 0.0878 - val_loss: 0.0906\n",
      "Epoch 119/600\n",
      "14/14 [==============================] - 0s 2ms/step - loss: 0.0877 - val_loss: 0.0847\n",
      "Epoch 00119: early stopping\n"
     ]
    },
    {
     "output_type": "execute_result",
     "data": {
      "text/plain": [
       "<tensorflow.python.keras.callbacks.History at 0x7f51f063d880>"
      ]
     },
     "metadata": {},
     "execution_count": 18
    }
   ],
   "source": [
    "model.fit(x=X_train, \n",
    "          y=y_train, \n",
    "          epochs=600,\n",
    "          validation_data=(X_test, y_test), verbose=1,\n",
    "          callbacks=[early_stop,board]\n",
    "          )"
   ]
  },
  {
   "cell_type": "markdown",
   "metadata": {},
   "source": [
    "# Running Tensorboard\n"
   ]
  },
  {
   "cell_type": "markdown",
   "metadata": {},
   "source": [
    "## Running through the Command Line\n",
    "\n",
    "**Watch video to see how to run Tensorboard through a command line call.**"
   ]
  },
  {
   "cell_type": "markdown",
   "metadata": {},
   "source": [
    "Tensorboard will run locally in your browser at [http://localhost:6006/](http://localhost:6006/)\n"
   ]
  },
  {
   "cell_type": "code",
   "execution_count": 19,
   "metadata": {},
   "outputs": [
    {
     "output_type": "stream",
     "name": "stdout",
     "text": [
      "logs/fit/2021-06-09--2114\n"
     ]
    }
   ],
   "source": [
    "print(log_directory)"
   ]
  },
  {
   "cell_type": "code",
   "execution_count": 20,
   "metadata": {},
   "outputs": [
    {
     "output_type": "execute_result",
     "data": {
      "text/plain": [
       "'/home/jordan/Documents/Py-DS-ML-Bootcamp-master/22-Deep Learning/TensorFlow_FILES/ANNs'"
      ]
     },
     "metadata": {},
     "execution_count": 20
    }
   ],
   "source": [
    "pwd"
   ]
  },
  {
   "cell_type": "markdown",
   "metadata": {},
   "source": [
    "### Use cd at your command line to change directory to the file path reported back by pwd or your current .py file location.\n",
    "### Then run this code at your command line or terminal"
   ]
  },
  {
   "cell_type": "code",
   "execution_count": 21,
   "metadata": {},
   "outputs": [
    {
     "output_type": "error",
     "ename": "SyntaxError",
     "evalue": "invalid syntax (<ipython-input-21-4dcb50e8f92b>, line 1)",
     "traceback": [
      "\u001b[0;36m  File \u001b[0;32m\"<ipython-input-21-4dcb50e8f92b>\"\u001b[0;36m, line \u001b[0;32m1\u001b[0m\n\u001b[0;31m    tensorboard --logdir logs/fit\u001b[0m\n\u001b[0m                         ^\u001b[0m\n\u001b[0;31mSyntaxError\u001b[0m\u001b[0;31m:\u001b[0m invalid syntax\n"
     ]
    }
   ],
   "source": [
    "tensorboard --logdir logs/fit "
   ]
  }
 ],
 "metadata": {
  "kernelspec": {
   "name": "pythonjvsc74a57bd0c0aa7a66d81e3e4f46ed4a9a50ad1547c19fc9d760ef9dec7ea01bf25562b8dc",
   "display_name": "Python 3.9.5  ('venv': venv)"
  },
  "language_info": {
   "codemirror_mode": {
    "name": "ipython",
    "version": 3
   },
   "file_extension": ".py",
   "mimetype": "text/x-python",
   "name": "python",
   "nbconvert_exporter": "python",
   "pygments_lexer": "ipython3",
   "version": "3.9.5"
  },
  "metadata": {
   "interpreter": {
    "hash": "c0aa7a66d81e3e4f46ed4a9a50ad1547c19fc9d760ef9dec7ea01bf25562b8dc"
   }
  }
 },
 "nbformat": 4,
 "nbformat_minor": 2
}